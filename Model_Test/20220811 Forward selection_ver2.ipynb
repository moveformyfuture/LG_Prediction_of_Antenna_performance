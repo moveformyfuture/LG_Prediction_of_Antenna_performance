{
  "cells": [
    {
      "cell_type": "markdown",
      "id": "e88c9f79",
      "metadata": {
        "id": "e88c9f79"
      },
      "source": [
        "### Import Libraries"
      ]
    },
    {
      "cell_type": "code",
      "execution_count": null,
      "id": "784827d5",
      "metadata": {
        "colab": {
          "base_uri": "https://localhost:8080/"
        },
        "id": "784827d5",
        "outputId": "e02c78a7-f7ca-4197-bf7b-dfaa22a51c04"
      },
      "outputs": [
        {
          "output_type": "stream",
          "name": "stderr",
          "text": [
            "/usr/local/lib/python3.7/dist-packages/statsmodels/tools/_testing.py:19: FutureWarning: pandas.util.testing is deprecated. Use the functions in the public API at pandas.testing instead.\n",
            "  import pandas.util.testing as tm\n"
          ]
        }
      ],
      "source": [
        "import pandas as pd\n",
        "import random\n",
        "import os\n",
        "import numpy as np\n",
        "import time\n",
        "import seaborn as sns\n",
        "import matplotlib.pyplot as plt\n",
        "from functools import partial\n",
        "from lightgbm import LGBMRegressor\n",
        "from xgboost import XGBRegressor\n",
        "from hyperopt import fmin, hp, tpe, Trials, STATUS_OK\n",
        "from hyperopt.pyll.base import scope\n",
        "from hyperopt.pyll.stochastic import sample\n",
        "from sklearn import metrics\n",
        "from sklearn.model_selection import cross_val_score\n",
        "from sklearn.metrics import make_scorer\n",
        "\n",
        "import math\n",
        "from sklearn.linear_model import LinearRegression\n",
        "from sklearn.multioutput import MultiOutputRegressor\n",
        "from sklearn.model_selection import KFold, StratifiedKFold\n",
        "from sklearn.metrics import mean_squared_error\n",
        "from sklearn.model_selection import train_test_split\n",
        "\n",
        "import statsmodels.formula.api as sm\n",
        "from statsmodels.api import add_constant\n",
        "import statsmodels.api as sm\n",
        "\n",
        "from sklearn.ensemble import RandomForestRegressor\n",
        "from sklearn.feature_selection import SelectFromModel"
      ]
    },
    {
      "cell_type": "code",
      "execution_count": null,
      "id": "34ab72b6",
      "metadata": {
        "id": "34ab72b6"
      },
      "outputs": [],
      "source": [
        "def seed_everything(seed):\n",
        "    random.seed(seed)\n",
        "    os.environ['PYTHONHASHSEED'] = str(seed)\n",
        "    np.random.seed(seed)\n",
        "seed_everything(42) # Seed 고정"
      ]
    },
    {
      "cell_type": "markdown",
      "id": "509008d5",
      "metadata": {
        "id": "509008d5"
      },
      "source": [
        "### Usable Functions "
      ]
    },
    {
      "cell_type": "code",
      "execution_count": null,
      "id": "99a7e102",
      "metadata": {
        "id": "99a7e102"
      },
      "outputs": [],
      "source": [
        "def dataset_split_X_y(df):    \n",
        "    \"\"\"\n",
        "    @Description: split data into features and labels\n",
        "    @Param: df, pandas dataframe with columns starting with X for features and Y for labels\n",
        "    @Return: features and labels in pandas dataframes\n",
        "    \"\"\"\n",
        "    xs = df.filter(regex='X') # Input : X Feature\n",
        "    ys = df.filter(regex='Y') # Output : Y Feature\n",
        "    return xs, ys"
      ]
    },
    {
      "cell_type": "code",
      "execution_count": null,
      "id": "4c64b4e5",
      "metadata": {
        "id": "4c64b4e5"
      },
      "outputs": [],
      "source": [
        "def check_for_NAs(df, show=False):\n",
        "    \"\"\"\n",
        "    @Description: checks for the NAs in the dataframe\n",
        "    @Param1: df, pandas dataframe\n",
        "    @Param2: show, boolean indicating whether NaN data are also necessary as a part of the output\n",
        "    @Return: name of the columns with NaN\n",
        "    \"\"\"\n",
        "    nan_values = df.loc[:, df.isnull().any()]\n",
        "    if show:\n",
        "        return df[df.isna().any(axis=1)]\n",
        "    return list(nan_values.columns)"
      ]
    },
    {
      "cell_type": "code",
      "execution_count": null,
      "id": "a359dd62",
      "metadata": {
        "id": "a359dd62"
      },
      "outputs": [],
      "source": [
        "def check_for_label_bound(df, labels, bound):\n",
        "    \"\"\"\n",
        "    @Description: check bound is inbetween min and max\n",
        "    @Param1: df, pandas dataframe\n",
        "    @Param2: labels, list of column names \n",
        "    @Param3: thres: list of bounds\n",
        "    @Return: names of the columns not within the bound\n",
        "    \"\"\"\n",
        "    n = len(labels)\n",
        "    result = []\n",
        "    for idx in range(n):\n",
        "        col = labels[idx]\n",
        "        thres = bound[idx]\n",
        "        extracted_column = df[col]\n",
        "        if not extracted_column.between(thres[0], thres[1]).all():\n",
        "            result.append(labels[idx])\n",
        "    if len(result) == 0:\n",
        "        print('everything is within the bound')\n",
        "    return result"
      ]
    },
    {
      "cell_type": "code",
      "execution_count": null,
      "id": "55084511",
      "metadata": {
        "id": "55084511"
      },
      "outputs": [],
      "source": [
        "def zero_variance(df):\n",
        "    \"\"\"\n",
        "    @Description: check for zero_variance\n",
        "    @Param1: df, pandas dataframe\n",
        "    @Return: names of the columns with zero variance\n",
        "    \"\"\"\n",
        "    result = []\n",
        "    for col in df.columns:\n",
        "        if df[col].var() == 0:\n",
        "            result.append(col)\n",
        "    return result"
      ]
    },
    {
      "cell_type": "code",
      "execution_count": null,
      "id": "c636f27d",
      "metadata": {
        "id": "c636f27d"
      },
      "outputs": [],
      "source": [
        "def get_top_correlation(df, n=10):\n",
        "    \"\"\"\n",
        "    @Description: print out top correlated features\n",
        "    @Param1: df, pandas dataframe\n",
        "    @Param2: n, number of lines to print \n",
        "    @Return: pandas series\n",
        "    \"\"\"\n",
        "    pairs = set()\n",
        "    for idx1 in range(0, df.shape[1]):\n",
        "        for idx2 in range(0, idx1+1):\n",
        "            pairs.add((df.columns[idx1], df.columns[idx2]))\n",
        "    corr = df.corr().abs().unstack()\n",
        "    corr = corr.drop(labels=pairs).sort_values(ascending=False)\n",
        "    return corr[0:n]"
      ]
    },
    {
      "cell_type": "code",
      "execution_count": null,
      "id": "575a03c0",
      "metadata": {
        "id": "575a03c0"
      },
      "outputs": [],
      "source": [
        "def adjacent_histogram_boxplot(feature_var, figsize = (7, 5)):\n",
        "    \"\"\"\n",
        "    @Description: plot histogram and boxplot in next to each other\n",
        "    @Param1: feature_var, pandas series \n",
        "    @Param2: figsize, size of the figure \n",
        "    \"\"\"\n",
        "    fig, (hist_plot, box_plot) = plt.subplots(nrows=2, sharex=True, gridspec_kw={'height_ratios':(.85,.15)}, figsize=figsize)\n",
        "    sns.distplot(feature_var, kde=True, ax=hist_plot, kde_kws= {\"linewidth\":1.5}) \n",
        "    sns.boxplot(feature_var, ax=box_plot, linewidth = 1, width = 0.5)\n",
        "    hist_plot.set_ylabel('')    \n",
        "    hist_plot.set_xlabel('')\n",
        "    box_plot.set_xlabel('')\n",
        "    hist_plot.tick_params(labelsize=8)\n",
        "    box_plot.tick_params(labelsize=8)\n",
        "    fig.suptitle(feature_var.name, fontsize = 10)\n",
        "    hist_plot.axvline(np.mean(feature_var),color='red',linestyle='-',lw = 1.5)\n",
        "    hist_plot.axvline(np.median(feature_var),color='green',linestyle='--',lw = 1.5)\n",
        "    "
      ]
    },
    {
      "cell_type": "code",
      "execution_count": null,
      "id": "f34aea95",
      "metadata": {
        "id": "f34aea95"
      },
      "outputs": [],
      "source": [
        "def lg_nrmse(gt, preds):\n",
        "    \"\"\"\n",
        "    @Description: Metric used in this project\n",
        "    @Params1: gt, pandas dataframe\n",
        "    @Param2: preds, pandas dataframe\n",
        "    @Return: nrmse score\n",
        "    \"\"\"\n",
        "    # 각 Y Feature별 NRMSE 총합\n",
        "    # Y_01 ~ Y_08 까지 20% 가중치 부여\n",
        "    preds = pd.DataFrame(preds)\n",
        "    all_nrmse = []\n",
        "    for idx in range(0,14):\n",
        "        rmse = mean_squared_error(gt.iloc[:,idx], preds.iloc[:,idx], squared=False)\n",
        "        nrmse = rmse/np.mean(np.abs(gt.iloc[:,idx]))\n",
        "        all_nrmse.append(nrmse)\n",
        "    score = 1.2 * np.sum(all_nrmse[:8]) + 1.0 * np.sum(all_nrmse[8:15])\n",
        "    return score"
      ]
    },
    {
      "cell_type": "code",
      "execution_count": null,
      "id": "1352c39f",
      "metadata": {
        "id": "1352c39f"
      },
      "outputs": [],
      "source": [
        "def rmse(gt, preds):\n",
        "    \"\"\"\n",
        "    @Description: Metric used in this project\n",
        "    @Params1: gt, pandas dataframe\n",
        "    @Param2: preds, pandas dataframe\n",
        "    @Return: rmse score\n",
        "    \"\"\"\n",
        "    MSE = np.square(np.subtract(gt,preds)).mean() \n",
        "    RMSE = math.sqrt(MSE)\n",
        "    return RMSE"
      ]
    },
    {
      "cell_type": "code",
      "execution_count": null,
      "id": "48f14039",
      "metadata": {
        "id": "48f14039"
      },
      "outputs": [],
      "source": [
        "def dataset_split_X_y(df):    \n",
        "    \"\"\"\n",
        "    @Description: split data into features and labels\n",
        "    @Param: df, pandas dataframe with columns starting with X for features and Y for labels\n",
        "    @Return: features and labels in pandas dataframes\n",
        "    \"\"\"\n",
        "    xs = df.filter(regex='X') # Input : X Feature\n",
        "    ys = df.filter(regex='Y') # Output : Y Feature\n",
        "    return xs, ys"
      ]
    },
    {
      "cell_type": "code",
      "source": [
        "from google.colab import drive\n",
        "drive.mount('/content/drive')"
      ],
      "metadata": {
        "colab": {
          "base_uri": "https://localhost:8080/"
        },
        "id": "-MyFoRZMvGu0",
        "outputId": "e04bf82f-877d-4a58-81cc-efd68982afd3"
      },
      "id": "-MyFoRZMvGu0",
      "execution_count": null,
      "outputs": [
        {
          "output_type": "stream",
          "name": "stdout",
          "text": [
            "Mounted at /content/drive\n"
          ]
        }
      ]
    },
    {
      "cell_type": "code",
      "execution_count": null,
      "id": "35384db8",
      "metadata": {
        "id": "35384db8"
      },
      "outputs": [],
      "source": [
        "train_df = pd.read_csv('/content/drive/MyDrive/LG AIMERS/Data/train.csv')\n",
        "test_x = pd.read_csv('/content/drive/MyDrive/LG AIMERS/Data/test.csv')\n",
        "train_x, train_y = dataset_split_X_y(train_df)\n",
        "cols_with_zero_variance = zero_variance(train_x)\n",
        "train_x = train_x.drop(cols_with_zero_variance, axis = 1)\n",
        "test_x = test_x.drop(cols_with_zero_variance, axis = 1)\n",
        "\n",
        "ys = ['Y_01', 'Y_02', 'Y_03', 'Y_04', 'Y_05', \n",
        "      'Y_06', 'Y_07', 'Y_08', 'Y_09', 'Y_10', \n",
        "      'Y_11', 'Y_12', 'Y_13', 'Y_14']\n",
        "ys_bounds = [[0.2, 2], [0.2, 2.1], [0.2, 2.1], \n",
        "             [7, 19], [22, 36.5], [-19.2, 19], \n",
        "             [2.4, 4], [-29.2, -24], [-29.2, -24],\n",
        "             [-30.6, -20], [19.6, 26.6], [-29.2, -24],\n",
        "             [-29.2, -24], [-29.2, -24]]"
      ]
    },
    {
      "cell_type": "code",
      "execution_count": null,
      "id": "236b237c",
      "metadata": {
        "id": "236b237c"
      },
      "outputs": [],
      "source": [
        "def forward_selection(data, target, significance_level=0.05):\n",
        "    initial_features = data.columns.tolist()\n",
        "    best_features = []\n",
        "    while (len(initial_features)>0):\n",
        "        remaining_features = list(set(initial_features)-set(best_features))\n",
        "        new_pval = pd.Series(index=remaining_features, dtype = 'float64')\n",
        "        for new_column in remaining_features:\n",
        "            model = sm.OLS(target, sm.add_constant(data[best_features+[new_column]])).fit()\n",
        "            new_pval[new_column] = model.pvalues[new_column]\n",
        "        min_p_value = new_pval.min()\n",
        "        if(min_p_value < significance_level):\n",
        "            best_features.append(new_pval.idxmin())\n",
        "            print('Add {0} with p-value {1}'.format(best_features[-1], min_p_value))\n",
        "        else:\n",
        "            break\n",
        "    return best_features"
      ]
    },
    {
      "cell_type": "code",
      "execution_count": null,
      "id": "ac0f40b3",
      "metadata": {
        "scrolled": true,
        "colab": {
          "base_uri": "https://localhost:8080/"
        },
        "id": "ac0f40b3",
        "outputId": "26d98bc7-7c07-4c62-e4d5-a6df52cc6650"
      },
      "outputs": [
        {
          "output_type": "stream",
          "name": "stderr",
          "text": [
            "/usr/local/lib/python3.7/dist-packages/statsmodels/tsa/tsatools.py:117: FutureWarning: In a future version of pandas all arguments of concat except for the argument 'objs' will be keyword-only\n",
            "  x = pd.concat(x[::order], 1)\n"
          ]
        },
        {
          "output_type": "stream",
          "name": "stdout",
          "text": [
            "Add X_22 with p-value 1.1400284769076106e-50\n",
            "Add X_19 with p-value 3.6220140027816325e-39\n",
            "Add X_18 with p-value 6.489774701847175e-42\n",
            "Add X_52 with p-value 2.9686534765521732e-37\n",
            "Add X_17 with p-value 7.076051130298434e-24\n",
            "Add X_45 with p-value 1.435789467650014e-17\n",
            "Add X_13 with p-value 3.22321133309267e-16\n",
            "Add X_49 with p-value 5.896808040711008e-14\n",
            "Add X_51 with p-value 3.3126558338071085e-11\n",
            "Add X_40 with p-value 3.414439138844369e-08\n",
            "Add X_46 with p-value 1.6707370005119338e-07\n",
            "Add X_03 with p-value 5.840649654392577e-06\n",
            "Add X_06 with p-value 6.433326755967228e-08\n",
            "Add X_20 with p-value 6.550174368600346e-07\n",
            "Add X_05 with p-value 2.861701684660636e-06\n",
            "Add X_27 with p-value 3.051658139025568e-07\n",
            "Add X_24 with p-value 4.241919612358081e-06\n",
            "Add X_07 with p-value 0.00014833534850787816\n",
            "Add X_21 with p-value 0.002885478726137532\n",
            "Add X_15 with p-value 0.0016617876414716526\n",
            "Add X_43 with p-value 0.00226969899616824\n",
            "Add X_42 with p-value 2.3141286024724186e-09\n",
            "Add X_33 with p-value 0.007965523783314459\n",
            "Add X_41 with p-value 0.008937852278706221\n",
            "Add X_56 with p-value 0.00995546925580214\n",
            "Add X_30 with p-value 0.0072437280308973225\n",
            "Add X_31 with p-value 0.019265716879858487\n",
            "Add X_25 with p-value 0.019737312335470696\n",
            "Add X_39 with p-value 0.027472829107318304\n"
          ]
        }
      ],
      "source": [
        "c = forward_selection(train_x, train_y['Y_01'])"
      ]
    },
    {
      "cell_type": "code",
      "source": [
        "c1 = forward_selection(train_x, train_y['Y_02'])"
      ],
      "metadata": {
        "colab": {
          "base_uri": "https://localhost:8080/"
        },
        "id": "2ZhlWvVW0qmG",
        "outputId": "871e0552-5d15-4e08-e530-ecacba9f7b62"
      },
      "id": "2ZhlWvVW0qmG",
      "execution_count": null,
      "outputs": [
        {
          "output_type": "stream",
          "name": "stderr",
          "text": [
            "/usr/local/lib/python3.7/dist-packages/statsmodels/tsa/tsatools.py:117: FutureWarning: In a future version of pandas all arguments of concat except for the argument 'objs' will be keyword-only\n",
            "  x = pd.concat(x[::order], 1)\n"
          ]
        },
        {
          "output_type": "stream",
          "name": "stdout",
          "text": [
            "Add X_22 with p-value 2.7258872299128843e-120\n",
            "Add X_18 with p-value 6.084698083722552e-46\n",
            "Add X_43 with p-value 1.763126188859107e-31\n",
            "Add X_17 with p-value 7.455380138339882e-20\n",
            "Add X_51 with p-value 3.2716512127228855e-17\n",
            "Add X_42 with p-value 1.1771624877924978e-14\n",
            "Add X_49 with p-value 3.798346499812959e-09\n",
            "Add X_13 with p-value 1.341161042626847e-08\n",
            "Add X_40 with p-value 1.6749578595245583e-07\n",
            "Add X_05 with p-value 1.9851492448899915e-07\n",
            "Add X_52 with p-value 2.2137148346356748e-07\n",
            "Add X_06 with p-value 2.069800168454424e-06\n",
            "Add X_45 with p-value 2.325197651753006e-05\n",
            "Add X_27 with p-value 2.911437756533645e-05\n",
            "Add X_24 with p-value 6.983905784570828e-09\n",
            "Add X_25 with p-value 8.360488314239118e-06\n",
            "Add X_56 with p-value 0.00014255608716371424\n",
            "Add X_09 with p-value 0.00023570197602712885\n",
            "Add X_19 with p-value 0.0002949490047556248\n",
            "Add X_20 with p-value 0.00014831636285593083\n",
            "Add X_46 with p-value 0.0013789830533236832\n",
            "Add X_16 with p-value 0.03426491073596752\n",
            "Add X_15 with p-value 0.0037829904125330363\n",
            "Add X_41 with p-value 0.03221332569677693\n",
            "Add X_28 with p-value 0.03956481276062752\n",
            "Add X_39 with p-value 0.043195211053880064\n"
          ]
        }
      ]
    },
    {
      "cell_type": "code",
      "execution_count": null,
      "id": "b6f48ad9",
      "metadata": {
        "colab": {
          "base_uri": "https://localhost:8080/"
        },
        "id": "b6f48ad9",
        "outputId": "b83a8e40-ac1b-4002-e736-4840c74f0b5c"
      },
      "outputs": [
        {
          "output_type": "stream",
          "name": "stderr",
          "text": [
            "/usr/local/lib/python3.7/dist-packages/statsmodels/tsa/tsatools.py:117: FutureWarning: In a future version of pandas all arguments of concat except for the argument 'objs' will be keyword-only\n",
            "  x = pd.concat(x[::order], 1)\n"
          ]
        },
        {
          "output_type": "stream",
          "name": "stdout",
          "text": [
            "Add X_18 with p-value 2.610805058403531e-34\n",
            "Add X_17 with p-value 1.3744846651432461e-42\n",
            "Add X_43 with p-value 1.060620200461944e-23\n",
            "Add X_22 with p-value 3.2556397674511835e-22\n",
            "Add X_19 with p-value 4.884965152395843e-32\n",
            "Add X_49 with p-value 7.026053703956741e-18\n",
            "Add X_51 with p-value 1.737752238739539e-16\n",
            "Add X_05 with p-value 6.555308032950936e-11\n",
            "Add X_13 with p-value 3.981132904251287e-08\n",
            "Add X_42 with p-value 4.228078657901075e-08\n",
            "Add X_24 with p-value 1.3382914170147482e-07\n",
            "Add X_25 with p-value 1.1543257482310695e-11\n",
            "Add X_52 with p-value 2.8844731295377286e-06\n",
            "Add X_06 with p-value 1.5775200696654002e-05\n",
            "Add X_40 with p-value 0.00011697918559217049\n",
            "Add X_46 with p-value 0.00016501211587278017\n",
            "Add X_45 with p-value 0.000462033642117044\n",
            "Add X_56 with p-value 0.0006740499265707652\n",
            "Add X_32 with p-value 0.0013218288932816311\n",
            "Add X_03 with p-value 0.0015692204963771847\n",
            "Add X_27 with p-value 0.0021111415044620424\n",
            "Add X_33 with p-value 0.004047917753638909\n",
            "Add X_01 with p-value 0.003635146582881343\n",
            "Add X_20 with p-value 0.007864794675044931\n",
            "Add X_21 with p-value 0.0029794694688740652\n",
            "Add X_12 with p-value 0.00906030437462611\n",
            "Add X_10 with p-value 0.012082346978287065\n",
            "Add X_39 with p-value 0.02647331302114265\n",
            "Add X_28 with p-value 0.032041232611605096\n",
            "Add X_16 with p-value 0.02627269636124946\n",
            "Add X_41 with p-value 0.048412878698575974\n"
          ]
        }
      ],
      "source": [
        "c2 = forward_selection(train_x, train_y['Y_03'])"
      ]
    },
    {
      "cell_type": "code",
      "execution_count": null,
      "id": "64573252",
      "metadata": {
        "colab": {
          "base_uri": "https://localhost:8080/"
        },
        "id": "64573252",
        "outputId": "eeca3737-09d1-4440-8907-090c174b84b9"
      },
      "outputs": [
        {
          "output_type": "stream",
          "name": "stderr",
          "text": [
            "/usr/local/lib/python3.7/dist-packages/statsmodels/tsa/tsatools.py:117: FutureWarning: In a future version of pandas all arguments of concat except for the argument 'objs' will be keyword-only\n",
            "  x = pd.concat(x[::order], 1)\n"
          ]
        },
        {
          "output_type": "stream",
          "name": "stdout",
          "text": [
            "Add X_30 with p-value 3.309248119330999e-58\n",
            "Add X_21 with p-value 7.919885160133404e-77\n",
            "Add X_32 with p-value 1.1319962562662815e-17\n",
            "Add X_16 with p-value 3.136420560690022e-12\n",
            "Add X_17 with p-value 2.779778861217942e-31\n",
            "Add X_12 with p-value 1.165362752569123e-12\n",
            "Add X_19 with p-value 6.9312190951533015e-12\n",
            "Add X_03 with p-value 2.0508189513191614e-13\n",
            "Add X_24 with p-value 3.2103930044270073e-13\n",
            "Add X_54 with p-value 5.050579231742754e-09\n",
            "Add X_50 with p-value 1.157346567266427e-18\n",
            "Add X_52 with p-value 6.151597325892205e-10\n",
            "Add X_56 with p-value 9.57876406297284e-06\n",
            "Add X_22 with p-value 1.0508171752638482e-05\n",
            "Add X_09 with p-value 0.00017786599734697219\n",
            "Add X_25 with p-value 0.00013437898635880853\n",
            "Add X_06 with p-value 0.00032573608738830604\n",
            "Add X_40 with p-value 0.0003144440980365648\n",
            "Add X_44 with p-value 0.0007526130832283015\n",
            "Add X_42 with p-value 3.2583384287418217e-12\n",
            "Add X_51 with p-value 0.00043878527725522103\n",
            "Add X_55 with p-value 0.00017256836013757016\n",
            "Add X_18 with p-value 0.0024757642870283864\n",
            "Add X_20 with p-value 0.008752921061594815\n",
            "Add X_08 with p-value 0.01006455935600825\n",
            "Add X_26 with p-value 0.021562167150818164\n",
            "Add X_10 with p-value 0.022577982687589284\n",
            "Add X_53 with p-value 0.02320414370562828\n",
            "Add X_37 with p-value 0.033297779583187255\n",
            "Add X_35 with p-value 0.04183921309872547\n",
            "Add X_15 with p-value 0.04817604012768245\n"
          ]
        }
      ],
      "source": [
        "c3 = forward_selection(train_x, train_y['Y_04'])"
      ]
    },
    {
      "cell_type": "code",
      "execution_count": null,
      "id": "77ad9ea6",
      "metadata": {
        "colab": {
          "base_uri": "https://localhost:8080/"
        },
        "id": "77ad9ea6",
        "outputId": "aaa6a3f6-9125-41e3-87c0-1172e11fdb35"
      },
      "outputs": [
        {
          "output_type": "stream",
          "name": "stderr",
          "text": [
            "/usr/local/lib/python3.7/dist-packages/statsmodels/tsa/tsatools.py:117: FutureWarning: In a future version of pandas all arguments of concat except for the argument 'objs' will be keyword-only\n",
            "  x = pd.concat(x[::order], 1)\n"
          ]
        },
        {
          "output_type": "stream",
          "name": "stdout",
          "text": [
            "Add X_13 with p-value 3.327492761558441e-36\n",
            "Add X_56 with p-value 3.3182106354189956e-19\n",
            "Add X_32 with p-value 2.4194768221105086e-10\n",
            "Add X_21 with p-value 7.940843747711714e-12\n",
            "Add X_12 with p-value 7.092929103581809e-11\n",
            "Add X_15 with p-value 7.487080622374793e-11\n",
            "Add X_18 with p-value 6.606043004116294e-24\n",
            "Add X_17 with p-value 6.125713797927264e-27\n",
            "Add X_33 with p-value 5.942885335215171e-10\n",
            "Add X_29 with p-value 1.928453036018365e-09\n",
            "Add X_54 with p-value 5.448446260701209e-09\n",
            "Add X_40 with p-value 2.115763506664737e-08\n",
            "Add X_50 with p-value 3.5651620358502465e-08\n",
            "Add X_09 with p-value 1.4710100118265272e-08\n",
            "Add X_44 with p-value 1.4358224020930618e-06\n",
            "Add X_49 with p-value 9.809145988674683e-06\n",
            "Add X_51 with p-value 9.970979004025396e-05\n",
            "Add X_55 with p-value 3.981094373857387e-06\n",
            "Add X_01 with p-value 0.00022058888276723225\n",
            "Add X_30 with p-value 8.302074086710868e-05\n",
            "Add X_19 with p-value 0.000518788142696434\n",
            "Add X_52 with p-value 0.002483938505242094\n",
            "Add X_28 with p-value 0.0028530177458883756\n",
            "Add X_03 with p-value 0.0012461425323103364\n",
            "Add X_06 with p-value 4.188274039754942e-06\n",
            "Add X_35 with p-value 0.008736654931680141\n",
            "Add X_53 with p-value 0.008827364205305513\n",
            "Add X_37 with p-value 0.022474871754799484\n",
            "Add X_45 with p-value 0.03467215588092805\n",
            "Add X_26 with p-value 0.02440712658390106\n",
            "Add X_31 with p-value 0.03524949419474111\n",
            "Add X_10 with p-value 0.04657641541449808\n"
          ]
        }
      ],
      "source": [
        "c4 = forward_selection(train_x, train_y['Y_05'])"
      ]
    },
    {
      "cell_type": "code",
      "execution_count": null,
      "id": "8f13191d",
      "metadata": {
        "colab": {
          "base_uri": "https://localhost:8080/"
        },
        "id": "8f13191d",
        "outputId": "c1851d69-c17d-4722-d5f7-77278d3b4e44"
      },
      "outputs": [
        {
          "output_type": "stream",
          "name": "stderr",
          "text": [
            "/usr/local/lib/python3.7/dist-packages/statsmodels/tsa/tsatools.py:117: FutureWarning: In a future version of pandas all arguments of concat except for the argument 'objs' will be keyword-only\n",
            "  x = pd.concat(x[::order], 1)\n"
          ]
        },
        {
          "output_type": "stream",
          "name": "stdout",
          "text": [
            "Add X_19 with p-value 7.156269204552303e-37\n",
            "Add X_30 with p-value 3.718130253477482e-11\n",
            "Add X_56 with p-value 8.635630693992347e-11\n",
            "Add X_05 with p-value 3.302805011519708e-07\n",
            "Add X_06 with p-value 1.555729317738427e-07\n",
            "Add X_26 with p-value 3.6366201105298813e-06\n",
            "Add X_49 with p-value 4.1323666142567965e-06\n",
            "Add X_17 with p-value 2.6095620082458575e-06\n",
            "Add X_18 with p-value 8.518702387126051e-07\n",
            "Add X_14 with p-value 1.700514070946896e-10\n",
            "Add X_16 with p-value 0.0005305494425387348\n",
            "Add X_44 with p-value 2.36541330998519e-06\n",
            "Add X_13 with p-value 0.001965028924941161\n",
            "Add X_43 with p-value 0.001245517213631335\n",
            "Add X_51 with p-value 0.007103674433167382\n",
            "Add X_55 with p-value 0.0010864562578339323\n",
            "Add X_50 with p-value 0.008623813716580088\n",
            "Add X_09 with p-value 0.00663049124409724\n",
            "Add X_03 with p-value 0.021976127634274752\n",
            "Add X_22 with p-value 0.013263347976531024\n"
          ]
        }
      ],
      "source": [
        "c5 = forward_selection(train_x, train_y['Y_06'])"
      ]
    },
    {
      "cell_type": "code",
      "execution_count": null,
      "id": "6469fa77",
      "metadata": {
        "colab": {
          "base_uri": "https://localhost:8080/"
        },
        "id": "6469fa77",
        "outputId": "20013b95-29f0-4b83-e0de-f276b2d3562f"
      },
      "outputs": [
        {
          "output_type": "stream",
          "name": "stderr",
          "text": [
            "/usr/local/lib/python3.7/dist-packages/statsmodels/tsa/tsatools.py:117: FutureWarning: In a future version of pandas all arguments of concat except for the argument 'objs' will be keyword-only\n",
            "  x = pd.concat(x[::order], 1)\n"
          ]
        },
        {
          "output_type": "stream",
          "name": "stdout",
          "text": [
            "Add X_19 with p-value 7.511834743583558e-77\n",
            "Add X_13 with p-value 2.1742573828051777e-74\n",
            "Add X_32 with p-value 2.669686027284441e-12\n",
            "Add X_21 with p-value 4.331741555330308e-13\n",
            "Add X_15 with p-value 7.1358013324539e-08\n",
            "Add X_18 with p-value 3.8507318621243855e-09\n",
            "Add X_03 with p-value 3.736292553153236e-10\n",
            "Add X_17 with p-value 4.5719600347693195e-06\n",
            "Add X_50 with p-value 6.7730997462574516e-06\n",
            "Add X_54 with p-value 1.4557832055546847e-11\n",
            "Add X_41 with p-value 5.258823983974556e-05\n",
            "Add X_24 with p-value 1.0447319375317652e-05\n",
            "Add X_12 with p-value 1.2920764913781428e-10\n",
            "Add X_14 with p-value 2.4121547899804517e-05\n",
            "Add X_38 with p-value 7.499353924792789e-05\n",
            "Add X_31 with p-value 0.000179255734133822\n",
            "Add X_09 with p-value 0.001289735154545115\n",
            "Add X_25 with p-value 0.0024261317541953292\n",
            "Add X_56 with p-value 0.0034515801527796076\n",
            "Add X_52 with p-value 0.0005891483175484549\n",
            "Add X_06 with p-value 0.006347743145948686\n",
            "Add X_05 with p-value 0.0021071475135274707\n",
            "Add X_22 with p-value 0.001129041700516666\n",
            "Add X_33 with p-value 0.01196910101904478\n",
            "Add X_29 with p-value 0.03130048531939843\n",
            "Add X_27 with p-value 0.036316935985070194\n",
            "Add X_30 with p-value 0.04284975033225434\n"
          ]
        }
      ],
      "source": [
        "c6 = forward_selection(train_x, train_y['Y_07'])"
      ]
    },
    {
      "cell_type": "code",
      "execution_count": null,
      "id": "23581676",
      "metadata": {
        "colab": {
          "base_uri": "https://localhost:8080/"
        },
        "id": "23581676",
        "outputId": "c1dc010d-6630-4fef-9834-74f6211e1e70"
      },
      "outputs": [
        {
          "output_type": "stream",
          "name": "stderr",
          "text": [
            "/usr/local/lib/python3.7/dist-packages/statsmodels/tsa/tsatools.py:117: FutureWarning: In a future version of pandas all arguments of concat except for the argument 'objs' will be keyword-only\n",
            "  x = pd.concat(x[::order], 1)\n"
          ]
        },
        {
          "output_type": "stream",
          "name": "stdout",
          "text": [
            "Add X_20 with p-value 8.064405592255072e-194\n",
            "Add X_32 with p-value 8.563319852298222e-79\n",
            "Add X_16 with p-value 1.2927186662628716e-48\n",
            "Add X_30 with p-value 2.1442073108204747e-28\n",
            "Add X_03 with p-value 1.893882538301511e-27\n",
            "Add X_42 with p-value 2.711263393515821e-21\n",
            "Add X_22 with p-value 7.427615271891987e-16\n",
            "Add X_52 with p-value 1.0831695267944014e-11\n",
            "Add X_40 with p-value 3.1797513812015806e-10\n",
            "Add X_17 with p-value 7.664905914715629e-07\n",
            "Add X_18 with p-value 3.067278435605502e-08\n",
            "Add X_15 with p-value 1.2485455412677663e-21\n",
            "Add X_10 with p-value 1.9500784154946596e-05\n",
            "Add X_51 with p-value 2.9088043434401783e-05\n",
            "Add X_55 with p-value 2.603566592769475e-06\n",
            "Add X_09 with p-value 2.030702678306937e-05\n",
            "Add X_27 with p-value 8.596111512871953e-05\n",
            "Add X_56 with p-value 0.000233379026175985\n",
            "Add X_41 with p-value 0.0004410965988038377\n",
            "Add X_14 with p-value 0.00021282886528026912\n",
            "Add X_54 with p-value 0.001294451748949147\n",
            "Add X_53 with p-value 0.0037817255024213286\n",
            "Add X_35 with p-value 0.028052433503674954\n"
          ]
        }
      ],
      "source": [
        "c7 = forward_selection(train_x, train_y['Y_08'])"
      ]
    },
    {
      "cell_type": "code",
      "execution_count": null,
      "id": "207f609d",
      "metadata": {
        "colab": {
          "base_uri": "https://localhost:8080/"
        },
        "id": "207f609d",
        "outputId": "4f5fd5f2-e1da-4908-809f-d4ff72146fd5"
      },
      "outputs": [
        {
          "output_type": "stream",
          "name": "stderr",
          "text": [
            "/usr/local/lib/python3.7/dist-packages/statsmodels/tsa/tsatools.py:117: FutureWarning: In a future version of pandas all arguments of concat except for the argument 'objs' will be keyword-only\n",
            "  x = pd.concat(x[::order], 1)\n"
          ]
        },
        {
          "output_type": "stream",
          "name": "stdout",
          "text": [
            "Add X_20 with p-value 3.303745859012631e-170\n",
            "Add X_30 with p-value 4.874625725504182e-78\n",
            "Add X_16 with p-value 1.4962477028088325e-49\n",
            "Add X_42 with p-value 1.684232100758233e-23\n",
            "Add X_03 with p-value 9.921925794998253e-23\n",
            "Add X_32 with p-value 2.2528372272585126e-17\n",
            "Add X_22 with p-value 1.1050554486631773e-13\n",
            "Add X_52 with p-value 5.052290386776377e-11\n",
            "Add X_40 with p-value 1.5091485330771489e-09\n",
            "Add X_17 with p-value 5.308882792544909e-09\n",
            "Add X_18 with p-value 1.9567731417759238e-07\n",
            "Add X_15 with p-value 2.0270531076463994e-17\n",
            "Add X_51 with p-value 3.335840245783594e-05\n",
            "Add X_55 with p-value 2.077603411053329e-05\n",
            "Add X_09 with p-value 3.3201466138828304e-05\n",
            "Add X_12 with p-value 8.379216456091157e-05\n",
            "Add X_41 with p-value 8.320484838407599e-05\n",
            "Add X_10 with p-value 0.0001443719382128691\n",
            "Add X_56 with p-value 0.0006158415765597566\n",
            "Add X_54 with p-value 0.0008239545236230096\n",
            "Add X_14 with p-value 0.0019689890510152276\n",
            "Add X_53 with p-value 0.004245497458822195\n",
            "Add X_35 with p-value 0.00782369586034292\n"
          ]
        }
      ],
      "source": [
        "c8 = forward_selection(train_x, train_y['Y_09'])"
      ]
    },
    {
      "cell_type": "code",
      "execution_count": null,
      "id": "1c914d6c",
      "metadata": {
        "colab": {
          "base_uri": "https://localhost:8080/"
        },
        "id": "1c914d6c",
        "outputId": "fae90f2f-2bba-42fb-bd5e-25a3c05e9ead"
      },
      "outputs": [
        {
          "output_type": "stream",
          "name": "stderr",
          "text": [
            "/usr/local/lib/python3.7/dist-packages/statsmodels/tsa/tsatools.py:117: FutureWarning: In a future version of pandas all arguments of concat except for the argument 'objs' will be keyword-only\n",
            "  x = pd.concat(x[::order], 1)\n"
          ]
        },
        {
          "output_type": "stream",
          "name": "stdout",
          "text": [
            "Add X_18 with p-value 3.8925528205858604e-182\n",
            "Add X_15 with p-value 1.4198721665663633e-122\n",
            "Add X_22 with p-value 4.364231804724337e-55\n",
            "Add X_42 with p-value 1.0796848582778564e-29\n",
            "Add X_30 with p-value 5.2887456600769236e-30\n",
            "Add X_56 with p-value 1.1018784303128356e-27\n",
            "Add X_49 with p-value 6.532797057515857e-22\n",
            "Add X_03 with p-value 3.3594763727207626e-17\n",
            "Add X_09 with p-value 1.2898947251242368e-13\n",
            "Add X_51 with p-value 2.342955154320033e-09\n",
            "Add X_16 with p-value 1.532651803690288e-08\n",
            "Add X_27 with p-value 2.6763341806401787e-09\n",
            "Add X_24 with p-value 1.7239669339023892e-06\n",
            "Add X_41 with p-value 5.324899121513288e-07\n",
            "Add X_32 with p-value 4.850007247287381e-06\n",
            "Add X_45 with p-value 4.9677751559296245e-06\n",
            "Add X_17 with p-value 2.0789465612074192e-06\n",
            "Add X_21 with p-value 4.4821344969079156e-07\n",
            "Add X_01 with p-value 0.00022321460584083492\n",
            "Add X_40 with p-value 0.0002218914346341664\n",
            "Add X_55 with p-value 0.0006914188581099249\n",
            "Add X_52 with p-value 4.160778631294178e-06\n",
            "Add X_54 with p-value 0.003112863908283663\n",
            "Add X_53 with p-value 0.003039786078974241\n",
            "Add X_29 with p-value 0.005822776371899294\n",
            "Add X_10 with p-value 0.009730309505624505\n",
            "Add X_08 with p-value 0.015942582704783388\n",
            "Add X_44 with p-value 0.019614840522676424\n",
            "Add X_31 with p-value 0.023613623593215075\n",
            "Add X_50 with p-value 0.028571056150066595\n",
            "Add X_07 with p-value 0.03803808194621885\n"
          ]
        }
      ],
      "source": [
        "c9 = forward_selection(train_x, train_y['Y_10'])"
      ]
    },
    {
      "cell_type": "code",
      "execution_count": null,
      "id": "f3e784ab",
      "metadata": {
        "colab": {
          "base_uri": "https://localhost:8080/"
        },
        "id": "f3e784ab",
        "outputId": "ca3cea25-5732-4325-8437-bd48ea89a896"
      },
      "outputs": [
        {
          "output_type": "stream",
          "name": "stderr",
          "text": [
            "/usr/local/lib/python3.7/dist-packages/statsmodels/tsa/tsatools.py:117: FutureWarning: In a future version of pandas all arguments of concat except for the argument 'objs' will be keyword-only\n",
            "  x = pd.concat(x[::order], 1)\n"
          ]
        },
        {
          "output_type": "stream",
          "name": "stdout",
          "text": [
            "Add X_17 with p-value 5.776319495476359e-37\n",
            "Add X_18 with p-value 6.053232562189295e-27\n",
            "Add X_15 with p-value 2.4434062940996466e-20\n",
            "Add X_30 with p-value 4.593153644019237e-13\n",
            "Add X_51 with p-value 2.3394098590191522e-11\n",
            "Add X_42 with p-value 4.3243669824949055e-08\n",
            "Add X_03 with p-value 2.3206823242211729e-07\n",
            "Add X_01 with p-value 2.149164389617397e-08\n",
            "Add X_56 with p-value 4.954434116832316e-06\n",
            "Add X_05 with p-value 1.8039203837241304e-05\n",
            "Add X_54 with p-value 2.029677776249466e-05\n",
            "Add X_31 with p-value 1.9047910835143056e-05\n",
            "Add X_21 with p-value 3.269282194449437e-05\n",
            "Add X_52 with p-value 0.00021662496200102534\n",
            "Add X_55 with p-value 0.00018156231585695322\n",
            "Add X_10 with p-value 0.0005850880540251812\n",
            "Add X_50 with p-value 0.0008617107781659628\n",
            "Add X_32 with p-value 0.0062435994203327875\n",
            "Add X_09 with p-value 0.006899521673595579\n",
            "Add X_33 with p-value 0.013401104316046533\n",
            "Add X_35 with p-value 0.021727475862918573\n"
          ]
        }
      ],
      "source": [
        "c10 = forward_selection(train_x, train_y['Y_11'])"
      ]
    },
    {
      "cell_type": "code",
      "execution_count": null,
      "id": "1f2825ea",
      "metadata": {
        "colab": {
          "base_uri": "https://localhost:8080/"
        },
        "id": "1f2825ea",
        "outputId": "3cbb7f6c-d514-4c3f-d292-49fa03f4f22b"
      },
      "outputs": [
        {
          "output_type": "stream",
          "name": "stderr",
          "text": [
            "/usr/local/lib/python3.7/dist-packages/statsmodels/tsa/tsatools.py:117: FutureWarning: In a future version of pandas all arguments of concat except for the argument 'objs' will be keyword-only\n",
            "  x = pd.concat(x[::order], 1)\n"
          ]
        },
        {
          "output_type": "stream",
          "name": "stdout",
          "text": [
            "Add X_20 with p-value 4.8166100304271086e-175\n",
            "Add X_30 with p-value 4.545344554335348e-77\n",
            "Add X_16 with p-value 1.1898696204864055e-52\n",
            "Add X_42 with p-value 1.3927604726821786e-22\n",
            "Add X_03 with p-value 9.958468648592394e-25\n",
            "Add X_32 with p-value 4.8960703724866806e-17\n",
            "Add X_22 with p-value 6.94541354385559e-15\n",
            "Add X_56 with p-value 2.6427436969182496e-12\n",
            "Add X_40 with p-value 2.8758983062441156e-10\n",
            "Add X_17 with p-value 9.218429627597743e-07\n",
            "Add X_18 with p-value 4.56601334807422e-07\n",
            "Add X_15 with p-value 2.770717210756484e-20\n",
            "Add X_51 with p-value 5.926487702045288e-06\n",
            "Add X_09 with p-value 6.7792010238484e-05\n",
            "Add X_13 with p-value 8.34720112700803e-05\n",
            "Add X_10 with p-value 9.230413373510234e-05\n",
            "Add X_41 with p-value 0.0003607118938552539\n",
            "Add X_55 with p-value 0.0006850787007824842\n",
            "Add X_52 with p-value 4.0888387292711004e-06\n",
            "Add X_12 with p-value 0.0012538497284008787\n",
            "Add X_54 with p-value 0.0021603422466656766\n",
            "Add X_53 with p-value 0.008297108374959138\n",
            "Add X_35 with p-value 0.020172267302515527\n"
          ]
        }
      ],
      "source": [
        "c11 = forward_selection(train_x, train_y['Y_12'])"
      ]
    },
    {
      "cell_type": "code",
      "execution_count": null,
      "id": "71e4a22a",
      "metadata": {
        "colab": {
          "base_uri": "https://localhost:8080/"
        },
        "id": "71e4a22a",
        "outputId": "651f774f-d3cb-4cca-e494-d2451d114457"
      },
      "outputs": [
        {
          "output_type": "stream",
          "name": "stderr",
          "text": [
            "/usr/local/lib/python3.7/dist-packages/statsmodels/tsa/tsatools.py:117: FutureWarning: In a future version of pandas all arguments of concat except for the argument 'objs' will be keyword-only\n",
            "  x = pd.concat(x[::order], 1)\n"
          ]
        },
        {
          "output_type": "stream",
          "name": "stdout",
          "text": [
            "Add X_20 with p-value 1.2216548512567081e-178\n",
            "Add X_30 with p-value 2.2760998953825906e-78\n",
            "Add X_16 with p-value 2.382101713266921e-53\n",
            "Add X_42 with p-value 1.4051959968409598e-22\n",
            "Add X_03 with p-value 1.1732269981454084e-24\n",
            "Add X_32 with p-value 8.569953126546789e-18\n",
            "Add X_22 with p-value 2.299935960732824e-15\n",
            "Add X_52 with p-value 9.060189608887956e-12\n",
            "Add X_40 with p-value 7.865879627931812e-10\n",
            "Add X_17 with p-value 3.31012332737539e-07\n",
            "Add X_18 with p-value 7.759526051153441e-08\n",
            "Add X_15 with p-value 1.1173570812998269e-19\n",
            "Add X_51 with p-value 7.729434641768872e-06\n",
            "Add X_09 with p-value 1.1449321255542603e-05\n",
            "Add X_55 with p-value 2.4903269298456495e-05\n",
            "Add X_10 with p-value 3.6685211765929355e-05\n",
            "Add X_56 with p-value 0.00028965258426459195\n",
            "Add X_41 with p-value 0.00034415160865322364\n",
            "Add X_14 with p-value 0.00043099814811720924\n",
            "Add X_54 with p-value 0.0025059441528852457\n",
            "Add X_12 with p-value 0.005135929378935063\n",
            "Add X_53 with p-value 0.006411858306363702\n",
            "Add X_35 with p-value 0.011945892681927821\n"
          ]
        }
      ],
      "source": [
        "c12 = forward_selection(train_x, train_y['Y_13'])"
      ]
    },
    {
      "cell_type": "code",
      "execution_count": null,
      "id": "0e63e80d",
      "metadata": {
        "colab": {
          "base_uri": "https://localhost:8080/"
        },
        "id": "0e63e80d",
        "outputId": "16ff7a7f-8908-4b9d-e031-9ab80e94834f"
      },
      "outputs": [
        {
          "output_type": "stream",
          "name": "stderr",
          "text": [
            "/usr/local/lib/python3.7/dist-packages/statsmodels/tsa/tsatools.py:117: FutureWarning: In a future version of pandas all arguments of concat except for the argument 'objs' will be keyword-only\n",
            "  x = pd.concat(x[::order], 1)\n"
          ]
        },
        {
          "output_type": "stream",
          "name": "stdout",
          "text": [
            "Add X_20 with p-value 8.140712496571332e-170\n",
            "Add X_32 with p-value 2.331948794902241e-78\n",
            "Add X_16 with p-value 2.8095620135471246e-44\n",
            "Add X_30 with p-value 7.967418552631219e-30\n",
            "Add X_03 with p-value 1.231350962079994e-21\n",
            "Add X_42 with p-value 1.911586696221342e-19\n",
            "Add X_22 with p-value 3.552519056754831e-14\n",
            "Add X_52 with p-value 2.1772394090481097e-13\n",
            "Add X_40 with p-value 2.630642386333253e-08\n",
            "Add X_17 with p-value 3.34854299365015e-08\n",
            "Add X_18 with p-value 5.117122829988325e-08\n",
            "Add X_15 with p-value 6.501710357167612e-21\n",
            "Add X_51 with p-value 1.7734821832969167e-06\n",
            "Add X_55 with p-value 2.766721961880589e-05\n",
            "Add X_09 with p-value 1.7349762726790312e-05\n",
            "Add X_27 with p-value 0.00018570730104244655\n",
            "Add X_10 with p-value 0.00031955451637124974\n",
            "Add X_56 with p-value 0.000629458779571061\n",
            "Add X_54 with p-value 0.0005193697261166049\n",
            "Add X_41 with p-value 0.0009083785638562541\n",
            "Add X_13 with p-value 0.0017106768647488168\n",
            "Add X_53 with p-value 0.0031177199335901138\n",
            "Add X_35 with p-value 0.014483872413202906\n",
            "Add X_12 with p-value 0.030854117953340716\n"
          ]
        }
      ],
      "source": [
        "c13 = forward_selection(train_x, train_y['Y_14'])"
      ]
    },
    {
      "cell_type": "code",
      "execution_count": null,
      "id": "bd9f67f3",
      "metadata": {
        "id": "bd9f67f3"
      },
      "outputs": [],
      "source": []
    },
    {
      "cell_type": "markdown",
      "id": "361f60bb",
      "metadata": {
        "id": "361f60bb"
      },
      "source": [
        "### Train"
      ]
    },
    {
      "cell_type": "code",
      "execution_count": null,
      "id": "b8b26e8c",
      "metadata": {
        "id": "b8b26e8c"
      },
      "outputs": [],
      "source": [
        "train_x_for_y01, test_x_for_y01 = train_x[c], test_x[c]\n",
        "train_y_01 = train_y['Y_01']"
      ]
    },
    {
      "cell_type": "code",
      "execution_count": null,
      "id": "f273f7b0",
      "metadata": {
        "id": "f273f7b0"
      },
      "outputs": [],
      "source": [
        "def objective(params):\n",
        "\n",
        "    params = {\n",
        "        'n_estimators': int(params['n_estimators']),\n",
        "        'max_depth': int(params['max_depth']),\n",
        "        'num_leaves': int(params['num_leaves']),\n",
        "        'min_child_samples': int(params['min_child_samples']),\n",
        "        'colsample_bytree': '{:.3f}'.format(params['colsample_bytree']),\n",
        "        'subsample': '{:.3f}'.format(params['subsample']),\n",
        "        'min_split_gain': '{:.3f}'.format(params['min_split_gain']),\n",
        "        'scale_pos_weight': '{:.3f}'.format(params['scale_pos_weight']),\n",
        "        'reg_alpha': '{:.3f}'.format(params['reg_alpha']),\n",
        "        'reg_lambda': '{:.3f}'.format(params['reg_lambda']),\n",
        "        'learning_rate': '{:.3f}'.format(params['learning_rate']),\n",
        "        \n",
        "    }\n",
        "    \n",
        "    model = LGBMRegressor(\n",
        "        n_jobs = -1,\n",
        "        random_state = 42,\n",
        "        **params\n",
        "    )\n",
        "    \n",
        "    loss = -cross_val_score(model, train_x_for_y01, train_y_01, cv=10, scoring=make_scorer(rmse, greater_is_better=False)).mean()\n",
        "    print(\"RMSE Loss {:.3f} params {}\".format(loss, params))\n",
        "    return loss"
      ]
    },
    {
      "cell_type": "code",
      "execution_count": null,
      "id": "6da94ea4",
      "metadata": {
        "colab": {
          "base_uri": "https://localhost:8080/"
        },
        "id": "6da94ea4",
        "outputId": "106ce5b1-0583-420d-e6bc-d643dabc8d1c"
      },
      "outputs": [
        {
          "output_type": "stream",
          "name": "stdout",
          "text": [
            "RMSE Loss 0.347 params {'n_estimators': 1350, 'max_depth': 46, 'num_leaves': 90, 'min_child_samples': 140, 'colsample_bytree': '0.383', 'subsample': '0.698', 'min_split_gain': '0.194', 'scale_pos_weight': '7.440', 'reg_alpha': '9.528', 'reg_lambda': '33.366', 'learning_rate': '0.040'}\n",
            "RMSE Loss 0.349 params {'n_estimators': 850, 'max_depth': 31, 'num_leaves': 90, 'min_child_samples': 80, 'colsample_bytree': '0.417', 'subsample': '0.978', 'min_split_gain': '0.488', 'scale_pos_weight': '6.130', 'reg_alpha': '81.456', 'reg_lambda': '12.488', 'learning_rate': '0.079'}\n",
            "RMSE Loss 0.349 params {'n_estimators': 250, 'max_depth': 54, 'num_leaves': 90, 'min_child_samples': 50, 'colsample_bytree': '0.681', 'subsample': '0.815', 'min_split_gain': '0.157', 'scale_pos_weight': '2.894', 'reg_alpha': '93.852', 'reg_lambda': '33.720', 'learning_rate': '0.347'}\n",
            "RMSE Loss 0.349 params {'n_estimators': 550, 'max_depth': 61, 'num_leaves': 90, 'min_child_samples': 270, 'colsample_bytree': '0.764', 'subsample': '0.902', 'min_split_gain': '0.213', 'scale_pos_weight': '7.523', 'reg_alpha': '96.721', 'reg_lambda': '5.219', 'learning_rate': '0.095'}\n",
            "RMSE Loss 0.350 params {'n_estimators': 800, 'max_depth': 5, 'num_leaves': 90, 'min_child_samples': 40, 'colsample_bytree': '0.558', 'subsample': '0.928', 'min_split_gain': '0.607', 'scale_pos_weight': '6.722', 'reg_alpha': '86.106', 'reg_lambda': '31.378', 'learning_rate': '0.081'}\n",
            "RMSE Loss 0.348 params {'n_estimators': 1450, 'max_depth': 6, 'num_leaves': 50, 'min_child_samples': 240, 'colsample_bytree': '0.510', 'subsample': '0.671', 'min_split_gain': '0.571', 'scale_pos_weight': '6.215', 'reg_alpha': '31.462', 'reg_lambda': '34.498', 'learning_rate': '0.024'}\n",
            "RMSE Loss 0.348 params {'n_estimators': 1300, 'max_depth': 29, 'num_leaves': 70, 'min_child_samples': 140, 'colsample_bytree': '0.399', 'subsample': '0.394', 'min_split_gain': '0.122', 'scale_pos_weight': '3.244', 'reg_alpha': '63.192', 'reg_lambda': '6.911', 'learning_rate': '0.017'}\n",
            "RMSE Loss 0.348 params {'n_estimators': 300, 'max_depth': 54, 'num_leaves': 70, 'min_child_samples': 160, 'colsample_bytree': '0.405', 'subsample': '0.746', 'min_split_gain': '0.684', 'scale_pos_weight': '9.917', 'reg_alpha': '17.957', 'reg_lambda': '34.337', 'learning_rate': '0.043'}\n",
            "RMSE Loss 0.349 params {'n_estimators': 950, 'max_depth': 7, 'num_leaves': 30, 'min_child_samples': 130, 'colsample_bytree': '0.433', 'subsample': '0.378', 'min_split_gain': '0.626', 'scale_pos_weight': '3.803', 'reg_alpha': '47.323', 'reg_lambda': '78.422', 'learning_rate': '0.042'}\n",
            "RMSE Loss 0.349 params {'n_estimators': 300, 'max_depth': 18, 'num_leaves': 90, 'min_child_samples': 50, 'colsample_bytree': '0.555', 'subsample': '0.803', 'min_split_gain': '0.193', 'scale_pos_weight': '8.503', 'reg_alpha': '51.418', 'reg_lambda': '89.798', 'learning_rate': '0.010'}\n",
            "RMSE Loss 0.349 params {'n_estimators': 900, 'max_depth': 14, 'num_leaves': 50, 'min_child_samples': 110, 'colsample_bytree': '0.703', 'subsample': '0.691', 'min_split_gain': '0.323', 'scale_pos_weight': '3.072', 'reg_alpha': '89.681', 'reg_lambda': '2.202', 'learning_rate': '0.223'}\n",
            "RMSE Loss 0.349 params {'n_estimators': 1000, 'max_depth': 37, 'num_leaves': 40, 'min_child_samples': 180, 'colsample_bytree': '0.707', 'subsample': '0.977', 'min_split_gain': '0.598', 'scale_pos_weight': '9.132', 'reg_alpha': '59.669', 'reg_lambda': '6.627', 'learning_rate': '0.146'}\n",
            "RMSE Loss 0.348 params {'n_estimators': 1450, 'max_depth': 33, 'num_leaves': 40, 'min_child_samples': 20, 'colsample_bytree': '0.338', 'subsample': '0.567', 'min_split_gain': '0.656', 'scale_pos_weight': '2.174', 'reg_alpha': '19.313', 'reg_lambda': '13.232', 'learning_rate': '0.034'}\n",
            "RMSE Loss 0.349 params {'n_estimators': 1200, 'max_depth': 31, 'num_leaves': 20, 'min_child_samples': 300, 'colsample_bytree': '0.859', 'subsample': '0.642', 'min_split_gain': '0.526', 'scale_pos_weight': '2.992', 'reg_alpha': '61.658', 'reg_lambda': '17.178', 'learning_rate': '0.077'}\n",
            "RMSE Loss 0.348 params {'n_estimators': 1400, 'max_depth': 13, 'num_leaves': 20, 'min_child_samples': 140, 'colsample_bytree': '0.336', 'subsample': '0.421', 'min_split_gain': '0.506', 'scale_pos_weight': '3.383', 'reg_alpha': '18.338', 'reg_lambda': '42.631', 'learning_rate': '0.423'}\n",
            "RMSE Loss 0.348 params {'n_estimators': 400, 'max_depth': 42, 'num_leaves': 50, 'min_child_samples': 150, 'colsample_bytree': '0.831', 'subsample': '0.378', 'min_split_gain': '0.100', 'scale_pos_weight': '9.895', 'reg_alpha': '56.183', 'reg_lambda': '66.028', 'learning_rate': '0.019'}\n",
            "RMSE Loss 0.349 params {'n_estimators': 350, 'max_depth': 78, 'num_leaves': 30, 'min_child_samples': 150, 'colsample_bytree': '0.795', 'subsample': '0.501', 'min_split_gain': '0.449', 'scale_pos_weight': '4.543', 'reg_alpha': '76.758', 'reg_lambda': '70.645', 'learning_rate': '0.013'}\n",
            "RMSE Loss 0.348 params {'n_estimators': 1200, 'max_depth': 50, 'num_leaves': 70, 'min_child_samples': 300, 'colsample_bytree': '0.499', 'subsample': '0.660', 'min_split_gain': '0.273', 'scale_pos_weight': '8.352', 'reg_alpha': '33.403', 'reg_lambda': '27.247', 'learning_rate': '0.229'}\n",
            "RMSE Loss 0.348 params {'n_estimators': 1400, 'max_depth': 52, 'num_leaves': 80, 'min_child_samples': 300, 'colsample_bytree': '0.952', 'subsample': '0.852', 'min_split_gain': '0.174', 'scale_pos_weight': '3.936', 'reg_alpha': '47.984', 'reg_lambda': '9.278', 'learning_rate': '0.014'}\n",
            "RMSE Loss 0.348 params {'n_estimators': 1150, 'max_depth': 77, 'num_leaves': 60, 'min_child_samples': 290, 'colsample_bytree': '0.578', 'subsample': '0.571', 'min_split_gain': '0.495', 'scale_pos_weight': '4.286', 'reg_alpha': '21.875', 'reg_lambda': '74.694', 'learning_rate': '0.016'}\n",
            "RMSE Loss 0.347 params {'n_estimators': 1100, 'max_depth': 96, 'num_leaves': 60, 'min_child_samples': 210, 'colsample_bytree': '0.612', 'subsample': '0.534', 'min_split_gain': '0.030', 'scale_pos_weight': '5.171', 'reg_alpha': '0.524', 'reg_lambda': '55.306', 'learning_rate': '0.024'}\n",
            "RMSE Loss 0.347 params {'n_estimators': 600, 'max_depth': 99, 'num_leaves': 100, 'min_child_samples': 210, 'colsample_bytree': '0.609', 'subsample': '0.480', 'min_split_gain': '0.025', 'scale_pos_weight': '5.060', 'reg_alpha': '3.550', 'reg_lambda': '57.299', 'learning_rate': '0.027'}\n",
            "RMSE Loss 0.350 params {'n_estimators': 650, 'max_depth': 70, 'num_leaves': 80, 'min_child_samples': 200, 'colsample_bytree': '0.928', 'subsample': '0.486', 'min_split_gain': '0.001', 'scale_pos_weight': '7.259', 'reg_alpha': '2.113', 'reg_lambda': '54.401', 'learning_rate': '0.050'}\n",
            "RMSE Loss 0.346 params {'n_estimators': 650, 'max_depth': 96, 'num_leaves': 100, 'min_child_samples': 240, 'colsample_bytree': '0.479', 'subsample': '0.457', 'min_split_gain': '0.057', 'scale_pos_weight': '5.344', 'reg_alpha': '3.770', 'reg_lambda': '45.969', 'learning_rate': '0.031'}\n",
            "RMSE Loss 0.346 params {'n_estimators': 650, 'max_depth': 99, 'num_leaves': 100, 'min_child_samples': 240, 'colsample_bytree': '0.477', 'subsample': '0.455', 'min_split_gain': '0.037', 'scale_pos_weight': '5.147', 'reg_alpha': '7.503', 'reg_lambda': '59.871', 'learning_rate': '0.028'}\n",
            "RMSE Loss 0.347 params {'n_estimators': 700, 'max_depth': 90, 'num_leaves': 100, 'min_child_samples': 250, 'colsample_bytree': '0.478', 'subsample': '0.309', 'min_split_gain': '0.081', 'scale_pos_weight': '1.716', 'reg_alpha': '35.376', 'reg_lambda': '94.604', 'learning_rate': '0.057'}\n",
            "RMSE Loss 0.347 params {'n_estimators': 150, 'max_depth': 91, 'num_leaves': 100, 'min_child_samples': 240, 'colsample_bytree': '0.475', 'subsample': '0.337', 'min_split_gain': '0.374', 'scale_pos_weight': '1.036', 'reg_alpha': '7.874', 'reg_lambda': '43.477', 'learning_rate': '0.113'}\n",
            "RMSE Loss 0.347 params {'n_estimators': 500, 'max_depth': 85, 'num_leaves': 80, 'min_child_samples': 270, 'colsample_bytree': '0.323', 'subsample': '0.439', 'min_split_gain': '0.063', 'scale_pos_weight': '6.190', 'reg_alpha': '26.932', 'reg_lambda': '64.207', 'learning_rate': '0.030'}\n",
            "RMSE Loss 0.348 params {'n_estimators': 750, 'max_depth': 66, 'num_leaves': 100, 'min_child_samples': 180, 'colsample_bytree': '0.302', 'subsample': '0.604', 'min_split_gain': '0.385', 'scale_pos_weight': '5.587', 'reg_alpha': '10.769', 'reg_lambda': '45.373', 'learning_rate': '0.056'}\n",
            "RMSE Loss 0.349 params {'n_estimators': 450, 'max_depth': 100, 'num_leaves': 80, 'min_child_samples': 230, 'colsample_bytree': '0.371', 'subsample': '0.327', 'min_split_gain': '0.257', 'scale_pos_weight': '4.718', 'reg_alpha': '40.970', 'reg_lambda': '84.412', 'learning_rate': '0.010'}\n",
            "100%|██████████| 30/30 [08:44<00:00, 17.48s/it, best loss: 0.34624102053756733]\n"
          ]
        }
      ],
      "source": [
        "space = {\n",
        "    'n_estimators' : hp.quniform('n_estimators', 100, 1500, 50),\n",
        "    'max_depth': hp.quniform('max_depth', 3, 100, 1),\n",
        "    'num_leaves': hp.quniform('num_leaves', 20, 100, 10),\n",
        "    'min_child_samples': hp.quniform('min_child_samples', 10, 300, 10),\n",
        "    'colsample_bytree': hp.uniform('colsample_bytree', 0.3, 1.0),\n",
        "    'subsample': hp.uniform('subsample', 0.3, 1.0),\n",
        "    'min_split_gain': hp.uniform('min_split_gain', 0, 0.7),\n",
        "    'scale_pos_weight': hp.uniform('scale_pos_weight', 1, 10),\n",
        "    'reg_alpha': hp.uniform('reg_alpha', 0, 100),\n",
        "    'reg_lambda': hp.uniform('reg_lambda', 0, 100),\n",
        "    'learning_rate': hp.loguniform('learning_rate', np.log(0.01), np.log(0.5)),\n",
        "}\n",
        "\n",
        "# rstate = np.random.RandomState(42)\n",
        "best_y01 = fmin(fn = objective,\n",
        "            space = space,\n",
        "            algo = tpe.suggest,\n",
        "            max_evals = 30)"
      ]
    },
    {
      "cell_type": "code",
      "source": [
        "space = {\n",
        "    'n_estimators' : hp.quniform('n_estimators', 100, 1500, 50),\n",
        "    'max_depth': hp.quniform('max_depth', 3, 100, 1),\n",
        "    'num_leaves': hp.quniform('num_leaves', 20, 100, 10),\n",
        "    'min_child_samples': hp.quniform('min_child_samples', 10, 300, 10),\n",
        "    'colsample_bytree': hp.uniform('colsample_bytree', 0.3, 1.0),\n",
        "    'subsample': hp.uniform('subsample', 0.3, 1.0),\n",
        "    'min_split_gain': hp.uniform('min_split_gain', 0, 0.7),\n",
        "    'scale_pos_weight': hp.uniform('scale_pos_weight', 1, 10),\n",
        "    'reg_alpha': hp.uniform('reg_alpha', 0, 100),\n",
        "    'reg_lambda': hp.uniform('reg_lambda', 0, 100),\n",
        "    'learning_rate': hp.loguniform('learning_rate', np.log(0.01), np.log(0.5)),\n",
        "}\n",
        "\n",
        "# rstate = np.random.RandomState(42)\n",
        "best_y01 = fmin(fn = objective,\n",
        "            space = space,\n",
        "            algo = tpe.suggest,\n",
        "            max_evals = 30,\n",
        "            rstate=np.random.default_rng(123)\n",
        "           )"
      ],
      "metadata": {
        "colab": {
          "base_uri": "https://localhost:8080/",
          "height": 380
        },
        "id": "eDRLaYZ53GPb",
        "outputId": "a5399844-8a3e-4c3a-9093-57640f4fc928"
      },
      "id": "eDRLaYZ53GPb",
      "execution_count": null,
      "outputs": [
        {
          "output_type": "stream",
          "name": "stdout",
          "text": [
            "  0%|          | 0/30 [00:00<?, ?it/s, best loss: ?]\n"
          ]
        },
        {
          "output_type": "error",
          "ename": "AttributeError",
          "evalue": "ignored",
          "traceback": [
            "\u001b[0;31m---------------------------------------------------------------------------\u001b[0m",
            "\u001b[0;31mAttributeError\u001b[0m                            Traceback (most recent call last)",
            "\u001b[0;32m<ipython-input-34-e2b2fbad848e>\u001b[0m in \u001b[0;36m<module>\u001b[0;34m()\u001b[0m\n\u001b[1;32m     18\u001b[0m             \u001b[0malgo\u001b[0m \u001b[0;34m=\u001b[0m \u001b[0mtpe\u001b[0m\u001b[0;34m.\u001b[0m\u001b[0msuggest\u001b[0m\u001b[0;34m,\u001b[0m\u001b[0;34m\u001b[0m\u001b[0;34m\u001b[0m\u001b[0m\n\u001b[1;32m     19\u001b[0m             \u001b[0mmax_evals\u001b[0m \u001b[0;34m=\u001b[0m \u001b[0;36m30\u001b[0m\u001b[0;34m,\u001b[0m\u001b[0;34m\u001b[0m\u001b[0;34m\u001b[0m\u001b[0m\n\u001b[0;32m---> 20\u001b[0;31m             \u001b[0mrstate\u001b[0m\u001b[0;34m=\u001b[0m\u001b[0mnp\u001b[0m\u001b[0;34m.\u001b[0m\u001b[0mrandom\u001b[0m\u001b[0;34m.\u001b[0m\u001b[0mdefault_rng\u001b[0m\u001b[0;34m(\u001b[0m\u001b[0;36m123\u001b[0m\u001b[0;34m)\u001b[0m\u001b[0;34m\u001b[0m\u001b[0;34m\u001b[0m\u001b[0m\n\u001b[0m\u001b[1;32m     21\u001b[0m            )\n",
            "\u001b[0;32m/usr/local/lib/python3.7/dist-packages/hyperopt/fmin.py\u001b[0m in \u001b[0;36mfmin\u001b[0;34m(fn, space, algo, max_evals, trials, rstate, allow_trials_fmin, pass_expr_memo_ctrl, catch_eval_exceptions, verbose, return_argmin, points_to_evaluate, max_queue_len, show_progressbar)\u001b[0m\n\u001b[1;32m    405\u001b[0m                     show_progressbar=show_progressbar)\n\u001b[1;32m    406\u001b[0m     \u001b[0mrval\u001b[0m\u001b[0;34m.\u001b[0m\u001b[0mcatch_eval_exceptions\u001b[0m \u001b[0;34m=\u001b[0m \u001b[0mcatch_eval_exceptions\u001b[0m\u001b[0;34m\u001b[0m\u001b[0;34m\u001b[0m\u001b[0m\n\u001b[0;32m--> 407\u001b[0;31m     \u001b[0mrval\u001b[0m\u001b[0;34m.\u001b[0m\u001b[0mexhaust\u001b[0m\u001b[0;34m(\u001b[0m\u001b[0;34m)\u001b[0m\u001b[0;34m\u001b[0m\u001b[0;34m\u001b[0m\u001b[0m\n\u001b[0m\u001b[1;32m    408\u001b[0m     \u001b[0;32mif\u001b[0m \u001b[0mreturn_argmin\u001b[0m\u001b[0;34m:\u001b[0m\u001b[0;34m\u001b[0m\u001b[0;34m\u001b[0m\u001b[0m\n\u001b[1;32m    409\u001b[0m         \u001b[0;32mreturn\u001b[0m \u001b[0mtrials\u001b[0m\u001b[0;34m.\u001b[0m\u001b[0margmin\u001b[0m\u001b[0;34m\u001b[0m\u001b[0;34m\u001b[0m\u001b[0m\n",
            "\u001b[0;32m/usr/local/lib/python3.7/dist-packages/hyperopt/fmin.py\u001b[0m in \u001b[0;36mexhaust\u001b[0;34m(self)\u001b[0m\n\u001b[1;32m    260\u001b[0m     \u001b[0;32mdef\u001b[0m \u001b[0mexhaust\u001b[0m\u001b[0;34m(\u001b[0m\u001b[0mself\u001b[0m\u001b[0;34m)\u001b[0m\u001b[0;34m:\u001b[0m\u001b[0;34m\u001b[0m\u001b[0;34m\u001b[0m\u001b[0m\n\u001b[1;32m    261\u001b[0m         \u001b[0mn_done\u001b[0m \u001b[0;34m=\u001b[0m \u001b[0mlen\u001b[0m\u001b[0;34m(\u001b[0m\u001b[0mself\u001b[0m\u001b[0;34m.\u001b[0m\u001b[0mtrials\u001b[0m\u001b[0;34m)\u001b[0m\u001b[0;34m\u001b[0m\u001b[0;34m\u001b[0m\u001b[0m\n\u001b[0;32m--> 262\u001b[0;31m         \u001b[0mself\u001b[0m\u001b[0;34m.\u001b[0m\u001b[0mrun\u001b[0m\u001b[0;34m(\u001b[0m\u001b[0mself\u001b[0m\u001b[0;34m.\u001b[0m\u001b[0mmax_evals\u001b[0m \u001b[0;34m-\u001b[0m \u001b[0mn_done\u001b[0m\u001b[0;34m,\u001b[0m \u001b[0mblock_until_done\u001b[0m\u001b[0;34m=\u001b[0m\u001b[0mself\u001b[0m\u001b[0;34m.\u001b[0m\u001b[0masynchronous\u001b[0m\u001b[0;34m)\u001b[0m\u001b[0;34m\u001b[0m\u001b[0;34m\u001b[0m\u001b[0m\n\u001b[0m\u001b[1;32m    263\u001b[0m         \u001b[0mself\u001b[0m\u001b[0;34m.\u001b[0m\u001b[0mtrials\u001b[0m\u001b[0;34m.\u001b[0m\u001b[0mrefresh\u001b[0m\u001b[0;34m(\u001b[0m\u001b[0;34m)\u001b[0m\u001b[0;34m\u001b[0m\u001b[0;34m\u001b[0m\u001b[0m\n\u001b[1;32m    264\u001b[0m         \u001b[0;32mreturn\u001b[0m \u001b[0mself\u001b[0m\u001b[0;34m\u001b[0m\u001b[0;34m\u001b[0m\u001b[0m\n",
            "\u001b[0;32m/usr/local/lib/python3.7/dist-packages/hyperopt/fmin.py\u001b[0m in \u001b[0;36mrun\u001b[0;34m(self, N, block_until_done)\u001b[0m\n\u001b[1;32m    209\u001b[0m                                                           d['result'].get('status')))\n\u001b[1;32m    210\u001b[0m                         new_trials = algo(new_ids, self.domain, trials,\n\u001b[0;32m--> 211\u001b[0;31m                                           self.rstate.randint(2 ** 31 - 1))\n\u001b[0m\u001b[1;32m    212\u001b[0m                         \u001b[0;32massert\u001b[0m \u001b[0mlen\u001b[0m\u001b[0;34m(\u001b[0m\u001b[0mnew_ids\u001b[0m\u001b[0;34m)\u001b[0m \u001b[0;34m>=\u001b[0m \u001b[0mlen\u001b[0m\u001b[0;34m(\u001b[0m\u001b[0mnew_trials\u001b[0m\u001b[0;34m)\u001b[0m\u001b[0;34m\u001b[0m\u001b[0;34m\u001b[0m\u001b[0m\n\u001b[1;32m    213\u001b[0m                         \u001b[0;32mif\u001b[0m \u001b[0mlen\u001b[0m\u001b[0;34m(\u001b[0m\u001b[0mnew_trials\u001b[0m\u001b[0;34m)\u001b[0m\u001b[0;34m:\u001b[0m\u001b[0;34m\u001b[0m\u001b[0;34m\u001b[0m\u001b[0m\n",
            "\u001b[0;31mAttributeError\u001b[0m: 'numpy.random._generator.Generator' object has no attribute 'randint'"
          ]
        }
      ]
    },
    {
      "cell_type": "code",
      "execution_count": null,
      "id": "f15640ea",
      "metadata": {
        "colab": {
          "base_uri": "https://localhost:8080/"
        },
        "id": "f15640ea",
        "outputId": "ab430723-0118-41b8-d764-653e8c094dc6"
      },
      "outputs": [
        {
          "output_type": "execute_result",
          "data": {
            "text/plain": [
              "['__class__',\n",
              " '__contains__',\n",
              " '__delattr__',\n",
              " '__delitem__',\n",
              " '__dir__',\n",
              " '__doc__',\n",
              " '__eq__',\n",
              " '__format__',\n",
              " '__ge__',\n",
              " '__getattribute__',\n",
              " '__getitem__',\n",
              " '__gt__',\n",
              " '__hash__',\n",
              " '__init__',\n",
              " '__init_subclass__',\n",
              " '__iter__',\n",
              " '__le__',\n",
              " '__len__',\n",
              " '__lt__',\n",
              " '__ne__',\n",
              " '__new__',\n",
              " '__reduce__',\n",
              " '__reduce_ex__',\n",
              " '__repr__',\n",
              " '__setattr__',\n",
              " '__setitem__',\n",
              " '__sizeof__',\n",
              " '__str__',\n",
              " '__subclasshook__',\n",
              " 'clear',\n",
              " 'copy',\n",
              " 'fromkeys',\n",
              " 'get',\n",
              " 'items',\n",
              " 'keys',\n",
              " 'pop',\n",
              " 'popitem',\n",
              " 'setdefault',\n",
              " 'update',\n",
              " 'values']"
            ]
          },
          "metadata": {},
          "execution_count": 44
        }
      ],
      "source": [
        "dir(best_y01)"
      ]
    },
    {
      "cell_type": "code",
      "source": [
        "lg_nrmse(0.34624102053756733, best_y01)"
      ],
      "metadata": {
        "colab": {
          "base_uri": "https://localhost:8080/",
          "height": 311
        },
        "id": "sHHTZQANG35a",
        "outputId": "db1b3b68-146f-40d1-83cb-b15ad6cbef99"
      },
      "id": "sHHTZQANG35a",
      "execution_count": null,
      "outputs": [
        {
          "output_type": "error",
          "ename": "ValueError",
          "evalue": "ignored",
          "traceback": [
            "\u001b[0;31m---------------------------------------------------------------------------\u001b[0m",
            "\u001b[0;31mValueError\u001b[0m                                Traceback (most recent call last)",
            "\u001b[0;32m<ipython-input-52-4f058149bc0f>\u001b[0m in \u001b[0;36m<module>\u001b[0;34m()\u001b[0m\n\u001b[0;32m----> 1\u001b[0;31m \u001b[0mlg_nrmse\u001b[0m\u001b[0;34m(\u001b[0m\u001b[0;36m0.34624102053756733\u001b[0m\u001b[0;34m,\u001b[0m \u001b[0mbest_y01\u001b[0m\u001b[0;34m)\u001b[0m\u001b[0;34m\u001b[0m\u001b[0;34m\u001b[0m\u001b[0m\n\u001b[0m",
            "\u001b[0;32m<ipython-input-9-a11253be286e>\u001b[0m in \u001b[0;36mlg_nrmse\u001b[0;34m(gt, preds)\u001b[0m\n\u001b[1;32m      8\u001b[0m     \u001b[0;31m# 각 Y Feature별 NRMSE 총합\u001b[0m\u001b[0;34m\u001b[0m\u001b[0;34m\u001b[0m\u001b[0;34m\u001b[0m\u001b[0m\n\u001b[1;32m      9\u001b[0m     \u001b[0;31m# Y_01 ~ Y_08 까지 20% 가중치 부여\u001b[0m\u001b[0;34m\u001b[0m\u001b[0;34m\u001b[0m\u001b[0;34m\u001b[0m\u001b[0m\n\u001b[0;32m---> 10\u001b[0;31m     \u001b[0mpreds\u001b[0m \u001b[0;34m=\u001b[0m \u001b[0mpd\u001b[0m\u001b[0;34m.\u001b[0m\u001b[0mDataFrame\u001b[0m\u001b[0;34m(\u001b[0m\u001b[0mpreds\u001b[0m\u001b[0;34m)\u001b[0m\u001b[0;34m\u001b[0m\u001b[0;34m\u001b[0m\u001b[0m\n\u001b[0m\u001b[1;32m     11\u001b[0m     \u001b[0mall_nrmse\u001b[0m \u001b[0;34m=\u001b[0m \u001b[0;34m[\u001b[0m\u001b[0;34m]\u001b[0m\u001b[0;34m\u001b[0m\u001b[0;34m\u001b[0m\u001b[0m\n\u001b[1;32m     12\u001b[0m     \u001b[0;32mfor\u001b[0m \u001b[0midx\u001b[0m \u001b[0;32min\u001b[0m \u001b[0mrange\u001b[0m\u001b[0;34m(\u001b[0m\u001b[0;36m0\u001b[0m\u001b[0;34m,\u001b[0m\u001b[0;36m14\u001b[0m\u001b[0;34m)\u001b[0m\u001b[0;34m:\u001b[0m\u001b[0;34m\u001b[0m\u001b[0;34m\u001b[0m\u001b[0m\n",
            "\u001b[0;32m/usr/local/lib/python3.7/dist-packages/pandas/core/frame.py\u001b[0m in \u001b[0;36m__init__\u001b[0;34m(self, data, index, columns, dtype, copy)\u001b[0m\n\u001b[1;32m    612\u001b[0m         \u001b[0;32melif\u001b[0m \u001b[0misinstance\u001b[0m\u001b[0;34m(\u001b[0m\u001b[0mdata\u001b[0m\u001b[0;34m,\u001b[0m \u001b[0mdict\u001b[0m\u001b[0;34m)\u001b[0m\u001b[0;34m:\u001b[0m\u001b[0;34m\u001b[0m\u001b[0;34m\u001b[0m\u001b[0m\n\u001b[1;32m    613\u001b[0m             \u001b[0;31m# GH#38939 de facto copy defaults to False only in non-dict cases\u001b[0m\u001b[0;34m\u001b[0m\u001b[0;34m\u001b[0m\u001b[0;34m\u001b[0m\u001b[0m\n\u001b[0;32m--> 614\u001b[0;31m             \u001b[0mmgr\u001b[0m \u001b[0;34m=\u001b[0m \u001b[0mdict_to_mgr\u001b[0m\u001b[0;34m(\u001b[0m\u001b[0mdata\u001b[0m\u001b[0;34m,\u001b[0m \u001b[0mindex\u001b[0m\u001b[0;34m,\u001b[0m \u001b[0mcolumns\u001b[0m\u001b[0;34m,\u001b[0m \u001b[0mdtype\u001b[0m\u001b[0;34m=\u001b[0m\u001b[0mdtype\u001b[0m\u001b[0;34m,\u001b[0m \u001b[0mcopy\u001b[0m\u001b[0;34m=\u001b[0m\u001b[0mcopy\u001b[0m\u001b[0;34m,\u001b[0m \u001b[0mtyp\u001b[0m\u001b[0;34m=\u001b[0m\u001b[0mmanager\u001b[0m\u001b[0;34m)\u001b[0m\u001b[0;34m\u001b[0m\u001b[0;34m\u001b[0m\u001b[0m\n\u001b[0m\u001b[1;32m    615\u001b[0m         \u001b[0;32melif\u001b[0m \u001b[0misinstance\u001b[0m\u001b[0;34m(\u001b[0m\u001b[0mdata\u001b[0m\u001b[0;34m,\u001b[0m \u001b[0mma\u001b[0m\u001b[0;34m.\u001b[0m\u001b[0mMaskedArray\u001b[0m\u001b[0;34m)\u001b[0m\u001b[0;34m:\u001b[0m\u001b[0;34m\u001b[0m\u001b[0;34m\u001b[0m\u001b[0m\n\u001b[1;32m    616\u001b[0m             \u001b[0;32mimport\u001b[0m \u001b[0mnumpy\u001b[0m\u001b[0;34m.\u001b[0m\u001b[0mma\u001b[0m\u001b[0;34m.\u001b[0m\u001b[0mmrecords\u001b[0m \u001b[0;32mas\u001b[0m \u001b[0mmrecords\u001b[0m\u001b[0;34m\u001b[0m\u001b[0;34m\u001b[0m\u001b[0m\n",
            "\u001b[0;32m/usr/local/lib/python3.7/dist-packages/pandas/core/internals/construction.py\u001b[0m in \u001b[0;36mdict_to_mgr\u001b[0;34m(data, index, columns, dtype, typ, copy)\u001b[0m\n\u001b[1;32m    463\u001b[0m \u001b[0;34m\u001b[0m\u001b[0m\n\u001b[1;32m    464\u001b[0m     return arrays_to_mgr(\n\u001b[0;32m--> 465\u001b[0;31m         \u001b[0marrays\u001b[0m\u001b[0;34m,\u001b[0m \u001b[0mdata_names\u001b[0m\u001b[0;34m,\u001b[0m \u001b[0mindex\u001b[0m\u001b[0;34m,\u001b[0m \u001b[0mcolumns\u001b[0m\u001b[0;34m,\u001b[0m \u001b[0mdtype\u001b[0m\u001b[0;34m=\u001b[0m\u001b[0mdtype\u001b[0m\u001b[0;34m,\u001b[0m \u001b[0mtyp\u001b[0m\u001b[0;34m=\u001b[0m\u001b[0mtyp\u001b[0m\u001b[0;34m,\u001b[0m \u001b[0mconsolidate\u001b[0m\u001b[0;34m=\u001b[0m\u001b[0mcopy\u001b[0m\u001b[0;34m\u001b[0m\u001b[0;34m\u001b[0m\u001b[0m\n\u001b[0m\u001b[1;32m    466\u001b[0m     )\n\u001b[1;32m    467\u001b[0m \u001b[0;34m\u001b[0m\u001b[0m\n",
            "\u001b[0;32m/usr/local/lib/python3.7/dist-packages/pandas/core/internals/construction.py\u001b[0m in \u001b[0;36marrays_to_mgr\u001b[0;34m(arrays, arr_names, index, columns, dtype, verify_integrity, typ, consolidate)\u001b[0m\n\u001b[1;32m    117\u001b[0m         \u001b[0;31m# figure out the index, if necessary\u001b[0m\u001b[0;34m\u001b[0m\u001b[0;34m\u001b[0m\u001b[0;34m\u001b[0m\u001b[0m\n\u001b[1;32m    118\u001b[0m         \u001b[0;32mif\u001b[0m \u001b[0mindex\u001b[0m \u001b[0;32mis\u001b[0m \u001b[0;32mNone\u001b[0m\u001b[0;34m:\u001b[0m\u001b[0;34m\u001b[0m\u001b[0;34m\u001b[0m\u001b[0m\n\u001b[0;32m--> 119\u001b[0;31m             \u001b[0mindex\u001b[0m \u001b[0;34m=\u001b[0m \u001b[0m_extract_index\u001b[0m\u001b[0;34m(\u001b[0m\u001b[0marrays\u001b[0m\u001b[0;34m)\u001b[0m\u001b[0;34m\u001b[0m\u001b[0;34m\u001b[0m\u001b[0m\n\u001b[0m\u001b[1;32m    120\u001b[0m         \u001b[0;32melse\u001b[0m\u001b[0;34m:\u001b[0m\u001b[0;34m\u001b[0m\u001b[0;34m\u001b[0m\u001b[0m\n\u001b[1;32m    121\u001b[0m             \u001b[0mindex\u001b[0m \u001b[0;34m=\u001b[0m \u001b[0mensure_index\u001b[0m\u001b[0;34m(\u001b[0m\u001b[0mindex\u001b[0m\u001b[0;34m)\u001b[0m\u001b[0;34m\u001b[0m\u001b[0;34m\u001b[0m\u001b[0m\n",
            "\u001b[0;32m/usr/local/lib/python3.7/dist-packages/pandas/core/internals/construction.py\u001b[0m in \u001b[0;36m_extract_index\u001b[0;34m(data)\u001b[0m\n\u001b[1;32m    623\u001b[0m \u001b[0;34m\u001b[0m\u001b[0m\n\u001b[1;32m    624\u001b[0m         \u001b[0;32mif\u001b[0m \u001b[0;32mnot\u001b[0m \u001b[0mindexes\u001b[0m \u001b[0;32mand\u001b[0m \u001b[0;32mnot\u001b[0m \u001b[0mraw_lengths\u001b[0m\u001b[0;34m:\u001b[0m\u001b[0;34m\u001b[0m\u001b[0;34m\u001b[0m\u001b[0m\n\u001b[0;32m--> 625\u001b[0;31m             \u001b[0;32mraise\u001b[0m \u001b[0mValueError\u001b[0m\u001b[0;34m(\u001b[0m\u001b[0;34m\"If using all scalar values, you must pass an index\"\u001b[0m\u001b[0;34m)\u001b[0m\u001b[0;34m\u001b[0m\u001b[0;34m\u001b[0m\u001b[0m\n\u001b[0m\u001b[1;32m    626\u001b[0m \u001b[0;34m\u001b[0m\u001b[0m\n\u001b[1;32m    627\u001b[0m         \u001b[0;32mif\u001b[0m \u001b[0mhave_series\u001b[0m\u001b[0;34m:\u001b[0m\u001b[0;34m\u001b[0m\u001b[0;34m\u001b[0m\u001b[0m\n",
            "\u001b[0;31mValueError\u001b[0m: If using all scalar values, you must pass an index"
          ]
        }
      ]
    },
    {
      "cell_type": "code",
      "execution_count": null,
      "id": "cd7c1399",
      "metadata": {
        "id": "cd7c1399"
      },
      "outputs": [],
      "source": [
        "train_x_for_y02, test_x_for_y02 = train_x[c1], test_x[c1]\n",
        "train_y_02 = train_y['Y_02']"
      ]
    },
    {
      "cell_type": "code",
      "execution_count": null,
      "id": "2db62e04",
      "metadata": {
        "id": "2db62e04"
      },
      "outputs": [],
      "source": [
        "def objective(params):\n",
        "\n",
        "    params = {\n",
        "        'n_estimators': int(params['n_estimators']),\n",
        "        'max_depth': int(params['max_depth']),\n",
        "        'num_leaves': int(params['num_leaves']),\n",
        "        'min_child_samples': int(params['min_child_samples']),\n",
        "        'colsample_bytree': '{:.3f}'.format(params['colsample_bytree']),\n",
        "        'subsample': '{:.3f}'.format(params['subsample']),\n",
        "        'min_split_gain': '{:.3f}'.format(params['min_split_gain']),\n",
        "        'scale_pos_weight': '{:.3f}'.format(params['scale_pos_weight']),\n",
        "        'reg_alpha': '{:.3f}'.format(params['reg_alpha']),\n",
        "        'reg_lambda': '{:.3f}'.format(params['reg_lambda']),\n",
        "        'learning_rate': '{:.3f}'.format(params['learning_rate']),\n",
        "        \n",
        "    }\n",
        "    \n",
        "    model = LGBMRegressor(\n",
        "        n_jobs = -1,\n",
        "        random_state = 42,\n",
        "        **params\n",
        "    )\n",
        "    \n",
        "    loss = -cross_val_score(model, train_x_for_y02, train_y_02, cv=10, scoring=make_scorer(rmse, greater_is_better=False)).mean()\n",
        "    print(\"RMSE Loss {:.3f} params {}\".format(loss, params))\n",
        "    return loss"
      ]
    },
    {
      "cell_type": "code",
      "execution_count": null,
      "id": "50db6e56",
      "metadata": {
        "colab": {
          "base_uri": "https://localhost:8080/"
        },
        "id": "50db6e56",
        "outputId": "ae09b988-da8f-41cc-df1c-2693c2911423"
      },
      "outputs": [
        {
          "output_type": "stream",
          "name": "stdout",
          "text": [
            "RMSE Loss 0.379 params {'n_estimators': 1100, 'max_depth': 97, 'num_leaves': 40, 'min_child_samples': 120, 'colsample_bytree': '0.398', 'subsample': '0.395', 'min_split_gain': '0.479', 'scale_pos_weight': '7.486', 'reg_alpha': '41.489', 'reg_lambda': '83.824', 'learning_rate': '0.202'}\n",
            "RMSE Loss 0.379 params {'n_estimators': 1100, 'max_depth': 46, 'num_leaves': 60, 'min_child_samples': 200, 'colsample_bytree': '0.712', 'subsample': '0.564', 'min_split_gain': '0.143', 'scale_pos_weight': '7.577', 'reg_alpha': '92.996', 'reg_lambda': '48.819', 'learning_rate': '0.100'}\n",
            "RMSE Loss 0.379 params {'n_estimators': 250, 'max_depth': 48, 'num_leaves': 40, 'min_child_samples': 40, 'colsample_bytree': '0.956', 'subsample': '0.959', 'min_split_gain': '0.379', 'scale_pos_weight': '4.849', 'reg_alpha': '72.191', 'reg_lambda': '73.354', 'learning_rate': '0.323'}\n",
            "RMSE Loss 0.380 params {'n_estimators': 150, 'max_depth': 80, 'num_leaves': 70, 'min_child_samples': 280, 'colsample_bytree': '0.535', 'subsample': '0.495', 'min_split_gain': '0.631', 'scale_pos_weight': '4.045', 'reg_alpha': '86.447', 'reg_lambda': '45.961', 'learning_rate': '0.103'}\n",
            "RMSE Loss 0.380 params {'n_estimators': 650, 'max_depth': 80, 'num_leaves': 40, 'min_child_samples': 30, 'colsample_bytree': '0.773', 'subsample': '0.914', 'min_split_gain': '0.225', 'scale_pos_weight': '2.314', 'reg_alpha': '89.512', 'reg_lambda': '92.378', 'learning_rate': '0.011'}\n",
            "RMSE Loss 0.379 params {'n_estimators': 1300, 'max_depth': 17, 'num_leaves': 40, 'min_child_samples': 190, 'colsample_bytree': '0.392', 'subsample': '0.605', 'min_split_gain': '0.010', 'scale_pos_weight': '4.720', 'reg_alpha': '79.014', 'reg_lambda': '61.922', 'learning_rate': '0.042'}\n",
            "RMSE Loss 0.379 params {'n_estimators': 1350, 'max_depth': 96, 'num_leaves': 90, 'min_child_samples': 50, 'colsample_bytree': '0.851', 'subsample': '0.666', 'min_split_gain': '0.190', 'scale_pos_weight': '9.203', 'reg_alpha': '64.823', 'reg_lambda': '66.467', 'learning_rate': '0.069'}\n",
            "RMSE Loss 0.379 params {'n_estimators': 1500, 'max_depth': 24, 'num_leaves': 100, 'min_child_samples': 240, 'colsample_bytree': '0.387', 'subsample': '0.358', 'min_split_gain': '0.659', 'scale_pos_weight': '3.420', 'reg_alpha': '19.861', 'reg_lambda': '23.408', 'learning_rate': '0.124'}\n",
            "RMSE Loss 0.380 params {'n_estimators': 300, 'max_depth': 5, 'num_leaves': 20, 'min_child_samples': 10, 'colsample_bytree': '0.881', 'subsample': '0.864', 'min_split_gain': '0.449', 'scale_pos_weight': '5.887', 'reg_alpha': '99.322', 'reg_lambda': '93.285', 'learning_rate': '0.121'}\n",
            "RMSE Loss 0.378 params {'n_estimators': 650, 'max_depth': 28, 'num_leaves': 70, 'min_child_samples': 100, 'colsample_bytree': '0.709', 'subsample': '0.846', 'min_split_gain': '0.044', 'scale_pos_weight': '8.039', 'reg_alpha': '22.446', 'reg_lambda': '55.398', 'learning_rate': '0.188'}\n",
            "RMSE Loss 0.380 params {'n_estimators': 200, 'max_depth': 57, 'num_leaves': 50, 'min_child_samples': 30, 'colsample_bytree': '0.560', 'subsample': '0.703', 'min_split_gain': '0.278', 'scale_pos_weight': '3.470', 'reg_alpha': '79.567', 'reg_lambda': '10.667', 'learning_rate': '0.293'}\n",
            "RMSE Loss 0.379 params {'n_estimators': 850, 'max_depth': 3, 'num_leaves': 80, 'min_child_samples': 80, 'colsample_bytree': '0.847', 'subsample': '0.357', 'min_split_gain': '0.418', 'scale_pos_weight': '9.922', 'reg_alpha': '18.436', 'reg_lambda': '32.807', 'learning_rate': '0.048'}\n",
            "RMSE Loss 0.379 params {'n_estimators': 1350, 'max_depth': 72, 'num_leaves': 40, 'min_child_samples': 150, 'colsample_bytree': '0.845', 'subsample': '0.397', 'min_split_gain': '0.187', 'scale_pos_weight': '8.883', 'reg_alpha': '62.143', 'reg_lambda': '14.784', 'learning_rate': '0.241'}\n",
            "RMSE Loss 0.380 params {'n_estimators': 1150, 'max_depth': 84, 'num_leaves': 80, 'min_child_samples': 130, 'colsample_bytree': '0.442', 'subsample': '0.342', 'min_split_gain': '0.257', 'scale_pos_weight': '6.308', 'reg_alpha': '84.772', 'reg_lambda': '96.362', 'learning_rate': '0.456'}\n",
            "RMSE Loss 0.379 params {'n_estimators': 550, 'max_depth': 88, 'num_leaves': 80, 'min_child_samples': 270, 'colsample_bytree': '0.764', 'subsample': '0.913', 'min_split_gain': '0.081', 'scale_pos_weight': '6.371', 'reg_alpha': '89.665', 'reg_lambda': '19.342', 'learning_rate': '0.179'}\n",
            "RMSE Loss 0.378 params {'n_estimators': 550, 'max_depth': 42, 'num_leaves': 40, 'min_child_samples': 160, 'colsample_bytree': '0.349', 'subsample': '0.726', 'min_split_gain': '0.012', 'scale_pos_weight': '7.607', 'reg_alpha': '33.703', 'reg_lambda': '0.674', 'learning_rate': '0.049'}\n",
            "RMSE Loss 0.380 params {'n_estimators': 250, 'max_depth': 30, 'num_leaves': 60, 'min_child_samples': 180, 'colsample_bytree': '0.997', 'subsample': '0.574', 'min_split_gain': '0.662', 'scale_pos_weight': '9.844', 'reg_alpha': '88.215', 'reg_lambda': '20.000', 'learning_rate': '0.064'}\n",
            "RMSE Loss 0.379 params {'n_estimators': 1150, 'max_depth': 82, 'num_leaves': 100, 'min_child_samples': 180, 'colsample_bytree': '0.552', 'subsample': '0.545', 'min_split_gain': '0.641', 'scale_pos_weight': '7.324', 'reg_alpha': '22.738', 'reg_lambda': '3.296', 'learning_rate': '0.026'}\n",
            "RMSE Loss 0.378 params {'n_estimators': 850, 'max_depth': 66, 'num_leaves': 60, 'min_child_samples': 260, 'colsample_bytree': '0.539', 'subsample': '0.870', 'min_split_gain': '0.355', 'scale_pos_weight': '8.677', 'reg_alpha': '20.325', 'reg_lambda': '39.569', 'learning_rate': '0.015'}\n",
            "RMSE Loss 0.380 params {'n_estimators': 650, 'max_depth': 16, 'num_leaves': 60, 'min_child_samples': 280, 'colsample_bytree': '0.980', 'subsample': '0.459', 'min_split_gain': '0.183', 'scale_pos_weight': '7.327', 'reg_alpha': '99.453', 'reg_lambda': '17.474', 'learning_rate': '0.240'}\n",
            "RMSE Loss 0.377 params {'n_estimators': 450, 'max_depth': 35, 'num_leaves': 20, 'min_child_samples': 90, 'colsample_bytree': '0.630', 'subsample': '0.750', 'min_split_gain': '0.000', 'scale_pos_weight': '8.231', 'reg_alpha': '1.635', 'reg_lambda': '58.498', 'learning_rate': '0.029'}\n",
            "RMSE Loss 0.377 params {'n_estimators': 450, 'max_depth': 39, 'num_leaves': 20, 'min_child_samples': 70, 'colsample_bytree': '0.626', 'subsample': '0.762', 'min_split_gain': '0.091', 'scale_pos_weight': '6.767', 'reg_alpha': '0.112', 'reg_lambda': '31.102', 'learning_rate': '0.024'}\n",
            "RMSE Loss 0.377 params {'n_estimators': 400, 'max_depth': 37, 'num_leaves': 20, 'min_child_samples': 70, 'colsample_bytree': '0.631', 'subsample': '0.769', 'min_split_gain': '0.104', 'scale_pos_weight': '1.004', 'reg_alpha': '2.133', 'reg_lambda': '33.063', 'learning_rate': '0.024'}\n",
            "RMSE Loss 0.378 params {'n_estimators': 400, 'max_depth': 56, 'num_leaves': 30, 'min_child_samples': 90, 'colsample_bytree': '0.628', 'subsample': '0.789', 'min_split_gain': '0.557', 'scale_pos_weight': '2.259', 'reg_alpha': '0.505', 'reg_lambda': '77.780', 'learning_rate': '0.025'}\n",
            "RMSE Loss 0.377 params {'n_estimators': 350, 'max_depth': 35, 'num_leaves': 30, 'min_child_samples': 60, 'colsample_bytree': '0.473', 'subsample': '0.798', 'min_split_gain': '0.107', 'scale_pos_weight': '1.184', 'reg_alpha': '7.801', 'reg_lambda': '39.571', 'learning_rate': '0.014'}\n",
            "RMSE Loss 0.378 params {'n_estimators': 750, 'max_depth': 13, 'num_leaves': 30, 'min_child_samples': 110, 'colsample_bytree': '0.686', 'subsample': '0.649', 'min_split_gain': '0.009', 'scale_pos_weight': '1.014', 'reg_alpha': '8.444', 'reg_lambda': '57.901', 'learning_rate': '0.033'}\n",
            "RMSE Loss 0.380 params {'n_estimators': 100, 'max_depth': 61, 'num_leaves': 20, 'min_child_samples': 140, 'colsample_bytree': '0.636', 'subsample': '0.980', 'min_split_gain': '0.300', 'scale_pos_weight': '2.024', 'reg_alpha': '33.278', 'reg_lambda': '67.480', 'learning_rate': '0.016'}\n",
            "RMSE Loss 0.377 params {'n_estimators': 450, 'max_depth': 21, 'num_leaves': 30, 'min_child_samples': 20, 'colsample_bytree': '0.478', 'subsample': '0.727', 'min_split_gain': '0.124', 'scale_pos_weight': '5.389', 'reg_alpha': '9.157', 'reg_lambda': '30.694', 'learning_rate': '0.035'}\n",
            "RMSE Loss 0.378 params {'n_estimators': 950, 'max_depth': 9, 'num_leaves': 50, 'min_child_samples': 100, 'colsample_bytree': '0.790', 'subsample': '0.650', 'min_split_gain': '0.055', 'scale_pos_weight': '9.418', 'reg_alpha': '49.810', 'reg_lambda': '42.578', 'learning_rate': '0.019'}\n",
            "RMSE Loss 0.379 params {'n_estimators': 550, 'max_depth': 35, 'num_leaves': 20, 'min_child_samples': 120, 'colsample_bytree': '0.594', 'subsample': '0.813', 'min_split_gain': '0.307', 'scale_pos_weight': '8.171', 'reg_alpha': '42.165', 'reg_lambda': '53.488', 'learning_rate': '0.010'}\n",
            "100%|██████████| 30/30 [06:39<00:00, 13.32s/it, best loss: 0.3772909691523151]\n"
          ]
        }
      ],
      "source": [
        "space = {\n",
        "    'n_estimators' : hp.quniform('n_estimators', 100, 1500, 50),\n",
        "    'max_depth': hp.quniform('max_depth', 3, 100, 1),\n",
        "    'num_leaves': hp.quniform('num_leaves', 20, 100, 10),\n",
        "    'min_child_samples': hp.quniform('min_child_samples', 10, 300, 10),\n",
        "    'colsample_bytree': hp.uniform('colsample_bytree', 0.3, 1.0),\n",
        "    'subsample': hp.uniform('subsample', 0.3, 1.0),\n",
        "    'min_split_gain': hp.uniform('min_split_gain', 0, 0.7),\n",
        "    'scale_pos_weight': hp.uniform('scale_pos_weight', 1, 10),\n",
        "    'reg_alpha': hp.uniform('reg_alpha', 0, 100),\n",
        "    'reg_lambda': hp.uniform('reg_lambda', 0, 100),\n",
        "    'learning_rate': hp.loguniform('learning_rate', np.log(0.01), np.log(0.5)),\n",
        "}\n",
        "\n",
        "# rstate = np.random.RandomState(42)\n",
        "best_y02 = fmin(fn = objective,\n",
        "            space = space,\n",
        "            algo = tpe.suggest,\n",
        "            max_evals = 30)"
      ]
    },
    {
      "cell_type": "code",
      "source": [
        "dir(best_y02)"
      ],
      "metadata": {
        "colab": {
          "base_uri": "https://localhost:8080/"
        },
        "id": "b1vQscPQ7-nc",
        "outputId": "bc970a80-6d74-4b99-c541-a97123fbb5ef"
      },
      "id": "b1vQscPQ7-nc",
      "execution_count": null,
      "outputs": [
        {
          "output_type": "execute_result",
          "data": {
            "text/plain": [
              "['__class__',\n",
              " '__contains__',\n",
              " '__delattr__',\n",
              " '__delitem__',\n",
              " '__dir__',\n",
              " '__doc__',\n",
              " '__eq__',\n",
              " '__format__',\n",
              " '__ge__',\n",
              " '__getattribute__',\n",
              " '__getitem__',\n",
              " '__gt__',\n",
              " '__hash__',\n",
              " '__init__',\n",
              " '__init_subclass__',\n",
              " '__iter__',\n",
              " '__le__',\n",
              " '__len__',\n",
              " '__lt__',\n",
              " '__ne__',\n",
              " '__new__',\n",
              " '__reduce__',\n",
              " '__reduce_ex__',\n",
              " '__repr__',\n",
              " '__setattr__',\n",
              " '__setitem__',\n",
              " '__sizeof__',\n",
              " '__str__',\n",
              " '__subclasshook__',\n",
              " 'clear',\n",
              " 'copy',\n",
              " 'fromkeys',\n",
              " 'get',\n",
              " 'items',\n",
              " 'keys',\n",
              " 'pop',\n",
              " 'popitem',\n",
              " 'setdefault',\n",
              " 'update',\n",
              " 'values']"
            ]
          },
          "metadata": {},
          "execution_count": 45
        }
      ]
    },
    {
      "cell_type": "code",
      "execution_count": null,
      "metadata": {
        "id": "B4rfY_w77_ko"
      },
      "outputs": [],
      "source": [
        "train_x_for_y03, test_x_for_y03 = train_x[c2], test_x[c2]\n",
        "train_y_03 = train_y['Y_03']"
      ],
      "id": "B4rfY_w77_ko"
    },
    {
      "cell_type": "code",
      "execution_count": null,
      "metadata": {
        "id": "Ez_1YHZF7_kp"
      },
      "outputs": [],
      "source": [
        "def objective(params):\n",
        "\n",
        "    params = {\n",
        "        'n_estimators': int(params['n_estimators']),\n",
        "        'max_depth': int(params['max_depth']),\n",
        "        'num_leaves': int(params['num_leaves']),\n",
        "        'min_child_samples': int(params['min_child_samples']),\n",
        "        'colsample_bytree': '{:.3f}'.format(params['colsample_bytree']),\n",
        "        'subsample': '{:.3f}'.format(params['subsample']),\n",
        "        'min_split_gain': '{:.3f}'.format(params['min_split_gain']),\n",
        "        'scale_pos_weight': '{:.3f}'.format(params['scale_pos_weight']),\n",
        "        'reg_alpha': '{:.3f}'.format(params['reg_alpha']),\n",
        "        'reg_lambda': '{:.3f}'.format(params['reg_lambda']),\n",
        "        'learning_rate': '{:.3f}'.format(params['learning_rate']),\n",
        "        \n",
        "    }\n",
        "    \n",
        "    model = LGBMRegressor(\n",
        "        n_jobs = -1,\n",
        "        random_state = 42,\n",
        "        **params\n",
        "    )\n",
        "    \n",
        "    loss = -cross_val_score(model, train_x_for_y03, train_y_03, cv=10, scoring=make_scorer(rmse, greater_is_better=False)).mean()\n",
        "    print(\"RMSE Loss {:.3f} params {}\".format(loss, params))\n",
        "    return loss"
      ],
      "id": "Ez_1YHZF7_kp"
    },
    {
      "cell_type": "code",
      "execution_count": null,
      "metadata": {
        "colab": {
          "base_uri": "https://localhost:8080/"
        },
        "id": "83JhWG168bQc",
        "outputId": "e994bdc3-3777-427f-a22e-77da1a729ae3"
      },
      "outputs": [
        {
          "output_type": "stream",
          "name": "stdout",
          "text": [
            "RMSE Loss 0.356 params {'n_estimators': 1500, 'max_depth': 16, 'num_leaves': 50, 'min_child_samples': 250, 'colsample_bytree': '0.868', 'subsample': '0.613', 'min_split_gain': '0.275', 'scale_pos_weight': '5.163', 'reg_alpha': '59.031', 'reg_lambda': '55.820', 'learning_rate': '0.119'}\n",
            "RMSE Loss 0.356 params {'n_estimators': 400, 'max_depth': 89, 'num_leaves': 70, 'min_child_samples': 130, 'colsample_bytree': '0.693', 'subsample': '0.557', 'min_split_gain': '0.623', 'scale_pos_weight': '2.249', 'reg_alpha': '39.996', 'reg_lambda': '39.934', 'learning_rate': '0.022'}\n",
            "RMSE Loss 0.356 params {'n_estimators': 350, 'max_depth': 33, 'num_leaves': 40, 'min_child_samples': 240, 'colsample_bytree': '0.577', 'subsample': '0.455', 'min_split_gain': '0.312', 'scale_pos_weight': '8.082', 'reg_alpha': '40.373', 'reg_lambda': '41.326', 'learning_rate': '0.263'}\n",
            "RMSE Loss 0.355 params {'n_estimators': 850, 'max_depth': 59, 'num_leaves': 70, 'min_child_samples': 280, 'colsample_bytree': '0.817', 'subsample': '0.962', 'min_split_gain': '0.245', 'scale_pos_weight': '1.865', 'reg_alpha': '12.073', 'reg_lambda': '14.053', 'learning_rate': '0.015'}\n",
            "RMSE Loss 0.356 params {'n_estimators': 1150, 'max_depth': 68, 'num_leaves': 20, 'min_child_samples': 70, 'colsample_bytree': '0.648', 'subsample': '0.890', 'min_split_gain': '0.231', 'scale_pos_weight': '4.718', 'reg_alpha': '57.752', 'reg_lambda': '72.487', 'learning_rate': '0.055'}\n",
            "RMSE Loss 0.356 params {'n_estimators': 550, 'max_depth': 24, 'num_leaves': 30, 'min_child_samples': 100, 'colsample_bytree': '0.468', 'subsample': '0.992', 'min_split_gain': '0.571', 'scale_pos_weight': '5.213', 'reg_alpha': '37.356', 'reg_lambda': '43.235', 'learning_rate': '0.120'}\n",
            "RMSE Loss 0.357 params {'n_estimators': 500, 'max_depth': 15, 'num_leaves': 50, 'min_child_samples': 180, 'colsample_bytree': '0.633', 'subsample': '0.366', 'min_split_gain': '0.437', 'scale_pos_weight': '3.461', 'reg_alpha': '83.883', 'reg_lambda': '86.801', 'learning_rate': '0.047'}\n",
            "RMSE Loss 0.357 params {'n_estimators': 350, 'max_depth': 21, 'num_leaves': 90, 'min_child_samples': 20, 'colsample_bytree': '0.474', 'subsample': '0.484', 'min_split_gain': '0.317', 'scale_pos_weight': '3.719', 'reg_alpha': '82.032', 'reg_lambda': '84.101', 'learning_rate': '0.063'}\n",
            "RMSE Loss 0.356 params {'n_estimators': 1100, 'max_depth': 33, 'num_leaves': 60, 'min_child_samples': 50, 'colsample_bytree': '0.504', 'subsample': '0.364', 'min_split_gain': '0.584', 'scale_pos_weight': '3.903', 'reg_alpha': '52.359', 'reg_lambda': '39.859', 'learning_rate': '0.026'}\n",
            "RMSE Loss 0.356 params {'n_estimators': 550, 'max_depth': 48, 'num_leaves': 80, 'min_child_samples': 170, 'colsample_bytree': '0.852', 'subsample': '0.435', 'min_split_gain': '0.490', 'scale_pos_weight': '3.819', 'reg_alpha': '18.208', 'reg_lambda': '84.664', 'learning_rate': '0.277'}\n",
            "RMSE Loss 0.356 params {'n_estimators': 1300, 'max_depth': 45, 'num_leaves': 50, 'min_child_samples': 290, 'colsample_bytree': '0.825', 'subsample': '0.348', 'min_split_gain': '0.382', 'scale_pos_weight': '1.378', 'reg_alpha': '39.714', 'reg_lambda': '88.867', 'learning_rate': '0.021'}\n",
            "RMSE Loss 0.356 params {'n_estimators': 1250, 'max_depth': 68, 'num_leaves': 80, 'min_child_samples': 30, 'colsample_bytree': '0.937', 'subsample': '0.634', 'min_split_gain': '0.641', 'scale_pos_weight': '9.203', 'reg_alpha': '16.928', 'reg_lambda': '79.699', 'learning_rate': '0.066'}\n",
            "RMSE Loss 0.356 params {'n_estimators': 350, 'max_depth': 95, 'num_leaves': 30, 'min_child_samples': 120, 'colsample_bytree': '0.843', 'subsample': '0.954', 'min_split_gain': '0.028', 'scale_pos_weight': '8.514', 'reg_alpha': '57.207', 'reg_lambda': '9.688', 'learning_rate': '0.043'}\n",
            "RMSE Loss 0.357 params {'n_estimators': 1050, 'max_depth': 37, 'num_leaves': 30, 'min_child_samples': 20, 'colsample_bytree': '0.647', 'subsample': '0.786', 'min_split_gain': '0.672', 'scale_pos_weight': '6.387', 'reg_alpha': '54.063', 'reg_lambda': '22.730', 'learning_rate': '0.042'}\n",
            "RMSE Loss 0.356 params {'n_estimators': 1350, 'max_depth': 56, 'num_leaves': 90, 'min_child_samples': 50, 'colsample_bytree': '0.864', 'subsample': '0.698', 'min_split_gain': '0.027', 'scale_pos_weight': '4.339', 'reg_alpha': '84.075', 'reg_lambda': '86.067', 'learning_rate': '0.050'}\n",
            "RMSE Loss 0.355 params {'n_estimators': 700, 'max_depth': 28, 'num_leaves': 90, 'min_child_samples': 130, 'colsample_bytree': '0.867', 'subsample': '0.955', 'min_split_gain': '0.365', 'scale_pos_weight': '2.776', 'reg_alpha': '15.759', 'reg_lambda': '44.195', 'learning_rate': '0.012'}\n",
            "RMSE Loss 0.356 params {'n_estimators': 350, 'max_depth': 36, 'num_leaves': 90, 'min_child_samples': 120, 'colsample_bytree': '0.495', 'subsample': '0.725', 'min_split_gain': '0.228', 'scale_pos_weight': '5.430', 'reg_alpha': '62.662', 'reg_lambda': '85.193', 'learning_rate': '0.019'}\n",
            "RMSE Loss 0.357 params {'n_estimators': 500, 'max_depth': 55, 'num_leaves': 90, 'min_child_samples': 140, 'colsample_bytree': '0.420', 'subsample': '0.468', 'min_split_gain': '0.327', 'scale_pos_weight': '5.455', 'reg_alpha': '85.119', 'reg_lambda': '1.800', 'learning_rate': '0.380'}\n",
            "RMSE Loss 0.357 params {'n_estimators': 1350, 'max_depth': 6, 'num_leaves': 40, 'min_child_samples': 160, 'colsample_bytree': '0.882', 'subsample': '0.851', 'min_split_gain': '0.409', 'scale_pos_weight': '5.557', 'reg_alpha': '72.520', 'reg_lambda': '90.087', 'learning_rate': '0.015'}\n",
            "RMSE Loss 0.356 params {'n_estimators': 300, 'max_depth': 39, 'num_leaves': 20, 'min_child_samples': 10, 'colsample_bytree': '0.616', 'subsample': '0.649', 'min_split_gain': '0.422', 'scale_pos_weight': '4.850', 'reg_alpha': '63.093', 'reg_lambda': '42.518', 'learning_rate': '0.106'}\n",
            "RMSE Loss 0.354 params {'n_estimators': 750, 'max_depth': 76, 'num_leaves': 70, 'min_child_samples': 210, 'colsample_bytree': '0.750', 'subsample': '0.921', 'min_split_gain': '0.140', 'scale_pos_weight': '1.165', 'reg_alpha': '2.232', 'reg_lambda': '23.871', 'learning_rate': '0.010'}\n",
            "RMSE Loss 0.354 params {'n_estimators': 900, 'max_depth': 74, 'num_leaves': 70, 'min_child_samples': 210, 'colsample_bytree': '0.730', 'subsample': '0.865', 'min_split_gain': '0.098', 'scale_pos_weight': '1.020', 'reg_alpha': '0.767', 'reg_lambda': '23.271', 'learning_rate': '0.012'}\n",
            "RMSE Loss 0.354 params {'n_estimators': 900, 'max_depth': 82, 'num_leaves': 70, 'min_child_samples': 210, 'colsample_bytree': '0.742', 'subsample': '0.862', 'min_split_gain': '0.129', 'scale_pos_weight': '1.108', 'reg_alpha': '2.194', 'reg_lambda': '29.257', 'learning_rate': '0.010'}\n",
            "RMSE Loss 0.354 params {'n_estimators': 100, 'max_depth': 82, 'num_leaves': 60, 'min_child_samples': 210, 'colsample_bytree': '0.770', 'subsample': '0.817', 'min_split_gain': '0.136', 'scale_pos_weight': '1.003', 'reg_alpha': '0.507', 'reg_lambda': '27.607', 'learning_rate': '0.031'}\n",
            "RMSE Loss 0.357 params {'n_estimators': 700, 'max_depth': 99, 'num_leaves': 80, 'min_child_samples': 200, 'colsample_bytree': '0.964', 'subsample': '0.758', 'min_split_gain': '0.161', 'scale_pos_weight': '2.776', 'reg_alpha': '97.513', 'reg_lambda': '63.249', 'learning_rate': '0.010'}\n",
            "RMSE Loss 0.355 params {'n_estimators': 950, 'max_depth': 84, 'num_leaves': 70, 'min_child_samples': 240, 'colsample_bytree': '0.337', 'subsample': '0.935', 'min_split_gain': '0.088', 'scale_pos_weight': '6.938', 'reg_alpha': '28.072', 'reg_lambda': '29.766', 'learning_rate': '0.031'}\n",
            "RMSE Loss 0.354 params {'n_estimators': 750, 'max_depth': 74, 'num_leaves': 100, 'min_child_samples': 270, 'colsample_bytree': '0.745', 'subsample': '0.895', 'min_split_gain': '0.001', 'scale_pos_weight': '1.642', 'reg_alpha': '7.120', 'reg_lambda': '2.071', 'learning_rate': '0.015'}\n",
            "RMSE Loss 0.355 params {'n_estimators': 1000, 'max_depth': 93, 'num_leaves': 60, 'min_child_samples': 190, 'colsample_bytree': '0.565', 'subsample': '0.816', 'min_split_gain': '0.179', 'scale_pos_weight': '2.659', 'reg_alpha': '30.319', 'reg_lambda': '32.259', 'learning_rate': '0.010'}\n",
            "RMSE Loss 0.355 params {'n_estimators': 800, 'max_depth': 64, 'num_leaves': 50, 'min_child_samples': 260, 'colsample_bytree': '0.699', 'subsample': '0.573', 'min_split_gain': '0.069', 'scale_pos_weight': '1.051', 'reg_alpha': '24.266', 'reg_lambda': '55.051', 'learning_rate': '0.097'}\n",
            "RMSE Loss 0.354 params {'n_estimators': 1500, 'max_depth': 77, 'num_leaves': 100, 'min_child_samples': 230, 'colsample_bytree': '0.798', 'subsample': '0.690', 'min_split_gain': '0.275', 'scale_pos_weight': '2.055', 'reg_alpha': '6.157', 'reg_lambda': '15.830', 'learning_rate': '0.032'}\n",
            "100%|██████████| 30/30 [09:31<00:00, 19.05s/it, best loss: 0.35396054039411357]\n"
          ]
        }
      ],
      "source": [
        "space = {\n",
        "    'n_estimators' : hp.quniform('n_estimators', 100, 1500, 50),\n",
        "    'max_depth': hp.quniform('max_depth', 3, 100, 1),\n",
        "    'num_leaves': hp.quniform('num_leaves', 20, 100, 10),\n",
        "    'min_child_samples': hp.quniform('min_child_samples', 10, 300, 10),\n",
        "    'colsample_bytree': hp.uniform('colsample_bytree', 0.3, 1.0),\n",
        "    'subsample': hp.uniform('subsample', 0.3, 1.0),\n",
        "    'min_split_gain': hp.uniform('min_split_gain', 0, 0.7),\n",
        "    'scale_pos_weight': hp.uniform('scale_pos_weight', 1, 10),\n",
        "    'reg_alpha': hp.uniform('reg_alpha', 0, 100),\n",
        "    'reg_lambda': hp.uniform('reg_lambda', 0, 100),\n",
        "    'learning_rate': hp.loguniform('learning_rate', np.log(0.01), np.log(0.5)),\n",
        "}\n",
        "\n",
        "# rstate = np.random.RandomState(42)\n",
        "best_y03 = fmin(fn = objective,\n",
        "            space = space,\n",
        "            algo = tpe.suggest,\n",
        "            max_evals = 30)"
      ],
      "id": "83JhWG168bQc"
    },
    {
      "cell_type": "code",
      "source": [],
      "metadata": {
        "id": "GocGfmhI8hAj"
      },
      "id": "GocGfmhI8hAj",
      "execution_count": null,
      "outputs": []
    },
    {
      "cell_type": "code",
      "execution_count": null,
      "metadata": {
        "id": "tVeePTQF8CSn"
      },
      "outputs": [],
      "source": [
        "train_x_for_y04, test_x_for_y04 = train_x[c3], test_x[c3]\n",
        "train_y_04 = train_y['Y_04']"
      ],
      "id": "tVeePTQF8CSn"
    },
    {
      "cell_type": "code",
      "execution_count": null,
      "metadata": {
        "id": "4Y1BN-828CSo"
      },
      "outputs": [],
      "source": [
        "def objective(params):\n",
        "\n",
        "    params = {\n",
        "        'n_estimators': int(params['n_estimators']),\n",
        "        'max_depth': int(params['max_depth']),\n",
        "        'num_leaves': int(params['num_leaves']),\n",
        "        'min_child_samples': int(params['min_child_samples']),\n",
        "        'colsample_bytree': '{:.3f}'.format(params['colsample_bytree']),\n",
        "        'subsample': '{:.3f}'.format(params['subsample']),\n",
        "        'min_split_gain': '{:.3f}'.format(params['min_split_gain']),\n",
        "        'scale_pos_weight': '{:.3f}'.format(params['scale_pos_weight']),\n",
        "        'reg_alpha': '{:.3f}'.format(params['reg_alpha']),\n",
        "        'reg_lambda': '{:.3f}'.format(params['reg_lambda']),\n",
        "        'learning_rate': '{:.3f}'.format(params['learning_rate']),\n",
        "        \n",
        "    }\n",
        "    \n",
        "    model = LGBMRegressor(\n",
        "        n_jobs = -1,\n",
        "        random_state = 42,\n",
        "        **params\n",
        "    )\n",
        "    \n",
        "    loss = -cross_val_score(model, train_x_for_y04, train_y_04, cv=10, scoring=make_scorer(rmse, greater_is_better=False)).mean()\n",
        "    print(\"RMSE Loss {:.3f} params {}\".format(loss, params))\n",
        "    return loss"
      ],
      "id": "4Y1BN-828CSo"
    },
    {
      "cell_type": "code",
      "execution_count": null,
      "metadata": {
        "colab": {
          "base_uri": "https://localhost:8080/"
        },
        "id": "cHUUvEcQ8cnW",
        "outputId": "9cf40f2d-5035-403b-b5f9-27d5eaec7e8c"
      },
      "outputs": [
        {
          "output_type": "stream",
          "name": "stdout",
          "text": [
            "RMSE Loss 2.607 params {'n_estimators': 1150, 'max_depth': 25, 'num_leaves': 40, 'min_child_samples': 40, 'colsample_bytree': '0.375', 'subsample': '0.369', 'min_split_gain': '0.217', 'scale_pos_weight': '6.767', 'reg_alpha': '59.174', 'reg_lambda': '12.459', 'learning_rate': '0.015'}\n",
            "RMSE Loss 2.621 params {'n_estimators': 950, 'max_depth': 86, 'num_leaves': 40, 'min_child_samples': 100, 'colsample_bytree': '0.993', 'subsample': '0.933', 'min_split_gain': '0.511', 'scale_pos_weight': '2.980', 'reg_alpha': '80.090', 'reg_lambda': '32.495', 'learning_rate': '0.219'}\n",
            "RMSE Loss 2.631 params {'n_estimators': 1250, 'max_depth': 27, 'num_leaves': 80, 'min_child_samples': 190, 'colsample_bytree': '0.486', 'subsample': '0.731', 'min_split_gain': '0.290', 'scale_pos_weight': '8.847', 'reg_alpha': '91.349', 'reg_lambda': '69.108', 'learning_rate': '0.331'}\n",
            "RMSE Loss 2.609 params {'n_estimators': 500, 'max_depth': 8, 'num_leaves': 40, 'min_child_samples': 210, 'colsample_bytree': '0.707', 'subsample': '0.650', 'min_split_gain': '0.452', 'scale_pos_weight': '3.615', 'reg_alpha': '9.131', 'reg_lambda': '52.013', 'learning_rate': '0.015'}\n",
            "RMSE Loss 2.609 params {'n_estimators': 1050, 'max_depth': 74, 'num_leaves': 60, 'min_child_samples': 20, 'colsample_bytree': '0.310', 'subsample': '0.862', 'min_split_gain': '0.401', 'scale_pos_weight': '3.697', 'reg_alpha': '64.049', 'reg_lambda': '36.185', 'learning_rate': '0.043'}\n",
            "RMSE Loss 2.624 params {'n_estimators': 1250, 'max_depth': 82, 'num_leaves': 20, 'min_child_samples': 270, 'colsample_bytree': '0.734', 'subsample': '0.301', 'min_split_gain': '0.209', 'scale_pos_weight': '1.855', 'reg_alpha': '63.647', 'reg_lambda': '58.433', 'learning_rate': '0.193'}\n",
            "RMSE Loss 2.649 params {'n_estimators': 850, 'max_depth': 65, 'num_leaves': 70, 'min_child_samples': 210, 'colsample_bytree': '0.671', 'subsample': '0.411', 'min_split_gain': '0.477', 'scale_pos_weight': '1.818', 'reg_alpha': '68.385', 'reg_lambda': '97.339', 'learning_rate': '0.442'}\n",
            "RMSE Loss 2.613 params {'n_estimators': 200, 'max_depth': 11, 'num_leaves': 50, 'min_child_samples': 120, 'colsample_bytree': '0.829', 'subsample': '0.389', 'min_split_gain': '0.549', 'scale_pos_weight': '6.400', 'reg_alpha': '38.935', 'reg_lambda': '28.723', 'learning_rate': '0.020'}\n",
            "RMSE Loss 2.610 params {'n_estimators': 700, 'max_depth': 52, 'num_leaves': 40, 'min_child_samples': 40, 'colsample_bytree': '0.892', 'subsample': '0.591', 'min_split_gain': '0.380', 'scale_pos_weight': '5.893', 'reg_alpha': '90.750', 'reg_lambda': '35.260', 'learning_rate': '0.027'}\n",
            "RMSE Loss 2.708 params {'n_estimators': 1250, 'max_depth': 14, 'num_leaves': 90, 'min_child_samples': 120, 'colsample_bytree': '0.885', 'subsample': '0.439', 'min_split_gain': '0.238', 'scale_pos_weight': '8.571', 'reg_alpha': '24.777', 'reg_lambda': '31.063', 'learning_rate': '0.302'}\n",
            "RMSE Loss 2.609 params {'n_estimators': 200, 'max_depth': 33, 'num_leaves': 50, 'min_child_samples': 250, 'colsample_bytree': '0.674', 'subsample': '0.970', 'min_split_gain': '0.251', 'scale_pos_weight': '4.497', 'reg_alpha': '60.659', 'reg_lambda': '14.952', 'learning_rate': '0.050'}\n",
            "RMSE Loss 2.611 params {'n_estimators': 700, 'max_depth': 40, 'num_leaves': 60, 'min_child_samples': 270, 'colsample_bytree': '0.326', 'subsample': '0.440', 'min_split_gain': '0.517', 'scale_pos_weight': '2.555', 'reg_alpha': '61.362', 'reg_lambda': '29.570', 'learning_rate': '0.013'}\n",
            "RMSE Loss 2.612 params {'n_estimators': 1050, 'max_depth': 98, 'num_leaves': 20, 'min_child_samples': 120, 'colsample_bytree': '0.360', 'subsample': '0.359', 'min_split_gain': '0.038', 'scale_pos_weight': '5.302', 'reg_alpha': '28.507', 'reg_lambda': '58.045', 'learning_rate': '0.048'}\n",
            "RMSE Loss 2.715 params {'n_estimators': 200, 'max_depth': 12, 'num_leaves': 90, 'min_child_samples': 240, 'colsample_bytree': '0.803', 'subsample': '0.598', 'min_split_gain': '0.004', 'scale_pos_weight': '7.317', 'reg_alpha': '67.846', 'reg_lambda': '80.138', 'learning_rate': '0.462'}\n",
            "RMSE Loss 2.624 params {'n_estimators': 1250, 'max_depth': 86, 'num_leaves': 50, 'min_child_samples': 150, 'colsample_bytree': '0.927', 'subsample': '0.959', 'min_split_gain': '0.075', 'scale_pos_weight': '7.520', 'reg_alpha': '74.581', 'reg_lambda': '46.123', 'learning_rate': '0.142'}\n",
            "RMSE Loss 2.683 params {'n_estimators': 850, 'max_depth': 43, 'num_leaves': 100, 'min_child_samples': 10, 'colsample_bytree': '0.977', 'subsample': '0.874', 'min_split_gain': '0.660', 'scale_pos_weight': '8.347', 'reg_alpha': '5.467', 'reg_lambda': '81.469', 'learning_rate': '0.250'}\n",
            "RMSE Loss 2.629 params {'n_estimators': 300, 'max_depth': 99, 'num_leaves': 90, 'min_child_samples': 50, 'colsample_bytree': '0.311', 'subsample': '0.972', 'min_split_gain': '0.154', 'scale_pos_weight': '5.009', 'reg_alpha': '81.730', 'reg_lambda': '52.013', 'learning_rate': '0.218'}\n",
            "RMSE Loss 2.608 params {'n_estimators': 250, 'max_depth': 15, 'num_leaves': 60, 'min_child_samples': 160, 'colsample_bytree': '0.449', 'subsample': '0.569', 'min_split_gain': '0.409', 'scale_pos_weight': '3.670', 'reg_alpha': '0.473', 'reg_lambda': '40.157', 'learning_rate': '0.044'}\n",
            "RMSE Loss 2.669 params {'n_estimators': 550, 'max_depth': 32, 'num_leaves': 80, 'min_child_samples': 70, 'colsample_bytree': '0.849', 'subsample': '0.746', 'min_split_gain': '0.428', 'scale_pos_weight': '7.836', 'reg_alpha': '5.291', 'reg_lambda': '37.002', 'learning_rate': '0.139'}\n",
            "RMSE Loss 2.627 params {'n_estimators': 150, 'max_depth': 9, 'num_leaves': 40, 'min_child_samples': 70, 'colsample_bytree': '0.485', 'subsample': '0.464', 'min_split_gain': '0.521', 'scale_pos_weight': '5.950', 'reg_alpha': '69.134', 'reg_lambda': '9.413', 'learning_rate': '0.277'}\n",
            "RMSE Loss 2.612 params {'n_estimators': 1400, 'max_depth': 22, 'num_leaves': 30, 'min_child_samples': 170, 'colsample_bytree': '0.442', 'subsample': '0.526', 'min_split_gain': '0.310', 'scale_pos_weight': '4.137', 'reg_alpha': '49.211', 'reg_lambda': '15.651', 'learning_rate': '0.070'}\n",
            "RMSE Loss 2.609 params {'n_estimators': 1400, 'max_depth': 20, 'num_leaves': 70, 'min_child_samples': 150, 'colsample_bytree': '0.592', 'subsample': '0.527', 'min_split_gain': '0.613', 'scale_pos_weight': '1.109', 'reg_alpha': '49.032', 'reg_lambda': '4.308', 'learning_rate': '0.028'}\n",
            "RMSE Loss 2.615 params {'n_estimators': 400, 'max_depth': 53, 'num_leaves': 30, 'min_child_samples': 90, 'colsample_bytree': '0.573', 'subsample': '0.304', 'min_split_gain': '0.163', 'scale_pos_weight': '6.772', 'reg_alpha': '18.786', 'reg_lambda': '18.114', 'learning_rate': '0.010'}\n",
            "RMSE Loss 2.611 params {'n_estimators': 1100, 'max_depth': 42, 'num_leaves': 70, 'min_child_samples': 170, 'colsample_bytree': '0.400', 'subsample': '0.699', 'min_split_gain': '0.336', 'scale_pos_weight': '9.344', 'reg_alpha': '39.183', 'reg_lambda': '24.232', 'learning_rate': '0.031'}\n",
            "RMSE Loss 2.614 params {'n_estimators': 650, 'max_depth': 4, 'num_leaves': 30, 'min_child_samples': 140, 'colsample_bytree': '0.558', 'subsample': '0.507', 'min_split_gain': '0.083', 'scale_pos_weight': '4.867', 'reg_alpha': '41.520', 'reg_lambda': '43.638', 'learning_rate': '0.078'}\n",
            "RMSE Loss 2.608 params {'n_estimators': 1450, 'max_depth': 20, 'num_leaves': 50, 'min_child_samples': 200, 'colsample_bytree': '0.396', 'subsample': '0.798', 'min_split_gain': '0.160', 'scale_pos_weight': '6.681', 'reg_alpha': '99.831', 'reg_lambda': '0.498', 'learning_rate': '0.017'}\n",
            "RMSE Loss 2.605 params {'n_estimators': 950, 'max_depth': 59, 'num_leaves': 60, 'min_child_samples': 180, 'colsample_bytree': '0.504', 'subsample': '0.349', 'min_split_gain': '0.358', 'scale_pos_weight': '9.990', 'reg_alpha': '16.059', 'reg_lambda': '69.650', 'learning_rate': '0.010'}\n",
            "RMSE Loss 2.607 params {'n_estimators': 1150, 'max_depth': 61, 'num_leaves': 30, 'min_child_samples': 230, 'colsample_bytree': '0.522', 'subsample': '0.356', 'min_split_gain': '0.359', 'scale_pos_weight': '9.787', 'reg_alpha': '16.037', 'reg_lambda': '92.009', 'learning_rate': '0.011'}\n",
            "RMSE Loss 2.607 params {'n_estimators': 950, 'max_depth': 63, 'num_leaves': 40, 'min_child_samples': 100, 'colsample_bytree': '0.626', 'subsample': '0.343', 'min_split_gain': '0.288', 'scale_pos_weight': '9.869', 'reg_alpha': '31.324', 'reg_lambda': '69.992', 'learning_rate': '0.022'}\n",
            "RMSE Loss 2.608 params {'n_estimators': 950, 'max_depth': 70, 'num_leaves': 50, 'min_child_samples': 290, 'colsample_bytree': '0.378', 'subsample': '0.492', 'min_split_gain': '0.585', 'scale_pos_weight': '8.034', 'reg_alpha': '55.129', 'reg_lambda': '85.041', 'learning_rate': '0.012'}\n",
            "100%|██████████| 30/30 [17:54<00:00, 35.82s/it, best loss: 2.6051619313773107]\n"
          ]
        }
      ],
      "source": [
        "space = {\n",
        "    'n_estimators' : hp.quniform('n_estimators', 100, 1500, 50),\n",
        "    'max_depth': hp.quniform('max_depth', 3, 100, 1),\n",
        "    'num_leaves': hp.quniform('num_leaves', 20, 100, 10),\n",
        "    'min_child_samples': hp.quniform('min_child_samples', 10, 300, 10),\n",
        "    'colsample_bytree': hp.uniform('colsample_bytree', 0.3, 1.0),\n",
        "    'subsample': hp.uniform('subsample', 0.3, 1.0),\n",
        "    'min_split_gain': hp.uniform('min_split_gain', 0, 0.7),\n",
        "    'scale_pos_weight': hp.uniform('scale_pos_weight', 1, 10),\n",
        "    'reg_alpha': hp.uniform('reg_alpha', 0, 100),\n",
        "    'reg_lambda': hp.uniform('reg_lambda', 0, 100),\n",
        "    'learning_rate': hp.loguniform('learning_rate', np.log(0.01), np.log(0.5)),\n",
        "}\n",
        "\n",
        "# rstate = np.random.RandomState(42)\n",
        "best_y04 = fmin(fn = objective,\n",
        "            space = space,\n",
        "            algo = tpe.suggest,\n",
        "            max_evals = 30)"
      ],
      "id": "cHUUvEcQ8cnW"
    },
    {
      "cell_type": "code",
      "source": [],
      "metadata": {
        "id": "jxte5RmV8KQQ"
      },
      "id": "jxte5RmV8KQQ",
      "execution_count": null,
      "outputs": []
    },
    {
      "cell_type": "code",
      "execution_count": null,
      "metadata": {
        "id": "7pu_fOK38Kwt"
      },
      "outputs": [],
      "source": [
        "train_x_for_y05, test_x_for_y05 = train_x[c4], test_x[c4]\n",
        "train_y_05 = train_y['Y_05']"
      ],
      "id": "7pu_fOK38Kwt"
    },
    {
      "cell_type": "code",
      "execution_count": null,
      "metadata": {
        "id": "3QUMN1om8Kwu"
      },
      "outputs": [],
      "source": [
        "def objective(params):\n",
        "\n",
        "    params = {\n",
        "        'n_estimators': int(params['n_estimators']),\n",
        "        'max_depth': int(params['max_depth']),\n",
        "        'num_leaves': int(params['num_leaves']),\n",
        "        'min_child_samples': int(params['min_child_samples']),\n",
        "        'colsample_bytree': '{:.3f}'.format(params['colsample_bytree']),\n",
        "        'subsample': '{:.3f}'.format(params['subsample']),\n",
        "        'min_split_gain': '{:.3f}'.format(params['min_split_gain']),\n",
        "        'scale_pos_weight': '{:.3f}'.format(params['scale_pos_weight']),\n",
        "        'reg_alpha': '{:.3f}'.format(params['reg_alpha']),\n",
        "        'reg_lambda': '{:.3f}'.format(params['reg_lambda']),\n",
        "        'learning_rate': '{:.3f}'.format(params['learning_rate']),\n",
        "        \n",
        "    }\n",
        "    \n",
        "    model = LGBMRegressor(\n",
        "        n_jobs = -1,\n",
        "        random_state = 42,\n",
        "        **params\n",
        "    )\n",
        "    \n",
        "    loss = -cross_val_score(model, train_x_for_y05, train_y_05, cv=10, scoring=make_scorer(rmse, greater_is_better=False)).mean()\n",
        "    print(\"RMSE Loss {:.3f} params {}\".format(loss, params))\n",
        "    return loss"
      ],
      "id": "3QUMN1om8Kwu"
    },
    {
      "cell_type": "code",
      "execution_count": null,
      "metadata": {
        "id": "C3FdwDSo8Kwu"
      },
      "outputs": [],
      "source": [
        "space = {\n",
        "    'n_estimators' : hp.quniform('n_estimators', 100, 1500, 50),\n",
        "    'max_depth': hp.quniform('max_depth', 3, 100, 1),\n",
        "    'num_leaves': hp.quniform('num_leaves', 20, 100, 10),\n",
        "    'min_child_samples': hp.quniform('min_child_samples', 10, 300, 10),\n",
        "    'colsample_bytree': hp.uniform('colsample_bytree', 0.3, 1.0),\n",
        "    'subsample': hp.uniform('subsample', 0.3, 1.0),\n",
        "    'min_split_gain': hp.uniform('min_split_gain', 0, 0.7),\n",
        "    'scale_pos_weight': hp.uniform('scale_pos_weight', 1, 10),\n",
        "    'reg_alpha': hp.uniform('reg_alpha', 0, 100),\n",
        "    'reg_lambda': hp.uniform('reg_lambda', 0, 100),\n",
        "    'learning_rate': hp.loguniform('learning_rate', np.log(0.01), np.log(0.5)),\n",
        "}\n",
        "\n",
        "# rstate = np.random.RandomState(42)\n",
        "best_y05 = fmin(fn = objective,\n",
        "            space = space,\n",
        "            algo = tpe.suggest,\n",
        "            max_evals = 30)"
      ],
      "id": "C3FdwDSo8Kwu"
    },
    {
      "cell_type": "code",
      "source": [],
      "metadata": {
        "id": "pNWnYYYg8rBw"
      },
      "execution_count": null,
      "outputs": [],
      "id": "pNWnYYYg8rBw"
    },
    {
      "cell_type": "code",
      "execution_count": null,
      "metadata": {
        "id": "Y0Hm_n318rBx"
      },
      "outputs": [],
      "source": [
        "train_x_for_y06, test_x_for_y06 = train_x[c5], test_x[c5]\n",
        "train_y_06 = train_y['Y_06']"
      ],
      "id": "Y0Hm_n318rBx"
    },
    {
      "cell_type": "code",
      "execution_count": null,
      "metadata": {
        "id": "UAdl2fLI8rBx"
      },
      "outputs": [],
      "source": [
        "def objective(params):\n",
        "\n",
        "    params = {\n",
        "        'n_estimators': int(params['n_estimators']),\n",
        "        'max_depth': int(params['max_depth']),\n",
        "        'num_leaves': int(params['num_leaves']),\n",
        "        'min_child_samples': int(params['min_child_samples']),\n",
        "        'colsample_bytree': '{:.3f}'.format(params['colsample_bytree']),\n",
        "        'subsample': '{:.3f}'.format(params['subsample']),\n",
        "        'min_split_gain': '{:.3f}'.format(params['min_split_gain']),\n",
        "        'scale_pos_weight': '{:.3f}'.format(params['scale_pos_weight']),\n",
        "        'reg_alpha': '{:.3f}'.format(params['reg_alpha']),\n",
        "        'reg_lambda': '{:.3f}'.format(params['reg_lambda']),\n",
        "        'learning_rate': '{:.3f}'.format(params['learning_rate']),\n",
        "        \n",
        "    }\n",
        "    \n",
        "    model = LGBMRegressor(\n",
        "        n_jobs = -1,\n",
        "        random_state = 42,\n",
        "        **params\n",
        "    )\n",
        "    \n",
        "    loss = -cross_val_score(model, train_x_for_y06, train_y_06, cv=10, scoring=make_scorer(rmse, greater_is_better=False)).mean()\n",
        "    print(\"RMSE Loss {:.3f} params {}\".format(loss, params))\n",
        "    return loss"
      ],
      "id": "UAdl2fLI8rBx"
    },
    {
      "cell_type": "code",
      "execution_count": null,
      "metadata": {
        "id": "LTYFCJML8rBx"
      },
      "outputs": [],
      "source": [
        "space = {\n",
        "    'n_estimators' : hp.quniform('n_estimators', 100, 1500, 50),\n",
        "    'max_depth': hp.quniform('max_depth', 3, 100, 1),\n",
        "    'num_leaves': hp.quniform('num_leaves', 20, 100, 10),\n",
        "    'min_child_samples': hp.quniform('min_child_samples', 10, 300, 10),\n",
        "    'colsample_bytree': hp.uniform('colsample_bytree', 0.3, 1.0),\n",
        "    'subsample': hp.uniform('subsample', 0.3, 1.0),\n",
        "    'min_split_gain': hp.uniform('min_split_gain', 0, 0.7),\n",
        "    'scale_pos_weight': hp.uniform('scale_pos_weight', 1, 10),\n",
        "    'reg_alpha': hp.uniform('reg_alpha', 0, 100),\n",
        "    'reg_lambda': hp.uniform('reg_lambda', 0, 100),\n",
        "    'learning_rate': hp.loguniform('learning_rate', np.log(0.01), np.log(0.5)),\n",
        "}\n",
        "\n",
        "# rstate = np.random.RandomState(42)\n",
        "best_y06 = fmin(fn = objective,\n",
        "            space = space,\n",
        "            algo = tpe.suggest,\n",
        "            max_evals = 30)"
      ],
      "id": "LTYFCJML8rBx"
    },
    {
      "cell_type": "code",
      "source": [],
      "metadata": {
        "id": "yCXQG4pW8ri5"
      },
      "execution_count": null,
      "outputs": [],
      "id": "yCXQG4pW8ri5"
    },
    {
      "cell_type": "code",
      "execution_count": null,
      "metadata": {
        "id": "t9eFHn3X8ri6"
      },
      "outputs": [],
      "source": [
        "train_x_for_y07, test_x_for_y07 = train_x[c6], test_x[c6]\n",
        "train_y_07 = train_y['Y_07']"
      ],
      "id": "t9eFHn3X8ri6"
    },
    {
      "cell_type": "code",
      "execution_count": null,
      "metadata": {
        "id": "H64b5oiT8ri6"
      },
      "outputs": [],
      "source": [
        "def objective(params):\n",
        "\n",
        "    params = {\n",
        "        'n_estimators': int(params['n_estimators']),\n",
        "        'max_depth': int(params['max_depth']),\n",
        "        'num_leaves': int(params['num_leaves']),\n",
        "        'min_child_samples': int(params['min_child_samples']),\n",
        "        'colsample_bytree': '{:.3f}'.format(params['colsample_bytree']),\n",
        "        'subsample': '{:.3f}'.format(params['subsample']),\n",
        "        'min_split_gain': '{:.3f}'.format(params['min_split_gain']),\n",
        "        'scale_pos_weight': '{:.3f}'.format(params['scale_pos_weight']),\n",
        "        'reg_alpha': '{:.3f}'.format(params['reg_alpha']),\n",
        "        'reg_lambda': '{:.3f}'.format(params['reg_lambda']),\n",
        "        'learning_rate': '{:.3f}'.format(params['learning_rate']),\n",
        "        \n",
        "    }\n",
        "    \n",
        "    model = LGBMRegressor(\n",
        "        n_jobs = -1,\n",
        "        random_state = 42,\n",
        "        **params\n",
        "    )\n",
        "    \n",
        "    loss = -cross_val_score(model, train_x_for_y07, train_y_07, cv=10, scoring=make_scorer(rmse, greater_is_better=False)).mean()\n",
        "    print(\"RMSE Loss {:.3f} params {}\".format(loss, params))\n",
        "    return loss"
      ],
      "id": "H64b5oiT8ri6"
    },
    {
      "cell_type": "code",
      "execution_count": null,
      "metadata": {
        "id": "XyJraof28ri6"
      },
      "outputs": [],
      "source": [
        "space = {\n",
        "    'n_estimators' : hp.quniform('n_estimators', 100, 1500, 50),\n",
        "    'max_depth': hp.quniform('max_depth', 3, 100, 1),\n",
        "    'num_leaves': hp.quniform('num_leaves', 20, 100, 10),\n",
        "    'min_child_samples': hp.quniform('min_child_samples', 10, 300, 10),\n",
        "    'colsample_bytree': hp.uniform('colsample_bytree', 0.3, 1.0),\n",
        "    'subsample': hp.uniform('subsample', 0.3, 1.0),\n",
        "    'min_split_gain': hp.uniform('min_split_gain', 0, 0.7),\n",
        "    'scale_pos_weight': hp.uniform('scale_pos_weight', 1, 10),\n",
        "    'reg_alpha': hp.uniform('reg_alpha', 0, 100),\n",
        "    'reg_lambda': hp.uniform('reg_lambda', 0, 100),\n",
        "    'learning_rate': hp.loguniform('learning_rate', np.log(0.01), np.log(0.5)),\n",
        "}\n",
        "\n",
        "# rstate = np.random.RandomState(42)\n",
        "best_y07 = fmin(fn = objective,\n",
        "            space = space,\n",
        "            algo = tpe.suggest,\n",
        "            max_evals = 30)"
      ],
      "id": "XyJraof28ri6"
    },
    {
      "cell_type": "code",
      "source": [],
      "metadata": {
        "id": "PPrc2R_O8sGs"
      },
      "execution_count": null,
      "outputs": [],
      "id": "PPrc2R_O8sGs"
    },
    {
      "cell_type": "code",
      "execution_count": null,
      "metadata": {
        "id": "NbQArwDm8sGs"
      },
      "outputs": [],
      "source": [
        "train_x_for_y08, test_x_for_y08 = train_x[c7], test_x[c7]\n",
        "train_y_08 = train_y['Y_08']"
      ],
      "id": "NbQArwDm8sGs"
    },
    {
      "cell_type": "code",
      "execution_count": null,
      "metadata": {
        "id": "JK9sgJzc8sGs"
      },
      "outputs": [],
      "source": [
        "def objective(params):\n",
        "\n",
        "    params = {\n",
        "        'n_estimators': int(params['n_estimators']),\n",
        "        'max_depth': int(params['max_depth']),\n",
        "        'num_leaves': int(params['num_leaves']),\n",
        "        'min_child_samples': int(params['min_child_samples']),\n",
        "        'colsample_bytree': '{:.3f}'.format(params['colsample_bytree']),\n",
        "        'subsample': '{:.3f}'.format(params['subsample']),\n",
        "        'min_split_gain': '{:.3f}'.format(params['min_split_gain']),\n",
        "        'scale_pos_weight': '{:.3f}'.format(params['scale_pos_weight']),\n",
        "        'reg_alpha': '{:.3f}'.format(params['reg_alpha']),\n",
        "        'reg_lambda': '{:.3f}'.format(params['reg_lambda']),\n",
        "        'learning_rate': '{:.3f}'.format(params['learning_rate']),\n",
        "        \n",
        "    }\n",
        "    \n",
        "    model = LGBMRegressor(\n",
        "        n_jobs = -1,\n",
        "        random_state = 42,\n",
        "        **params\n",
        "    )\n",
        "    \n",
        "    loss = -cross_val_score(model, train_x_for_y08, train_y_08, cv=10, scoring=make_scorer(rmse, greater_is_better=False)).mean()\n",
        "    print(\"RMSE Loss {:.3f} params {}\".format(loss, params))\n",
        "    return loss"
      ],
      "id": "JK9sgJzc8sGs"
    },
    {
      "cell_type": "code",
      "execution_count": null,
      "metadata": {
        "id": "4dd-KpK38sGt"
      },
      "outputs": [],
      "source": [
        "space = {\n",
        "    'n_estimators' : hp.quniform('n_estimators', 100, 1500, 50),\n",
        "    'max_depth': hp.quniform('max_depth', 3, 100, 1),\n",
        "    'num_leaves': hp.quniform('num_leaves', 20, 100, 10),\n",
        "    'min_child_samples': hp.quniform('min_child_samples', 10, 300, 10),\n",
        "    'colsample_bytree': hp.uniform('colsample_bytree', 0.3, 1.0),\n",
        "    'subsample': hp.uniform('subsample', 0.3, 1.0),\n",
        "    'min_split_gain': hp.uniform('min_split_gain', 0, 0.7),\n",
        "    'scale_pos_weight': hp.uniform('scale_pos_weight', 1, 10),\n",
        "    'reg_alpha': hp.uniform('reg_alpha', 0, 100),\n",
        "    'reg_lambda': hp.uniform('reg_lambda', 0, 100),\n",
        "    'learning_rate': hp.loguniform('learning_rate', np.log(0.01), np.log(0.5)),\n",
        "}\n",
        "\n",
        "# rstate = np.random.RandomState(42)\n",
        "best_y08 = fmin(fn = objective,\n",
        "            space = space,\n",
        "            algo = tpe.suggest,\n",
        "            max_evals = 30)"
      ],
      "id": "4dd-KpK38sGt"
    },
    {
      "cell_type": "code",
      "source": [],
      "metadata": {
        "id": "zPZLIHXN8shR"
      },
      "execution_count": null,
      "outputs": [],
      "id": "zPZLIHXN8shR"
    },
    {
      "cell_type": "code",
      "execution_count": null,
      "metadata": {
        "id": "F983JLy68shR"
      },
      "outputs": [],
      "source": [
        "train_x_for_y09, test_x_for_y09 = train_x[c8], test_x[c8]\n",
        "train_y_09 = train_y['Y_09']"
      ],
      "id": "F983JLy68shR"
    },
    {
      "cell_type": "code",
      "execution_count": null,
      "metadata": {
        "id": "ntrX6Mx78shR"
      },
      "outputs": [],
      "source": [
        "def objective(params):\n",
        "\n",
        "    params = {\n",
        "        'n_estimators': int(params['n_estimators']),\n",
        "        'max_depth': int(params['max_depth']),\n",
        "        'num_leaves': int(params['num_leaves']),\n",
        "        'min_child_samples': int(params['min_child_samples']),\n",
        "        'colsample_bytree': '{:.3f}'.format(params['colsample_bytree']),\n",
        "        'subsample': '{:.3f}'.format(params['subsample']),\n",
        "        'min_split_gain': '{:.3f}'.format(params['min_split_gain']),\n",
        "        'scale_pos_weight': '{:.3f}'.format(params['scale_pos_weight']),\n",
        "        'reg_alpha': '{:.3f}'.format(params['reg_alpha']),\n",
        "        'reg_lambda': '{:.3f}'.format(params['reg_lambda']),\n",
        "        'learning_rate': '{:.3f}'.format(params['learning_rate']),\n",
        "        \n",
        "    }\n",
        "    \n",
        "    model = LGBMRegressor(\n",
        "        n_jobs = -1,\n",
        "        random_state = 42,\n",
        "        **params\n",
        "    )\n",
        "    \n",
        "    loss = -cross_val_score(model, train_x_for_y09, train_y_09, cv=10, scoring=make_scorer(rmse, greater_is_better=False)).mean()\n",
        "    print(\"RMSE Loss {:.3f} params {}\".format(loss, params))\n",
        "    return loss"
      ],
      "id": "ntrX6Mx78shR"
    },
    {
      "cell_type": "code",
      "execution_count": null,
      "metadata": {
        "id": "3qngK2dH8shS",
        "colab": {
          "base_uri": "https://localhost:8080/",
          "height": 934
        },
        "outputId": "9a5ad49b-6e49-421a-8c86-ba6b25f6cc18"
      },
      "outputs": [
        {
          "output_type": "stream",
          "name": "stdout",
          "text": [
            "RMSE Loss 0.632 params {'n_estimators': 1000, 'max_depth': 84, 'num_leaves': 50, 'min_child_samples': 200, 'colsample_bytree': '0.749', 'subsample': '0.820', 'min_split_gain': '0.644', 'scale_pos_weight': '9.749', 'reg_alpha': '22.972', 'reg_lambda': '6.934', 'learning_rate': '0.024'}\n",
            "RMSE Loss 0.633 params {'n_estimators': 750, 'max_depth': 92, 'num_leaves': 90, 'min_child_samples': 240, 'colsample_bytree': '0.413', 'subsample': '0.764', 'min_split_gain': '0.647', 'scale_pos_weight': '8.257', 'reg_alpha': '56.544', 'reg_lambda': '1.552', 'learning_rate': '0.110'}\n",
            "RMSE Loss 0.640 params {'n_estimators': 1400, 'max_depth': 78, 'num_leaves': 50, 'min_child_samples': 80, 'colsample_bytree': '0.564', 'subsample': '0.488', 'min_split_gain': '0.314', 'scale_pos_weight': '8.521', 'reg_alpha': '0.365', 'reg_lambda': '42.150', 'learning_rate': '0.440'}\n",
            "RMSE Loss 0.634 params {'n_estimators': 1450, 'max_depth': 8, 'num_leaves': 50, 'min_child_samples': 260, 'colsample_bytree': '0.626', 'subsample': '0.597', 'min_split_gain': '0.160', 'scale_pos_weight': '5.252', 'reg_alpha': '45.299', 'reg_lambda': '41.607', 'learning_rate': '0.448'}\n",
            "RMSE Loss 0.631 params {'n_estimators': 700, 'max_depth': 23, 'num_leaves': 50, 'min_child_samples': 250, 'colsample_bytree': '0.472', 'subsample': '0.432', 'min_split_gain': '0.142', 'scale_pos_weight': '3.425', 'reg_alpha': '17.875', 'reg_lambda': '98.015', 'learning_rate': '0.032'}\n",
            "RMSE Loss 0.632 params {'n_estimators': 1450, 'max_depth': 47, 'num_leaves': 80, 'min_child_samples': 170, 'colsample_bytree': '0.545', 'subsample': '0.751', 'min_split_gain': '0.368', 'scale_pos_weight': '5.067', 'reg_alpha': '31.790', 'reg_lambda': '3.682', 'learning_rate': '0.017'}\n",
            "RMSE Loss 0.633 params {'n_estimators': 1250, 'max_depth': 80, 'num_leaves': 90, 'min_child_samples': 230, 'colsample_bytree': '0.879', 'subsample': '0.739', 'min_split_gain': '0.600', 'scale_pos_weight': '6.719', 'reg_alpha': '53.621', 'reg_lambda': '72.999', 'learning_rate': '0.017'}\n",
            "RMSE Loss 0.634 params {'n_estimators': 250, 'max_depth': 86, 'num_leaves': 70, 'min_child_samples': 200, 'colsample_bytree': '0.688', 'subsample': '0.864', 'min_split_gain': '0.627', 'scale_pos_weight': '5.241', 'reg_alpha': '70.403', 'reg_lambda': '6.539', 'learning_rate': '0.122'}\n",
            "RMSE Loss 0.634 params {'n_estimators': 100, 'max_depth': 80, 'num_leaves': 50, 'min_child_samples': 190, 'colsample_bytree': '0.803', 'subsample': '0.773', 'min_split_gain': '0.458', 'scale_pos_weight': '4.700', 'reg_alpha': '26.313', 'reg_lambda': '37.473', 'learning_rate': '0.486'}\n",
            "RMSE Loss 0.634 params {'n_estimators': 1350, 'max_depth': 94, 'num_leaves': 50, 'min_child_samples': 240, 'colsample_bytree': '0.389', 'subsample': '0.781', 'min_split_gain': '0.646', 'scale_pos_weight': '7.440', 'reg_alpha': '82.695', 'reg_lambda': '81.642', 'learning_rate': '0.074'}\n",
            "RMSE Loss 0.634 params {'n_estimators': 1450, 'max_depth': 11, 'num_leaves': 30, 'min_child_samples': 110, 'colsample_bytree': '0.671', 'subsample': '0.990', 'min_split_gain': '0.446', 'scale_pos_weight': '8.674', 'reg_alpha': '83.762', 'reg_lambda': '81.126', 'learning_rate': '0.023'}\n",
            "RMSE Loss 0.634 params {'n_estimators': 1000, 'max_depth': 92, 'num_leaves': 60, 'min_child_samples': 240, 'colsample_bytree': '0.979', 'subsample': '0.440', 'min_split_gain': '0.544', 'scale_pos_weight': '8.355', 'reg_alpha': '80.649', 'reg_lambda': '95.316', 'learning_rate': '0.047'}\n",
            "RMSE Loss 0.633 params {'n_estimators': 400, 'max_depth': 69, 'num_leaves': 70, 'min_child_samples': 100, 'colsample_bytree': '0.863', 'subsample': '0.444', 'min_split_gain': '0.326', 'scale_pos_weight': '1.742', 'reg_alpha': '63.346', 'reg_lambda': '26.820', 'learning_rate': '0.103'}\n",
            "RMSE Loss 0.634 params {'n_estimators': 550, 'max_depth': 32, 'num_leaves': 20, 'min_child_samples': 150, 'colsample_bytree': '0.377', 'subsample': '0.686', 'min_split_gain': '0.292', 'scale_pos_weight': '6.635', 'reg_alpha': '68.124', 'reg_lambda': '6.885', 'learning_rate': '0.206'}\n",
            "RMSE Loss 0.631 params {'n_estimators': 500, 'max_depth': 6, 'num_leaves': 80, 'min_child_samples': 30, 'colsample_bytree': '0.850', 'subsample': '0.748', 'min_split_gain': '0.135', 'scale_pos_weight': '3.844', 'reg_alpha': '10.266', 'reg_lambda': '84.581', 'learning_rate': '0.013'}\n",
            "RMSE Loss 0.633 params {'n_estimators': 1200, 'max_depth': 23, 'num_leaves': 60, 'min_child_samples': 100, 'colsample_bytree': '0.847', 'subsample': '0.635', 'min_split_gain': '0.540', 'scale_pos_weight': '8.110', 'reg_alpha': '35.928', 'reg_lambda': '54.392', 'learning_rate': '0.236'}\n",
            "RMSE Loss 0.633 params {'n_estimators': 850, 'max_depth': 14, 'num_leaves': 60, 'min_child_samples': 110, 'colsample_bytree': '0.373', 'subsample': '0.391', 'min_split_gain': '0.447', 'scale_pos_weight': '5.954', 'reg_alpha': '60.564', 'reg_lambda': '4.803', 'learning_rate': '0.027'}\n",
            "RMSE Loss 0.634 params {'n_estimators': 950, 'max_depth': 17, 'num_leaves': 20, 'min_child_samples': 160, 'colsample_bytree': '0.320', 'subsample': '0.430', 'min_split_gain': '0.239', 'scale_pos_weight': '6.227', 'reg_alpha': '84.121', 'reg_lambda': '41.704', 'learning_rate': '0.303'}\n",
            "RMSE Loss 0.634 params {'n_estimators': 1350, 'max_depth': 52, 'num_leaves': 40, 'min_child_samples': 20, 'colsample_bytree': '0.901', 'subsample': '0.586', 'min_split_gain': '0.471', 'scale_pos_weight': '1.564', 'reg_alpha': '96.721', 'reg_lambda': '40.174', 'learning_rate': '0.096'}\n",
            "RMSE Loss 0.633 params {'n_estimators': 150, 'max_depth': 61, 'num_leaves': 70, 'min_child_samples': 110, 'colsample_bytree': '0.451', 'subsample': '0.867', 'min_split_gain': '0.589', 'scale_pos_weight': '3.602', 'reg_alpha': '42.651', 'reg_lambda': '30.978', 'learning_rate': '0.031'}\n",
            "RMSE Loss 0.631 params {'n_estimators': 600, 'max_depth': 33, 'num_leaves': 80, 'min_child_samples': 30, 'colsample_bytree': '0.986', 'subsample': '0.538', 'min_split_gain': '0.032', 'scale_pos_weight': '2.914', 'reg_alpha': '0.455', 'reg_lambda': '97.617', 'learning_rate': '0.010'}\n",
            "RMSE Loss 0.631 params {'n_estimators': 550, 'max_depth': 38, 'num_leaves': 100, 'min_child_samples': 10, 'colsample_bytree': '0.996', 'subsample': '0.530', 'min_split_gain': '0.010', 'scale_pos_weight': '2.803', 'reg_alpha': '1.312', 'reg_lambda': '62.856', 'learning_rate': '0.010'}\n",
            "RMSE Loss 0.631 params {'n_estimators': 600, 'max_depth': 39, 'num_leaves': 100, 'min_child_samples': 50, 'colsample_bytree': '0.999', 'subsample': '0.318', 'min_split_gain': '0.001', 'scale_pos_weight': '2.510', 'reg_alpha': '1.456', 'reg_lambda': '63.524', 'learning_rate': '0.011'}\n",
            "RMSE Loss 0.631 params {'n_estimators': 350, 'max_depth': 35, 'num_leaves': 100, 'min_child_samples': 290, 'colsample_bytree': '0.952', 'subsample': '0.515', 'min_split_gain': '0.001', 'scale_pos_weight': '2.349', 'reg_alpha': '9.586', 'reg_lambda': '66.620', 'learning_rate': '0.010'}\n",
            "RMSE Loss 0.632 params {'n_estimators': 650, 'max_depth': 48, 'num_leaves': 90, 'min_child_samples': 50, 'colsample_bytree': '0.933', 'subsample': '0.337', 'min_split_gain': '0.083', 'scale_pos_weight': '1.187', 'reg_alpha': '8.521', 'reg_lambda': '91.682', 'learning_rate': '0.051'}\n",
            "RMSE Loss 0.631 params {'n_estimators': 450, 'max_depth': 59, 'num_leaves': 80, 'min_child_samples': 60, 'colsample_bytree': '0.776', 'subsample': '0.538', 'min_split_gain': '0.055', 'scale_pos_weight': '2.620', 'reg_alpha': '15.565', 'reg_lambda': '57.193', 'learning_rate': '0.016'}\n",
            "RMSE Loss 0.631 params {'n_estimators': 300, 'max_depth': 41, 'num_leaves': 100, 'min_child_samples': 20, 'colsample_bytree': '0.987', 'subsample': '0.665', 'min_split_gain': '0.209', 'scale_pos_weight': '3.947', 'reg_alpha': '0.702', 'reg_lambda': '17.414', 'learning_rate': '0.010'}\n",
            "RMSE Loss 0.632 params {'n_estimators': 250, 'max_depth': 25, 'num_leaves': 90, 'min_child_samples': 140, 'colsample_bytree': '0.724', 'subsample': '0.671', 'min_split_gain': '0.211', 'scale_pos_weight': '4.219', 'reg_alpha': '33.659', 'reg_lambda': '20.471', 'learning_rate': '0.040'}\n",
            "RMSE Loss 0.631 params {'n_estimators': 300, 'max_depth': 31, 'num_leaves': 80, 'min_child_samples': 70, 'colsample_bytree': '0.803', 'subsample': '0.929', 'min_split_gain': '0.079', 'scale_pos_weight': '4.348', 'reg_alpha': '23.274', 'reg_lambda': '16.588', 'learning_rate': '0.024'}\n",
            " 10%|▉         | 29/300 [10:43<1:40:08, 22.17s/it, best loss: 0.6306872454394876]\n"
          ]
        },
        {
          "output_type": "error",
          "ename": "KeyboardInterrupt",
          "evalue": "ignored",
          "traceback": [
            "\u001b[0;31m---------------------------------------------------------------------------\u001b[0m",
            "\u001b[0;31mKeyboardInterrupt\u001b[0m                         Traceback (most recent call last)",
            "\u001b[0;32m<ipython-input-23-1b859eabe990>\u001b[0m in \u001b[0;36m<module>\u001b[0;34m()\u001b[0m\n\u001b[1;32m     17\u001b[0m             \u001b[0mspace\u001b[0m \u001b[0;34m=\u001b[0m \u001b[0mspace\u001b[0m\u001b[0;34m,\u001b[0m\u001b[0;34m\u001b[0m\u001b[0;34m\u001b[0m\u001b[0m\n\u001b[1;32m     18\u001b[0m             \u001b[0malgo\u001b[0m \u001b[0;34m=\u001b[0m \u001b[0mtpe\u001b[0m\u001b[0;34m.\u001b[0m\u001b[0msuggest\u001b[0m\u001b[0;34m,\u001b[0m\u001b[0;34m\u001b[0m\u001b[0;34m\u001b[0m\u001b[0m\n\u001b[0;32m---> 19\u001b[0;31m             max_evals = 300)\n\u001b[0m",
            "\u001b[0;32m/usr/local/lib/python3.7/dist-packages/hyperopt/fmin.py\u001b[0m in \u001b[0;36mfmin\u001b[0;34m(fn, space, algo, max_evals, trials, rstate, allow_trials_fmin, pass_expr_memo_ctrl, catch_eval_exceptions, verbose, return_argmin, points_to_evaluate, max_queue_len, show_progressbar)\u001b[0m\n\u001b[1;32m    405\u001b[0m                     show_progressbar=show_progressbar)\n\u001b[1;32m    406\u001b[0m     \u001b[0mrval\u001b[0m\u001b[0;34m.\u001b[0m\u001b[0mcatch_eval_exceptions\u001b[0m \u001b[0;34m=\u001b[0m \u001b[0mcatch_eval_exceptions\u001b[0m\u001b[0;34m\u001b[0m\u001b[0;34m\u001b[0m\u001b[0m\n\u001b[0;32m--> 407\u001b[0;31m     \u001b[0mrval\u001b[0m\u001b[0;34m.\u001b[0m\u001b[0mexhaust\u001b[0m\u001b[0;34m(\u001b[0m\u001b[0;34m)\u001b[0m\u001b[0;34m\u001b[0m\u001b[0;34m\u001b[0m\u001b[0m\n\u001b[0m\u001b[1;32m    408\u001b[0m     \u001b[0;32mif\u001b[0m \u001b[0mreturn_argmin\u001b[0m\u001b[0;34m:\u001b[0m\u001b[0;34m\u001b[0m\u001b[0;34m\u001b[0m\u001b[0m\n\u001b[1;32m    409\u001b[0m         \u001b[0;32mreturn\u001b[0m \u001b[0mtrials\u001b[0m\u001b[0;34m.\u001b[0m\u001b[0margmin\u001b[0m\u001b[0;34m\u001b[0m\u001b[0;34m\u001b[0m\u001b[0m\n",
            "\u001b[0;32m/usr/local/lib/python3.7/dist-packages/hyperopt/fmin.py\u001b[0m in \u001b[0;36mexhaust\u001b[0;34m(self)\u001b[0m\n\u001b[1;32m    260\u001b[0m     \u001b[0;32mdef\u001b[0m \u001b[0mexhaust\u001b[0m\u001b[0;34m(\u001b[0m\u001b[0mself\u001b[0m\u001b[0;34m)\u001b[0m\u001b[0;34m:\u001b[0m\u001b[0;34m\u001b[0m\u001b[0;34m\u001b[0m\u001b[0m\n\u001b[1;32m    261\u001b[0m         \u001b[0mn_done\u001b[0m \u001b[0;34m=\u001b[0m \u001b[0mlen\u001b[0m\u001b[0;34m(\u001b[0m\u001b[0mself\u001b[0m\u001b[0;34m.\u001b[0m\u001b[0mtrials\u001b[0m\u001b[0;34m)\u001b[0m\u001b[0;34m\u001b[0m\u001b[0;34m\u001b[0m\u001b[0m\n\u001b[0;32m--> 262\u001b[0;31m         \u001b[0mself\u001b[0m\u001b[0;34m.\u001b[0m\u001b[0mrun\u001b[0m\u001b[0;34m(\u001b[0m\u001b[0mself\u001b[0m\u001b[0;34m.\u001b[0m\u001b[0mmax_evals\u001b[0m \u001b[0;34m-\u001b[0m \u001b[0mn_done\u001b[0m\u001b[0;34m,\u001b[0m \u001b[0mblock_until_done\u001b[0m\u001b[0;34m=\u001b[0m\u001b[0mself\u001b[0m\u001b[0;34m.\u001b[0m\u001b[0masynchronous\u001b[0m\u001b[0;34m)\u001b[0m\u001b[0;34m\u001b[0m\u001b[0;34m\u001b[0m\u001b[0m\n\u001b[0m\u001b[1;32m    263\u001b[0m         \u001b[0mself\u001b[0m\u001b[0;34m.\u001b[0m\u001b[0mtrials\u001b[0m\u001b[0;34m.\u001b[0m\u001b[0mrefresh\u001b[0m\u001b[0;34m(\u001b[0m\u001b[0;34m)\u001b[0m\u001b[0;34m\u001b[0m\u001b[0;34m\u001b[0m\u001b[0m\n\u001b[1;32m    264\u001b[0m         \u001b[0;32mreturn\u001b[0m \u001b[0mself\u001b[0m\u001b[0;34m\u001b[0m\u001b[0;34m\u001b[0m\u001b[0m\n",
            "\u001b[0;32m/usr/local/lib/python3.7/dist-packages/hyperopt/fmin.py\u001b[0m in \u001b[0;36mrun\u001b[0;34m(self, N, block_until_done)\u001b[0m\n\u001b[1;32m    225\u001b[0m                     \u001b[0;32melse\u001b[0m\u001b[0;34m:\u001b[0m\u001b[0;34m\u001b[0m\u001b[0;34m\u001b[0m\u001b[0m\n\u001b[1;32m    226\u001b[0m                         \u001b[0;31m# -- loop over trials and do the jobs directly\u001b[0m\u001b[0;34m\u001b[0m\u001b[0;34m\u001b[0m\u001b[0;34m\u001b[0m\u001b[0m\n\u001b[0;32m--> 227\u001b[0;31m                         \u001b[0mself\u001b[0m\u001b[0;34m.\u001b[0m\u001b[0mserial_evaluate\u001b[0m\u001b[0;34m(\u001b[0m\u001b[0;34m)\u001b[0m\u001b[0;34m\u001b[0m\u001b[0;34m\u001b[0m\u001b[0m\n\u001b[0m\u001b[1;32m    228\u001b[0m \u001b[0;34m\u001b[0m\u001b[0m\n\u001b[1;32m    229\u001b[0m                     \u001b[0;32mtry\u001b[0m\u001b[0;34m:\u001b[0m\u001b[0;34m\u001b[0m\u001b[0;34m\u001b[0m\u001b[0m\n",
            "\u001b[0;32m/usr/local/lib/python3.7/dist-packages/hyperopt/fmin.py\u001b[0m in \u001b[0;36mserial_evaluate\u001b[0;34m(self, N)\u001b[0m\n\u001b[1;32m    139\u001b[0m                 \u001b[0mctrl\u001b[0m \u001b[0;34m=\u001b[0m \u001b[0mbase\u001b[0m\u001b[0;34m.\u001b[0m\u001b[0mCtrl\u001b[0m\u001b[0;34m(\u001b[0m\u001b[0mself\u001b[0m\u001b[0;34m.\u001b[0m\u001b[0mtrials\u001b[0m\u001b[0;34m,\u001b[0m \u001b[0mcurrent_trial\u001b[0m\u001b[0;34m=\u001b[0m\u001b[0mtrial\u001b[0m\u001b[0;34m)\u001b[0m\u001b[0;34m\u001b[0m\u001b[0;34m\u001b[0m\u001b[0m\n\u001b[1;32m    140\u001b[0m                 \u001b[0;32mtry\u001b[0m\u001b[0;34m:\u001b[0m\u001b[0;34m\u001b[0m\u001b[0;34m\u001b[0m\u001b[0m\n\u001b[0;32m--> 141\u001b[0;31m                     \u001b[0mresult\u001b[0m \u001b[0;34m=\u001b[0m \u001b[0mself\u001b[0m\u001b[0;34m.\u001b[0m\u001b[0mdomain\u001b[0m\u001b[0;34m.\u001b[0m\u001b[0mevaluate\u001b[0m\u001b[0;34m(\u001b[0m\u001b[0mspec\u001b[0m\u001b[0;34m,\u001b[0m \u001b[0mctrl\u001b[0m\u001b[0;34m)\u001b[0m\u001b[0;34m\u001b[0m\u001b[0;34m\u001b[0m\u001b[0m\n\u001b[0m\u001b[1;32m    142\u001b[0m                 \u001b[0;32mexcept\u001b[0m \u001b[0mException\u001b[0m \u001b[0;32mas\u001b[0m \u001b[0me\u001b[0m\u001b[0;34m:\u001b[0m\u001b[0;34m\u001b[0m\u001b[0;34m\u001b[0m\u001b[0m\n\u001b[1;32m    143\u001b[0m                     \u001b[0mlogger\u001b[0m\u001b[0;34m.\u001b[0m\u001b[0minfo\u001b[0m\u001b[0;34m(\u001b[0m\u001b[0;34m'job exception: %s'\u001b[0m \u001b[0;34m%\u001b[0m \u001b[0mstr\u001b[0m\u001b[0;34m(\u001b[0m\u001b[0me\u001b[0m\u001b[0;34m)\u001b[0m\u001b[0;34m)\u001b[0m\u001b[0;34m\u001b[0m\u001b[0;34m\u001b[0m\u001b[0m\n",
            "\u001b[0;32m/usr/local/lib/python3.7/dist-packages/hyperopt/base.py\u001b[0m in \u001b[0;36mevaluate\u001b[0;34m(self, config, ctrl, attach_attachments)\u001b[0m\n\u001b[1;32m    842\u001b[0m                 \u001b[0mmemo\u001b[0m\u001b[0;34m=\u001b[0m\u001b[0mmemo\u001b[0m\u001b[0;34m,\u001b[0m\u001b[0;34m\u001b[0m\u001b[0;34m\u001b[0m\u001b[0m\n\u001b[1;32m    843\u001b[0m                 print_node_on_error=self.rec_eval_print_node_on_error)\n\u001b[0;32m--> 844\u001b[0;31m             \u001b[0mrval\u001b[0m \u001b[0;34m=\u001b[0m \u001b[0mself\u001b[0m\u001b[0;34m.\u001b[0m\u001b[0mfn\u001b[0m\u001b[0;34m(\u001b[0m\u001b[0mpyll_rval\u001b[0m\u001b[0;34m)\u001b[0m\u001b[0;34m\u001b[0m\u001b[0;34m\u001b[0m\u001b[0m\n\u001b[0m\u001b[1;32m    845\u001b[0m \u001b[0;34m\u001b[0m\u001b[0m\n\u001b[1;32m    846\u001b[0m         \u001b[0;32mif\u001b[0m \u001b[0misinstance\u001b[0m\u001b[0;34m(\u001b[0m\u001b[0mrval\u001b[0m\u001b[0;34m,\u001b[0m \u001b[0;34m(\u001b[0m\u001b[0mfloat\u001b[0m\u001b[0;34m,\u001b[0m \u001b[0mint\u001b[0m\u001b[0;34m,\u001b[0m \u001b[0mnp\u001b[0m\u001b[0;34m.\u001b[0m\u001b[0mnumber\u001b[0m\u001b[0;34m)\u001b[0m\u001b[0;34m)\u001b[0m\u001b[0;34m:\u001b[0m\u001b[0;34m\u001b[0m\u001b[0;34m\u001b[0m\u001b[0m\n",
            "\u001b[0;32m<ipython-input-21-8cf77615898f>\u001b[0m in \u001b[0;36mobjective\u001b[0;34m(params)\u001b[0m\n\u001b[1;32m     22\u001b[0m     )\n\u001b[1;32m     23\u001b[0m \u001b[0;34m\u001b[0m\u001b[0m\n\u001b[0;32m---> 24\u001b[0;31m     \u001b[0mloss\u001b[0m \u001b[0;34m=\u001b[0m \u001b[0;34m-\u001b[0m\u001b[0mcross_val_score\u001b[0m\u001b[0;34m(\u001b[0m\u001b[0mmodel\u001b[0m\u001b[0;34m,\u001b[0m \u001b[0mtrain_x_for_y09\u001b[0m\u001b[0;34m,\u001b[0m \u001b[0mtrain_y_09\u001b[0m\u001b[0;34m,\u001b[0m \u001b[0mcv\u001b[0m\u001b[0;34m=\u001b[0m\u001b[0;36m10\u001b[0m\u001b[0;34m,\u001b[0m \u001b[0mscoring\u001b[0m\u001b[0;34m=\u001b[0m\u001b[0mmake_scorer\u001b[0m\u001b[0;34m(\u001b[0m\u001b[0mrmse\u001b[0m\u001b[0;34m,\u001b[0m \u001b[0mgreater_is_better\u001b[0m\u001b[0;34m=\u001b[0m\u001b[0;32mFalse\u001b[0m\u001b[0;34m)\u001b[0m\u001b[0;34m)\u001b[0m\u001b[0;34m.\u001b[0m\u001b[0mmean\u001b[0m\u001b[0;34m(\u001b[0m\u001b[0;34m)\u001b[0m\u001b[0;34m\u001b[0m\u001b[0;34m\u001b[0m\u001b[0m\n\u001b[0m\u001b[1;32m     25\u001b[0m     \u001b[0mprint\u001b[0m\u001b[0;34m(\u001b[0m\u001b[0;34m\"RMSE Loss {:.3f} params {}\"\u001b[0m\u001b[0;34m.\u001b[0m\u001b[0mformat\u001b[0m\u001b[0;34m(\u001b[0m\u001b[0mloss\u001b[0m\u001b[0;34m,\u001b[0m \u001b[0mparams\u001b[0m\u001b[0;34m)\u001b[0m\u001b[0;34m)\u001b[0m\u001b[0;34m\u001b[0m\u001b[0;34m\u001b[0m\u001b[0m\n\u001b[1;32m     26\u001b[0m     \u001b[0;32mreturn\u001b[0m \u001b[0mloss\u001b[0m\u001b[0;34m\u001b[0m\u001b[0;34m\u001b[0m\u001b[0m\n",
            "\u001b[0;32m/usr/local/lib/python3.7/dist-packages/sklearn/model_selection/_validation.py\u001b[0m in \u001b[0;36mcross_val_score\u001b[0;34m(estimator, X, y, groups, scoring, cv, n_jobs, verbose, fit_params, pre_dispatch, error_score)\u001b[0m\n\u001b[1;32m    518\u001b[0m         \u001b[0mfit_params\u001b[0m\u001b[0;34m=\u001b[0m\u001b[0mfit_params\u001b[0m\u001b[0;34m,\u001b[0m\u001b[0;34m\u001b[0m\u001b[0;34m\u001b[0m\u001b[0m\n\u001b[1;32m    519\u001b[0m         \u001b[0mpre_dispatch\u001b[0m\u001b[0;34m=\u001b[0m\u001b[0mpre_dispatch\u001b[0m\u001b[0;34m,\u001b[0m\u001b[0;34m\u001b[0m\u001b[0;34m\u001b[0m\u001b[0m\n\u001b[0;32m--> 520\u001b[0;31m         \u001b[0merror_score\u001b[0m\u001b[0;34m=\u001b[0m\u001b[0merror_score\u001b[0m\u001b[0;34m,\u001b[0m\u001b[0;34m\u001b[0m\u001b[0;34m\u001b[0m\u001b[0m\n\u001b[0m\u001b[1;32m    521\u001b[0m     )\n\u001b[1;32m    522\u001b[0m     \u001b[0;32mreturn\u001b[0m \u001b[0mcv_results\u001b[0m\u001b[0;34m[\u001b[0m\u001b[0;34m\"test_score\"\u001b[0m\u001b[0;34m]\u001b[0m\u001b[0;34m\u001b[0m\u001b[0;34m\u001b[0m\u001b[0m\n",
            "\u001b[0;32m/usr/local/lib/python3.7/dist-packages/sklearn/model_selection/_validation.py\u001b[0m in \u001b[0;36mcross_validate\u001b[0;34m(estimator, X, y, groups, scoring, cv, n_jobs, verbose, fit_params, pre_dispatch, return_train_score, return_estimator, error_score)\u001b[0m\n\u001b[1;32m    281\u001b[0m             \u001b[0merror_score\u001b[0m\u001b[0;34m=\u001b[0m\u001b[0merror_score\u001b[0m\u001b[0;34m,\u001b[0m\u001b[0;34m\u001b[0m\u001b[0;34m\u001b[0m\u001b[0m\n\u001b[1;32m    282\u001b[0m         )\n\u001b[0;32m--> 283\u001b[0;31m         \u001b[0;32mfor\u001b[0m \u001b[0mtrain\u001b[0m\u001b[0;34m,\u001b[0m \u001b[0mtest\u001b[0m \u001b[0;32min\u001b[0m \u001b[0mcv\u001b[0m\u001b[0;34m.\u001b[0m\u001b[0msplit\u001b[0m\u001b[0;34m(\u001b[0m\u001b[0mX\u001b[0m\u001b[0;34m,\u001b[0m \u001b[0my\u001b[0m\u001b[0;34m,\u001b[0m \u001b[0mgroups\u001b[0m\u001b[0;34m)\u001b[0m\u001b[0;34m\u001b[0m\u001b[0;34m\u001b[0m\u001b[0m\n\u001b[0m\u001b[1;32m    284\u001b[0m     )\n\u001b[1;32m    285\u001b[0m \u001b[0;34m\u001b[0m\u001b[0m\n",
            "\u001b[0;32m/usr/local/lib/python3.7/dist-packages/joblib/parallel.py\u001b[0m in \u001b[0;36m__call__\u001b[0;34m(self, iterable)\u001b[0m\n\u001b[1;32m   1044\u001b[0m                 \u001b[0mself\u001b[0m\u001b[0;34m.\u001b[0m\u001b[0m_iterating\u001b[0m \u001b[0;34m=\u001b[0m \u001b[0mself\u001b[0m\u001b[0;34m.\u001b[0m\u001b[0m_original_iterator\u001b[0m \u001b[0;32mis\u001b[0m \u001b[0;32mnot\u001b[0m \u001b[0;32mNone\u001b[0m\u001b[0;34m\u001b[0m\u001b[0;34m\u001b[0m\u001b[0m\n\u001b[1;32m   1045\u001b[0m \u001b[0;34m\u001b[0m\u001b[0m\n\u001b[0;32m-> 1046\u001b[0;31m             \u001b[0;32mwhile\u001b[0m \u001b[0mself\u001b[0m\u001b[0;34m.\u001b[0m\u001b[0mdispatch_one_batch\u001b[0m\u001b[0;34m(\u001b[0m\u001b[0miterator\u001b[0m\u001b[0;34m)\u001b[0m\u001b[0;34m:\u001b[0m\u001b[0;34m\u001b[0m\u001b[0;34m\u001b[0m\u001b[0m\n\u001b[0m\u001b[1;32m   1047\u001b[0m                 \u001b[0;32mpass\u001b[0m\u001b[0;34m\u001b[0m\u001b[0;34m\u001b[0m\u001b[0m\n\u001b[1;32m   1048\u001b[0m \u001b[0;34m\u001b[0m\u001b[0m\n",
            "\u001b[0;32m/usr/local/lib/python3.7/dist-packages/joblib/parallel.py\u001b[0m in \u001b[0;36mdispatch_one_batch\u001b[0;34m(self, iterator)\u001b[0m\n\u001b[1;32m    859\u001b[0m                 \u001b[0;32mreturn\u001b[0m \u001b[0;32mFalse\u001b[0m\u001b[0;34m\u001b[0m\u001b[0;34m\u001b[0m\u001b[0m\n\u001b[1;32m    860\u001b[0m             \u001b[0;32melse\u001b[0m\u001b[0;34m:\u001b[0m\u001b[0;34m\u001b[0m\u001b[0;34m\u001b[0m\u001b[0m\n\u001b[0;32m--> 861\u001b[0;31m                 \u001b[0mself\u001b[0m\u001b[0;34m.\u001b[0m\u001b[0m_dispatch\u001b[0m\u001b[0;34m(\u001b[0m\u001b[0mtasks\u001b[0m\u001b[0;34m)\u001b[0m\u001b[0;34m\u001b[0m\u001b[0;34m\u001b[0m\u001b[0m\n\u001b[0m\u001b[1;32m    862\u001b[0m                 \u001b[0;32mreturn\u001b[0m \u001b[0;32mTrue\u001b[0m\u001b[0;34m\u001b[0m\u001b[0;34m\u001b[0m\u001b[0m\n\u001b[1;32m    863\u001b[0m \u001b[0;34m\u001b[0m\u001b[0m\n",
            "\u001b[0;32m/usr/local/lib/python3.7/dist-packages/joblib/parallel.py\u001b[0m in \u001b[0;36m_dispatch\u001b[0;34m(self, batch)\u001b[0m\n\u001b[1;32m    777\u001b[0m         \u001b[0;32mwith\u001b[0m \u001b[0mself\u001b[0m\u001b[0;34m.\u001b[0m\u001b[0m_lock\u001b[0m\u001b[0;34m:\u001b[0m\u001b[0;34m\u001b[0m\u001b[0;34m\u001b[0m\u001b[0m\n\u001b[1;32m    778\u001b[0m             \u001b[0mjob_idx\u001b[0m \u001b[0;34m=\u001b[0m \u001b[0mlen\u001b[0m\u001b[0;34m(\u001b[0m\u001b[0mself\u001b[0m\u001b[0;34m.\u001b[0m\u001b[0m_jobs\u001b[0m\u001b[0;34m)\u001b[0m\u001b[0;34m\u001b[0m\u001b[0;34m\u001b[0m\u001b[0m\n\u001b[0;32m--> 779\u001b[0;31m             \u001b[0mjob\u001b[0m \u001b[0;34m=\u001b[0m \u001b[0mself\u001b[0m\u001b[0;34m.\u001b[0m\u001b[0m_backend\u001b[0m\u001b[0;34m.\u001b[0m\u001b[0mapply_async\u001b[0m\u001b[0;34m(\u001b[0m\u001b[0mbatch\u001b[0m\u001b[0;34m,\u001b[0m \u001b[0mcallback\u001b[0m\u001b[0;34m=\u001b[0m\u001b[0mcb\u001b[0m\u001b[0;34m)\u001b[0m\u001b[0;34m\u001b[0m\u001b[0;34m\u001b[0m\u001b[0m\n\u001b[0m\u001b[1;32m    780\u001b[0m             \u001b[0;31m# A job can complete so quickly than its callback is\u001b[0m\u001b[0;34m\u001b[0m\u001b[0;34m\u001b[0m\u001b[0;34m\u001b[0m\u001b[0m\n\u001b[1;32m    781\u001b[0m             \u001b[0;31m# called before we get here, causing self._jobs to\u001b[0m\u001b[0;34m\u001b[0m\u001b[0;34m\u001b[0m\u001b[0;34m\u001b[0m\u001b[0m\n",
            "\u001b[0;32m/usr/local/lib/python3.7/dist-packages/joblib/_parallel_backends.py\u001b[0m in \u001b[0;36mapply_async\u001b[0;34m(self, func, callback)\u001b[0m\n\u001b[1;32m    206\u001b[0m     \u001b[0;32mdef\u001b[0m \u001b[0mapply_async\u001b[0m\u001b[0;34m(\u001b[0m\u001b[0mself\u001b[0m\u001b[0;34m,\u001b[0m \u001b[0mfunc\u001b[0m\u001b[0;34m,\u001b[0m \u001b[0mcallback\u001b[0m\u001b[0;34m=\u001b[0m\u001b[0;32mNone\u001b[0m\u001b[0;34m)\u001b[0m\u001b[0;34m:\u001b[0m\u001b[0;34m\u001b[0m\u001b[0;34m\u001b[0m\u001b[0m\n\u001b[1;32m    207\u001b[0m         \u001b[0;34m\"\"\"Schedule a func to be run\"\"\"\u001b[0m\u001b[0;34m\u001b[0m\u001b[0;34m\u001b[0m\u001b[0m\n\u001b[0;32m--> 208\u001b[0;31m         \u001b[0mresult\u001b[0m \u001b[0;34m=\u001b[0m \u001b[0mImmediateResult\u001b[0m\u001b[0;34m(\u001b[0m\u001b[0mfunc\u001b[0m\u001b[0;34m)\u001b[0m\u001b[0;34m\u001b[0m\u001b[0;34m\u001b[0m\u001b[0m\n\u001b[0m\u001b[1;32m    209\u001b[0m         \u001b[0;32mif\u001b[0m \u001b[0mcallback\u001b[0m\u001b[0;34m:\u001b[0m\u001b[0;34m\u001b[0m\u001b[0;34m\u001b[0m\u001b[0m\n\u001b[1;32m    210\u001b[0m             \u001b[0mcallback\u001b[0m\u001b[0;34m(\u001b[0m\u001b[0mresult\u001b[0m\u001b[0;34m)\u001b[0m\u001b[0;34m\u001b[0m\u001b[0;34m\u001b[0m\u001b[0m\n",
            "\u001b[0;32m/usr/local/lib/python3.7/dist-packages/joblib/_parallel_backends.py\u001b[0m in \u001b[0;36m__init__\u001b[0;34m(self, batch)\u001b[0m\n\u001b[1;32m    570\u001b[0m         \u001b[0;31m# Don't delay the application, to avoid keeping the input\u001b[0m\u001b[0;34m\u001b[0m\u001b[0;34m\u001b[0m\u001b[0;34m\u001b[0m\u001b[0m\n\u001b[1;32m    571\u001b[0m         \u001b[0;31m# arguments in memory\u001b[0m\u001b[0;34m\u001b[0m\u001b[0;34m\u001b[0m\u001b[0;34m\u001b[0m\u001b[0m\n\u001b[0;32m--> 572\u001b[0;31m         \u001b[0mself\u001b[0m\u001b[0;34m.\u001b[0m\u001b[0mresults\u001b[0m \u001b[0;34m=\u001b[0m \u001b[0mbatch\u001b[0m\u001b[0;34m(\u001b[0m\u001b[0;34m)\u001b[0m\u001b[0;34m\u001b[0m\u001b[0;34m\u001b[0m\u001b[0m\n\u001b[0m\u001b[1;32m    573\u001b[0m \u001b[0;34m\u001b[0m\u001b[0m\n\u001b[1;32m    574\u001b[0m     \u001b[0;32mdef\u001b[0m \u001b[0mget\u001b[0m\u001b[0;34m(\u001b[0m\u001b[0mself\u001b[0m\u001b[0;34m)\u001b[0m\u001b[0;34m:\u001b[0m\u001b[0;34m\u001b[0m\u001b[0;34m\u001b[0m\u001b[0m\n",
            "\u001b[0;32m/usr/local/lib/python3.7/dist-packages/joblib/parallel.py\u001b[0m in \u001b[0;36m__call__\u001b[0;34m(self)\u001b[0m\n\u001b[1;32m    261\u001b[0m         \u001b[0;32mwith\u001b[0m \u001b[0mparallel_backend\u001b[0m\u001b[0;34m(\u001b[0m\u001b[0mself\u001b[0m\u001b[0;34m.\u001b[0m\u001b[0m_backend\u001b[0m\u001b[0;34m,\u001b[0m \u001b[0mn_jobs\u001b[0m\u001b[0;34m=\u001b[0m\u001b[0mself\u001b[0m\u001b[0;34m.\u001b[0m\u001b[0m_n_jobs\u001b[0m\u001b[0;34m)\u001b[0m\u001b[0;34m:\u001b[0m\u001b[0;34m\u001b[0m\u001b[0;34m\u001b[0m\u001b[0m\n\u001b[1;32m    262\u001b[0m             return [func(*args, **kwargs)\n\u001b[0;32m--> 263\u001b[0;31m                     for func, args, kwargs in self.items]\n\u001b[0m\u001b[1;32m    264\u001b[0m \u001b[0;34m\u001b[0m\u001b[0m\n\u001b[1;32m    265\u001b[0m     \u001b[0;32mdef\u001b[0m \u001b[0m__reduce__\u001b[0m\u001b[0;34m(\u001b[0m\u001b[0mself\u001b[0m\u001b[0;34m)\u001b[0m\u001b[0;34m:\u001b[0m\u001b[0;34m\u001b[0m\u001b[0;34m\u001b[0m\u001b[0m\n",
            "\u001b[0;32m/usr/local/lib/python3.7/dist-packages/joblib/parallel.py\u001b[0m in \u001b[0;36m<listcomp>\u001b[0;34m(.0)\u001b[0m\n\u001b[1;32m    261\u001b[0m         \u001b[0;32mwith\u001b[0m \u001b[0mparallel_backend\u001b[0m\u001b[0;34m(\u001b[0m\u001b[0mself\u001b[0m\u001b[0;34m.\u001b[0m\u001b[0m_backend\u001b[0m\u001b[0;34m,\u001b[0m \u001b[0mn_jobs\u001b[0m\u001b[0;34m=\u001b[0m\u001b[0mself\u001b[0m\u001b[0;34m.\u001b[0m\u001b[0m_n_jobs\u001b[0m\u001b[0;34m)\u001b[0m\u001b[0;34m:\u001b[0m\u001b[0;34m\u001b[0m\u001b[0;34m\u001b[0m\u001b[0m\n\u001b[1;32m    262\u001b[0m             return [func(*args, **kwargs)\n\u001b[0;32m--> 263\u001b[0;31m                     for func, args, kwargs in self.items]\n\u001b[0m\u001b[1;32m    264\u001b[0m \u001b[0;34m\u001b[0m\u001b[0m\n\u001b[1;32m    265\u001b[0m     \u001b[0;32mdef\u001b[0m \u001b[0m__reduce__\u001b[0m\u001b[0;34m(\u001b[0m\u001b[0mself\u001b[0m\u001b[0;34m)\u001b[0m\u001b[0;34m:\u001b[0m\u001b[0;34m\u001b[0m\u001b[0;34m\u001b[0m\u001b[0m\n",
            "\u001b[0;32m/usr/local/lib/python3.7/dist-packages/sklearn/utils/fixes.py\u001b[0m in \u001b[0;36m__call__\u001b[0;34m(self, *args, **kwargs)\u001b[0m\n\u001b[1;32m    214\u001b[0m     \u001b[0;32mdef\u001b[0m \u001b[0m__call__\u001b[0m\u001b[0;34m(\u001b[0m\u001b[0mself\u001b[0m\u001b[0;34m,\u001b[0m \u001b[0;34m*\u001b[0m\u001b[0margs\u001b[0m\u001b[0;34m,\u001b[0m \u001b[0;34m**\u001b[0m\u001b[0mkwargs\u001b[0m\u001b[0;34m)\u001b[0m\u001b[0;34m:\u001b[0m\u001b[0;34m\u001b[0m\u001b[0;34m\u001b[0m\u001b[0m\n\u001b[1;32m    215\u001b[0m         \u001b[0;32mwith\u001b[0m \u001b[0mconfig_context\u001b[0m\u001b[0;34m(\u001b[0m\u001b[0;34m**\u001b[0m\u001b[0mself\u001b[0m\u001b[0;34m.\u001b[0m\u001b[0mconfig\u001b[0m\u001b[0;34m)\u001b[0m\u001b[0;34m:\u001b[0m\u001b[0;34m\u001b[0m\u001b[0;34m\u001b[0m\u001b[0m\n\u001b[0;32m--> 216\u001b[0;31m             \u001b[0;32mreturn\u001b[0m \u001b[0mself\u001b[0m\u001b[0;34m.\u001b[0m\u001b[0mfunction\u001b[0m\u001b[0;34m(\u001b[0m\u001b[0;34m*\u001b[0m\u001b[0margs\u001b[0m\u001b[0;34m,\u001b[0m \u001b[0;34m**\u001b[0m\u001b[0mkwargs\u001b[0m\u001b[0;34m)\u001b[0m\u001b[0;34m\u001b[0m\u001b[0;34m\u001b[0m\u001b[0m\n\u001b[0m\u001b[1;32m    217\u001b[0m \u001b[0;34m\u001b[0m\u001b[0m\n\u001b[1;32m    218\u001b[0m \u001b[0;34m\u001b[0m\u001b[0m\n",
            "\u001b[0;32m/usr/local/lib/python3.7/dist-packages/sklearn/model_selection/_validation.py\u001b[0m in \u001b[0;36m_fit_and_score\u001b[0;34m(estimator, X, y, scorer, train, test, verbose, parameters, fit_params, return_train_score, return_parameters, return_n_test_samples, return_times, return_estimator, split_progress, candidate_progress, error_score)\u001b[0m\n\u001b[1;32m    678\u001b[0m             \u001b[0mestimator\u001b[0m\u001b[0;34m.\u001b[0m\u001b[0mfit\u001b[0m\u001b[0;34m(\u001b[0m\u001b[0mX_train\u001b[0m\u001b[0;34m,\u001b[0m \u001b[0;34m**\u001b[0m\u001b[0mfit_params\u001b[0m\u001b[0;34m)\u001b[0m\u001b[0;34m\u001b[0m\u001b[0;34m\u001b[0m\u001b[0m\n\u001b[1;32m    679\u001b[0m         \u001b[0;32melse\u001b[0m\u001b[0;34m:\u001b[0m\u001b[0;34m\u001b[0m\u001b[0;34m\u001b[0m\u001b[0m\n\u001b[0;32m--> 680\u001b[0;31m             \u001b[0mestimator\u001b[0m\u001b[0;34m.\u001b[0m\u001b[0mfit\u001b[0m\u001b[0;34m(\u001b[0m\u001b[0mX_train\u001b[0m\u001b[0;34m,\u001b[0m \u001b[0my_train\u001b[0m\u001b[0;34m,\u001b[0m \u001b[0;34m**\u001b[0m\u001b[0mfit_params\u001b[0m\u001b[0;34m)\u001b[0m\u001b[0;34m\u001b[0m\u001b[0;34m\u001b[0m\u001b[0m\n\u001b[0m\u001b[1;32m    681\u001b[0m \u001b[0;34m\u001b[0m\u001b[0m\n\u001b[1;32m    682\u001b[0m     \u001b[0;32mexcept\u001b[0m \u001b[0mException\u001b[0m\u001b[0;34m:\u001b[0m\u001b[0;34m\u001b[0m\u001b[0;34m\u001b[0m\u001b[0m\n",
            "\u001b[0;32m/usr/local/lib/python3.7/dist-packages/lightgbm/sklearn.py\u001b[0m in \u001b[0;36mfit\u001b[0;34m(self, X, y, sample_weight, init_score, eval_set, eval_names, eval_sample_weight, eval_init_score, eval_metric, early_stopping_rounds, verbose, feature_name, categorical_feature, callbacks)\u001b[0m\n\u001b[1;32m    683\u001b[0m                                        \u001b[0mverbose\u001b[0m\u001b[0;34m=\u001b[0m\u001b[0mverbose\u001b[0m\u001b[0;34m,\u001b[0m \u001b[0mfeature_name\u001b[0m\u001b[0;34m=\u001b[0m\u001b[0mfeature_name\u001b[0m\u001b[0;34m,\u001b[0m\u001b[0;34m\u001b[0m\u001b[0;34m\u001b[0m\u001b[0m\n\u001b[1;32m    684\u001b[0m                                        \u001b[0mcategorical_feature\u001b[0m\u001b[0;34m=\u001b[0m\u001b[0mcategorical_feature\u001b[0m\u001b[0;34m,\u001b[0m\u001b[0;34m\u001b[0m\u001b[0;34m\u001b[0m\u001b[0m\n\u001b[0;32m--> 685\u001b[0;31m                                        callbacks=callbacks)\n\u001b[0m\u001b[1;32m    686\u001b[0m         \u001b[0;32mreturn\u001b[0m \u001b[0mself\u001b[0m\u001b[0;34m\u001b[0m\u001b[0;34m\u001b[0m\u001b[0m\n\u001b[1;32m    687\u001b[0m \u001b[0;34m\u001b[0m\u001b[0m\n",
            "\u001b[0;32m/usr/local/lib/python3.7/dist-packages/lightgbm/sklearn.py\u001b[0m in \u001b[0;36mfit\u001b[0;34m(self, X, y, sample_weight, init_score, group, eval_set, eval_names, eval_sample_weight, eval_class_weight, eval_init_score, eval_group, eval_metric, early_stopping_rounds, verbose, feature_name, categorical_feature, callbacks)\u001b[0m\n\u001b[1;32m    542\u001b[0m                               \u001b[0mverbose_eval\u001b[0m\u001b[0;34m=\u001b[0m\u001b[0mverbose\u001b[0m\u001b[0;34m,\u001b[0m \u001b[0mfeature_name\u001b[0m\u001b[0;34m=\u001b[0m\u001b[0mfeature_name\u001b[0m\u001b[0;34m,\u001b[0m\u001b[0;34m\u001b[0m\u001b[0;34m\u001b[0m\u001b[0m\n\u001b[1;32m    543\u001b[0m                               \u001b[0mcategorical_feature\u001b[0m\u001b[0;34m=\u001b[0m\u001b[0mcategorical_feature\u001b[0m\u001b[0;34m,\u001b[0m\u001b[0;34m\u001b[0m\u001b[0;34m\u001b[0m\u001b[0m\n\u001b[0;32m--> 544\u001b[0;31m                               callbacks=callbacks)\n\u001b[0m\u001b[1;32m    545\u001b[0m \u001b[0;34m\u001b[0m\u001b[0m\n\u001b[1;32m    546\u001b[0m         \u001b[0;32mif\u001b[0m \u001b[0mevals_result\u001b[0m\u001b[0;34m:\u001b[0m\u001b[0;34m\u001b[0m\u001b[0;34m\u001b[0m\u001b[0m\n",
            "\u001b[0;32m/usr/local/lib/python3.7/dist-packages/lightgbm/engine.py\u001b[0m in \u001b[0;36mtrain\u001b[0;34m(params, train_set, num_boost_round, valid_sets, valid_names, fobj, feval, init_model, feature_name, categorical_feature, early_stopping_rounds, evals_result, verbose_eval, learning_rates, keep_training_booster, callbacks)\u001b[0m\n\u001b[1;32m    240\u001b[0m         \u001b[0mbooster\u001b[0m\u001b[0;34m.\u001b[0m\u001b[0mbest_score\u001b[0m\u001b[0;34m[\u001b[0m\u001b[0mdataset_name\u001b[0m\u001b[0;34m]\u001b[0m\u001b[0;34m[\u001b[0m\u001b[0meval_name\u001b[0m\u001b[0;34m]\u001b[0m \u001b[0;34m=\u001b[0m \u001b[0mscore\u001b[0m\u001b[0;34m\u001b[0m\u001b[0;34m\u001b[0m\u001b[0m\n\u001b[1;32m    241\u001b[0m     \u001b[0;32mif\u001b[0m \u001b[0;32mnot\u001b[0m \u001b[0mkeep_training_booster\u001b[0m\u001b[0;34m:\u001b[0m\u001b[0;34m\u001b[0m\u001b[0;34m\u001b[0m\u001b[0m\n\u001b[0;32m--> 242\u001b[0;31m         \u001b[0mbooster\u001b[0m\u001b[0;34m.\u001b[0m\u001b[0mmodel_from_string\u001b[0m\u001b[0;34m(\u001b[0m\u001b[0mbooster\u001b[0m\u001b[0;34m.\u001b[0m\u001b[0mmodel_to_string\u001b[0m\u001b[0;34m(\u001b[0m\u001b[0;34m)\u001b[0m\u001b[0;34m,\u001b[0m \u001b[0;32mFalse\u001b[0m\u001b[0;34m)\u001b[0m\u001b[0;34m.\u001b[0m\u001b[0mfree_dataset\u001b[0m\u001b[0;34m(\u001b[0m\u001b[0;34m)\u001b[0m\u001b[0;34m\u001b[0m\u001b[0;34m\u001b[0m\u001b[0m\n\u001b[0m\u001b[1;32m    243\u001b[0m     \u001b[0;32mreturn\u001b[0m \u001b[0mbooster\u001b[0m\u001b[0;34m\u001b[0m\u001b[0;34m\u001b[0m\u001b[0m\n\u001b[1;32m    244\u001b[0m \u001b[0;34m\u001b[0m\u001b[0m\n",
            "\u001b[0;32m/usr/local/lib/python3.7/dist-packages/lightgbm/basic.py\u001b[0m in \u001b[0;36mmodel_to_string\u001b[0;34m(self, num_iteration, start_iteration)\u001b[0m\n\u001b[1;32m   2104\u001b[0m                 \u001b[0mctypes\u001b[0m\u001b[0;34m.\u001b[0m\u001b[0mc_int64\u001b[0m\u001b[0;34m(\u001b[0m\u001b[0mactual_len\u001b[0m\u001b[0;34m)\u001b[0m\u001b[0;34m,\u001b[0m\u001b[0;34m\u001b[0m\u001b[0;34m\u001b[0m\u001b[0m\n\u001b[1;32m   2105\u001b[0m                 \u001b[0mctypes\u001b[0m\u001b[0;34m.\u001b[0m\u001b[0mbyref\u001b[0m\u001b[0;34m(\u001b[0m\u001b[0mtmp_out_len\u001b[0m\u001b[0;34m)\u001b[0m\u001b[0;34m,\u001b[0m\u001b[0;34m\u001b[0m\u001b[0;34m\u001b[0m\u001b[0m\n\u001b[0;32m-> 2106\u001b[0;31m                 ptr_string_buffer))\n\u001b[0m\u001b[1;32m   2107\u001b[0m         \u001b[0mret\u001b[0m \u001b[0;34m=\u001b[0m \u001b[0mstring_buffer\u001b[0m\u001b[0;34m.\u001b[0m\u001b[0mvalue\u001b[0m\u001b[0;34m.\u001b[0m\u001b[0mdecode\u001b[0m\u001b[0;34m(\u001b[0m\u001b[0;34m)\u001b[0m\u001b[0;34m\u001b[0m\u001b[0;34m\u001b[0m\u001b[0m\n\u001b[1;32m   2108\u001b[0m         \u001b[0mret\u001b[0m \u001b[0;34m+=\u001b[0m \u001b[0m_dump_pandas_categorical\u001b[0m\u001b[0;34m(\u001b[0m\u001b[0mself\u001b[0m\u001b[0;34m.\u001b[0m\u001b[0mpandas_categorical\u001b[0m\u001b[0;34m)\u001b[0m\u001b[0;34m\u001b[0m\u001b[0;34m\u001b[0m\u001b[0m\n",
            "\u001b[0;31mKeyboardInterrupt\u001b[0m: "
          ]
        }
      ],
      "source": [
        "space = {\n",
        "    'n_estimators' : hp.quniform('n_estimators', 100, 1500, 50),\n",
        "    'max_depth': hp.quniform('max_depth', 3, 100, 1),\n",
        "    'num_leaves': hp.quniform('num_leaves', 20, 100, 10),\n",
        "    'min_child_samples': hp.quniform('min_child_samples', 10, 300, 10),\n",
        "    'colsample_bytree': hp.uniform('colsample_bytree', 0.3, 1.0),\n",
        "    'subsample': hp.uniform('subsample', 0.3, 1.0),\n",
        "    'min_split_gain': hp.uniform('min_split_gain', 0, 0.7),\n",
        "    'scale_pos_weight': hp.uniform('scale_pos_weight', 1, 10),\n",
        "    'reg_alpha': hp.uniform('reg_alpha', 0, 100),\n",
        "    'reg_lambda': hp.uniform('reg_lambda', 0, 100),\n",
        "    'learning_rate': hp.loguniform('learning_rate', np.log(0.01), np.log(0.5)),\n",
        "}\n",
        "\n",
        "# rstate = np.random.RandomState(42)\n",
        "best_y09 = fmin(fn = objective,\n",
        "            space = space,\n",
        "            algo = tpe.suggest,\n",
        "            max_evals = 300)"
      ],
      "id": "3qngK2dH8shS"
    },
    {
      "cell_type": "code",
      "source": [],
      "metadata": {
        "id": "aa0bzWy-8s8l"
      },
      "execution_count": null,
      "outputs": [],
      "id": "aa0bzWy-8s8l"
    },
    {
      "cell_type": "code",
      "execution_count": null,
      "metadata": {
        "id": "6JnV3_rf8s8l"
      },
      "outputs": [],
      "source": [
        "train_x_for_y10, test_x_for_y10 = train_x[c9], test_x[c9]\n",
        "train_y_10 = train_y['Y_10']"
      ],
      "id": "6JnV3_rf8s8l"
    },
    {
      "cell_type": "code",
      "execution_count": null,
      "metadata": {
        "id": "cZQaV8EC8s8l"
      },
      "outputs": [],
      "source": [
        "def objective(params):\n",
        "\n",
        "    params = {\n",
        "        'n_estimators': int(params['n_estimators']),\n",
        "        'max_depth': int(params['max_depth']),\n",
        "        'num_leaves': int(params['num_leaves']),\n",
        "        'min_child_samples': int(params['min_child_samples']),\n",
        "        'colsample_bytree': '{:.3f}'.format(params['colsample_bytree']),\n",
        "        'subsample': '{:.3f}'.format(params['subsample']),\n",
        "        'min_split_gain': '{:.3f}'.format(params['min_split_gain']),\n",
        "        'scale_pos_weight': '{:.3f}'.format(params['scale_pos_weight']),\n",
        "        'reg_alpha': '{:.3f}'.format(params['reg_alpha']),\n",
        "        'reg_lambda': '{:.3f}'.format(params['reg_lambda']),\n",
        "        'learning_rate': '{:.3f}'.format(params['learning_rate']),\n",
        "        \n",
        "    }\n",
        "    \n",
        "    model = LGBMRegressor(\n",
        "        n_jobs = -1,\n",
        "        random_state = 42,\n",
        "        **params\n",
        "    )\n",
        "    \n",
        "    loss = -cross_val_score(model, train_x_for_y10, train_y_10, cv=10, scoring=make_scorer(rmse, greater_is_better=False)).mean()\n",
        "    print(\"RMSE Loss {:.3f} params {}\".format(loss, params))\n",
        "    return loss"
      ],
      "id": "cZQaV8EC8s8l"
    },
    {
      "cell_type": "code",
      "execution_count": null,
      "metadata": {
        "id": "ubI7wNDZ8s8l",
        "colab": {
          "base_uri": "https://localhost:8080/"
        },
        "outputId": "02f4db06-cfec-4e0b-a53d-93975162e00c"
      },
      "outputs": [
        {
          "output_type": "stream",
          "name": "stdout",
          "text": [
            "RMSE Loss 0.868 params {'n_estimators': 1150, 'max_depth': 30, 'num_leaves': 90, 'min_child_samples': 70, 'colsample_bytree': '0.351', 'subsample': '0.906', 'min_split_gain': '0.410', 'scale_pos_weight': '3.181', 'reg_alpha': '48.766', 'reg_lambda': '73.623', 'learning_rate': '0.014'}\n",
            "RMSE Loss 0.858 params {'n_estimators': 300, 'max_depth': 59, 'num_leaves': 60, 'min_child_samples': 70, 'colsample_bytree': '0.700', 'subsample': '0.347', 'min_split_gain': '0.607', 'scale_pos_weight': '6.645', 'reg_alpha': '9.376', 'reg_lambda': '22.040', 'learning_rate': '0.039'}\n",
            "RMSE Loss 0.868 params {'n_estimators': 600, 'max_depth': 22, 'num_leaves': 90, 'min_child_samples': 60, 'colsample_bytree': '0.779', 'subsample': '0.351', 'min_split_gain': '0.131', 'scale_pos_weight': '2.901', 'reg_alpha': '75.942', 'reg_lambda': '37.190', 'learning_rate': '0.231'}\n",
            "RMSE Loss 0.864 params {'n_estimators': 1050, 'max_depth': 96, 'num_leaves': 50, 'min_child_samples': 190, 'colsample_bytree': '0.629', 'subsample': '0.756', 'min_split_gain': '0.370', 'scale_pos_weight': '8.196', 'reg_alpha': '27.264', 'reg_lambda': '46.299', 'learning_rate': '0.053'}\n",
            "RMSE Loss 0.864 params {'n_estimators': 900, 'max_depth': 29, 'num_leaves': 50, 'min_child_samples': 40, 'colsample_bytree': '0.426', 'subsample': '0.820', 'min_split_gain': '0.519', 'scale_pos_weight': '6.040', 'reg_alpha': '21.822', 'reg_lambda': '38.177', 'learning_rate': '0.075'}\n",
            "RMSE Loss 0.864 params {'n_estimators': 1000, 'max_depth': 39, 'num_leaves': 30, 'min_child_samples': 40, 'colsample_bytree': '0.616', 'subsample': '0.395', 'min_split_gain': '0.265', 'scale_pos_weight': '9.222', 'reg_alpha': '17.524', 'reg_lambda': '60.690', 'learning_rate': '0.383'}\n",
            "RMSE Loss 0.872 params {'n_estimators': 550, 'max_depth': 56, 'num_leaves': 30, 'min_child_samples': 60, 'colsample_bytree': '0.750', 'subsample': '0.422', 'min_split_gain': '0.578', 'scale_pos_weight': '7.300', 'reg_alpha': '83.065', 'reg_lambda': '85.935', 'learning_rate': '0.389'}\n",
            "RMSE Loss 0.860 params {'n_estimators': 550, 'max_depth': 85, 'num_leaves': 30, 'min_child_samples': 260, 'colsample_bytree': '0.629', 'subsample': '0.964', 'min_split_gain': '0.313', 'scale_pos_weight': '3.013', 'reg_alpha': '11.750', 'reg_lambda': '99.630', 'learning_rate': '0.024'}\n",
            "RMSE Loss 0.860 params {'n_estimators': 200, 'max_depth': 36, 'num_leaves': 50, 'min_child_samples': 60, 'colsample_bytree': '0.769', 'subsample': '0.551', 'min_split_gain': '0.032', 'scale_pos_weight': '5.031', 'reg_alpha': '37.411', 'reg_lambda': '62.744', 'learning_rate': '0.063'}\n",
            "RMSE Loss 0.869 params {'n_estimators': 1050, 'max_depth': 62, 'num_leaves': 40, 'min_child_samples': 270, 'colsample_bytree': '0.769', 'subsample': '0.930', 'min_split_gain': '0.654', 'scale_pos_weight': '7.605', 'reg_alpha': '59.561', 'reg_lambda': '98.763', 'learning_rate': '0.072'}\n",
            "RMSE Loss 0.865 params {'n_estimators': 900, 'max_depth': 14, 'num_leaves': 100, 'min_child_samples': 210, 'colsample_bytree': '0.306', 'subsample': '0.360', 'min_split_gain': '0.439', 'scale_pos_weight': '1.994', 'reg_alpha': '22.754', 'reg_lambda': '37.931', 'learning_rate': '0.039'}\n",
            "RMSE Loss 0.872 params {'n_estimators': 200, 'max_depth': 4, 'num_leaves': 20, 'min_child_samples': 270, 'colsample_bytree': '0.523', 'subsample': '0.600', 'min_split_gain': '0.660', 'scale_pos_weight': '5.642', 'reg_alpha': '14.098', 'reg_lambda': '83.431', 'learning_rate': '0.027'}\n",
            "RMSE Loss 0.863 params {'n_estimators': 450, 'max_depth': 15, 'num_leaves': 40, 'min_child_samples': 200, 'colsample_bytree': '0.845', 'subsample': '0.954', 'min_split_gain': '0.006', 'scale_pos_weight': '9.585', 'reg_alpha': '27.406', 'reg_lambda': '77.393', 'learning_rate': '0.015'}\n",
            "RMSE Loss 0.868 params {'n_estimators': 750, 'max_depth': 59, 'num_leaves': 80, 'min_child_samples': 80, 'colsample_bytree': '0.761', 'subsample': '0.883', 'min_split_gain': '0.112', 'scale_pos_weight': '3.548', 'reg_alpha': '79.968', 'reg_lambda': '86.898', 'learning_rate': '0.051'}\n",
            "RMSE Loss 0.859 params {'n_estimators': 1300, 'max_depth': 10, 'num_leaves': 80, 'min_child_samples': 160, 'colsample_bytree': '0.734', 'subsample': '0.836', 'min_split_gain': '0.634', 'scale_pos_weight': '5.389', 'reg_alpha': '8.223', 'reg_lambda': '80.694', 'learning_rate': '0.031'}\n",
            "RMSE Loss 0.866 params {'n_estimators': 450, 'max_depth': 34, 'num_leaves': 90, 'min_child_samples': 40, 'colsample_bytree': '0.521', 'subsample': '0.938', 'min_split_gain': '0.465', 'scale_pos_weight': '1.102', 'reg_alpha': '40.588', 'reg_lambda': '93.089', 'learning_rate': '0.025'}\n",
            "RMSE Loss 0.870 params {'n_estimators': 1400, 'max_depth': 18, 'num_leaves': 30, 'min_child_samples': 290, 'colsample_bytree': '0.863', 'subsample': '0.943', 'min_split_gain': '0.317', 'scale_pos_weight': '5.182', 'reg_alpha': '93.306', 'reg_lambda': '62.689', 'learning_rate': '0.141'}\n",
            "RMSE Loss 0.864 params {'n_estimators': 150, 'max_depth': 28, 'num_leaves': 80, 'min_child_samples': 190, 'colsample_bytree': '0.734', 'subsample': '0.914', 'min_split_gain': '0.184', 'scale_pos_weight': '2.627', 'reg_alpha': '15.284', 'reg_lambda': '65.463', 'learning_rate': '0.027'}\n",
            "RMSE Loss 0.867 params {'n_estimators': 1250, 'max_depth': 28, 'num_leaves': 100, 'min_child_samples': 230, 'colsample_bytree': '0.938', 'subsample': '0.544', 'min_split_gain': '0.659', 'scale_pos_weight': '9.379', 'reg_alpha': '43.838', 'reg_lambda': '1.241', 'learning_rate': '0.113'}\n",
            "RMSE Loss 0.854 params {'n_estimators': 750, 'max_depth': 58, 'num_leaves': 60, 'min_child_samples': 80, 'colsample_bytree': '0.893', 'subsample': '0.321', 'min_split_gain': '0.025', 'scale_pos_weight': '2.203', 'reg_alpha': '1.734', 'reg_lambda': '20.182', 'learning_rate': '0.029'}\n",
            "RMSE Loss 0.861 params {'n_estimators': 300, 'max_depth': 72, 'num_leaves': 70, 'min_child_samples': 110, 'colsample_bytree': '0.996', 'subsample': '0.471', 'min_split_gain': '0.209', 'scale_pos_weight': '4.196', 'reg_alpha': '5.493', 'reg_lambda': '14.185', 'learning_rate': '0.011'}\n",
            "RMSE Loss 0.856 params {'n_estimators': 800, 'max_depth': 46, 'num_leaves': 60, 'min_child_samples': 110, 'colsample_bytree': '1.000', 'subsample': '0.301', 'min_split_gain': '0.581', 'scale_pos_weight': '6.659', 'reg_alpha': '0.733', 'reg_lambda': '19.540', 'learning_rate': '0.019'}\n",
            "RMSE Loss 0.856 params {'n_estimators': 750, 'max_depth': 45, 'num_leaves': 60, 'min_child_samples': 120, 'colsample_bytree': '0.980', 'subsample': '0.302', 'min_split_gain': '0.543', 'scale_pos_weight': '1.130', 'reg_alpha': '1.036', 'reg_lambda': '3.300', 'learning_rate': '0.017'}\n",
            "RMSE Loss 0.867 params {'n_estimators': 700, 'max_depth': 72, 'num_leaves': 70, 'min_child_samples': 10, 'colsample_bytree': '0.910', 'subsample': '0.703', 'min_split_gain': '0.699', 'scale_pos_weight': '4.238', 'reg_alpha': '61.169', 'reg_lambda': '23.246', 'learning_rate': '0.011'}\n",
            "RMSE Loss 0.855 params {'n_estimators': 900, 'max_depth': 74, 'num_leaves': 70, 'min_child_samples': 110, 'colsample_bytree': '0.859', 'subsample': '0.473', 'min_split_gain': '0.489', 'scale_pos_weight': '8.519', 'reg_alpha': '1.961', 'reg_lambda': '12.036', 'learning_rate': '0.018'}\n",
            "RMSE Loss 0.863 params {'n_estimators': 900, 'max_depth': 86, 'num_leaves': 70, 'min_child_samples': 140, 'colsample_bytree': '0.837', 'subsample': '0.487', 'min_split_gain': '0.501', 'scale_pos_weight': '8.409', 'reg_alpha': '35.491', 'reg_lambda': '9.373', 'learning_rate': '0.010'}\n",
            "RMSE Loss 0.865 params {'n_estimators': 650, 'max_depth': 100, 'num_leaves': 70, 'min_child_samples': 150, 'colsample_bytree': '0.927', 'subsample': '0.642', 'min_split_gain': '0.070', 'scale_pos_weight': '1.904', 'reg_alpha': '56.939', 'reg_lambda': '30.939', 'learning_rate': '0.098'}\n",
            "RMSE Loss 0.867 params {'n_estimators': 1450, 'max_depth': 74, 'num_leaves': 50, 'min_child_samples': 130, 'colsample_bytree': '0.886', 'subsample': '0.453', 'min_split_gain': '0.249', 'scale_pos_weight': '8.758', 'reg_alpha': '68.749', 'reg_lambda': '9.872', 'learning_rate': '0.037'}\n",
            "RMSE Loss 0.854 params {'n_estimators': 1200, 'max_depth': 67, 'num_leaves': 80, 'min_child_samples': 90, 'colsample_bytree': '0.822', 'subsample': '0.521', 'min_split_gain': '0.409', 'scale_pos_weight': '9.961', 'reg_alpha': '0.888', 'reg_lambda': '51.105', 'learning_rate': '0.018'}\n",
            "RMSE Loss 0.871 params {'n_estimators': 1200, 'max_depth': 82, 'num_leaves': 80, 'min_child_samples': 90, 'colsample_bytree': '0.693', 'subsample': '0.518', 'min_split_gain': '0.390', 'scale_pos_weight': '4.366', 'reg_alpha': '99.486', 'reg_lambda': '49.549', 'learning_rate': '0.014'}\n",
            "RMSE Loss 0.866 params {'n_estimators': 1350, 'max_depth': 51, 'num_leaves': 90, 'min_child_samples': 20, 'colsample_bytree': '0.812', 'subsample': '0.618', 'min_split_gain': '0.429', 'scale_pos_weight': '1.782', 'reg_alpha': '49.498', 'reg_lambda': '56.431', 'learning_rate': '0.044'}\n",
            "RMSE Loss 0.863 params {'n_estimators': 1150, 'max_depth': 65, 'num_leaves': 60, 'min_child_samples': 170, 'colsample_bytree': '0.957', 'subsample': '0.717', 'min_split_gain': '0.327', 'scale_pos_weight': '9.959', 'reg_alpha': '33.251', 'reg_lambda': '70.425', 'learning_rate': '0.021'}\n",
            "RMSE Loss 0.858 params {'n_estimators': 1100, 'max_depth': 66, 'num_leaves': 100, 'min_child_samples': 90, 'colsample_bytree': '0.679', 'subsample': '0.396', 'min_split_gain': '0.138', 'scale_pos_weight': '6.700', 'reg_alpha': '27.524', 'reg_lambda': '43.071', 'learning_rate': '0.033'}\n",
            "RMSE Loss 0.855 params {'n_estimators': 400, 'max_depth': 94, 'num_leaves': 90, 'min_child_samples': 20, 'colsample_bytree': '0.813', 'subsample': '0.325', 'min_split_gain': '0.361', 'scale_pos_weight': '3.673', 'reg_alpha': '7.566', 'reg_lambda': '30.218', 'learning_rate': '0.013'}\n",
            "RMSE Loss 0.863 params {'n_estimators': 950, 'max_depth': 51, 'num_leaves': 40, 'min_child_samples': 90, 'colsample_bytree': '0.557', 'subsample': '0.574', 'min_split_gain': '0.271', 'scale_pos_weight': '2.484', 'reg_alpha': '20.384', 'reg_lambda': '55.618', 'learning_rate': '0.204'}\n",
            "RMSE Loss 0.864 params {'n_estimators': 1500, 'max_depth': 80, 'num_leaves': 80, 'min_child_samples': 40, 'colsample_bytree': '0.897', 'subsample': '0.668', 'min_split_gain': '0.204', 'scale_pos_weight': '7.746', 'reg_alpha': '44.993', 'reg_lambda': '28.018', 'learning_rate': '0.058'}\n",
            "RMSE Loss 0.856 params {'n_estimators': 800, 'max_depth': 91, 'num_leaves': 50, 'min_child_samples': 70, 'colsample_bytree': '0.574', 'subsample': '0.374', 'min_split_gain': '0.402', 'scale_pos_weight': '6.119', 'reg_alpha': '0.495', 'reg_lambda': '42.909', 'learning_rate': '0.015'}\n",
            "RMSE Loss 0.862 params {'n_estimators': 1000, 'max_depth': 45, 'num_leaves': 60, 'min_child_samples': 170, 'colsample_bytree': '0.452', 'subsample': '0.799', 'min_split_gain': '0.071', 'scale_pos_weight': '4.752', 'reg_alpha': '29.731', 'reg_lambda': '54.522', 'learning_rate': '0.097'}\n",
            "RMSE Loss 0.861 params {'n_estimators': 600, 'max_depth': 58, 'num_leaves': 70, 'min_child_samples': 50, 'colsample_bytree': '0.659', 'subsample': '0.428', 'min_split_gain': '0.546', 'scale_pos_weight': '7.202', 'reg_alpha': '19.813', 'reg_lambda': '71.586', 'learning_rate': '0.022'}\n",
            "RMSE Loss 0.858 params {'n_estimators': 1150, 'max_depth': 68, 'num_leaves': 50, 'min_child_samples': 70, 'colsample_bytree': '0.817', 'subsample': '0.514', 'min_split_gain': '0.451', 'scale_pos_weight': '5.996', 'reg_alpha': '11.969', 'reg_lambda': '36.138', 'learning_rate': '0.046'}\n",
            "RMSE Loss 0.869 params {'n_estimators': 1250, 'max_depth': 78, 'num_leaves': 90, 'min_child_samples': 100, 'colsample_bytree': '0.710', 'subsample': '0.337', 'min_split_gain': '0.282', 'scale_pos_weight': '1.517', 'reg_alpha': '66.530', 'reg_lambda': '48.568', 'learning_rate': '0.254'}\n",
            "RMSE Loss 0.867 params {'n_estimators': 1050, 'max_depth': 41, 'num_leaves': 20, 'min_child_samples': 130, 'colsample_bytree': '0.607', 'subsample': '0.423', 'min_split_gain': '0.168', 'scale_pos_weight': '3.504', 'reg_alpha': '53.132', 'reg_lambda': '19.637', 'learning_rate': '0.075'}\n",
            "RMSE Loss 0.857 params {'n_estimators': 850, 'max_depth': 53, 'num_leaves': 40, 'min_child_samples': 30, 'colsample_bytree': '0.963', 'subsample': '0.584', 'min_split_gain': '0.341', 'scale_pos_weight': '9.932', 'reg_alpha': '16.396', 'reg_lambda': '43.988', 'learning_rate': '0.032'}\n",
            "RMSE Loss 0.870 params {'n_estimators': 550, 'max_depth': 88, 'num_leaves': 80, 'min_child_samples': 60, 'colsample_bytree': '0.797', 'subsample': '0.742', 'min_split_gain': '0.369', 'scale_pos_weight': '8.869', 'reg_alpha': '89.641', 'reg_lambda': '36.808', 'learning_rate': '0.012'}\n",
            "RMSE Loss 0.859 params {'n_estimators': 300, 'max_depth': 62, 'num_leaves': 100, 'min_child_samples': 240, 'colsample_bytree': '0.396', 'subsample': '0.391', 'min_split_gain': '0.019', 'scale_pos_weight': '2.277', 'reg_alpha': '5.855', 'reg_lambda': '5.142', 'learning_rate': '0.036'}\n",
            "RMSE Loss 0.872 params {'n_estimators': 1000, 'max_depth': 98, 'num_leaves': 90, 'min_child_samples': 180, 'colsample_bytree': '0.729', 'subsample': '0.670', 'min_split_gain': '0.051', 'scale_pos_weight': '7.971', 'reg_alpha': '32.008', 'reg_lambda': '24.784', 'learning_rate': '0.455'}\n",
            "RMSE Loss 0.860 params {'n_estimators': 500, 'max_depth': 55, 'num_leaves': 50, 'min_child_samples': 150, 'colsample_bytree': '0.778', 'subsample': '0.521', 'min_split_gain': '0.236', 'scale_pos_weight': '3.123', 'reg_alpha': '22.688', 'reg_lambda': '33.307', 'learning_rate': '0.058'}\n",
            "RMSE Loss 0.865 params {'n_estimators': 650, 'max_depth': 23, 'num_leaves': 60, 'min_child_samples': 80, 'colsample_bytree': '0.879', 'subsample': '0.878', 'min_split_gain': '0.609', 'scale_pos_weight': '4.692', 'reg_alpha': '39.443', 'reg_lambda': '67.342', 'learning_rate': '0.028'}\n",
            "RMSE Loss 0.860 params {'n_estimators': 1350, 'max_depth': 32, 'num_leaves': 40, 'min_child_samples': 10, 'colsample_bytree': '0.640', 'subsample': '0.557', 'min_split_gain': '0.119', 'scale_pos_weight': '7.115', 'reg_alpha': '24.436', 'reg_lambda': '74.902', 'learning_rate': '0.169'}\n",
            "RMSE Loss 0.861 params {'n_estimators': 1100, 'max_depth': 38, 'num_leaves': 80, 'min_child_samples': 220, 'colsample_bytree': '0.311', 'subsample': '0.986', 'min_split_gain': '0.300', 'scale_pos_weight': '3.939', 'reg_alpha': '10.885', 'reg_lambda': '15.643', 'learning_rate': '0.016'}\n",
            "RMSE Loss 0.871 params {'n_estimators': 350, 'max_depth': 61, 'num_leaves': 30, 'min_child_samples': 50, 'colsample_bytree': '0.498', 'subsample': '0.778', 'min_split_gain': '0.470', 'scale_pos_weight': '5.787', 'reg_alpha': '77.587', 'reg_lambda': '94.397', 'learning_rate': '0.087'}\n",
            "RMSE Loss 0.861 params {'n_estimators': 100, 'max_depth': 69, 'num_leaves': 70, 'min_child_samples': 120, 'colsample_bytree': '0.916', 'subsample': '0.300', 'min_split_gain': '0.417', 'scale_pos_weight': '9.084', 'reg_alpha': '3.473', 'reg_lambda': '59.841', 'learning_rate': '0.042'}\n",
            "RMSE Loss 0.873 params {'n_estimators': 750, 'max_depth': 3, 'num_leaves': 60, 'min_child_samples': 140, 'colsample_bytree': '0.948', 'subsample': '0.624', 'min_split_gain': '0.524', 'scale_pos_weight': '1.414', 'reg_alpha': '86.674', 'reg_lambda': '41.789', 'learning_rate': '0.020'}\n",
            "RMSE Loss 0.868 params {'n_estimators': 850, 'max_depth': 48, 'num_leaves': 100, 'min_child_samples': 200, 'colsample_bytree': '0.845', 'subsample': '0.440', 'min_split_gain': '0.216', 'scale_pos_weight': '2.791', 'reg_alpha': '71.394', 'reg_lambda': '52.348', 'learning_rate': '0.132'}\n",
            "RMSE Loss 0.859 params {'n_estimators': 1250, 'max_depth': 41, 'num_leaves': 50, 'min_child_samples': 100, 'colsample_bytree': '0.756', 'subsample': '0.399', 'min_split_gain': '0.385', 'scale_pos_weight': '9.684', 'reg_alpha': '14.746', 'reg_lambda': '81.076', 'learning_rate': '0.025'}\n",
            "RMSE Loss 0.857 params {'n_estimators': 950, 'max_depth': 77, 'num_leaves': 70, 'min_child_samples': 80, 'colsample_bytree': '1.000', 'subsample': '0.494', 'min_split_gain': '0.577', 'scale_pos_weight': '6.401', 'reg_alpha': '8.996', 'reg_lambda': '26.651', 'learning_rate': '0.052'}\n",
            "RMSE Loss 0.863 params {'n_estimators': 1450, 'max_depth': 56, 'num_leaves': 80, 'min_child_samples': 50, 'colsample_bytree': '0.593', 'subsample': '0.344', 'min_split_gain': '0.142', 'scale_pos_weight': '5.262', 'reg_alpha': '42.836', 'reg_lambda': '59.121', 'learning_rate': '0.064'}\n",
            "RMSE Loss 0.869 params {'n_estimators': 700, 'max_depth': 83, 'num_leaves': 90, 'min_child_samples': 30, 'colsample_bytree': '0.671', 'subsample': '0.320', 'min_split_gain': '0.084', 'scale_pos_weight': '4.829', 'reg_alpha': '97.483', 'reg_lambda': '20.240', 'learning_rate': '0.010'}\n",
            "RMSE Loss 0.861 params {'n_estimators': 500, 'max_depth': 64, 'num_leaves': 60, 'min_child_samples': 120, 'colsample_bytree': '0.793', 'subsample': '0.366', 'min_split_gain': '0.290', 'scale_pos_weight': '3.316', 'reg_alpha': '25.592', 'reg_lambda': '89.263', 'learning_rate': '0.030'}\n",
            "RMSE Loss 0.866 params {'n_estimators': 1200, 'max_depth': 7, 'num_leaves': 70, 'min_child_samples': 160, 'colsample_bytree': '0.972', 'subsample': '0.696', 'min_split_gain': '0.688', 'scale_pos_weight': '6.897', 'reg_alpha': '37.121', 'reg_lambda': '7.126', 'learning_rate': '0.047'}\n",
            "RMSE Loss 0.864 params {'n_estimators': 600, 'max_depth': 21, 'num_leaves': 30, 'min_child_samples': 100, 'colsample_bytree': '0.715', 'subsample': '0.833', 'min_split_gain': '0.625', 'scale_pos_weight': '2.215', 'reg_alpha': '18.501', 'reg_lambda': '15.679', 'learning_rate': '0.343'}\n",
            "RMSE Loss 0.855 params {'n_estimators': 1350, 'max_depth': 48, 'num_leaves': 80, 'min_child_samples': 60, 'colsample_bytree': '0.879', 'subsample': '0.461', 'min_split_gain': '0.489', 'scale_pos_weight': '7.545', 'reg_alpha': '4.588', 'reg_lambda': '65.155', 'learning_rate': '0.022'}\n",
            "RMSE Loss 0.871 params {'n_estimators': 200, 'max_depth': 71, 'num_leaves': 100, 'min_child_samples': 250, 'colsample_bytree': '0.838', 'subsample': '0.494', 'min_split_gain': '0.004', 'scale_pos_weight': '1.073', 'reg_alpha': '63.007', 'reg_lambda': '47.105', 'learning_rate': '0.018'}\n",
            "RMSE Loss 0.865 params {'n_estimators': 1100, 'max_depth': 26, 'num_leaves': 70, 'min_child_samples': 280, 'colsample_bytree': '0.924', 'subsample': '0.539', 'min_split_gain': '0.556', 'scale_pos_weight': '8.226', 'reg_alpha': '30.761', 'reg_lambda': '52.394', 'learning_rate': '0.012'}\n",
            "RMSE Loss 0.865 params {'n_estimators': 850, 'max_depth': 35, 'num_leaves': 50, 'min_child_samples': 140, 'colsample_bytree': '0.860', 'subsample': '0.598', 'min_split_gain': '0.238', 'scale_pos_weight': '3.882', 'reg_alpha': '52.367', 'reg_lambda': '33.666', 'learning_rate': '0.014'}\n",
            "RMSE Loss 0.854 params {'n_estimators': 950, 'max_depth': 75, 'num_leaves': 70, 'min_child_samples': 80, 'colsample_bytree': '0.902', 'subsample': '0.471', 'min_split_gain': '0.454', 'scale_pos_weight': '8.487', 'reg_alpha': '2.510', 'reg_lambda': '1.358', 'learning_rate': '0.037'}\n",
            "RMSE Loss 0.858 params {'n_estimators': 1000, 'max_depth': 75, 'num_leaves': 60, 'min_child_samples': 70, 'colsample_bytree': '0.901', 'subsample': '0.561', 'min_split_gain': '0.512', 'scale_pos_weight': '9.583', 'reg_alpha': '12.997', 'reg_lambda': '40.231', 'learning_rate': '0.039'}\n",
            "RMSE Loss 0.858 params {'n_estimators': 950, 'max_depth': 93, 'num_leaves': 80, 'min_child_samples': 110, 'colsample_bytree': '0.939', 'subsample': '0.438', 'min_split_gain': '0.341', 'scale_pos_weight': '9.261', 'reg_alpha': '0.469', 'reg_lambda': '9.887', 'learning_rate': '0.082'}\n",
            "RMSE Loss 0.853 params {'n_estimators': 1050, 'max_depth': 60, 'num_leaves': 70, 'min_child_samples': 30, 'colsample_bytree': '0.992', 'subsample': '0.406', 'min_split_gain': '0.441', 'scale_pos_weight': '8.681', 'reg_alpha': '7.470', 'reg_lambda': '2.063', 'learning_rate': '0.027'}\n",
            "RMSE Loss 0.853 params {'n_estimators': 1200, 'max_depth': 60, 'num_leaves': 90, 'min_child_samples': 30, 'colsample_bytree': '0.975', 'subsample': '0.381', 'min_split_gain': '0.407', 'scale_pos_weight': '8.892', 'reg_alpha': '7.395', 'reg_lambda': '13.890', 'learning_rate': '0.029'}\n",
            "RMSE Loss 0.852 params {'n_estimators': 1200, 'max_depth': 68, 'num_leaves': 90, 'min_child_samples': 30, 'colsample_bytree': '0.984', 'subsample': '0.382', 'min_split_gain': '0.414', 'scale_pos_weight': '8.783', 'reg_alpha': '9.398', 'reg_lambda': '1.248', 'learning_rate': '0.025'}\n",
            "RMSE Loss 0.852 params {'n_estimators': 1500, 'max_depth': 60, 'num_leaves': 90, 'min_child_samples': 20, 'colsample_bytree': '0.989', 'subsample': '0.379', 'min_split_gain': '0.431', 'scale_pos_weight': '7.985', 'reg_alpha': '8.428', 'reg_lambda': '1.045', 'learning_rate': '0.025'}\n",
            "RMSE Loss 0.856 params {'n_estimators': 1450, 'max_depth': 63, 'num_leaves': 100, 'min_child_samples': 10, 'colsample_bytree': '0.989', 'subsample': '0.409', 'min_split_gain': '0.434', 'scale_pos_weight': '7.886', 'reg_alpha': '17.453', 'reg_lambda': '1.428', 'learning_rate': '0.066'}\n",
            "RMSE Loss 0.860 params {'n_estimators': 1500, 'max_depth': 70, 'num_leaves': 90, 'min_child_samples': 20, 'colsample_bytree': '0.952', 'subsample': '0.352', 'min_split_gain': '0.473', 'scale_pos_weight': '7.482', 'reg_alpha': '34.492', 'reg_lambda': '4.726', 'learning_rate': '0.026'}\n",
            "RMSE Loss 0.857 params {'n_estimators': 1300, 'max_depth': 87, 'num_leaves': 90, 'min_child_samples': 20, 'colsample_bytree': '0.359', 'subsample': '0.315', 'min_split_gain': '0.377', 'scale_pos_weight': '8.019', 'reg_alpha': '10.394', 'reg_lambda': '8.561', 'learning_rate': '0.033'}\n",
            "RMSE Loss 0.863 params {'n_estimators': 1400, 'max_depth': 43, 'num_leaves': 100, 'min_child_samples': 40, 'colsample_bytree': '0.870', 'subsample': '0.411', 'min_split_gain': '0.318', 'scale_pos_weight': '8.686', 'reg_alpha': '46.354', 'reg_lambda': '0.069', 'learning_rate': '0.016'}\n",
            "RMSE Loss 0.861 params {'n_estimators': 1300, 'max_depth': 54, 'num_leaves': 100, 'min_child_samples': 50, 'colsample_bytree': '0.990', 'subsample': '0.451', 'min_split_gain': '0.525', 'scale_pos_weight': '6.435', 'reg_alpha': '28.062', 'reg_lambda': '17.308', 'learning_rate': '0.057'}\n",
            "RMSE Loss 0.857 params {'n_estimators': 1050, 'max_depth': 83, 'num_leaves': 90, 'min_child_samples': 10, 'colsample_bytree': '0.931', 'subsample': '0.365', 'min_split_gain': '0.584', 'scale_pos_weight': '9.547', 'reg_alpha': '21.800', 'reg_lambda': '12.138', 'learning_rate': '0.020'}\n",
            "RMSE Loss 0.858 params {'n_estimators': 1150, 'max_depth': 58, 'num_leaves': 80, 'min_child_samples': 30, 'colsample_bytree': '0.468', 'subsample': '0.336', 'min_split_gain': '0.357', 'scale_pos_weight': '8.255', 'reg_alpha': '14.806', 'reg_lambda': '23.679', 'learning_rate': '0.023'}\n",
            "RMSE Loss 0.859 params {'n_estimators': 1400, 'max_depth': 66, 'num_leaves': 90, 'min_child_samples': 60, 'colsample_bytree': '0.963', 'subsample': '0.501', 'min_split_gain': '0.485', 'scale_pos_weight': '7.327', 'reg_alpha': '24.955', 'reg_lambda': '6.073', 'learning_rate': '0.048'}\n",
            "RMSE Loss 0.858 params {'n_estimators': 1250, 'max_depth': 50, 'num_leaves': 100, 'min_child_samples': 300, 'colsample_bytree': '0.999', 'subsample': '0.379', 'min_split_gain': '0.263', 'scale_pos_weight': '9.140', 'reg_alpha': '6.936', 'reg_lambda': '0.276', 'learning_rate': '0.011'}\n",
            "RMSE Loss 0.867 params {'n_estimators': 1150, 'max_depth': 78, 'num_leaves': 80, 'min_child_samples': 40, 'colsample_bytree': '0.913', 'subsample': '0.301', 'min_split_gain': '0.453', 'scale_pos_weight': '6.985', 'reg_alpha': '56.131', 'reg_lambda': '3.787', 'learning_rate': '0.114'}\n",
            "RMSE Loss 0.859 params {'n_estimators': 1400, 'max_depth': 90, 'num_leaves': 90, 'min_child_samples': 70, 'colsample_bytree': '0.742', 'subsample': '0.432', 'min_split_gain': '0.567', 'scale_pos_weight': '5.557', 'reg_alpha': '19.450', 'reg_lambda': '12.415', 'learning_rate': '0.015'}\n",
            "RMSE Loss 0.857 params {'n_estimators': 1050, 'max_depth': 37, 'num_leaves': 80, 'min_child_samples': 60, 'colsample_bytree': '0.794', 'subsample': '0.628', 'min_split_gain': '0.680', 'scale_pos_weight': '9.806', 'reg_alpha': '9.614', 'reg_lambda': '18.228', 'learning_rate': '0.042'}\n",
            "RMSE Loss 0.863 params {'n_estimators': 1300, 'max_depth': 81, 'num_leaves': 100, 'min_child_samples': 20, 'colsample_bytree': '0.831', 'subsample': '0.539', 'min_split_gain': '0.601', 'scale_pos_weight': '9.410', 'reg_alpha': '40.027', 'reg_lambda': '21.742', 'learning_rate': '0.012'}\n",
            "RMSE Loss 0.854 params {'n_estimators': 1500, 'max_depth': 57, 'num_leaves': 90, 'min_child_samples': 40, 'colsample_bytree': '0.853', 'subsample': '0.484', 'min_split_gain': '0.434', 'scale_pos_weight': '8.976', 'reg_alpha': '12.347', 'reg_lambda': '2.709', 'learning_rate': '0.035'}\n",
            "RMSE Loss 0.859 params {'n_estimators': 1350, 'max_depth': 53, 'num_leaves': 70, 'min_child_samples': 10, 'colsample_bytree': '0.980', 'subsample': '0.453', 'min_split_gain': '0.398', 'scale_pos_weight': '8.623', 'reg_alpha': '28.929', 'reg_lambda': '25.928', 'learning_rate': '0.028'}\n",
            "RMSE Loss 0.852 params {'n_estimators': 1450, 'max_depth': 73, 'num_leaves': 90, 'min_child_samples': 30, 'colsample_bytree': '0.692', 'subsample': '0.412', 'min_split_gain': '0.305', 'scale_pos_weight': '7.773', 'reg_alpha': '5.136', 'reg_lambda': '31.391', 'learning_rate': '0.017'}\n",
            "RMSE Loss 0.852 params {'n_estimators': 1400, 'max_depth': 97, 'num_leaves': 100, 'min_child_samples': 50, 'colsample_bytree': '0.520', 'subsample': '0.599', 'min_split_gain': '0.197', 'scale_pos_weight': '6.334', 'reg_alpha': '3.575', 'reg_lambda': '28.429', 'learning_rate': '0.017'}\n",
            "RMSE Loss 0.856 params {'n_estimators': 1450, 'max_depth': 73, 'num_leaves': 100, 'min_child_samples': 90, 'colsample_bytree': '0.548', 'subsample': '0.648', 'min_split_gain': '0.170', 'scale_pos_weight': '5.942', 'reg_alpha': '15.761', 'reg_lambda': '32.807', 'learning_rate': '0.024'}\n",
            "RMSE Loss 0.861 params {'n_estimators': 1500, 'max_depth': 68, 'num_leaves': 90, 'min_child_samples': 130, 'colsample_bytree': '0.396', 'subsample': '0.323', 'min_split_gain': '0.299', 'scale_pos_weight': '7.727', 'reg_alpha': '22.084', 'reg_lambda': '29.444', 'learning_rate': '0.020'}\n",
            "RMSE Loss 0.863 params {'n_estimators': 1450, 'max_depth': 77, 'num_leaves': 90, 'min_child_samples': 80, 'colsample_bytree': '0.625', 'subsample': '0.582', 'min_split_gain': '0.324', 'scale_pos_weight': '6.747', 'reg_alpha': '36.180', 'reg_lambda': '39.244', 'learning_rate': '0.012'}\n",
            "RMSE Loss 0.866 params {'n_estimators': 1300, 'max_depth': 85, 'num_leaves': 80, 'min_child_samples': 20, 'colsample_bytree': '0.442', 'subsample': '0.352', 'min_split_gain': '0.270', 'scale_pos_weight': '8.437', 'reg_alpha': '48.107', 'reg_lambda': '21.851', 'learning_rate': '0.013'}\n",
            "RMSE Loss 0.865 params {'n_estimators': 1200, 'max_depth': 99, 'num_leaves': 100, 'min_child_samples': 100, 'colsample_bytree': '0.653', 'subsample': '0.389', 'min_split_gain': '0.423', 'scale_pos_weight': '7.410', 'reg_alpha': '42.931', 'reg_lambda': '35.332', 'learning_rate': '0.017'}\n",
            "RMSE Loss 0.861 params {'n_estimators': 1250, 'max_depth': 80, 'num_leaves': 80, 'min_child_samples': 50, 'colsample_bytree': '0.703', 'subsample': '0.868', 'min_split_gain': '0.540', 'scale_pos_weight': '8.043', 'reg_alpha': '26.059', 'reg_lambda': '10.018', 'learning_rate': '0.080'}\n",
            "RMSE Loss 0.862 params {'n_estimators': 1350, 'max_depth': 48, 'num_leaves': 20, 'min_child_samples': 210, 'colsample_bytree': '0.484', 'subsample': '0.739', 'min_split_gain': '0.369', 'scale_pos_weight': '7.723', 'reg_alpha': '0.032', 'reg_lambda': '31.420', 'learning_rate': '0.010'}\n",
            "RMSE Loss 0.870 params {'n_estimators': 1100, 'max_depth': 89, 'num_leaves': 90, 'min_child_samples': 180, 'colsample_bytree': '0.599', 'subsample': '0.418', 'min_split_gain': '0.344', 'scale_pos_weight': '6.197', 'reg_alpha': '83.031', 'reg_lambda': '8.010', 'learning_rate': '0.015'}\n",
            "RMSE Loss 0.860 params {'n_estimators': 1500, 'max_depth': 33, 'num_leaves': 100, 'min_child_samples': 70, 'colsample_bytree': '0.683', 'subsample': '0.478', 'min_split_gain': '0.222', 'scale_pos_weight': '8.277', 'reg_alpha': '32.350', 'reg_lambda': '17.275', 'learning_rate': '0.034'}\n",
            "RMSE Loss 0.856 params {'n_estimators': 1350, 'max_depth': 85, 'num_leaves': 80, 'min_child_samples': 60, 'colsample_bytree': '0.778', 'subsample': '0.684', 'min_split_gain': '0.504', 'scale_pos_weight': '7.083', 'reg_alpha': '4.785', 'reg_lambda': '44.339', 'learning_rate': '0.043'}\n",
            "RMSE Loss 0.860 params {'n_estimators': 1400, 'max_depth': 95, 'num_leaves': 90, 'min_child_samples': 40, 'colsample_bytree': '0.336', 'subsample': '0.507', 'min_split_gain': '0.252', 'scale_pos_weight': '6.587', 'reg_alpha': '13.519', 'reg_lambda': '63.012', 'learning_rate': '0.071'}\n",
            "100%|██████████| 100/100 [59:07<00:00, 35.48s/it, best loss: 0.852249093889939]\n"
          ]
        }
      ],
      "source": [
        "space = {\n",
        "    'n_estimators' : hp.quniform('n_estimators', 100, 1500, 50),\n",
        "    'max_depth': hp.quniform('max_depth', 3, 100, 1),\n",
        "    'num_leaves': hp.quniform('num_leaves', 20, 100, 10),\n",
        "    'min_child_samples': hp.quniform('min_child_samples', 10, 300, 10),\n",
        "    'colsample_bytree': hp.uniform('colsample_bytree', 0.3, 1.0),\n",
        "    'subsample': hp.uniform('subsample', 0.3, 1.0),\n",
        "    'min_split_gain': hp.uniform('min_split_gain', 0, 0.7),\n",
        "    'scale_pos_weight': hp.uniform('scale_pos_weight', 1, 10),\n",
        "    'reg_alpha': hp.uniform('reg_alpha', 0, 100),\n",
        "    'reg_lambda': hp.uniform('reg_lambda', 0, 100),\n",
        "    'learning_rate': hp.loguniform('learning_rate', np.log(0.01), np.log(0.5)),\n",
        "}\n",
        "\n",
        "# rstate = np.random.RandomState(42)\n",
        "best_y10 = fmin(fn = objective,\n",
        "            space = space,\n",
        "            algo = tpe.suggest,\n",
        "            max_evals = 100)"
      ],
      "id": "ubI7wNDZ8s8l"
    },
    {
      "cell_type": "code",
      "source": [],
      "metadata": {
        "id": "S-8ywvrn8tY_"
      },
      "execution_count": null,
      "outputs": [],
      "id": "S-8ywvrn8tY_"
    },
    {
      "cell_type": "code",
      "execution_count": null,
      "metadata": {
        "id": "mGhil96h8tZA"
      },
      "outputs": [],
      "source": [
        "train_x_for_y11, test_x_for_y11 = train_x[c10], test_x[c10]\n",
        "train_y_11 = train_y['Y_11']"
      ],
      "id": "mGhil96h8tZA"
    },
    {
      "cell_type": "code",
      "execution_count": null,
      "metadata": {
        "id": "B5Vos2uy8tZA"
      },
      "outputs": [],
      "source": [
        "def objective(params):\n",
        "\n",
        "    params = {\n",
        "        'n_estimators': int(params['n_estimators']),\n",
        "        'max_depth': int(params['max_depth']),\n",
        "        'num_leaves': int(params['num_leaves']),\n",
        "        'min_child_samples': int(params['min_child_samples']),\n",
        "        'colsample_bytree': '{:.3f}'.format(params['colsample_bytree']),\n",
        "        'subsample': '{:.3f}'.format(params['subsample']),\n",
        "        'min_split_gain': '{:.3f}'.format(params['min_split_gain']),\n",
        "        'scale_pos_weight': '{:.3f}'.format(params['scale_pos_weight']),\n",
        "        'reg_alpha': '{:.3f}'.format(params['reg_alpha']),\n",
        "        'reg_lambda': '{:.3f}'.format(params['reg_lambda']),\n",
        "        'learning_rate': '{:.3f}'.format(params['learning_rate']),\n",
        "        \n",
        "    }\n",
        "    \n",
        "    model = LGBMRegressor(\n",
        "        n_jobs = -1,\n",
        "        random_state = 42,\n",
        "        **params\n",
        "    )\n",
        "    \n",
        "    loss = -cross_val_score(model, train_x_for_y11, train_y_11, cv=10, scoring=make_scorer(rmse, greater_is_better=False)).mean()\n",
        "    print(\"RMSE Loss {:.3f} params {}\".format(loss, params))\n",
        "    return loss"
      ],
      "id": "B5Vos2uy8tZA"
    },
    {
      "cell_type": "code",
      "execution_count": null,
      "metadata": {
        "id": "PBthuo2Z8tZA",
        "colab": {
          "base_uri": "https://localhost:8080/"
        },
        "outputId": "def60d4f-92a9-4503-df60-3fb607b6e0d5"
      },
      "outputs": [
        {
          "output_type": "stream",
          "name": "stdout",
          "text": [
            "RMSE Loss 0.820 params {'n_estimators': 950, 'max_depth': 53, 'num_leaves': 90, 'min_child_samples': 120, 'colsample_bytree': '0.855', 'subsample': '0.948', 'min_split_gain': '0.321', 'scale_pos_weight': '6.265', 'reg_alpha': '3.251', 'reg_lambda': '51.747', 'learning_rate': '0.015'}\n",
            "RMSE Loss 0.820 params {'n_estimators': 1250, 'max_depth': 51, 'num_leaves': 30, 'min_child_samples': 50, 'colsample_bytree': '0.836', 'subsample': '0.827', 'min_split_gain': '0.453', 'scale_pos_weight': '2.097', 'reg_alpha': '36.130', 'reg_lambda': '99.908', 'learning_rate': '0.089'}\n",
            "RMSE Loss 0.821 params {'n_estimators': 300, 'max_depth': 92, 'num_leaves': 60, 'min_child_samples': 100, 'colsample_bytree': '0.892', 'subsample': '0.793', 'min_split_gain': '0.364', 'scale_pos_weight': '6.905', 'reg_alpha': '45.037', 'reg_lambda': '13.959', 'learning_rate': '0.132'}\n",
            "RMSE Loss 0.821 params {'n_estimators': 250, 'max_depth': 95, 'num_leaves': 80, 'min_child_samples': 180, 'colsample_bytree': '0.627', 'subsample': '0.680', 'min_split_gain': '0.390', 'scale_pos_weight': '7.250', 'reg_alpha': '34.329', 'reg_lambda': '60.294', 'learning_rate': '0.158'}\n",
            "RMSE Loss 0.822 params {'n_estimators': 1050, 'max_depth': 23, 'num_leaves': 40, 'min_child_samples': 210, 'colsample_bytree': '0.641', 'subsample': '0.320', 'min_split_gain': '0.386', 'scale_pos_weight': '2.584', 'reg_alpha': '87.621', 'reg_lambda': '10.776', 'learning_rate': '0.014'}\n",
            "RMSE Loss 0.822 params {'n_estimators': 500, 'max_depth': 72, 'num_leaves': 100, 'min_child_samples': 230, 'colsample_bytree': '0.394', 'subsample': '0.413', 'min_split_gain': '0.307', 'scale_pos_weight': '1.190', 'reg_alpha': '75.953', 'reg_lambda': '23.202', 'learning_rate': '0.022'}\n",
            "RMSE Loss 0.822 params {'n_estimators': 350, 'max_depth': 92, 'num_leaves': 50, 'min_child_samples': 130, 'colsample_bytree': '0.639', 'subsample': '0.700', 'min_split_gain': '0.299', 'scale_pos_weight': '6.965', 'reg_alpha': '67.914', 'reg_lambda': '8.874', 'learning_rate': '0.366'}\n",
            "RMSE Loss 0.820 params {'n_estimators': 700, 'max_depth': 67, 'num_leaves': 30, 'min_child_samples': 10, 'colsample_bytree': '0.850', 'subsample': '0.315', 'min_split_gain': '0.592', 'scale_pos_weight': '5.688', 'reg_alpha': '21.584', 'reg_lambda': '3.437', 'learning_rate': '0.014'}\n",
            "RMSE Loss 0.823 params {'n_estimators': 650, 'max_depth': 39, 'num_leaves': 60, 'min_child_samples': 100, 'colsample_bytree': '0.787', 'subsample': '0.457', 'min_split_gain': '0.436', 'scale_pos_weight': '6.794', 'reg_alpha': '80.847', 'reg_lambda': '51.181', 'learning_rate': '0.490'}\n",
            "RMSE Loss 0.820 params {'n_estimators': 700, 'max_depth': 78, 'num_leaves': 70, 'min_child_samples': 290, 'colsample_bytree': '0.839', 'subsample': '0.514', 'min_split_gain': '0.098', 'scale_pos_weight': '1.042', 'reg_alpha': '21.367', 'reg_lambda': '32.840', 'learning_rate': '0.050'}\n",
            "RMSE Loss 0.822 params {'n_estimators': 750, 'max_depth': 4, 'num_leaves': 90, 'min_child_samples': 140, 'colsample_bytree': '0.848', 'subsample': '0.445', 'min_split_gain': '0.512', 'scale_pos_weight': '7.968', 'reg_alpha': '62.931', 'reg_lambda': '83.480', 'learning_rate': '0.471'}\n",
            "RMSE Loss 0.821 params {'n_estimators': 450, 'max_depth': 6, 'num_leaves': 40, 'min_child_samples': 300, 'colsample_bytree': '0.450', 'subsample': '0.454', 'min_split_gain': '0.453', 'scale_pos_weight': '7.083', 'reg_alpha': '53.105', 'reg_lambda': '40.794', 'learning_rate': '0.190'}\n",
            "RMSE Loss 0.822 params {'n_estimators': 200, 'max_depth': 45, 'num_leaves': 20, 'min_child_samples': 140, 'colsample_bytree': '0.544', 'subsample': '0.785', 'min_split_gain': '0.076', 'scale_pos_weight': '6.967', 'reg_alpha': '96.781', 'reg_lambda': '91.368', 'learning_rate': '0.205'}\n",
            "RMSE Loss 0.821 params {'n_estimators': 350, 'max_depth': 79, 'num_leaves': 60, 'min_child_samples': 70, 'colsample_bytree': '0.690', 'subsample': '0.582', 'min_split_gain': '0.356', 'scale_pos_weight': '9.341', 'reg_alpha': '11.289', 'reg_lambda': '47.586', 'learning_rate': '0.163'}\n",
            "RMSE Loss 0.821 params {'n_estimators': 1050, 'max_depth': 32, 'num_leaves': 80, 'min_child_samples': 290, 'colsample_bytree': '0.874', 'subsample': '0.479', 'min_split_gain': '0.206', 'scale_pos_weight': '8.269', 'reg_alpha': '32.631', 'reg_lambda': '17.824', 'learning_rate': '0.143'}\n",
            "RMSE Loss 0.822 params {'n_estimators': 1000, 'max_depth': 85, 'num_leaves': 40, 'min_child_samples': 300, 'colsample_bytree': '0.757', 'subsample': '0.495', 'min_split_gain': '0.634', 'scale_pos_weight': '3.457', 'reg_alpha': '81.133', 'reg_lambda': '37.091', 'learning_rate': '0.018'}\n",
            "RMSE Loss 0.819 params {'n_estimators': 1500, 'max_depth': 45, 'num_leaves': 30, 'min_child_samples': 220, 'colsample_bytree': '0.876', 'subsample': '0.653', 'min_split_gain': '0.102', 'scale_pos_weight': '4.480', 'reg_alpha': '31.809', 'reg_lambda': '17.135', 'learning_rate': '0.028'}\n",
            "RMSE Loss 0.821 params {'n_estimators': 550, 'max_depth': 20, 'num_leaves': 100, 'min_child_samples': 260, 'colsample_bytree': '0.888', 'subsample': '0.775', 'min_split_gain': '0.073', 'scale_pos_weight': '4.095', 'reg_alpha': '86.611', 'reg_lambda': '43.418', 'learning_rate': '0.044'}\n",
            "RMSE Loss 0.820 params {'n_estimators': 800, 'max_depth': 96, 'num_leaves': 100, 'min_child_samples': 200, 'colsample_bytree': '0.498', 'subsample': '0.458', 'min_split_gain': '0.349', 'scale_pos_weight': '2.357', 'reg_alpha': '17.457', 'reg_lambda': '75.289', 'learning_rate': '0.022'}\n",
            "RMSE Loss 0.820 params {'n_estimators': 1400, 'max_depth': 58, 'num_leaves': 80, 'min_child_samples': 80, 'colsample_bytree': '0.329', 'subsample': '0.629', 'min_split_gain': '0.026', 'scale_pos_weight': '9.464', 'reg_alpha': '20.868', 'reg_lambda': '92.224', 'learning_rate': '0.029'}\n",
            "RMSE Loss 0.819 params {'n_estimators': 1400, 'max_depth': 60, 'num_leaves': 20, 'min_child_samples': 170, 'colsample_bytree': '0.991', 'subsample': '0.969', 'min_split_gain': '0.169', 'scale_pos_weight': '5.170', 'reg_alpha': '4.792', 'reg_lambda': '64.840', 'learning_rate': '0.010'}\n",
            "RMSE Loss 0.819 params {'n_estimators': 1500, 'max_depth': 64, 'num_leaves': 20, 'min_child_samples': 170, 'colsample_bytree': '0.997', 'subsample': '0.997', 'min_split_gain': '0.185', 'scale_pos_weight': '4.437', 'reg_alpha': '2.628', 'reg_lambda': '65.262', 'learning_rate': '0.010'}\n",
            "RMSE Loss 0.819 params {'n_estimators': 1300, 'max_depth': 64, 'num_leaves': 20, 'min_child_samples': 170, 'colsample_bytree': '0.997', 'subsample': '0.993', 'min_split_gain': '0.187', 'scale_pos_weight': '4.974', 'reg_alpha': '1.887', 'reg_lambda': '70.206', 'learning_rate': '0.011'}\n",
            "RMSE Loss 0.819 params {'n_estimators': 1200, 'max_depth': 67, 'num_leaves': 20, 'min_child_samples': 250, 'colsample_bytree': '0.964', 'subsample': '0.897', 'min_split_gain': '0.217', 'scale_pos_weight': '3.474', 'reg_alpha': '3.252', 'reg_lambda': '68.386', 'learning_rate': '0.010'}\n",
            "RMSE Loss 0.820 params {'n_estimators': 1500, 'max_depth': 60, 'num_leaves': 50, 'min_child_samples': 170, 'colsample_bytree': '0.956', 'subsample': '0.896', 'min_split_gain': '0.163', 'scale_pos_weight': '5.133', 'reg_alpha': '11.535', 'reg_lambda': '77.083', 'learning_rate': '0.011'}\n",
            "RMSE Loss 0.820 params {'n_estimators': 1200, 'max_depth': 72, 'num_leaves': 30, 'min_child_samples': 180, 'colsample_bytree': '0.996', 'subsample': '0.904', 'min_split_gain': '0.251', 'scale_pos_weight': '4.173', 'reg_alpha': '1.030', 'reg_lambda': '58.384', 'learning_rate': '0.043'}\n",
            "RMSE Loss 0.825 params {'n_estimators': 1300, 'max_depth': 84, 'num_leaves': 20, 'min_child_samples': 250, 'colsample_bytree': '0.934', 'subsample': '0.983', 'min_split_gain': '0.022', 'scale_pos_weight': '5.778', 'reg_alpha': '10.598', 'reg_lambda': '72.381', 'learning_rate': '0.065'}\n",
            "RMSE Loss 0.820 params {'n_estimators': 1400, 'max_depth': 36, 'num_leaves': 50, 'min_child_samples': 160, 'colsample_bytree': '0.717', 'subsample': '0.999', 'min_split_gain': '0.152', 'scale_pos_weight': '3.128', 'reg_alpha': '45.857', 'reg_lambda': '82.271', 'learning_rate': '0.033'}\n",
            "RMSE Loss 0.819 params {'n_estimators': 900, 'max_depth': 51, 'num_leaves': 40, 'min_child_samples': 110, 'colsample_bytree': '0.783', 'subsample': '0.854', 'min_split_gain': '0.263', 'scale_pos_weight': '4.734', 'reg_alpha': '5.609', 'reg_lambda': '58.857', 'learning_rate': '0.020'}\n",
            "RMSE Loss 0.820 params {'n_estimators': 850, 'max_depth': 53, 'num_leaves': 40, 'min_child_samples': 30, 'colsample_bytree': '0.564', 'subsample': '0.853', 'min_split_gain': '0.237', 'scale_pos_weight': '6.227', 'reg_alpha': '25.645', 'reg_lambda': '57.231', 'learning_rate': '0.018'}\n",
            "RMSE Loss 0.820 params {'n_estimators': 100, 'max_depth': 25, 'num_leaves': 30, 'min_child_samples': 110, 'colsample_bytree': '0.787', 'subsample': '0.739', 'min_split_gain': '0.290', 'scale_pos_weight': '1.659', 'reg_alpha': '41.214', 'reg_lambda': '28.828', 'learning_rate': '0.072'}\n",
            "RMSE Loss 0.820 params {'n_estimators': 900, 'max_depth': 47, 'num_leaves': 50, 'min_child_samples': 80, 'colsample_bytree': '0.919', 'subsample': '0.939', 'min_split_gain': '0.127', 'scale_pos_weight': '4.562', 'reg_alpha': '53.886', 'reg_lambda': '99.924', 'learning_rate': '0.109'}\n",
            "RMSE Loss 0.820 params {'n_estimators': 1150, 'max_depth': 16, 'num_leaves': 40, 'min_child_samples': 40, 'colsample_bytree': '0.716', 'subsample': '0.845', 'min_split_gain': '0.536', 'scale_pos_weight': '2.984', 'reg_alpha': '29.122', 'reg_lambda': '54.466', 'learning_rate': '0.021'}\n",
            "RMSE Loss 0.819 params {'n_estimators': 1100, 'max_depth': 34, 'num_leaves': 30, 'min_child_samples': 120, 'colsample_bytree': '0.794', 'subsample': '0.928', 'min_split_gain': '0.260', 'scale_pos_weight': '6.165', 'reg_alpha': '8.541', 'reg_lambda': '63.824', 'learning_rate': '0.034'}\n",
            "RMSE Loss 0.820 params {'n_estimators': 950, 'max_depth': 29, 'num_leaves': 70, 'min_child_samples': 60, 'colsample_bytree': '0.581', 'subsample': '0.742', 'min_split_gain': '0.410', 'scale_pos_weight': '7.772', 'reg_alpha': '15.096', 'reg_lambda': '47.020', 'learning_rate': '0.038'}\n",
            "RMSE Loss 0.820 params {'n_estimators': 1100, 'max_depth': 9, 'num_leaves': 30, 'min_child_samples': 120, 'colsample_bytree': '0.792', 'subsample': '0.923', 'min_split_gain': '0.274', 'scale_pos_weight': '8.911', 'reg_alpha': '40.957', 'reg_lambda': '92.016', 'learning_rate': '0.062'}\n",
            "RMSE Loss 0.820 params {'n_estimators': 950, 'max_depth': 39, 'num_leaves': 50, 'min_child_samples': 20, 'colsample_bytree': '0.669', 'subsample': '0.819', 'min_split_gain': '0.491', 'scale_pos_weight': '6.268', 'reg_alpha': '7.561', 'reg_lambda': '61.657', 'learning_rate': '0.087'}\n",
            "RMSE Loss 0.821 params {'n_estimators': 850, 'max_depth': 17, 'num_leaves': 70, 'min_child_samples': 90, 'colsample_bytree': '0.607', 'subsample': '0.867', 'min_split_gain': '0.314', 'scale_pos_weight': '8.696', 'reg_alpha': '63.829', 'reg_lambda': '82.554', 'learning_rate': '0.026'}\n",
            "RMSE Loss 0.820 params {'n_estimators': 600, 'max_depth': 51, 'num_leaves': 40, 'min_child_samples': 50, 'colsample_bytree': '0.736', 'subsample': '0.551', 'min_split_gain': '0.696', 'scale_pos_weight': '5.955', 'reg_alpha': '26.771', 'reg_lambda': '32.039', 'learning_rate': '0.053'}\n",
            "RMSE Loss 0.820 params {'n_estimators': 1050, 'max_depth': 12, 'num_leaves': 40, 'min_child_samples': 140, 'colsample_bytree': '0.799', 'subsample': '0.708', 'min_split_gain': '0.395', 'scale_pos_weight': '9.992', 'reg_alpha': '36.795', 'reg_lambda': '54.145', 'learning_rate': '0.014'}\n",
            "RMSE Loss 0.823 params {'n_estimators': 750, 'max_depth': 40, 'num_leaves': 30, 'min_child_samples': 110, 'colsample_bytree': '0.756', 'subsample': '0.805', 'min_split_gain': '0.326', 'scale_pos_weight': '7.539', 'reg_alpha': '99.673', 'reg_lambda': '26.620', 'learning_rate': '0.258'}\n",
            "RMSE Loss 0.819 params {'n_estimators': 1300, 'max_depth': 28, 'num_leaves': 60, 'min_child_samples': 200, 'colsample_bytree': '0.813', 'subsample': '0.954', 'min_split_gain': '0.265', 'scale_pos_weight': '6.499', 'reg_alpha': '16.134', 'reg_lambda': '86.153', 'learning_rate': '0.017'}\n",
            "RMSE Loss 0.820 params {'n_estimators': 400, 'max_depth': 32, 'num_leaves': 50, 'min_child_samples': 150, 'colsample_bytree': '0.658', 'subsample': '0.361', 'min_split_gain': '0.223', 'scale_pos_weight': '5.490', 'reg_alpha': '23.827', 'reg_lambda': '42.714', 'learning_rate': '0.099'}\n",
            "RMSE Loss 0.821 params {'n_estimators': 1100, 'max_depth': 48, 'num_leaves': 60, 'min_child_samples': 120, 'colsample_bytree': '0.617', 'subsample': '0.676', 'min_split_gain': '0.473', 'scale_pos_weight': '3.694', 'reg_alpha': '55.189', 'reg_lambda': '49.584', 'learning_rate': '0.037'}\n",
            "RMSE Loss 0.821 params {'n_estimators': 650, 'max_depth': 57, 'num_leaves': 30, 'min_child_samples': 100, 'colsample_bytree': '0.687', 'subsample': '0.746', 'min_split_gain': '0.340', 'scale_pos_weight': '1.774', 'reg_alpha': '69.120', 'reg_lambda': '37.221', 'learning_rate': '0.078'}\n",
            "RMSE Loss 0.822 params {'n_estimators': 1000, 'max_depth': 41, 'num_leaves': 40, 'min_child_samples': 190, 'colsample_bytree': '0.514', 'subsample': '0.603', 'min_split_gain': '0.420', 'scale_pos_weight': '5.461', 'reg_alpha': '58.840', 'reg_lambda': '76.420', 'learning_rate': '0.053'}\n",
            "RMSE Loss 0.820 params {'n_estimators': 500, 'max_depth': 71, 'num_leaves': 70, 'min_child_samples': 130, 'colsample_bytree': '0.831', 'subsample': '0.870', 'min_split_gain': '0.126', 'scale_pos_weight': '7.376', 'reg_alpha': '47.217', 'reg_lambda': '6.199', 'learning_rate': '0.118'}\n",
            "RMSE Loss 0.820 params {'n_estimators': 750, 'max_depth': 35, 'num_leaves': 50, 'min_child_samples': 50, 'colsample_bytree': '0.908', 'subsample': '0.774', 'min_split_gain': '0.541', 'scale_pos_weight': '8.194', 'reg_alpha': '40.477', 'reg_lambda': '64.560', 'learning_rate': '0.020'}\n",
            "RMSE Loss 0.820 params {'n_estimators': 850, 'max_depth': 44, 'num_leaves': 30, 'min_child_samples': 10, 'colsample_bytree': '0.380', 'subsample': '0.930', 'min_split_gain': '0.369', 'scale_pos_weight': '6.526', 'reg_alpha': '6.933', 'reg_lambda': '23.578', 'learning_rate': '0.032'}\n",
            "RMSE Loss 0.820 params {'n_estimators': 1150, 'max_depth': 23, 'num_leaves': 40, 'min_child_samples': 80, 'colsample_bytree': '0.467', 'subsample': '0.836', 'min_split_gain': '0.066', 'scale_pos_weight': '2.639', 'reg_alpha': '36.060', 'reg_lambda': '86.517', 'learning_rate': '0.013'}\n",
            "RMSE Loss 0.820 params {'n_estimators': 650, 'max_depth': 55, 'num_leaves': 90, 'min_child_samples': 150, 'colsample_bytree': '0.756', 'subsample': '0.565', 'min_split_gain': '0.052', 'scale_pos_weight': '4.840', 'reg_alpha': '20.044', 'reg_lambda': '37.668', 'learning_rate': '0.027'}\n",
            "RMSE Loss 0.820 params {'n_estimators': 1000, 'max_depth': 91, 'num_leaves': 30, 'min_child_samples': 70, 'colsample_bytree': '0.854', 'subsample': '0.670', 'min_split_gain': '0.593', 'scale_pos_weight': '1.341', 'reg_alpha': '12.532', 'reg_lambda': '79.191', 'learning_rate': '0.025'}\n",
            "RMSE Loss 0.821 params {'n_estimators': 250, 'max_depth': 77, 'num_leaves': 20, 'min_child_samples': 130, 'colsample_bytree': '0.634', 'subsample': '0.633', 'min_split_gain': '0.444', 'scale_pos_weight': '4.006', 'reg_alpha': '29.704', 'reg_lambda': '72.826', 'learning_rate': '0.316'}\n",
            "RMSE Loss 0.821 params {'n_estimators': 1250, 'max_depth': 51, 'num_leaves': 60, 'min_child_samples': 100, 'colsample_bytree': '0.875', 'subsample': '0.699', 'min_split_gain': '0.194', 'scale_pos_weight': '6.855', 'reg_alpha': '71.819', 'reg_lambda': '46.088', 'learning_rate': '0.015'}\n",
            "RMSE Loss 0.822 params {'n_estimators': 900, 'max_depth': 5, 'num_leaves': 50, 'min_child_samples': 210, 'colsample_bytree': '0.704', 'subsample': '0.379', 'min_split_gain': '0.290', 'scale_pos_weight': '5.923', 'reg_alpha': '92.369', 'reg_lambda': '13.966', 'learning_rate': '0.046'}\n",
            "RMSE Loss 0.820 params {'n_estimators': 1350, 'max_depth': 99, 'num_leaves': 80, 'min_child_samples': 60, 'colsample_bytree': '0.823', 'subsample': '0.964', 'min_split_gain': '0.383', 'scale_pos_weight': '7.141', 'reg_alpha': '0.557', 'reg_lambda': '96.520', 'learning_rate': '0.038'}\n",
            "RMSE Loss 0.820 params {'n_estimators': 700, 'max_depth': 63, 'num_leaves': 20, 'min_child_samples': 30, 'colsample_bytree': '0.954', 'subsample': '0.891', 'min_split_gain': '0.003', 'scale_pos_weight': '3.811', 'reg_alpha': '49.464', 'reg_lambda': '61.716', 'learning_rate': '0.013'}\n",
            "RMSE Loss 0.821 params {'n_estimators': 500, 'max_depth': 34, 'num_leaves': 40, 'min_child_samples': 270, 'colsample_bytree': '0.304', 'subsample': '0.798', 'min_split_gain': '0.132', 'scale_pos_weight': '4.703', 'reg_alpha': '6.423', 'reg_lambda': '0.655', 'learning_rate': '0.058'}\n",
            "RMSE Loss 0.819 params {'n_estimators': 1450, 'max_depth': 43, 'num_leaves': 20, 'min_child_samples': 160, 'colsample_bytree': '0.734', 'subsample': '0.526', 'min_split_gain': '0.229', 'scale_pos_weight': '5.194', 'reg_alpha': '17.677', 'reg_lambda': '55.017', 'learning_rate': '0.018'}\n",
            "RMSE Loss 0.822 params {'n_estimators': 1200, 'max_depth': 19, 'num_leaves': 60, 'min_child_samples': 230, 'colsample_bytree': '0.594', 'subsample': '0.913', 'min_split_gain': '0.098', 'scale_pos_weight': '3.096', 'reg_alpha': '78.578', 'reg_lambda': '67.901', 'learning_rate': '0.169'}\n",
            "RMSE Loss 0.820 params {'n_estimators': 1100, 'max_depth': 26, 'num_leaves': 30, 'min_child_samples': 90, 'colsample_bytree': '0.535', 'subsample': '0.766', 'min_split_gain': '0.267', 'scale_pos_weight': '9.943', 'reg_alpha': '33.083', 'reg_lambda': '49.918', 'learning_rate': '0.016'}\n",
            "RMSE Loss 0.820 params {'n_estimators': 800, 'max_depth': 83, 'num_leaves': 40, 'min_child_samples': 110, 'colsample_bytree': '0.406', 'subsample': '0.711', 'min_split_gain': '0.698', 'scale_pos_weight': '2.289', 'reg_alpha': '13.170', 'reg_lambda': '88.805', 'learning_rate': '0.020'}\n",
            "RMSE Loss 0.820 params {'n_estimators': 100, 'max_depth': 68, 'num_leaves': 30, 'min_child_samples': 180, 'colsample_bytree': '0.906', 'subsample': '0.825', 'min_split_gain': '0.332', 'scale_pos_weight': '4.239', 'reg_alpha': '9.077', 'reg_lambda': '96.733', 'learning_rate': '0.047'}\n",
            "RMSE Loss 0.819 params {'n_estimators': 1250, 'max_depth': 75, 'num_leaves': 50, 'min_child_samples': 130, 'colsample_bytree': '0.768', 'subsample': '0.300', 'min_split_gain': '0.151', 'scale_pos_weight': '8.434', 'reg_alpha': '23.358', 'reg_lambda': '40.418', 'learning_rate': '0.023'}\n",
            "RMSE Loss 0.823 params {'n_estimators': 950, 'max_depth': 14, 'num_leaves': 70, 'min_child_samples': 70, 'colsample_bytree': '0.938', 'subsample': '0.874', 'min_split_gain': '0.369', 'scale_pos_weight': '2.723', 'reg_alpha': '0.052', 'reg_lambda': '33.073', 'learning_rate': '0.129'}\n",
            "RMSE Loss 0.819 params {'n_estimators': 1450, 'max_depth': 60, 'num_leaves': 20, 'min_child_samples': 160, 'colsample_bytree': '0.971', 'subsample': '0.996', 'min_split_gain': '0.181', 'scale_pos_weight': '5.307', 'reg_alpha': '4.674', 'reg_lambda': '65.380', 'learning_rate': '0.012'}\n",
            "RMSE Loss 0.819 params {'n_estimators': 1350, 'max_depth': 65, 'num_leaves': 20, 'min_child_samples': 190, 'colsample_bytree': '0.675', 'subsample': '0.974', 'min_split_gain': '0.202', 'scale_pos_weight': '3.415', 'reg_alpha': '9.708', 'reg_lambda': '59.144', 'learning_rate': '0.031'}\n",
            "RMSE Loss 0.819 params {'n_estimators': 1500, 'max_depth': 48, 'num_leaves': 20, 'min_child_samples': 220, 'colsample_bytree': '0.850', 'subsample': '0.943', 'min_split_gain': '0.242', 'scale_pos_weight': '4.356', 'reg_alpha': '3.053', 'reg_lambda': '72.970', 'learning_rate': '0.010'}\n",
            "RMSE Loss 0.819 params {'n_estimators': 900, 'max_depth': 49, 'num_leaves': 20, 'min_child_samples': 220, 'colsample_bytree': '0.848', 'subsample': '0.939', 'min_split_gain': '0.250', 'scale_pos_weight': '5.758', 'reg_alpha': '19.308', 'reg_lambda': '79.247', 'learning_rate': '0.023'}\n",
            "RMSE Loss 0.819 params {'n_estimators': 1150, 'max_depth': 37, 'num_leaves': 30, 'min_child_samples': 280, 'colsample_bytree': '0.882', 'subsample': '0.888', 'min_split_gain': '0.243', 'scale_pos_weight': '4.360', 'reg_alpha': '15.375', 'reg_lambda': '72.395', 'learning_rate': '0.016'}\n",
            "RMSE Loss 0.820 params {'n_estimators': 600, 'max_depth': 30, 'num_leaves': 40, 'min_child_samples': 140, 'colsample_bytree': '0.778', 'subsample': '0.951', 'min_split_gain': '0.355', 'scale_pos_weight': '4.926', 'reg_alpha': '27.278', 'reg_lambda': '62.261', 'learning_rate': '0.019'}\n",
            "RMSE Loss 0.819 params {'n_estimators': 1350, 'max_depth': 55, 'num_leaves': 20, 'min_child_samples': 240, 'colsample_bytree': '0.805', 'subsample': '0.854', 'min_split_gain': '0.307', 'scale_pos_weight': '6.216', 'reg_alpha': '3.359', 'reg_lambda': '69.229', 'learning_rate': '0.013'}\n",
            "RMSE Loss 0.820 params {'n_estimators': 1050, 'max_depth': 47, 'num_leaves': 30, 'min_child_samples': 200, 'colsample_bytree': '0.649', 'subsample': '0.986', 'min_split_gain': '0.274', 'scale_pos_weight': '6.572', 'reg_alpha': '38.694', 'reg_lambda': '57.534', 'learning_rate': '0.040'}\n",
            "RMSE Loss 0.820 params {'n_estimators': 700, 'max_depth': 22, 'num_leaves': 30, 'min_child_samples': 90, 'colsample_bytree': '0.868', 'subsample': '0.801', 'min_split_gain': '0.295', 'scale_pos_weight': '3.837', 'reg_alpha': '0.010', 'reg_lambda': '75.005', 'learning_rate': '0.033'}\n",
            "RMSE Loss 0.820 params {'n_estimators': 1450, 'max_depth': 42, 'num_leaves': 20, 'min_child_samples': 250, 'colsample_bytree': '0.734', 'subsample': '0.918', 'min_split_gain': '0.207', 'scale_pos_weight': '5.528', 'reg_alpha': '43.512', 'reg_lambda': '52.498', 'learning_rate': '0.011'}\n",
            "RMSE Loss 0.819 params {'n_estimators': 1250, 'max_depth': 38, 'num_leaves': 40, 'min_child_samples': 210, 'colsample_bytree': '0.931', 'subsample': '0.756', 'min_split_gain': '0.113', 'scale_pos_weight': '7.752', 'reg_alpha': '23.082', 'reg_lambda': '80.268', 'learning_rate': '0.026'}\n",
            "RMSE Loss 0.820 params {'n_estimators': 1500, 'max_depth': 53, 'num_leaves': 50, 'min_child_samples': 220, 'colsample_bytree': '0.973', 'subsample': '0.719', 'min_split_gain': '0.051', 'scale_pos_weight': '9.638', 'reg_alpha': '22.199', 'reg_lambda': '93.994', 'learning_rate': '0.026'}\n",
            "RMSE Loss 0.823 params {'n_estimators': 1250, 'max_depth': 38, 'num_leaves': 60, 'min_child_samples': 260, 'colsample_bytree': '0.928', 'subsample': '0.817', 'min_split_gain': '0.024', 'scale_pos_weight': '7.795', 'reg_alpha': '13.229', 'reg_lambda': '84.962', 'learning_rate': '0.029'}\n",
            "RMSE Loss 0.819 params {'n_estimators': 1400, 'max_depth': 61, 'num_leaves': 50, 'min_child_samples': 230, 'colsample_bytree': '0.947', 'subsample': '0.621', 'min_split_gain': '0.118', 'scale_pos_weight': '9.069', 'reg_alpha': '30.004', 'reg_lambda': '89.772', 'learning_rate': '0.014'}\n",
            "RMSE Loss 0.820 params {'n_estimators': 400, 'max_depth': 70, 'num_leaves': 40, 'min_child_samples': 210, 'colsample_bytree': '0.897', 'subsample': '0.782', 'min_split_gain': '0.084', 'scale_pos_weight': '3.292', 'reg_alpha': '25.476', 'reg_lambda': '78.440', 'learning_rate': '0.010'}\n",
            "RMSE Loss 0.820 params {'n_estimators': 1200, 'max_depth': 46, 'num_leaves': 80, 'min_child_samples': 290, 'colsample_bytree': '0.841', 'subsample': '0.751', 'min_split_gain': '0.144', 'scale_pos_weight': '2.865', 'reg_alpha': '34.758', 'reg_lambda': '80.817', 'learning_rate': '0.021'}\n",
            "RMSE Loss 0.820 params {'n_estimators': 1300, 'max_depth': 57, 'num_leaves': 40, 'min_child_samples': 190, 'colsample_bytree': '0.989', 'subsample': '0.726', 'min_split_gain': '0.169', 'scale_pos_weight': '2.030', 'reg_alpha': '17.838', 'reg_lambda': '97.620', 'learning_rate': '0.074'}\n",
            "RMSE Loss 0.823 params {'n_estimators': 150, 'max_depth': 50, 'num_leaves': 100, 'min_child_samples': 240, 'colsample_bytree': '0.822', 'subsample': '0.656', 'min_split_gain': '0.008', 'scale_pos_weight': '4.647', 'reg_alpha': '5.597', 'reg_lambda': '74.729', 'learning_rate': '0.084'}\n",
            "RMSE Loss 0.820 params {'n_estimators': 1450, 'max_depth': 32, 'num_leaves': 50, 'min_child_samples': 270, 'colsample_bytree': '0.918', 'subsample': '0.850', 'min_split_gain': '0.114', 'scale_pos_weight': '3.618', 'reg_alpha': '59.498', 'reg_lambda': '71.087', 'learning_rate': '0.017'}\n",
            "RMSE Loss 0.822 params {'n_estimators': 1000, 'max_depth': 9, 'num_leaves': 70, 'min_child_samples': 170, 'colsample_bytree': '0.704', 'subsample': '0.762', 'min_split_gain': '0.420', 'scale_pos_weight': '7.478', 'reg_alpha': '84.946', 'reg_lambda': '68.265', 'learning_rate': '0.013'}\n",
            "RMSE Loss 0.840 params {'n_estimators': 1150, 'max_depth': 27, 'num_leaves': 60, 'min_child_samples': 210, 'colsample_bytree': '0.862', 'subsample': '0.692', 'min_split_gain': '0.052', 'scale_pos_weight': '4.054', 'reg_alpha': '2.880', 'reg_lambda': '66.697', 'learning_rate': '0.222'}\n",
            "RMSE Loss 0.820 params {'n_estimators': 750, 'max_depth': 74, 'num_leaves': 40, 'min_child_samples': 240, 'colsample_bytree': '0.774', 'subsample': '0.597', 'min_split_gain': '0.085', 'scale_pos_weight': '8.431', 'reg_alpha': '43.878', 'reg_lambda': '84.180', 'learning_rate': '0.066'}\n",
            "RMSE Loss 0.820 params {'n_estimators': 550, 'max_depth': 44, 'num_leaves': 30, 'min_child_samples': 180, 'colsample_bytree': '0.750', 'subsample': '0.879', 'min_split_gain': '0.471', 'scale_pos_weight': '5.073', 'reg_alpha': '14.491', 'reg_lambda': '56.086', 'learning_rate': '0.098'}\n",
            "RMSE Loss 0.820 params {'n_estimators': 1400, 'max_depth': 80, 'num_leaves': 40, 'min_child_samples': 150, 'colsample_bytree': '0.892', 'subsample': '0.905', 'min_split_gain': '0.221', 'scale_pos_weight': '6.028', 'reg_alpha': '10.623', 'reg_lambda': '43.393', 'learning_rate': '0.049'}\n",
            "RMSE Loss 0.820 params {'n_estimators': 1050, 'max_depth': 54, 'num_leaves': 90, 'min_child_samples': 220, 'colsample_bytree': '0.981', 'subsample': '0.812', 'min_split_gain': '0.176', 'scale_pos_weight': '6.750', 'reg_alpha': '20.345', 'reg_lambda': '45.747', 'learning_rate': '0.043'}\n",
            "RMSE Loss 0.822 params {'n_estimators': 300, 'max_depth': 87, 'num_leaves': 50, 'min_child_samples': 260, 'colsample_bytree': '0.808', 'subsample': '0.835', 'min_split_gain': '0.281', 'scale_pos_weight': '7.987', 'reg_alpha': '49.967', 'reg_lambda': '52.656', 'learning_rate': '0.010'}\n",
            "RMSE Loss 0.820 params {'n_estimators': 800, 'max_depth': 39, 'num_leaves': 60, 'min_child_samples': 200, 'colsample_bytree': '0.834', 'subsample': '0.733', 'min_split_gain': '0.317', 'scale_pos_weight': '7.273', 'reg_alpha': '7.799', 'reg_lambda': '94.069', 'learning_rate': '0.019'}\n",
            "RMSE Loss 0.821 params {'n_estimators': 1200, 'max_depth': 67, 'num_leaves': 50, 'min_child_samples': 230, 'colsample_bytree': '0.565', 'subsample': '0.789', 'min_split_gain': '0.677', 'scale_pos_weight': '4.789', 'reg_alpha': '37.232', 'reg_lambda': '61.031', 'learning_rate': '0.011'}\n",
            "RMSE Loss 0.821 params {'n_estimators': 900, 'max_depth': 30, 'num_leaves': 20, 'min_child_samples': 140, 'colsample_bytree': '0.723', 'subsample': '0.417', 'min_split_gain': '0.400', 'scale_pos_weight': '2.328', 'reg_alpha': '27.138', 'reg_lambda': '80.934', 'learning_rate': '0.401'}\n",
            "RMSE Loss 0.820 params {'n_estimators': 1350, 'max_depth': 62, 'num_leaves': 70, 'min_child_samples': 300, 'colsample_bytree': '0.914', 'subsample': '0.865', 'min_split_gain': '0.343', 'scale_pos_weight': '4.476', 'reg_alpha': '23.179', 'reg_lambda': '87.270', 'learning_rate': '0.035'}\n",
            "RMSE Loss 0.820 params {'n_estimators': 1300, 'max_depth': 20, 'num_leaves': 40, 'min_child_samples': 180, 'colsample_bytree': '0.680', 'subsample': '0.663', 'min_split_gain': '0.161', 'scale_pos_weight': '5.655', 'reg_alpha': '18.092', 'reg_lambda': '48.659', 'learning_rate': '0.055'}\n",
            "RMSE Loss 0.819 params {'n_estimators': 950, 'max_depth': 24, 'num_leaves': 30, 'min_child_samples': 280, 'colsample_bytree': '0.700', 'subsample': '0.690', 'min_split_gain': '0.137', 'scale_pos_weight': '1.206', 'reg_alpha': '31.790', 'reg_lambda': '73.400', 'learning_rate': '0.031'}\n",
            "RMSE Loss 0.819 params {'n_estimators': 850, 'max_depth': 56, 'num_leaves': 30, 'min_child_samples': 170, 'colsample_bytree': '0.662', 'subsample': '0.633', 'min_split_gain': '0.513', 'scale_pos_weight': '8.860', 'reg_alpha': '4.671', 'reg_lambda': '77.169', 'learning_rate': '0.024'}\n",
            "RMSE Loss 0.820 params {'n_estimators': 1500, 'max_depth': 59, 'num_leaves': 40, 'min_child_samples': 190, 'colsample_bytree': '0.956', 'subsample': '0.754', 'min_split_gain': '0.034', 'scale_pos_weight': '7.061', 'reg_alpha': '55.961', 'reg_lambda': '99.544', 'learning_rate': '0.015'}\n",
            "RMSE Loss 0.821 params {'n_estimators': 1050, 'max_depth': 52, 'num_leaves': 20, 'min_child_samples': 160, 'colsample_bytree': '0.620', 'subsample': '0.485', 'min_split_gain': '0.380', 'scale_pos_weight': '4.306', 'reg_alpha': '51.931', 'reg_lambda': '70.801', 'learning_rate': '0.061'}\n",
            "100%|██████████| 100/100 [40:13<00:00, 24.14s/it, best loss: 0.8190750074839114]\n"
          ]
        }
      ],
      "source": [
        "space = {\n",
        "    'n_estimators' : hp.quniform('n_estimators', 100, 1500, 50),\n",
        "    'max_depth': hp.quniform('max_depth', 3, 100, 1),\n",
        "    'num_leaves': hp.quniform('num_leaves', 20, 100, 10),\n",
        "    'min_child_samples': hp.quniform('min_child_samples', 10, 300, 10),\n",
        "    'colsample_bytree': hp.uniform('colsample_bytree', 0.3, 1.0),\n",
        "    'subsample': hp.uniform('subsample', 0.3, 1.0),\n",
        "    'min_split_gain': hp.uniform('min_split_gain', 0, 0.7),\n",
        "    'scale_pos_weight': hp.uniform('scale_pos_weight', 1, 10),\n",
        "    'reg_alpha': hp.uniform('reg_alpha', 0, 100),\n",
        "    'reg_lambda': hp.uniform('reg_lambda', 0, 100),\n",
        "    'learning_rate': hp.loguniform('learning_rate', np.log(0.01), np.log(0.5)),\n",
        "}\n",
        "\n",
        "# rstate = np.random.RandomState(42)\n",
        "best_y11 = fmin(fn = objective,\n",
        "            space = space,\n",
        "            algo = tpe.suggest,\n",
        "            max_evals = 100)"
      ],
      "id": "PBthuo2Z8tZA"
    },
    {
      "cell_type": "code",
      "source": [],
      "metadata": {
        "id": "xmSgrdT48t2X"
      },
      "execution_count": null,
      "outputs": [],
      "id": "xmSgrdT48t2X"
    },
    {
      "cell_type": "code",
      "execution_count": null,
      "metadata": {
        "id": "PCKoQnlt8t2X"
      },
      "outputs": [],
      "source": [
        "train_x_for_y12, test_x_for_y12 = train_x[c11], test_x[c11]\n",
        "train_y_12 = train_y['Y_12']"
      ],
      "id": "PCKoQnlt8t2X"
    },
    {
      "cell_type": "code",
      "execution_count": null,
      "metadata": {
        "id": "L0b--zTa8t2X"
      },
      "outputs": [],
      "source": [
        "def objective(params):\n",
        "\n",
        "    params = {\n",
        "        'n_estimators': int(params['n_estimators']),\n",
        "        'max_depth': int(params['max_depth']),\n",
        "        'num_leaves': int(params['num_leaves']),\n",
        "        'min_child_samples': int(params['min_child_samples']),\n",
        "        'colsample_bytree': '{:.3f}'.format(params['colsample_bytree']),\n",
        "        'subsample': '{:.3f}'.format(params['subsample']),\n",
        "        'min_split_gain': '{:.3f}'.format(params['min_split_gain']),\n",
        "        'scale_pos_weight': '{:.3f}'.format(params['scale_pos_weight']),\n",
        "        'reg_alpha': '{:.3f}'.format(params['reg_alpha']),\n",
        "        'reg_lambda': '{:.3f}'.format(params['reg_lambda']),\n",
        "        'learning_rate': '{:.3f}'.format(params['learning_rate']),\n",
        "        \n",
        "    }\n",
        "    \n",
        "    model = LGBMRegressor(\n",
        "        n_jobs = -1,\n",
        "        random_state = 42,\n",
        "        **params\n",
        "    )\n",
        "    \n",
        "    loss = -cross_val_score(model, train_x_for_y12, train_y_12, cv=10, scoring=make_scorer(rmse, greater_is_better=False)).mean()\n",
        "    print(\"RMSE Loss {:.3f} params {}\".format(loss, params))\n",
        "    return loss"
      ],
      "id": "L0b--zTa8t2X"
    },
    {
      "cell_type": "code",
      "execution_count": null,
      "metadata": {
        "id": "yp2VzcEr8t2Y",
        "colab": {
          "base_uri": "https://localhost:8080/"
        },
        "outputId": "02dc9b5c-ad8e-4888-ebe5-13ed7537e75c"
      },
      "outputs": [
        {
          "output_type": "stream",
          "name": "stdout",
          "text": [
            "RMSE Loss 0.636 params {'n_estimators': 300, 'max_depth': 35, 'num_leaves': 90, 'min_child_samples': 260, 'colsample_bytree': '0.656', 'subsample': '0.455', 'min_split_gain': '0.218', 'scale_pos_weight': '1.522', 'reg_alpha': '86.043', 'reg_lambda': '66.811', 'learning_rate': '0.075'}\n",
            "RMSE Loss 0.636 params {'n_estimators': 900, 'max_depth': 41, 'num_leaves': 60, 'min_child_samples': 130, 'colsample_bytree': '0.905', 'subsample': '0.401', 'min_split_gain': '0.116', 'scale_pos_weight': '1.499', 'reg_alpha': '94.508', 'reg_lambda': '43.977', 'learning_rate': '0.224'}\n",
            "RMSE Loss 0.635 params {'n_estimators': 1000, 'max_depth': 68, 'num_leaves': 40, 'min_child_samples': 210, 'colsample_bytree': '0.387', 'subsample': '0.581', 'min_split_gain': '0.043', 'scale_pos_weight': '1.947', 'reg_alpha': '69.458', 'reg_lambda': '7.956', 'learning_rate': '0.012'}\n",
            "RMSE Loss 0.636 params {'n_estimators': 550, 'max_depth': 15, 'num_leaves': 80, 'min_child_samples': 90, 'colsample_bytree': '0.534', 'subsample': '0.344', 'min_split_gain': '0.061', 'scale_pos_weight': '7.712', 'reg_alpha': '75.555', 'reg_lambda': '46.240', 'learning_rate': '0.011'}\n",
            "RMSE Loss 0.636 params {'n_estimators': 1100, 'max_depth': 88, 'num_leaves': 40, 'min_child_samples': 120, 'colsample_bytree': '0.462', 'subsample': '0.655', 'min_split_gain': '0.467', 'scale_pos_weight': '2.102', 'reg_alpha': '64.329', 'reg_lambda': '14.249', 'learning_rate': '0.014'}\n",
            "RMSE Loss 0.636 params {'n_estimators': 150, 'max_depth': 81, 'num_leaves': 90, 'min_child_samples': 250, 'colsample_bytree': '0.615', 'subsample': '0.465', 'min_split_gain': '0.206', 'scale_pos_weight': '8.832', 'reg_alpha': '78.977', 'reg_lambda': '46.667', 'learning_rate': '0.105'}\n",
            "RMSE Loss 0.637 params {'n_estimators': 150, 'max_depth': 29, 'num_leaves': 30, 'min_child_samples': 250, 'colsample_bytree': '0.370', 'subsample': '0.426', 'min_split_gain': '0.562', 'scale_pos_weight': '5.781', 'reg_alpha': '81.532', 'reg_lambda': '84.468', 'learning_rate': '0.084'}\n",
            "RMSE Loss 0.636 params {'n_estimators': 1150, 'max_depth': 72, 'num_leaves': 60, 'min_child_samples': 70, 'colsample_bytree': '0.789', 'subsample': '0.908', 'min_split_gain': '0.637', 'scale_pos_weight': '5.686', 'reg_alpha': '76.402', 'reg_lambda': '54.485', 'learning_rate': '0.015'}\n",
            "RMSE Loss 0.634 params {'n_estimators': 650, 'max_depth': 21, 'num_leaves': 70, 'min_child_samples': 170, 'colsample_bytree': '0.765', 'subsample': '0.631', 'min_split_gain': '0.112', 'scale_pos_weight': '4.076', 'reg_alpha': '27.684', 'reg_lambda': '96.884', 'learning_rate': '0.039'}\n",
            "RMSE Loss 0.635 params {'n_estimators': 1300, 'max_depth': 83, 'num_leaves': 80, 'min_child_samples': 160, 'colsample_bytree': '0.798', 'subsample': '0.366', 'min_split_gain': '0.332', 'scale_pos_weight': '9.353', 'reg_alpha': '31.457', 'reg_lambda': '75.056', 'learning_rate': '0.216'}\n",
            "RMSE Loss 0.635 params {'n_estimators': 1100, 'max_depth': 47, 'num_leaves': 70, 'min_child_samples': 20, 'colsample_bytree': '0.392', 'subsample': '0.878', 'min_split_gain': '0.229', 'scale_pos_weight': '1.225', 'reg_alpha': '37.528', 'reg_lambda': '81.252', 'learning_rate': '0.122'}\n",
            "RMSE Loss 0.634 params {'n_estimators': 1300, 'max_depth': 57, 'num_leaves': 50, 'min_child_samples': 170, 'colsample_bytree': '0.923', 'subsample': '0.610', 'min_split_gain': '0.258', 'scale_pos_weight': '4.291', 'reg_alpha': '6.193', 'reg_lambda': '48.375', 'learning_rate': '0.137'}\n",
            "RMSE Loss 0.636 params {'n_estimators': 100, 'max_depth': 79, 'num_leaves': 80, 'min_child_samples': 140, 'colsample_bytree': '0.443', 'subsample': '0.689', 'min_split_gain': '0.496', 'scale_pos_weight': '8.987', 'reg_alpha': '38.712', 'reg_lambda': '54.959', 'learning_rate': '0.041'}\n",
            "RMSE Loss 0.636 params {'n_estimators': 950, 'max_depth': 39, 'num_leaves': 60, 'min_child_samples': 180, 'colsample_bytree': '0.648', 'subsample': '0.578', 'min_split_gain': '0.560', 'scale_pos_weight': '8.357', 'reg_alpha': '76.080', 'reg_lambda': '62.431', 'learning_rate': '0.010'}\n",
            "RMSE Loss 0.637 params {'n_estimators': 450, 'max_depth': 84, 'num_leaves': 70, 'min_child_samples': 160, 'colsample_bytree': '0.436', 'subsample': '0.886', 'min_split_gain': '0.570', 'scale_pos_weight': '1.441', 'reg_alpha': '94.464', 'reg_lambda': '37.972', 'learning_rate': '0.011'}\n",
            "RMSE Loss 0.637 params {'n_estimators': 900, 'max_depth': 43, 'num_leaves': 50, 'min_child_samples': 240, 'colsample_bytree': '0.531', 'subsample': '0.808', 'min_split_gain': '0.684', 'scale_pos_weight': '6.217', 'reg_alpha': '86.179', 'reg_lambda': '51.963', 'learning_rate': '0.374'}\n",
            "RMSE Loss 0.634 params {'n_estimators': 1250, 'max_depth': 83, 'num_leaves': 60, 'min_child_samples': 50, 'colsample_bytree': '0.894', 'subsample': '0.314', 'min_split_gain': '0.101', 'scale_pos_weight': '9.306', 'reg_alpha': '25.790', 'reg_lambda': '29.120', 'learning_rate': '0.011'}\n",
            "RMSE Loss 0.637 params {'n_estimators': 350, 'max_depth': 43, 'num_leaves': 90, 'min_child_samples': 130, 'colsample_bytree': '0.990', 'subsample': '0.689', 'min_split_gain': '0.505', 'scale_pos_weight': '6.799', 'reg_alpha': '77.954', 'reg_lambda': '32.541', 'learning_rate': '0.306'}\n",
            "RMSE Loss 0.635 params {'n_estimators': 200, 'max_depth': 73, 'num_leaves': 60, 'min_child_samples': 140, 'colsample_bytree': '0.633', 'subsample': '0.606', 'min_split_gain': '0.292', 'scale_pos_weight': '1.433', 'reg_alpha': '27.891', 'reg_lambda': '47.922', 'learning_rate': '0.043'}\n",
            "RMSE Loss 0.634 params {'n_estimators': 1450, 'max_depth': 69, 'num_leaves': 80, 'min_child_samples': 180, 'colsample_bytree': '0.682', 'subsample': '0.324', 'min_split_gain': '0.604', 'scale_pos_weight': '1.313', 'reg_alpha': '13.008', 'reg_lambda': '87.513', 'learning_rate': '0.060'}\n",
            "RMSE Loss 0.636 params {'n_estimators': 600, 'max_depth': 3, 'num_leaves': 70, 'min_child_samples': 30, 'colsample_bytree': '0.786', 'subsample': '0.998', 'min_split_gain': '0.140', 'scale_pos_weight': '4.303', 'reg_alpha': '52.963', 'reg_lambda': '97.277', 'learning_rate': '0.024'}\n",
            "RMSE Loss 0.634 params {'n_estimators': 700, 'max_depth': 97, 'num_leaves': 100, 'min_child_samples': 300, 'colsample_bytree': '0.867', 'subsample': '0.499', 'min_split_gain': '0.129', 'scale_pos_weight': '3.215', 'reg_alpha': '18.635', 'reg_lambda': '24.455', 'learning_rate': '0.022'}\n",
            "RMSE Loss 0.634 params {'n_estimators': 750, 'max_depth': 97, 'num_leaves': 20, 'min_child_samples': 290, 'colsample_bytree': '0.881', 'subsample': '0.522', 'min_split_gain': '0.401', 'scale_pos_weight': '2.934', 'reg_alpha': '16.694', 'reg_lambda': '24.251', 'learning_rate': '0.020'}\n",
            "RMSE Loss 0.638 params {'n_estimators': 800, 'max_depth': 100, 'num_leaves': 100, 'min_child_samples': 70, 'colsample_bytree': '0.947', 'subsample': '0.505', 'min_split_gain': '0.023', 'scale_pos_weight': '9.893', 'reg_alpha': '1.873', 'reg_lambda': '1.218', 'learning_rate': '0.024'}\n",
            "RMSE Loss 0.635 params {'n_estimators': 1450, 'max_depth': 94, 'num_leaves': 100, 'min_child_samples': 300, 'colsample_bytree': '0.845', 'subsample': '0.308', 'min_split_gain': '0.005', 'scale_pos_weight': '3.202', 'reg_alpha': '18.338', 'reg_lambda': '22.177', 'learning_rate': '0.030'}\n",
            "RMSE Loss 0.635 params {'n_estimators': 750, 'max_depth': 58, 'num_leaves': 20, 'min_child_samples': 50, 'colsample_bytree': '0.986', 'subsample': '0.759', 'min_split_gain': '0.170', 'scale_pos_weight': '4.885', 'reg_alpha': '47.463', 'reg_lambda': '28.108', 'learning_rate': '0.018'}\n",
            "RMSE Loss 0.634 params {'n_estimators': 1300, 'max_depth': 92, 'num_leaves': 30, 'min_child_samples': 90, 'colsample_bytree': '0.870', 'subsample': '0.510', 'min_split_gain': '0.081', 'scale_pos_weight': '7.260', 'reg_alpha': '9.006', 'reg_lambda': '12.142', 'learning_rate': '0.025'}\n",
            "RMSE Loss 0.633 params {'n_estimators': 450, 'max_depth': 90, 'num_leaves': 30, 'min_child_samples': 90, 'colsample_bytree': '0.724', 'subsample': '0.540', 'min_split_gain': '0.386', 'scale_pos_weight': '7.266', 'reg_alpha': '8.003', 'reg_lambda': '13.336', 'learning_rate': '0.032'}\n",
            "RMSE Loss 0.634 params {'n_estimators': 300, 'max_depth': 91, 'num_leaves': 30, 'min_child_samples': 100, 'colsample_bytree': '0.716', 'subsample': '0.535', 'min_split_gain': '0.416', 'scale_pos_weight': '7.592', 'reg_alpha': '8.588', 'reg_lambda': '0.903', 'learning_rate': '0.059'}\n",
            "RMSE Loss 0.633 params {'n_estimators': 450, 'max_depth': 62, 'num_leaves': 30, 'min_child_samples': 100, 'colsample_bytree': '0.717', 'subsample': '0.461', 'min_split_gain': '0.359', 'scale_pos_weight': '6.862', 'reg_alpha': '2.607', 'reg_lambda': '13.961', 'learning_rate': '0.030'}\n",
            "RMSE Loss 0.635 params {'n_estimators': 500, 'max_depth': 63, 'num_leaves': 40, 'min_child_samples': 110, 'colsample_bytree': '0.580', 'subsample': '0.402', 'min_split_gain': '0.370', 'scale_pos_weight': '6.620', 'reg_alpha': '54.241', 'reg_lambda': '16.769', 'learning_rate': '0.032'}\n",
            "RMSE Loss 0.634 params {'n_estimators': 400, 'max_depth': 52, 'num_leaves': 20, 'min_child_samples': 200, 'colsample_bytree': '0.728', 'subsample': '0.446', 'min_split_gain': '0.313', 'scale_pos_weight': '8.293', 'reg_alpha': '2.633', 'reg_lambda': '5.949', 'learning_rate': '0.074'}\n",
            "RMSE Loss 0.635 params {'n_estimators': 250, 'max_depth': 75, 'num_leaves': 50, 'min_child_samples': 70, 'colsample_bytree': '0.701', 'subsample': '0.557', 'min_split_gain': '0.427', 'scale_pos_weight': '5.068', 'reg_alpha': '45.985', 'reg_lambda': '39.886', 'learning_rate': '0.053'}\n",
            "RMSE Loss 0.636 params {'n_estimators': 450, 'max_depth': 63, 'num_leaves': 40, 'min_child_samples': 50, 'colsample_bytree': '0.509', 'subsample': '0.379', 'min_split_gain': '0.361', 'scale_pos_weight': '8.064', 'reg_alpha': '61.795', 'reg_lambda': '6.388', 'learning_rate': '0.032'}\n",
            "RMSE Loss 0.634 params {'n_estimators': 550, 'max_depth': 33, 'num_leaves': 30, 'min_child_samples': 90, 'colsample_bytree': '0.315', 'subsample': '0.456', 'min_split_gain': '0.459', 'scale_pos_weight': '7.017', 'reg_alpha': '1.546', 'reg_lambda': '18.847', 'learning_rate': '0.089'}\n",
            "RMSE Loss 0.636 params {'n_estimators': 300, 'max_depth': 3, 'num_leaves': 20, 'min_child_samples': 10, 'colsample_bytree': '0.599', 'subsample': '0.727', 'min_split_gain': '0.276', 'scale_pos_weight': '9.928', 'reg_alpha': '20.788', 'reg_lambda': '11.930', 'learning_rate': '0.015'}\n",
            "RMSE Loss 0.634 params {'n_estimators': 600, 'max_depth': 51, 'num_leaves': 40, 'min_child_samples': 220, 'colsample_bytree': '0.831', 'subsample': '0.665', 'min_split_gain': '0.199', 'scale_pos_weight': '6.243', 'reg_alpha': '13.556', 'reg_lambda': '35.059', 'learning_rate': '0.149'}\n",
            "RMSE Loss 0.635 params {'n_estimators': 850, 'max_depth': 21, 'num_leaves': 30, 'min_child_samples': 110, 'colsample_bytree': '0.568', 'subsample': '0.475', 'min_split_gain': '0.455', 'scale_pos_weight': '7.674', 'reg_alpha': '37.099', 'reg_lambda': '65.022', 'learning_rate': '0.019'}\n",
            "RMSE Loss 0.637 params {'n_estimators': 100, 'max_depth': 65, 'num_leaves': 50, 'min_child_samples': 80, 'colsample_bytree': '0.753', 'subsample': '0.558', 'min_split_gain': '0.517', 'scale_pos_weight': '6.098', 'reg_alpha': '99.555', 'reg_lambda': '2.897', 'learning_rate': '0.046'}\n",
            "RMSE Loss 0.635 params {'n_estimators': 400, 'max_depth': 88, 'num_leaves': 40, 'min_child_samples': 30, 'colsample_bytree': '0.655', 'subsample': '0.414', 'min_split_gain': '0.384', 'scale_pos_weight': '5.172', 'reg_alpha': '23.923', 'reg_lambda': '42.702', 'learning_rate': '0.195'}\n",
            "RMSE Loss 0.636 params {'n_estimators': 200, 'max_depth': 77, 'num_leaves': 30, 'min_child_samples': 120, 'colsample_bytree': '0.490', 'subsample': '0.359', 'min_split_gain': '0.237', 'scale_pos_weight': '5.457', 'reg_alpha': '32.097', 'reg_lambda': '9.395', 'learning_rate': '0.013'}\n",
            "RMSE Loss 0.636 params {'n_estimators': 500, 'max_depth': 59, 'num_leaves': 20, 'min_child_samples': 140, 'colsample_bytree': '0.746', 'subsample': '0.629', 'min_split_gain': '0.332', 'scale_pos_weight': '8.780', 'reg_alpha': '67.727', 'reg_lambda': '18.107', 'learning_rate': '0.017'}\n",
            "RMSE Loss 0.635 params {'n_estimators': 1050, 'max_depth': 28, 'num_leaves': 50, 'min_child_samples': 40, 'colsample_bytree': '0.824', 'subsample': '0.757', 'min_split_gain': '0.636', 'scale_pos_weight': '7.337', 'reg_alpha': '42.379', 'reg_lambda': '30.034', 'learning_rate': '0.095'}\n",
            "RMSE Loss 0.634 params {'n_estimators': 650, 'max_depth': 69, 'num_leaves': 40, 'min_child_samples': 200, 'colsample_bytree': '0.685', 'subsample': '0.436', 'min_split_gain': '0.181', 'scale_pos_weight': '6.516', 'reg_alpha': '0.092', 'reg_lambda': '57.653', 'learning_rate': '0.030'}\n",
            "RMSE Loss 0.636 params {'n_estimators': 350, 'max_depth': 54, 'num_leaves': 30, 'min_child_samples': 10, 'colsample_bytree': '0.615', 'subsample': '0.840', 'min_split_gain': '0.694', 'scale_pos_weight': '4.699', 'reg_alpha': '58.874', 'reg_lambda': '73.595', 'learning_rate': '0.037'}\n",
            "RMSE Loss 0.633 params {'n_estimators': 150, 'max_depth': 37, 'num_leaves': 20, 'min_child_samples': 60, 'colsample_bytree': '0.931', 'subsample': '0.474', 'min_split_gain': '0.542', 'scale_pos_weight': '8.126', 'reg_alpha': '5.940', 'reg_lambda': '21.588', 'learning_rate': '0.048'}\n",
            "RMSE Loss 0.634 params {'n_estimators': 150, 'max_depth': 23, 'num_leaves': 20, 'min_child_samples': 150, 'colsample_bytree': '0.938', 'subsample': '0.479', 'min_split_gain': '0.532', 'scale_pos_weight': '9.553', 'reg_alpha': '12.743', 'reg_lambda': '36.287', 'learning_rate': '0.065'}\n",
            "RMSE Loss 0.635 params {'n_estimators': 250, 'max_depth': 10, 'num_leaves': 20, 'min_child_samples': 60, 'colsample_bytree': '0.908', 'subsample': '0.384', 'min_split_gain': '0.653', 'scale_pos_weight': '8.011', 'reg_alpha': '32.235', 'reg_lambda': '22.086', 'learning_rate': '0.108'}\n",
            "RMSE Loss 0.637 params {'n_estimators': 100, 'max_depth': 48, 'num_leaves': 50, 'min_child_samples': 120, 'colsample_bytree': '0.967', 'subsample': '0.956', 'min_split_gain': '0.601', 'scale_pos_weight': '8.743', 'reg_alpha': '83.326', 'reg_lambda': '60.913', 'learning_rate': '0.051'}\n",
            "RMSE Loss 0.635 params {'n_estimators': 200, 'max_depth': 38, 'num_leaves': 40, 'min_child_samples': 20, 'colsample_bytree': '0.311', 'subsample': '0.345', 'min_split_gain': '0.473', 'scale_pos_weight': '8.484', 'reg_alpha': '4.999', 'reg_lambda': '44.381', 'learning_rate': '0.166'}\n",
            "RMSE Loss 0.636 params {'n_estimators': 950, 'max_depth': 33, 'num_leaves': 70, 'min_child_samples': 80, 'colsample_bytree': '0.803', 'subsample': '0.581', 'min_split_gain': '0.544', 'scale_pos_weight': '5.818', 'reg_alpha': '39.577', 'reg_lambda': '39.968', 'learning_rate': '0.268'}\n",
            "RMSE Loss 0.635 params {'n_estimators': 350, 'max_depth': 14, 'num_leaves': 20, 'min_child_samples': 270, 'colsample_bytree': '0.360', 'subsample': '0.599', 'min_split_gain': '0.435', 'scale_pos_weight': '9.175', 'reg_alpha': '23.892', 'reg_lambda': '26.112', 'learning_rate': '0.117'}\n",
            "RMSE Loss 0.635 params {'n_estimators': 550, 'max_depth': 46, 'num_leaves': 60, 'min_child_samples': 60, 'colsample_bytree': '0.557', 'subsample': '0.676', 'min_split_gain': '0.596', 'scale_pos_weight': '1.996', 'reg_alpha': '29.012', 'reg_lambda': '32.018', 'learning_rate': '0.081'}\n",
            "RMSE Loss 0.636 params {'n_estimators': 150, 'max_depth': 25, 'num_leaves': 30, 'min_child_samples': 180, 'colsample_bytree': '0.999', 'subsample': '0.709', 'min_split_gain': '0.491', 'scale_pos_weight': '7.012', 'reg_alpha': '73.382', 'reg_lambda': '89.945', 'learning_rate': '0.037'}\n",
            "RMSE Loss 0.638 params {'n_estimators': 1200, 'max_depth': 37, 'num_leaves': 90, 'min_child_samples': 130, 'colsample_bytree': '0.413', 'subsample': '0.335', 'min_split_gain': '0.656', 'scale_pos_weight': '2.465', 'reg_alpha': '87.814', 'reg_lambda': '68.555', 'learning_rate': '0.418'}\n",
            "RMSE Loss 0.634 params {'n_estimators': 650, 'max_depth': 42, 'num_leaves': 40, 'min_child_samples': 30, 'colsample_bytree': '0.774', 'subsample': '0.417', 'min_split_gain': '0.580', 'scale_pos_weight': '4.026', 'reg_alpha': '15.265', 'reg_lambda': '4.168', 'learning_rate': '0.027'}\n",
            "RMSE Loss 0.635 params {'n_estimators': 700, 'max_depth': 18, 'num_leaves': 80, 'min_child_samples': 150, 'colsample_bytree': '0.964', 'subsample': '0.499', 'min_split_gain': '0.321', 'scale_pos_weight': '9.704', 'reg_alpha': '34.878', 'reg_lambda': '15.538', 'learning_rate': '0.047'}\n",
            "RMSE Loss 0.634 params {'n_estimators': 850, 'max_depth': 30, 'num_leaves': 50, 'min_child_samples': 100, 'colsample_bytree': '0.853', 'subsample': '0.618', 'min_split_gain': '0.260', 'scale_pos_weight': '8.023', 'reg_alpha': '10.740', 'reg_lambda': '53.119', 'learning_rate': '0.066'}\n",
            "RMSE Loss 0.635 params {'n_estimators': 300, 'max_depth': 12, 'num_leaves': 20, 'min_child_samples': 170, 'colsample_bytree': '0.907', 'subsample': '0.645', 'min_split_gain': '0.348', 'scale_pos_weight': '4.512', 'reg_alpha': '20.873', 'reg_lambda': '9.669', 'learning_rate': '0.013'}\n",
            "RMSE Loss 0.634 params {'n_estimators': 400, 'max_depth': 55, 'num_leaves': 60, 'min_child_samples': 40, 'colsample_bytree': '0.463', 'subsample': '0.564', 'min_split_gain': '0.630', 'scale_pos_weight': '3.622', 'reg_alpha': '5.557', 'reg_lambda': '20.983', 'learning_rate': '0.058'}\n",
            "RMSE Loss 0.635 params {'n_estimators': 250, 'max_depth': 9, 'num_leaves': 30, 'min_child_samples': 230, 'colsample_bytree': '0.811', 'subsample': '0.485', 'min_split_gain': '0.294', 'scale_pos_weight': '5.529', 'reg_alpha': '44.645', 'reg_lambda': '49.949', 'learning_rate': '0.078'}\n",
            "RMSE Loss 0.637 params {'n_estimators': 500, 'max_depth': 61, 'num_leaves': 70, 'min_child_samples': 110, 'colsample_bytree': '0.673', 'subsample': '0.395', 'min_split_gain': '0.549', 'scale_pos_weight': '9.060', 'reg_alpha': '90.198', 'reg_lambda': '27.449', 'learning_rate': '0.022'}\n",
            "RMSE Loss 0.636 params {'n_estimators': 150, 'max_depth': 71, 'num_leaves': 40, 'min_child_samples': 60, 'colsample_bytree': '0.632', 'subsample': '0.304', 'min_split_gain': '0.488', 'scale_pos_weight': '6.722', 'reg_alpha': '52.696', 'reg_lambda': '7.796', 'learning_rate': '0.132'}\n",
            "RMSE Loss 0.633 params {'n_estimators': 600, 'max_depth': 81, 'num_leaves': 20, 'min_child_samples': 80, 'colsample_bytree': '0.538', 'subsample': '0.432', 'min_split_gain': '0.521', 'scale_pos_weight': '8.513', 'reg_alpha': '3.937', 'reg_lambda': '45.534', 'learning_rate': '0.017'}\n",
            "RMSE Loss 0.636 params {'n_estimators': 1000, 'max_depth': 86, 'num_leaves': 90, 'min_child_samples': 190, 'colsample_bytree': '0.360', 'subsample': '0.363', 'min_split_gain': '0.439', 'scale_pos_weight': '8.497', 'reg_alpha': '72.050', 'reg_lambda': '78.617', 'learning_rate': '0.017'}\n",
            "RMSE Loss 0.633 params {'n_estimators': 750, 'max_depth': 78, 'num_leaves': 20, 'min_child_samples': 80, 'colsample_bytree': '0.530', 'subsample': '0.454', 'min_split_gain': '0.522', 'scale_pos_weight': '7.496', 'reg_alpha': '4.154', 'reg_lambda': '46.493', 'learning_rate': '0.012'}\n",
            "RMSE Loss 0.634 params {'n_estimators': 750, 'max_depth': 80, 'num_leaves': 30, 'min_child_samples': 80, 'colsample_bytree': '0.533', 'subsample': '0.433', 'min_split_gain': '0.408', 'scale_pos_weight': '7.579', 'reg_alpha': '11.011', 'reg_lambda': '57.182', 'learning_rate': '0.010'}\n",
            "RMSE Loss 0.633 params {'n_estimators': 800, 'max_depth': 67, 'num_leaves': 20, 'min_child_samples': 100, 'colsample_bytree': '0.497', 'subsample': '0.535', 'min_split_gain': '0.513', 'scale_pos_weight': '6.419', 'reg_alpha': '3.362', 'reg_lambda': '70.286', 'learning_rate': '0.013'}\n",
            "RMSE Loss 0.634 params {'n_estimators': 850, 'max_depth': 66, 'num_leaves': 20, 'min_child_samples': 100, 'colsample_bytree': '0.474', 'subsample': '0.527', 'min_split_gain': '0.507', 'scale_pos_weight': '6.413', 'reg_alpha': '20.587', 'reg_lambda': '72.597', 'learning_rate': '0.013'}\n",
            "RMSE Loss 0.634 params {'n_estimators': 600, 'max_depth': 72, 'num_leaves': 30, 'min_child_samples': 160, 'colsample_bytree': '0.421', 'subsample': '0.597', 'min_split_gain': '0.677', 'scale_pos_weight': '5.741', 'reg_alpha': '0.110', 'reg_lambda': '89.676', 'learning_rate': '0.019'}\n",
            "RMSE Loss 0.635 params {'n_estimators': 800, 'max_depth': 84, 'num_leaves': 20, 'min_child_samples': 120, 'colsample_bytree': '0.589', 'subsample': '0.538', 'min_split_gain': '0.621', 'scale_pos_weight': '6.909', 'reg_alpha': '26.063', 'reg_lambda': '82.011', 'learning_rate': '0.028'}\n",
            "RMSE Loss 0.634 params {'n_estimators': 700, 'max_depth': 76, 'num_leaves': 30, 'min_child_samples': 130, 'colsample_bytree': '0.339', 'subsample': '0.512', 'min_split_gain': '0.383', 'scale_pos_weight': '6.036', 'reg_alpha': '17.627', 'reg_lambda': '69.683', 'learning_rate': '0.015'}\n",
            "RMSE Loss 0.634 params {'n_estimators': 1150, 'max_depth': 100, 'num_leaves': 40, 'min_child_samples': 100, 'colsample_bytree': '0.445', 'subsample': '0.405', 'min_split_gain': '0.582', 'scale_pos_weight': '1.021', 'reg_alpha': '14.934', 'reg_lambda': '93.630', 'learning_rate': '0.023'}\n",
            "RMSE Loss 0.634 params {'n_estimators': 900, 'max_depth': 95, 'num_leaves': 30, 'min_child_samples': 140, 'colsample_bytree': '0.508', 'subsample': '0.556', 'min_split_gain': '0.448', 'scale_pos_weight': '7.860', 'reg_alpha': '8.197', 'reg_lambda': '76.806', 'learning_rate': '0.041'}\n",
            "RMSE Loss 0.633 params {'n_estimators': 950, 'max_depth': 82, 'num_leaves': 20, 'min_child_samples': 70, 'colsample_bytree': '0.634', 'subsample': '0.326', 'min_split_gain': '0.347', 'scale_pos_weight': '5.315', 'reg_alpha': '2.358', 'reg_lambda': '61.917', 'learning_rate': '0.034'}\n",
            "RMSE Loss 0.633 params {'n_estimators': 1400, 'max_depth': 81, 'num_leaves': 20, 'min_child_samples': 40, 'colsample_bytree': '0.552', 'subsample': '0.324', 'min_split_gain': '0.299', 'scale_pos_weight': '5.259', 'reg_alpha': '0.580', 'reg_lambda': '64.955', 'learning_rate': '0.035'}\n",
            "RMSE Loss 0.634 params {'n_estimators': 1500, 'max_depth': 87, 'num_leaves': 50, 'min_child_samples': 20, 'colsample_bytree': '0.549', 'subsample': '0.376', 'min_split_gain': '0.154', 'scale_pos_weight': '4.008', 'reg_alpha': '29.616', 'reg_lambda': '65.877', 'learning_rate': '0.021'}\n",
            "RMSE Loss 0.634 params {'n_estimators': 600, 'max_depth': 74, 'num_leaves': 30, 'min_child_samples': 40, 'colsample_bytree': '0.607', 'subsample': '0.303', 'min_split_gain': '0.222', 'scale_pos_weight': '4.997', 'reg_alpha': '23.295', 'reg_lambda': '59.237', 'learning_rate': '0.036'}\n",
            "RMSE Loss 0.633 params {'n_estimators': 1050, 'max_depth': 93, 'num_leaves': 40, 'min_child_samples': 20, 'colsample_bytree': '0.704', 'subsample': '0.345', 'min_split_gain': '0.067', 'scale_pos_weight': '3.655', 'reg_alpha': '10.306', 'reg_lambda': '84.162', 'learning_rate': '0.028'}\n",
            "RMSE Loss 0.633 params {'n_estimators': 550, 'max_depth': 63, 'num_leaves': 20, 'min_child_samples': 50, 'colsample_bytree': '0.401', 'subsample': '0.426', 'min_split_gain': '0.298', 'scale_pos_weight': '5.925', 'reg_alpha': '0.189', 'reg_lambda': '55.923', 'learning_rate': '0.019'}\n",
            "RMSE Loss 0.637 params {'n_estimators': 1400, 'max_depth': 56, 'num_leaves': 30, 'min_child_samples': 50, 'colsample_bytree': '0.392', 'subsample': '0.358', 'min_split_gain': '0.252', 'scale_pos_weight': '3.734', 'reg_alpha': '99.523', 'reg_lambda': '63.649', 'learning_rate': '0.043'}\n",
            "RMSE Loss 0.633 params {'n_estimators': 1400, 'max_depth': 50, 'num_leaves': 20, 'min_child_samples': 10, 'colsample_bytree': '0.327', 'subsample': '0.321', 'min_split_gain': '0.290', 'scale_pos_weight': '4.672', 'reg_alpha': '0.201', 'reg_lambda': '54.960', 'learning_rate': '0.025'}\n",
            "RMSE Loss 0.636 params {'n_estimators': 500, 'max_depth': 45, 'num_leaves': 30, 'min_child_samples': 30, 'colsample_bytree': '0.669', 'subsample': '0.462', 'min_split_gain': '0.195', 'scale_pos_weight': '2.822', 'reg_alpha': '58.920', 'reg_lambda': '49.398', 'learning_rate': '0.095'}\n",
            "RMSE Loss 0.634 params {'n_estimators': 450, 'max_depth': 63, 'num_leaves': 40, 'min_child_samples': 70, 'colsample_bytree': '0.376', 'subsample': '0.807', 'min_split_gain': '0.306', 'scale_pos_weight': '4.237', 'reg_alpha': '12.002', 'reg_lambda': '41.112', 'learning_rate': '0.015'}\n",
            "RMSE Loss 0.635 params {'n_estimators': 550, 'max_depth': 60, 'num_leaves': 50, 'min_child_samples': 40, 'colsample_bytree': '0.750', 'subsample': '0.405', 'min_split_gain': '0.272', 'scale_pos_weight': '7.177', 'reg_alpha': '49.899', 'reg_lambda': '37.075', 'learning_rate': '0.054'}\n",
            "RMSE Loss 0.634 params {'n_estimators': 1350, 'max_depth': 53, 'num_leaves': 20, 'min_child_samples': 110, 'colsample_bytree': '0.407', 'subsample': '0.383', 'min_split_gain': '0.106', 'scale_pos_weight': '5.535', 'reg_alpha': '34.590', 'reg_lambda': '51.558', 'learning_rate': '0.065'}\n",
            "RMSE Loss 0.634 params {'n_estimators': 400, 'max_depth': 71, 'num_leaves': 60, 'min_child_samples': 50, 'colsample_bytree': '0.578', 'subsample': '0.487', 'min_split_gain': '0.135', 'scale_pos_weight': '5.968', 'reg_alpha': '16.079', 'reg_lambda': '33.697', 'learning_rate': '0.019'}\n",
            "RMSE Loss 0.634 params {'n_estimators': 1250, 'max_depth': 49, 'num_leaves': 30, 'min_child_samples': 90, 'colsample_bytree': '0.437', 'subsample': '0.439', 'min_split_gain': '0.239', 'scale_pos_weight': '5.246', 'reg_alpha': '6.441', 'reg_lambda': '56.787', 'learning_rate': '0.033'}\n",
            "RMSE Loss 0.635 params {'n_estimators': 450, 'max_depth': 69, 'num_leaves': 80, 'min_child_samples': 20, 'colsample_bytree': '0.481', 'subsample': '0.934', 'min_split_gain': '0.034', 'scale_pos_weight': '4.772', 'reg_alpha': '40.814', 'reg_lambda': '78.881', 'learning_rate': '0.011'}\n",
            "RMSE Loss 0.634 params {'n_estimators': 650, 'max_depth': 90, 'num_leaves': 40, 'min_child_samples': 60, 'colsample_bytree': '0.515', 'subsample': '0.422', 'min_split_gain': '0.168', 'scale_pos_weight': '6.312', 'reg_alpha': '19.805', 'reg_lambda': '66.921', 'learning_rate': '0.030'}\n",
            "RMSE Loss 0.634 params {'n_estimators': 350, 'max_depth': 57, 'num_leaves': 70, 'min_child_samples': 30, 'colsample_bytree': '0.302', 'subsample': '0.641', 'min_split_gain': '0.395', 'scale_pos_weight': '3.241', 'reg_alpha': '7.385', 'reg_lambda': '59.399', 'learning_rate': '0.022'}\n",
            "RMSE Loss 0.634 params {'n_estimators': 1100, 'max_depth': 65, 'num_leaves': 20, 'min_child_samples': 120, 'colsample_bytree': '0.778', 'subsample': '0.762', 'min_split_gain': '0.326', 'scale_pos_weight': '2.330', 'reg_alpha': '26.809', 'reg_lambda': '42.115', 'learning_rate': '0.041'}\n",
            "RMSE Loss 0.634 params {'n_estimators': 500, 'max_depth': 96, 'num_leaves': 100, 'min_child_samples': 130, 'colsample_bytree': '0.642', 'subsample': '0.515', 'min_split_gain': '0.208', 'scale_pos_weight': '4.355', 'reg_alpha': '22.151', 'reg_lambda': '30.631', 'learning_rate': '0.073'}\n",
            "RMSE Loss 0.636 params {'n_estimators': 900, 'max_depth': 44, 'num_leaves': 40, 'min_child_samples': 90, 'colsample_bytree': '0.738', 'subsample': '1.000', 'min_split_gain': '0.366', 'scale_pos_weight': '6.695', 'reg_alpha': '64.793', 'reg_lambda': '72.328', 'learning_rate': '0.026'}\n",
            "RMSE Loss 0.634 params {'n_estimators': 550, 'max_depth': 41, 'num_leaves': 30, 'min_child_samples': 70, 'colsample_bytree': '0.698', 'subsample': '0.336', 'min_split_gain': '0.423', 'scale_pos_weight': '5.855', 'reg_alpha': '13.884', 'reg_lambda': '75.624', 'learning_rate': '0.012'}\n",
            "RMSE Loss 0.633 params {'n_estimators': 650, 'max_depth': 79, 'num_leaves': 20, 'min_child_samples': 140, 'colsample_bytree': '0.463', 'subsample': '0.300', 'min_split_gain': '0.473', 'scale_pos_weight': '5.389', 'reg_alpha': '0.117', 'reg_lambda': '93.968', 'learning_rate': '0.016'}\n",
            "RMSE Loss 0.637 params {'n_estimators': 250, 'max_depth': 61, 'num_leaves': 50, 'min_child_samples': 10, 'colsample_bytree': '0.564', 'subsample': '0.570', 'min_split_gain': '0.092', 'scale_pos_weight': '6.142', 'reg_alpha': '81.594', 'reg_lambda': '54.177', 'learning_rate': '0.014'}\n",
            "RMSE Loss 0.635 params {'n_estimators': 1150, 'max_depth': 98, 'num_leaves': 60, 'min_child_samples': 50, 'colsample_bytree': '0.719', 'subsample': '0.466', 'min_split_gain': '0.340', 'scale_pos_weight': '4.999', 'reg_alpha': '34.672', 'reg_lambda': '50.938', 'learning_rate': '0.056'}\n",
            "RMSE Loss 0.634 params {'n_estimators': 700, 'max_depth': 68, 'num_leaves': 30, 'min_child_samples': 280, 'colsample_bytree': '0.661', 'subsample': '0.498', 'min_split_gain': '0.277', 'scale_pos_weight': '7.783', 'reg_alpha': '17.021', 'reg_lambda': '85.771', 'learning_rate': '0.051'}\n",
            "RMSE Loss 0.634 params {'n_estimators': 300, 'max_depth': 74, 'num_leaves': 20, 'min_child_samples': 40, 'colsample_bytree': '0.446', 'subsample': '0.393', 'min_split_gain': '0.308', 'scale_pos_weight': '5.616', 'reg_alpha': '9.217', 'reg_lambda': '47.447', 'learning_rate': '0.035'}\n",
            "100%|██████████| 100/100 [23:45<00:00, 14.26s/it, best loss: 0.6330751007984236]\n"
          ]
        }
      ],
      "source": [
        "space = {\n",
        "    'n_estimators' : hp.quniform('n_estimators', 100, 1500, 50),\n",
        "    'max_depth': hp.quniform('max_depth', 3, 100, 1),\n",
        "    'num_leaves': hp.quniform('num_leaves', 20, 100, 10),\n",
        "    'min_child_samples': hp.quniform('min_child_samples', 10, 300, 10),\n",
        "    'colsample_bytree': hp.uniform('colsample_bytree', 0.3, 1.0),\n",
        "    'subsample': hp.uniform('subsample', 0.3, 1.0),\n",
        "    'min_split_gain': hp.uniform('min_split_gain', 0, 0.7),\n",
        "    'scale_pos_weight': hp.uniform('scale_pos_weight', 1, 10),\n",
        "    'reg_alpha': hp.uniform('reg_alpha', 0, 100),\n",
        "    'reg_lambda': hp.uniform('reg_lambda', 0, 100),\n",
        "    'learning_rate': hp.loguniform('learning_rate', np.log(0.01), np.log(0.5)),\n",
        "}\n",
        "\n",
        "# rstate = np.random.RandomState(42)\n",
        "best_y12 = fmin(fn = objective,\n",
        "            space = space,\n",
        "            algo = tpe.suggest,\n",
        "            max_evals = 100)"
      ],
      "id": "yp2VzcEr8t2Y"
    },
    {
      "cell_type": "code",
      "source": [],
      "metadata": {
        "id": "v8cd0UrJ8uXv"
      },
      "execution_count": null,
      "outputs": [],
      "id": "v8cd0UrJ8uXv"
    },
    {
      "cell_type": "code",
      "execution_count": null,
      "metadata": {
        "id": "n-8AILr88uXv"
      },
      "outputs": [],
      "source": [
        "train_x_for_y13, test_x_for_y13 = train_x[c12], test_x[c12]\n",
        "train_y_13 = train_y['Y_13']"
      ],
      "id": "n-8AILr88uXv"
    },
    {
      "cell_type": "code",
      "execution_count": null,
      "metadata": {
        "id": "PM2dEA2B8uXw"
      },
      "outputs": [],
      "source": [
        "def objective(params):\n",
        "\n",
        "    params = {\n",
        "        'n_estimators': int(params['n_estimators']),\n",
        "        'max_depth': int(params['max_depth']),\n",
        "        'num_leaves': int(params['num_leaves']),\n",
        "        'min_child_samples': int(params['min_child_samples']),\n",
        "        'colsample_bytree': '{:.3f}'.format(params['colsample_bytree']),\n",
        "        'subsample': '{:.3f}'.format(params['subsample']),\n",
        "        'min_split_gain': '{:.3f}'.format(params['min_split_gain']),\n",
        "        'scale_pos_weight': '{:.3f}'.format(params['scale_pos_weight']),\n",
        "        'reg_alpha': '{:.3f}'.format(params['reg_alpha']),\n",
        "        'reg_lambda': '{:.3f}'.format(params['reg_lambda']),\n",
        "        'learning_rate': '{:.3f}'.format(params['learning_rate']),\n",
        "        \n",
        "    }\n",
        "    \n",
        "    model = LGBMRegressor(\n",
        "        n_jobs = -1,\n",
        "        random_state = 42,\n",
        "        **params\n",
        "    )\n",
        "    \n",
        "    loss = -cross_val_score(model, train_x_for_y13, train_y_13, cv=10, scoring=make_scorer(rmse, greater_is_better=False)).mean()\n",
        "    print(\"RMSE Loss {:.3f} params {}\".format(loss, params))\n",
        "    return loss"
      ],
      "id": "PM2dEA2B8uXw"
    },
    {
      "cell_type": "code",
      "execution_count": null,
      "metadata": {
        "id": "kDfCE4Kr8uXw",
        "colab": {
          "base_uri": "https://localhost:8080/"
        },
        "outputId": "484e9a62-c6c9-4daa-8336-e9637b095a90"
      },
      "outputs": [
        {
          "output_type": "stream",
          "name": "stdout",
          "text": [
            "RMSE Loss 0.635 params {'n_estimators': 1050, 'max_depth': 68, 'num_leaves': 20, 'min_child_samples': 260, 'colsample_bytree': '0.405', 'subsample': '0.916', 'min_split_gain': '0.485', 'scale_pos_weight': '8.841', 'reg_alpha': '86.211', 'reg_lambda': '30.149', 'learning_rate': '0.011'}\n",
            "RMSE Loss 0.633 params {'n_estimators': 750, 'max_depth': 17, 'num_leaves': 20, 'min_child_samples': 170, 'colsample_bytree': '0.828', 'subsample': '0.744', 'min_split_gain': '0.178', 'scale_pos_weight': '6.869', 'reg_alpha': '35.879', 'reg_lambda': '88.069', 'learning_rate': '0.043'}\n",
            "RMSE Loss 0.634 params {'n_estimators': 550, 'max_depth': 74, 'num_leaves': 50, 'min_child_samples': 140, 'colsample_bytree': '0.610', 'subsample': '0.329', 'min_split_gain': '0.325', 'scale_pos_weight': '8.941', 'reg_alpha': '64.732', 'reg_lambda': '77.875', 'learning_rate': '0.028'}\n",
            "RMSE Loss 0.636 params {'n_estimators': 800, 'max_depth': 57, 'num_leaves': 30, 'min_child_samples': 180, 'colsample_bytree': '0.397', 'subsample': '0.466', 'min_split_gain': '0.598', 'scale_pos_weight': '8.101', 'reg_alpha': '91.866', 'reg_lambda': '83.369', 'learning_rate': '0.175'}\n",
            "RMSE Loss 0.633 params {'n_estimators': 300, 'max_depth': 93, 'num_leaves': 80, 'min_child_samples': 210, 'colsample_bytree': '0.998', 'subsample': '0.373', 'min_split_gain': '0.520', 'scale_pos_weight': '3.023', 'reg_alpha': '23.819', 'reg_lambda': '38.671', 'learning_rate': '0.043'}\n",
            "RMSE Loss 0.632 params {'n_estimators': 750, 'max_depth': 97, 'num_leaves': 100, 'min_child_samples': 150, 'colsample_bytree': '0.413', 'subsample': '0.809', 'min_split_gain': '0.086', 'scale_pos_weight': '2.971', 'reg_alpha': '3.050', 'reg_lambda': '1.296', 'learning_rate': '0.012'}\n",
            "RMSE Loss 0.633 params {'n_estimators': 1300, 'max_depth': 8, 'num_leaves': 90, 'min_child_samples': 160, 'colsample_bytree': '0.659', 'subsample': '0.747', 'min_split_gain': '0.009', 'scale_pos_weight': '5.298', 'reg_alpha': '56.289', 'reg_lambda': '50.598', 'learning_rate': '0.039'}\n",
            "RMSE Loss 0.635 params {'n_estimators': 600, 'max_depth': 80, 'num_leaves': 100, 'min_child_samples': 50, 'colsample_bytree': '0.656', 'subsample': '0.333', 'min_split_gain': '0.696', 'scale_pos_weight': '5.080', 'reg_alpha': '60.669', 'reg_lambda': '48.850', 'learning_rate': '0.381'}\n",
            "RMSE Loss 0.634 params {'n_estimators': 1300, 'max_depth': 87, 'num_leaves': 30, 'min_child_samples': 90, 'colsample_bytree': '0.941', 'subsample': '0.903', 'min_split_gain': '0.127', 'scale_pos_weight': '5.016', 'reg_alpha': '49.989', 'reg_lambda': '17.814', 'learning_rate': '0.373'}\n",
            "RMSE Loss 0.632 params {'n_estimators': 1450, 'max_depth': 63, 'num_leaves': 30, 'min_child_samples': 270, 'colsample_bytree': '0.839', 'subsample': '0.860', 'min_split_gain': '0.498', 'scale_pos_weight': '6.948', 'reg_alpha': '7.320', 'reg_lambda': '96.657', 'learning_rate': '0.022'}\n",
            "RMSE Loss 0.633 params {'n_estimators': 750, 'max_depth': 77, 'num_leaves': 20, 'min_child_samples': 70, 'colsample_bytree': '0.710', 'subsample': '0.359', 'min_split_gain': '0.213', 'scale_pos_weight': '1.245', 'reg_alpha': '0.414', 'reg_lambda': '55.871', 'learning_rate': '0.096'}\n",
            "RMSE Loss 0.635 params {'n_estimators': 1150, 'max_depth': 84, 'num_leaves': 80, 'min_child_samples': 90, 'colsample_bytree': '0.615', 'subsample': '0.644', 'min_split_gain': '0.540', 'scale_pos_weight': '3.987', 'reg_alpha': '73.508', 'reg_lambda': '16.837', 'learning_rate': '0.054'}\n",
            "RMSE Loss 0.634 params {'n_estimators': 550, 'max_depth': 77, 'num_leaves': 80, 'min_child_samples': 80, 'colsample_bytree': '0.585', 'subsample': '0.924', 'min_split_gain': '0.331', 'scale_pos_weight': '9.594', 'reg_alpha': '57.924', 'reg_lambda': '9.468', 'learning_rate': '0.054'}\n",
            "RMSE Loss 0.633 params {'n_estimators': 1350, 'max_depth': 86, 'num_leaves': 70, 'min_child_samples': 300, 'colsample_bytree': '0.864', 'subsample': '0.502', 'min_split_gain': '0.397', 'scale_pos_weight': '3.902', 'reg_alpha': '24.749', 'reg_lambda': '83.689', 'learning_rate': '0.099'}\n",
            "RMSE Loss 0.633 params {'n_estimators': 350, 'max_depth': 15, 'num_leaves': 50, 'min_child_samples': 260, 'colsample_bytree': '0.639', 'subsample': '0.322', 'min_split_gain': '0.199', 'scale_pos_weight': '4.972', 'reg_alpha': '21.023', 'reg_lambda': '3.073', 'learning_rate': '0.119'}\n",
            "RMSE Loss 0.633 params {'n_estimators': 1450, 'max_depth': 48, 'num_leaves': 90, 'min_child_samples': 230, 'colsample_bytree': '0.609', 'subsample': '0.966', 'min_split_gain': '0.576', 'scale_pos_weight': '6.754', 'reg_alpha': '18.813', 'reg_lambda': '79.153', 'learning_rate': '0.020'}\n",
            "RMSE Loss 0.635 params {'n_estimators': 800, 'max_depth': 21, 'num_leaves': 50, 'min_child_samples': 240, 'colsample_bytree': '0.531', 'subsample': '0.363', 'min_split_gain': '0.218', 'scale_pos_weight': '5.190', 'reg_alpha': '94.205', 'reg_lambda': '25.960', 'learning_rate': '0.161'}\n",
            "RMSE Loss 0.635 params {'n_estimators': 550, 'max_depth': 85, 'num_leaves': 50, 'min_child_samples': 80, 'colsample_bytree': '0.325', 'subsample': '0.351', 'min_split_gain': '0.309', 'scale_pos_weight': '8.962', 'reg_alpha': '82.189', 'reg_lambda': '27.810', 'learning_rate': '0.187'}\n",
            "RMSE Loss 0.633 params {'n_estimators': 1400, 'max_depth': 17, 'num_leaves': 80, 'min_child_samples': 40, 'colsample_bytree': '0.390', 'subsample': '0.562', 'min_split_gain': '0.455', 'scale_pos_weight': '9.462', 'reg_alpha': '18.341', 'reg_lambda': '48.556', 'learning_rate': '0.025'}\n",
            "RMSE Loss 0.633 params {'n_estimators': 1000, 'max_depth': 21, 'num_leaves': 20, 'min_child_samples': 70, 'colsample_bytree': '0.867', 'subsample': '0.509', 'min_split_gain': '0.629', 'scale_pos_weight': '1.181', 'reg_alpha': '33.731', 'reg_lambda': '24.501', 'learning_rate': '0.049'}\n",
            "RMSE Loss 0.634 params {'n_estimators': 150, 'max_depth': 37, 'num_leaves': 40, 'min_child_samples': 140, 'colsample_bytree': '0.796', 'subsample': '0.832', 'min_split_gain': '0.079', 'scale_pos_weight': '6.537', 'reg_alpha': '0.820', 'reg_lambda': '96.560', 'learning_rate': '0.012'}\n",
            "RMSE Loss 0.632 params {'n_estimators': 950, 'max_depth': 99, 'num_leaves': 60, 'min_child_samples': 120, 'colsample_bytree': '0.486', 'subsample': '0.784', 'min_split_gain': '0.414', 'scale_pos_weight': '2.292', 'reg_alpha': '6.947', 'reg_lambda': '67.678', 'learning_rate': '0.014'}\n",
            "RMSE Loss 0.632 params {'n_estimators': 950, 'max_depth': 100, 'num_leaves': 60, 'min_child_samples': 120, 'colsample_bytree': '0.485', 'subsample': '0.759', 'min_split_gain': '0.411', 'scale_pos_weight': '2.175', 'reg_alpha': '9.136', 'reg_lambda': '65.465', 'learning_rate': '0.014'}\n",
            "RMSE Loss 0.633 params {'n_estimators': 900, 'max_depth': 100, 'num_leaves': 100, 'min_child_samples': 20, 'colsample_bytree': '0.304', 'subsample': '0.679', 'min_split_gain': '0.278', 'scale_pos_weight': '2.380', 'reg_alpha': '43.997', 'reg_lambda': '67.068', 'learning_rate': '0.016'}\n",
            "RMSE Loss 0.632 params {'n_estimators': 1100, 'max_depth': 95, 'num_leaves': 70, 'min_child_samples': 120, 'colsample_bytree': '0.488', 'subsample': '0.995', 'min_split_gain': '0.008', 'scale_pos_weight': '3.632', 'reg_alpha': '9.804', 'reg_lambda': '67.923', 'learning_rate': '0.010'}\n",
            "RMSE Loss 0.633 params {'n_estimators': 1150, 'max_depth': 94, 'num_leaves': 60, 'min_child_samples': 190, 'colsample_bytree': '0.499', 'subsample': '0.989', 'min_split_gain': '0.005', 'scale_pos_weight': '3.876', 'reg_alpha': '11.199', 'reg_lambda': '64.280', 'learning_rate': '0.016'}\n",
            "RMSE Loss 0.634 params {'n_estimators': 1100, 'max_depth': 40, 'num_leaves': 70, 'min_child_samples': 130, 'colsample_bytree': '0.453', 'subsample': '0.660', 'min_split_gain': '0.397', 'scale_pos_weight': '1.769', 'reg_alpha': '42.219', 'reg_lambda': '72.536', 'learning_rate': '0.029'}\n",
            "RMSE Loss 0.633 params {'n_estimators': 1200, 'max_depth': 64, 'num_leaves': 70, 'min_child_samples': 110, 'colsample_bytree': '0.561', 'subsample': '0.992', 'min_split_gain': '0.679', 'scale_pos_weight': '3.092', 'reg_alpha': '33.617', 'reg_lambda': '59.119', 'learning_rate': '0.011'}\n",
            "RMSE Loss 0.632 params {'n_estimators': 900, 'max_depth': 67, 'num_leaves': 60, 'min_child_samples': 110, 'colsample_bytree': '0.344', 'subsample': '0.905', 'min_split_gain': '0.265', 'scale_pos_weight': '4.390', 'reg_alpha': '10.288', 'reg_lambda': '90.594', 'learning_rate': '0.034'}\n",
            "RMSE Loss 0.633 params {'n_estimators': 1200, 'max_depth': 91, 'num_leaves': 70, 'min_child_samples': 200, 'colsample_bytree': '0.723', 'subsample': '0.791', 'min_split_gain': '0.450', 'scale_pos_weight': '1.791', 'reg_alpha': '28.520', 'reg_lambda': '38.682', 'learning_rate': '0.010'}\n",
            "RMSE Loss 0.633 params {'n_estimators': 1050, 'max_depth': 52, 'num_leaves': 40, 'min_child_samples': 20, 'colsample_bytree': '0.441', 'subsample': '0.703', 'min_split_gain': '0.352', 'scale_pos_weight': '3.417', 'reg_alpha': '39.796', 'reg_lambda': '44.395', 'learning_rate': '0.071'}\n",
            "RMSE Loss 0.632 params {'n_estimators': 900, 'max_depth': 73, 'num_leaves': 90, 'min_child_samples': 50, 'colsample_bytree': '0.524', 'subsample': '0.599', 'min_split_gain': '0.145', 'scale_pos_weight': '2.463', 'reg_alpha': '12.988', 'reg_lambda': '71.176', 'learning_rate': '0.019'}\n",
            "RMSE Loss 0.634 params {'n_estimators': 400, 'max_depth': 34, 'num_leaves': 40, 'min_child_samples': 170, 'colsample_bytree': '0.379', 'subsample': '0.936', 'min_split_gain': '0.049', 'scale_pos_weight': '6.309', 'reg_alpha': '69.930', 'reg_lambda': '58.353', 'learning_rate': '0.013'}\n",
            "RMSE Loss 0.635 params {'n_estimators': 700, 'max_depth': 71, 'num_leaves': 60, 'min_child_samples': 110, 'colsample_bytree': '0.470', 'subsample': '0.856', 'min_split_gain': '0.258', 'scale_pos_weight': '5.889', 'reg_alpha': '48.575', 'reg_lambda': '89.371', 'learning_rate': '0.489'}\n",
            "RMSE Loss 0.633 params {'n_estimators': 650, 'max_depth': 58, 'num_leaves': 70, 'min_child_samples': 150, 'colsample_bytree': '0.709', 'subsample': '0.446', 'min_split_gain': '0.365', 'scale_pos_weight': '4.372', 'reg_alpha': '15.817', 'reg_lambda': '75.804', 'learning_rate': '0.234'}\n",
            "RMSE Loss 0.633 params {'n_estimators': 1000, 'max_depth': 100, 'num_leaves': 80, 'min_child_samples': 170, 'colsample_bytree': '0.556', 'subsample': '0.616', 'min_split_gain': '0.648', 'scale_pos_weight': '1.028', 'reg_alpha': '30.270', 'reg_lambda': '34.915', 'learning_rate': '0.010'}\n",
            "RMSE Loss 0.632 params {'n_estimators': 450, 'max_depth': 91, 'num_leaves': 50, 'min_child_samples': 140, 'colsample_bytree': '0.414', 'subsample': '0.709', 'min_split_gain': '0.458', 'scale_pos_weight': '3.425', 'reg_alpha': '4.740', 'reg_lambda': '82.707', 'learning_rate': '0.023'}\n",
            "RMSE Loss 0.633 params {'n_estimators': 1250, 'max_depth': 81, 'num_leaves': 90, 'min_child_samples': 220, 'colsample_bytree': '0.347', 'subsample': '0.790', 'min_split_gain': '0.555', 'scale_pos_weight': '7.630', 'reg_alpha': '25.628', 'reg_lambda': '99.776', 'learning_rate': '0.035'}\n",
            "RMSE Loss 0.632 params {'n_estimators': 850, 'max_depth': 96, 'num_leaves': 60, 'min_child_samples': 190, 'colsample_bytree': '0.767', 'subsample': '0.953', 'min_split_gain': '0.495', 'scale_pos_weight': '5.760', 'reg_alpha': '0.788', 'reg_lambda': '43.247', 'learning_rate': '0.029'}\n",
            "RMSE Loss 0.632 params {'n_estimators': 150, 'max_depth': 45, 'num_leaves': 40, 'min_child_samples': 190, 'colsample_bytree': '0.996', 'subsample': '0.872', 'min_split_gain': '0.495', 'scale_pos_weight': '7.829', 'reg_alpha': '0.185', 'reg_lambda': '42.348', 'learning_rate': '0.066'}\n",
            "RMSE Loss 0.635 params {'n_estimators': 850, 'max_depth': 60, 'num_leaves': 70, 'min_child_samples': 280, 'colsample_bytree': '0.751', 'subsample': '0.959', 'min_split_gain': '0.598', 'scale_pos_weight': '5.843', 'reg_alpha': '84.532', 'reg_lambda': '53.493', 'learning_rate': '0.027'}\n",
            "RMSE Loss 0.634 params {'n_estimators': 750, 'max_depth': 30, 'num_leaves': 80, 'min_child_samples': 240, 'colsample_bytree': '0.950', 'subsample': '0.886', 'min_split_gain': '0.148', 'scale_pos_weight': '5.666', 'reg_alpha': '63.796', 'reg_lambda': '32.570', 'learning_rate': '0.046'}\n",
            "RMSE Loss 0.634 params {'n_estimators': 1100, 'max_depth': 5, 'num_leaves': 50, 'min_child_samples': 210, 'colsample_bytree': '0.784', 'subsample': '0.997', 'min_split_gain': '0.519', 'scale_pos_weight': '7.434', 'reg_alpha': '37.724', 'reg_lambda': '21.485', 'learning_rate': '0.077'}\n",
            "RMSE Loss 0.636 params {'n_estimators': 250, 'max_depth': 95, 'num_leaves': 30, 'min_child_samples': 180, 'colsample_bytree': '0.677', 'subsample': '0.823', 'min_split_gain': '0.651', 'scale_pos_weight': '8.384', 'reg_alpha': '99.191', 'reg_lambda': '10.013', 'learning_rate': '0.018'}\n",
            "RMSE Loss 0.633 params {'n_estimators': 1500, 'max_depth': 54, 'num_leaves': 70, 'min_child_samples': 300, 'colsample_bytree': '0.931', 'subsample': '0.945', 'min_split_gain': '0.035', 'scale_pos_weight': '7.169', 'reg_alpha': '15.625', 'reg_lambda': '52.153', 'learning_rate': '0.041'}\n",
            "RMSE Loss 0.634 params {'n_estimators': 650, 'max_depth': 77, 'num_leaves': 60, 'min_child_samples': 280, 'colsample_bytree': '0.893', 'subsample': '0.728', 'min_split_gain': '0.304', 'scale_pos_weight': '4.336', 'reg_alpha': '52.695', 'reg_lambda': '45.609', 'learning_rate': '0.033'}\n",
            "RMSE Loss 0.632 params {'n_estimators': 1300, 'max_depth': 89, 'num_leaves': 90, 'min_child_samples': 90, 'colsample_bytree': '0.802', 'subsample': '0.429', 'min_split_gain': '0.604', 'scale_pos_weight': '4.661', 'reg_alpha': '3.559', 'reg_lambda': '38.143', 'learning_rate': '0.057'}\n",
            "RMSE Loss 0.633 params {'n_estimators': 450, 'max_depth': 82, 'num_leaves': 80, 'min_child_samples': 250, 'colsample_bytree': '0.690', 'subsample': '0.970', 'min_split_gain': '0.560', 'scale_pos_weight': '6.375', 'reg_alpha': '21.467', 'reg_lambda': '59.663', 'learning_rate': '0.129'}\n",
            "RMSE Loss 0.634 params {'n_estimators': 1350, 'max_depth': 69, 'num_leaves': 50, 'min_child_samples': 220, 'colsample_bytree': '0.639', 'subsample': '0.846', 'min_split_gain': '0.106', 'scale_pos_weight': '2.772', 'reg_alpha': '74.591', 'reg_lambda': '62.871', 'learning_rate': '0.013'}\n",
            "RMSE Loss 0.634 params {'n_estimators': 800, 'max_depth': 76, 'num_leaves': 30, 'min_child_samples': 150, 'colsample_bytree': '0.589', 'subsample': '0.901', 'min_split_gain': '0.520', 'scale_pos_weight': '5.447', 'reg_alpha': '46.869', 'reg_lambda': '14.445', 'learning_rate': '0.021'}\n",
            "RMSE Loss 0.633 params {'n_estimators': 550, 'max_depth': 95, 'num_leaves': 100, 'min_child_samples': 180, 'colsample_bytree': '0.747', 'subsample': '0.542', 'min_split_gain': '0.182', 'scale_pos_weight': '4.856', 'reg_alpha': '27.809', 'reg_lambda': '31.001', 'learning_rate': '0.101'}\n",
            "RMSE Loss 0.638 params {'n_estimators': 1050, 'max_depth': 86, 'num_leaves': 70, 'min_child_samples': 160, 'colsample_bytree': '0.763', 'subsample': '0.401', 'min_split_gain': '0.228', 'scale_pos_weight': '3.597', 'reg_alpha': '0.595', 'reg_lambda': '84.268', 'learning_rate': '0.305'}\n",
            "RMSE Loss 0.634 params {'n_estimators': 850, 'max_depth': 46, 'num_leaves': 60, 'min_child_samples': 40, 'colsample_bytree': '0.849', 'subsample': '0.761', 'min_split_gain': '0.695', 'scale_pos_weight': '9.981', 'reg_alpha': '52.823', 'reg_lambda': '47.791', 'learning_rate': '0.025'}\n",
            "RMSE Loss 0.632 params {'n_estimators': 650, 'max_depth': 66, 'num_leaves': 80, 'min_child_samples': 60, 'colsample_bytree': '0.817', 'subsample': '0.927', 'min_split_gain': '0.473', 'scale_pos_weight': '6.013', 'reg_alpha': '7.149', 'reg_lambda': '93.587', 'learning_rate': '0.087'}\n",
            "RMSE Loss 0.633 params {'n_estimators': 1500, 'max_depth': 30, 'num_leaves': 50, 'min_child_samples': 90, 'colsample_bytree': '0.655', 'subsample': '0.815', 'min_split_gain': '0.430', 'scale_pos_weight': '8.160', 'reg_alpha': '23.150', 'reg_lambda': '79.372', 'learning_rate': '0.031'}\n",
            "RMSE Loss 0.633 params {'n_estimators': 1000, 'max_depth': 79, 'num_leaves': 40, 'min_child_samples': 130, 'colsample_bytree': '0.618', 'subsample': '0.997', 'min_split_gain': '0.332', 'scale_pos_weight': '6.936', 'reg_alpha': '32.533', 'reg_lambda': '0.624', 'learning_rate': '0.037'}\n",
            "RMSE Loss 0.632 params {'n_estimators': 500, 'max_depth': 73, 'num_leaves': 90, 'min_child_samples': 100, 'colsample_bytree': '0.899', 'subsample': '0.308', 'min_split_gain': '0.365', 'scale_pos_weight': '8.662', 'reg_alpha': '14.297', 'reg_lambda': '54.839', 'learning_rate': '0.017'}\n",
            "RMSE Loss 0.633 params {'n_estimators': 1400, 'max_depth': 97, 'num_leaves': 100, 'min_child_samples': 200, 'colsample_bytree': '0.520', 'subsample': '0.883', 'min_split_gain': '0.384', 'scale_pos_weight': '1.936', 'reg_alpha': '18.947', 'reg_lambda': '41.051', 'learning_rate': '0.062'}\n",
            "RMSE Loss 0.635 params {'n_estimators': 250, 'max_depth': 62, 'num_leaves': 20, 'min_child_samples': 260, 'colsample_bytree': '0.979', 'subsample': '0.966', 'min_split_gain': '0.237', 'scale_pos_weight': '5.265', 'reg_alpha': '89.325', 'reg_lambda': '71.501', 'learning_rate': '0.142'}\n",
            "RMSE Loss 0.634 params {'n_estimators': 1200, 'max_depth': 89, 'num_leaves': 60, 'min_child_samples': 160, 'colsample_bytree': '0.553', 'subsample': '0.631', 'min_split_gain': '0.297', 'scale_pos_weight': '1.464', 'reg_alpha': '57.803', 'reg_lambda': '74.545', 'learning_rate': '0.050'}\n",
            "RMSE Loss 0.634 params {'n_estimators': 1100, 'max_depth': 12, 'num_leaves': 70, 'min_child_samples': 130, 'colsample_bytree': '0.432', 'subsample': '0.674', 'min_split_gain': '0.064', 'scale_pos_weight': '3.974', 'reg_alpha': '79.211', 'reg_lambda': '4.330', 'learning_rate': '0.020'}\n",
            "RMSE Loss 0.633 params {'n_estimators': 950, 'max_depth': 83, 'num_leaves': 50, 'min_child_samples': 80, 'colsample_bytree': '0.586', 'subsample': '0.577', 'min_split_gain': '0.527', 'scale_pos_weight': '6.638', 'reg_alpha': '36.390', 'reg_lambda': '20.681', 'learning_rate': '0.012'}\n",
            "RMSE Loss 0.632 params {'n_estimators': 700, 'max_depth': 56, 'num_leaves': 80, 'min_child_samples': 230, 'colsample_bytree': '0.728', 'subsample': '0.495', 'min_split_gain': '0.571', 'scale_pos_weight': '3.061', 'reg_alpha': '4.480', 'reg_lambda': '62.288', 'learning_rate': '0.011'}\n",
            "RMSE Loss 0.633 params {'n_estimators': 850, 'max_depth': 97, 'num_leaves': 60, 'min_child_samples': 30, 'colsample_bytree': '0.678', 'subsample': '0.740', 'min_split_gain': '0.432', 'scale_pos_weight': '2.741', 'reg_alpha': '9.053', 'reg_lambda': '68.265', 'learning_rate': '0.190'}\n",
            "RMSE Loss 0.633 params {'n_estimators': 1150, 'max_depth': 40, 'num_leaves': 70, 'min_child_samples': 190, 'colsample_bytree': '0.503', 'subsample': '0.771', 'min_split_gain': '0.159', 'scale_pos_weight': '6.219', 'reg_alpha': '42.919', 'reg_lambda': '49.768', 'learning_rate': '0.015'}\n",
            "RMSE Loss 0.632 params {'n_estimators': 700, 'max_depth': 25, 'num_leaves': 80, 'min_child_samples': 230, 'colsample_bytree': '0.726', 'subsample': '0.517', 'min_split_gain': '0.618', 'scale_pos_weight': '3.201', 'reg_alpha': '4.894', 'reg_lambda': '60.734', 'learning_rate': '0.011'}\n",
            "RMSE Loss 0.632 params {'n_estimators': 600, 'max_depth': 55, 'num_leaves': 80, 'min_child_samples': 210, 'colsample_bytree': '0.773', 'subsample': '0.406', 'min_split_gain': '0.569', 'scale_pos_weight': '4.636', 'reg_alpha': '11.602', 'reg_lambda': '57.038', 'learning_rate': '0.017'}\n",
            "RMSE Loss 0.632 params {'n_estimators': 700, 'max_depth': 49, 'num_leaves': 90, 'min_child_samples': 270, 'colsample_bytree': '0.630', 'subsample': '0.456', 'min_split_gain': '0.664', 'scale_pos_weight': '4.174', 'reg_alpha': '2.009', 'reg_lambda': '62.963', 'learning_rate': '0.011'}\n",
            "RMSE Loss 0.632 params {'n_estimators': 600, 'max_depth': 88, 'num_leaves': 70, 'min_child_samples': 240, 'colsample_bytree': '0.872', 'subsample': '0.527', 'min_split_gain': '0.474', 'scale_pos_weight': '3.687', 'reg_alpha': '16.431', 'reg_lambda': '28.081', 'learning_rate': '0.010'}\n",
            "RMSE Loss 0.633 params {'n_estimators': 800, 'max_depth': 92, 'num_leaves': 100, 'min_child_samples': 170, 'colsample_bytree': '0.824', 'subsample': '0.487', 'min_split_gain': '0.583', 'scale_pos_weight': '2.544', 'reg_alpha': '18.533', 'reg_lambda': '85.502', 'learning_rate': '0.020'}\n",
            "RMSE Loss 0.632 params {'n_estimators': 950, 'max_depth': 69, 'num_leaves': 90, 'min_child_samples': 140, 'colsample_bytree': '0.730', 'subsample': '0.583', 'min_split_gain': '0.500', 'scale_pos_weight': '1.544', 'reg_alpha': '6.135', 'reg_lambda': '80.627', 'learning_rate': '0.014'}\n",
            "RMSE Loss 0.633 params {'n_estimators': 350, 'max_depth': 42, 'num_leaves': 80, 'min_child_samples': 200, 'colsample_bytree': '0.700', 'subsample': '0.486', 'min_split_gain': '0.543', 'scale_pos_weight': '4.973', 'reg_alpha': '24.873', 'reg_lambda': '35.802', 'learning_rate': '0.028'}\n",
            "RMSE Loss 0.633 params {'n_estimators': 750, 'max_depth': 79, 'num_leaves': 60, 'min_child_samples': 250, 'colsample_bytree': '0.601', 'subsample': '0.344', 'min_split_gain': '0.693', 'scale_pos_weight': '2.104', 'reg_alpha': '13.055', 'reg_lambda': '68.441', 'learning_rate': '0.022'}\n",
            "RMSE Loss 0.632 params {'n_estimators': 900, 'max_depth': 35, 'num_leaves': 80, 'min_child_samples': 290, 'colsample_bytree': '0.667', 'subsample': '0.378', 'min_split_gain': '0.625', 'scale_pos_weight': '5.489', 'reg_alpha': '0.025', 'reg_lambda': '46.398', 'learning_rate': '0.016'}\n",
            "RMSE Loss 0.632 params {'n_estimators': 1050, 'max_depth': 25, 'num_leaves': 70, 'min_child_samples': 290, 'colsample_bytree': '0.371', 'subsample': '0.394', 'min_split_gain': '0.626', 'scale_pos_weight': '5.609', 'reg_alpha': '8.847', 'reg_lambda': '44.901', 'learning_rate': '0.045'}\n",
            "RMSE Loss 0.634 params {'n_estimators': 1250, 'max_depth': 31, 'num_leaves': 70, 'min_child_samples': 120, 'colsample_bytree': '0.304', 'subsample': '0.914', 'min_split_gain': '0.644', 'scale_pos_weight': '7.244', 'reg_alpha': '40.056', 'reg_lambda': '51.600', 'learning_rate': '0.016'}\n",
            "RMSE Loss 0.632 params {'n_estimators': 900, 'max_depth': 18, 'num_leaves': 90, 'min_child_samples': 100, 'colsample_bytree': '0.542', 'subsample': '0.381', 'min_split_gain': '0.672', 'scale_pos_weight': '5.409', 'reg_alpha': '0.302', 'reg_lambda': '41.749', 'learning_rate': '0.025'}\n",
            "RMSE Loss 0.633 params {'n_estimators': 1000, 'max_depth': 10, 'num_leaves': 50, 'min_child_samples': 60, 'colsample_bytree': '0.663', 'subsample': '0.704', 'min_split_gain': '0.504', 'scale_pos_weight': '4.639', 'reg_alpha': '21.626', 'reg_lambda': '23.484', 'learning_rate': '0.038'}\n",
            "RMSE Loss 0.633 params {'n_estimators': 1100, 'max_depth': 36, 'num_leaves': 40, 'min_child_samples': 10, 'colsample_bytree': '0.570', 'subsample': '0.806', 'min_split_gain': '0.542', 'scale_pos_weight': '4.152', 'reg_alpha': '30.004', 'reg_lambda': '34.917', 'learning_rate': '0.029'}\n",
            "RMSE Loss 0.634 params {'n_estimators': 850, 'max_depth': 25, 'num_leaves': 60, 'min_child_samples': 280, 'colsample_bytree': '0.808', 'subsample': '0.980', 'min_split_gain': '0.596', 'scale_pos_weight': '6.111', 'reg_alpha': '66.275', 'reg_lambda': '54.755', 'learning_rate': '0.018'}\n",
            "RMSE Loss 0.632 params {'n_estimators': 1150, 'max_depth': 3, 'num_leaves': 80, 'min_child_samples': 70, 'colsample_bytree': '0.466', 'subsample': '0.842', 'min_split_gain': '0.023', 'scale_pos_weight': '5.176', 'reg_alpha': '2.663', 'reg_lambda': '37.610', 'learning_rate': '0.023'}\n",
            "RMSE Loss 0.632 params {'n_estimators': 950, 'max_depth': 52, 'num_leaves': 60, 'min_child_samples': 180, 'colsample_bytree': '0.840', 'subsample': '0.868', 'min_split_gain': '0.102', 'scale_pos_weight': '9.189', 'reg_alpha': '26.361', 'reg_lambda': '46.436', 'learning_rate': '0.052'}\n",
            "RMSE Loss 0.632 params {'n_estimators': 1250, 'max_depth': 21, 'num_leaves': 80, 'min_child_samples': 100, 'colsample_bytree': '0.782', 'subsample': '0.949', 'min_split_gain': '0.441', 'scale_pos_weight': '6.763', 'reg_alpha': '10.604', 'reg_lambda': '65.429', 'learning_rate': '0.013'}\n",
            "RMSE Loss 0.633 params {'n_estimators': 1350, 'max_depth': 33, 'num_leaves': 70, 'min_child_samples': 290, 'colsample_bytree': '0.411', 'subsample': '0.302', 'min_split_gain': '0.412', 'scale_pos_weight': '3.342', 'reg_alpha': '17.165', 'reg_lambda': '31.936', 'learning_rate': '0.041'}\n",
            "RMSE Loss 0.632 params {'n_estimators': 900, 'max_depth': 59, 'num_leaves': 100, 'min_child_samples': 150, 'colsample_bytree': '0.748', 'subsample': '0.432', 'min_split_gain': '0.389', 'scale_pos_weight': '7.160', 'reg_alpha': '13.950', 'reg_lambda': '28.179', 'learning_rate': '0.015'}\n",
            "RMSE Loss 0.633 params {'n_estimators': 750, 'max_depth': 43, 'num_leaves': 70, 'min_child_samples': 220, 'colsample_bytree': '0.503', 'subsample': '0.897', 'min_split_gain': '0.475', 'scale_pos_weight': '6.535', 'reg_alpha': '32.536', 'reg_lambda': '56.744', 'learning_rate': '0.078'}\n",
            "RMSE Loss 0.632 params {'n_estimators': 1050, 'max_depth': 49, 'num_leaves': 50, 'min_child_samples': 140, 'colsample_bytree': '0.678', 'subsample': '0.557', 'min_split_gain': '0.347', 'scale_pos_weight': '5.786', 'reg_alpha': '0.127', 'reg_lambda': '15.628', 'learning_rate': '0.033'}\n",
            "RMSE Loss 0.635 params {'n_estimators': 500, 'max_depth': 48, 'num_leaves': 40, 'min_child_samples': 160, 'colsample_bytree': '0.669', 'subsample': '0.320', 'min_split_gain': '0.285', 'scale_pos_weight': '5.840', 'reg_alpha': '97.936', 'reg_lambda': '15.300', 'learning_rate': '0.032'}\n",
            "RMSE Loss 0.632 params {'n_estimators': 1050, 'max_depth': 37, 'num_leaves': 30, 'min_child_samples': 250, 'colsample_bytree': '0.627', 'subsample': '0.547', 'min_split_gain': '0.320', 'scale_pos_weight': '7.933', 'reg_alpha': '7.415', 'reg_lambda': '7.489', 'learning_rate': '0.108'}\n",
            "RMSE Loss 0.634 params {'n_estimators': 1300, 'max_depth': 27, 'num_leaves': 50, 'min_child_samples': 300, 'colsample_bytree': '0.687', 'subsample': '0.644', 'min_split_gain': '0.336', 'scale_pos_weight': '7.456', 'reg_alpha': '45.543', 'reg_lambda': '10.910', 'learning_rate': '0.060'}\n",
            "RMSE Loss 0.633 params {'n_estimators': 800, 'max_depth': 64, 'num_leaves': 30, 'min_child_samples': 140, 'colsample_bytree': '0.892', 'subsample': '0.619', 'min_split_gain': '0.354', 'scale_pos_weight': '5.664', 'reg_alpha': '20.161', 'reg_lambda': '18.969', 'learning_rate': '0.069'}\n",
            "RMSE Loss 0.634 params {'n_estimators': 1000, 'max_depth': 50, 'num_leaves': 50, 'min_child_samples': 170, 'colsample_bytree': '0.702', 'subsample': '0.667', 'min_split_gain': '0.377', 'scale_pos_weight': '6.381', 'reg_alpha': '61.417', 'reg_lambda': '26.381', 'learning_rate': '0.046'}\n",
            "RMSE Loss 0.632 params {'n_estimators': 1450, 'max_depth': 61, 'num_leaves': 40, 'min_child_samples': 130, 'colsample_bytree': '0.644', 'subsample': '0.470', 'min_split_gain': '0.205', 'scale_pos_weight': '4.802', 'reg_alpha': '0.027', 'reg_lambda': '3.072', 'learning_rate': '0.035'}\n",
            "RMSE Loss 0.633 params {'n_estimators': 1200, 'max_depth': 39, 'num_leaves': 40, 'min_child_samples': 190, 'colsample_bytree': '0.606', 'subsample': '0.592', 'min_split_gain': '0.399', 'scale_pos_weight': '8.649', 'reg_alpha': '22.821', 'reg_lambda': '22.617', 'learning_rate': '0.081'}\n",
            "RMSE Loss 0.632 params {'n_estimators': 850, 'max_depth': 46, 'num_leaves': 50, 'min_child_samples': 210, 'colsample_bytree': '0.914', 'subsample': '0.687', 'min_split_gain': '0.271', 'scale_pos_weight': '5.956', 'reg_alpha': '12.522', 'reg_lambda': '29.775', 'learning_rate': '0.030'}\n",
            "RMSE Loss 0.635 params {'n_estimators': 600, 'max_depth': 14, 'num_leaves': 60, 'min_child_samples': 270, 'colsample_bytree': '0.958', 'subsample': '0.365', 'min_split_gain': '0.256', 'scale_pos_weight': '8.340', 'reg_alpha': '51.102', 'reg_lambda': '39.981', 'learning_rate': '0.486'}\n",
            "RMSE Loss 0.632 params {'n_estimators': 500, 'max_depth': 53, 'num_leaves': 20, 'min_child_samples': 200, 'colsample_bytree': '0.850', 'subsample': '0.562', 'min_split_gain': '0.423', 'scale_pos_weight': '7.811', 'reg_alpha': '2.952', 'reg_lambda': '18.266', 'learning_rate': '0.024'}\n",
            "RMSE Loss 0.633 params {'n_estimators': 100, 'max_depth': 44, 'num_leaves': 30, 'min_child_samples': 110, 'colsample_bytree': '0.790', 'subsample': '0.432', 'min_split_gain': '0.460', 'scale_pos_weight': '4.478', 'reg_alpha': '5.691', 'reg_lambda': '43.465', 'learning_rate': '0.026'}\n",
            "RMSE Loss 0.635 params {'n_estimators': 950, 'max_depth': 28, 'num_leaves': 50, 'min_child_samples': 120, 'colsample_bytree': '0.767', 'subsample': '0.720', 'min_split_gain': '0.619', 'scale_pos_weight': '5.339', 'reg_alpha': '76.681', 'reg_lambda': '11.855', 'learning_rate': '0.055'}\n",
            "RMSE Loss 0.633 params {'n_estimators': 1050, 'max_depth': 57, 'num_leaves': 60, 'min_child_samples': 80, 'colsample_bytree': '0.574', 'subsample': '0.344', 'min_split_gain': '0.489', 'scale_pos_weight': '7.011', 'reg_alpha': '27.158', 'reg_lambda': '7.742', 'learning_rate': '0.019'}\n",
            "100%|██████████| 100/100 [27:45<00:00, 16.65s/it, best loss: 0.6315881554183201]\n"
          ]
        }
      ],
      "source": [
        "space = {\n",
        "    'n_estimators' : hp.quniform('n_estimators', 100, 1500, 50),\n",
        "    'max_depth': hp.quniform('max_depth', 3, 100, 1),\n",
        "    'num_leaves': hp.quniform('num_leaves', 20, 100, 10),\n",
        "    'min_child_samples': hp.quniform('min_child_samples', 10, 300, 10),\n",
        "    'colsample_bytree': hp.uniform('colsample_bytree', 0.3, 1.0),\n",
        "    'subsample': hp.uniform('subsample', 0.3, 1.0),\n",
        "    'min_split_gain': hp.uniform('min_split_gain', 0, 0.7),\n",
        "    'scale_pos_weight': hp.uniform('scale_pos_weight', 1, 10),\n",
        "    'reg_alpha': hp.uniform('reg_alpha', 0, 100),\n",
        "    'reg_lambda': hp.uniform('reg_lambda', 0, 100),\n",
        "    'learning_rate': hp.loguniform('learning_rate', np.log(0.01), np.log(0.5)),\n",
        "}\n",
        "\n",
        "# rstate = np.random.RandomState(42)\n",
        "best_y13 = fmin(fn = objective,\n",
        "            space = space,\n",
        "            algo = tpe.suggest,\n",
        "            max_evals = 100)"
      ],
      "id": "kDfCE4Kr8uXw"
    },
    {
      "cell_type": "code",
      "source": [],
      "metadata": {
        "id": "2VP40GcR-0kb"
      },
      "execution_count": null,
      "outputs": [],
      "id": "2VP40GcR-0kb"
    },
    {
      "cell_type": "code",
      "execution_count": null,
      "metadata": {
        "id": "NfOkqB1f-0kc"
      },
      "outputs": [],
      "source": [
        "train_x_for_y14, test_x_for_y14 = train_x[c13], test_x[c13]\n",
        "train_y_14 = train_y['Y_14']"
      ],
      "id": "NfOkqB1f-0kc"
    },
    {
      "cell_type": "code",
      "execution_count": null,
      "metadata": {
        "id": "AzoP2NPS-0kc"
      },
      "outputs": [],
      "source": [
        "def objective(params):\n",
        "\n",
        "    params = {\n",
        "        'n_estimators': int(params['n_estimators']),\n",
        "        'max_depth': int(params['max_depth']),\n",
        "        'num_leaves': int(params['num_leaves']),\n",
        "        'min_child_samples': int(params['min_child_samples']),\n",
        "        'colsample_bytree': '{:.3f}'.format(params['colsample_bytree']),\n",
        "        'subsample': '{:.3f}'.format(params['subsample']),\n",
        "        'min_split_gain': '{:.3f}'.format(params['min_split_gain']),\n",
        "        'scale_pos_weight': '{:.3f}'.format(params['scale_pos_weight']),\n",
        "        'reg_alpha': '{:.3f}'.format(params['reg_alpha']),\n",
        "        'reg_lambda': '{:.3f}'.format(params['reg_lambda']),\n",
        "        'learning_rate': '{:.3f}'.format(params['learning_rate']),\n",
        "        \n",
        "    }\n",
        "    \n",
        "    model = LGBMRegressor(\n",
        "        n_jobs = -1,\n",
        "        random_state = 42,\n",
        "        **params\n",
        "    )\n",
        "    \n",
        "    loss = -cross_val_score(model, train_x_for_y14, train_y_14, cv=10, scoring=make_scorer(rmse, greater_is_better=False)).mean()\n",
        "    print(\"RMSE Loss {:.3f} params {}\".format(loss, params))\n",
        "    return loss"
      ],
      "id": "AzoP2NPS-0kc"
    },
    {
      "cell_type": "code",
      "execution_count": null,
      "metadata": {
        "id": "zCYDNo8n-0kc",
        "colab": {
          "base_uri": "https://localhost:8080/"
        },
        "outputId": "5691276f-6a19-4c5d-e08f-0cd40dbbc7c2"
      },
      "outputs": [
        {
          "output_type": "stream",
          "name": "stdout",
          "text": [
            "RMSE Loss 0.636 params {'n_estimators': 550, 'max_depth': 32, 'num_leaves': 100, 'min_child_samples': 100, 'colsample_bytree': '0.718', 'subsample': '0.717', 'min_split_gain': '0.665', 'scale_pos_weight': '7.079', 'reg_alpha': '67.295', 'reg_lambda': '27.512', 'learning_rate': '0.249'}\n",
            "RMSE Loss 0.636 params {'n_estimators': 1500, 'max_depth': 89, 'num_leaves': 60, 'min_child_samples': 70, 'colsample_bytree': '0.844', 'subsample': '0.437', 'min_split_gain': '0.383', 'scale_pos_weight': '4.335', 'reg_alpha': '90.568', 'reg_lambda': '94.046', 'learning_rate': '0.032'}\n",
            "RMSE Loss 0.636 params {'n_estimators': 1050, 'max_depth': 27, 'num_leaves': 80, 'min_child_samples': 80, 'colsample_bytree': '0.957', 'subsample': '0.780', 'min_split_gain': '0.135', 'scale_pos_weight': '5.955', 'reg_alpha': '84.138', 'reg_lambda': '84.736', 'learning_rate': '0.089'}\n",
            "RMSE Loss 0.634 params {'n_estimators': 450, 'max_depth': 15, 'num_leaves': 80, 'min_child_samples': 250, 'colsample_bytree': '0.369', 'subsample': '0.844', 'min_split_gain': '0.528', 'scale_pos_weight': '7.098', 'reg_alpha': '4.767', 'reg_lambda': '75.127', 'learning_rate': '0.058'}\n",
            "RMSE Loss 0.635 params {'n_estimators': 800, 'max_depth': 64, 'num_leaves': 30, 'min_child_samples': 130, 'colsample_bytree': '0.633', 'subsample': '0.964', 'min_split_gain': '0.257', 'scale_pos_weight': '5.367', 'reg_alpha': '21.927', 'reg_lambda': '71.159', 'learning_rate': '0.276'}\n",
            "RMSE Loss 0.636 params {'n_estimators': 1000, 'max_depth': 73, 'num_leaves': 90, 'min_child_samples': 60, 'colsample_bytree': '0.546', 'subsample': '0.836', 'min_split_gain': '0.579', 'scale_pos_weight': '7.366', 'reg_alpha': '83.122', 'reg_lambda': '2.506', 'learning_rate': '0.178'}\n",
            "RMSE Loss 0.634 params {'n_estimators': 1450, 'max_depth': 23, 'num_leaves': 40, 'min_child_samples': 250, 'colsample_bytree': '0.448', 'subsample': '0.977', 'min_split_gain': '0.228', 'scale_pos_weight': '4.503', 'reg_alpha': '38.667', 'reg_lambda': '57.238', 'learning_rate': '0.087'}\n",
            "RMSE Loss 0.636 params {'n_estimators': 600, 'max_depth': 23, 'num_leaves': 90, 'min_child_samples': 160, 'colsample_bytree': '0.519', 'subsample': '0.678', 'min_split_gain': '0.079', 'scale_pos_weight': '4.807', 'reg_alpha': '95.824', 'reg_lambda': '71.612', 'learning_rate': '0.020'}\n",
            "RMSE Loss 0.635 params {'n_estimators': 1100, 'max_depth': 56, 'num_leaves': 20, 'min_child_samples': 50, 'colsample_bytree': '0.713', 'subsample': '0.703', 'min_split_gain': '0.053', 'scale_pos_weight': '4.867', 'reg_alpha': '50.802', 'reg_lambda': '71.638', 'learning_rate': '0.367'}\n",
            "RMSE Loss 0.635 params {'n_estimators': 700, 'max_depth': 97, 'num_leaves': 50, 'min_child_samples': 190, 'colsample_bytree': '0.816', 'subsample': '0.343', 'min_split_gain': '0.201', 'scale_pos_weight': '9.721', 'reg_alpha': '52.308', 'reg_lambda': '79.900', 'learning_rate': '0.285'}\n",
            "RMSE Loss 0.636 params {'n_estimators': 950, 'max_depth': 48, 'num_leaves': 90, 'min_child_samples': 50, 'colsample_bytree': '0.413', 'subsample': '0.455', 'min_split_gain': '0.076', 'scale_pos_weight': '7.152', 'reg_alpha': '98.331', 'reg_lambda': '23.476', 'learning_rate': '0.018'}\n",
            "RMSE Loss 0.635 params {'n_estimators': 1250, 'max_depth': 75, 'num_leaves': 80, 'min_child_samples': 170, 'colsample_bytree': '0.338', 'subsample': '0.791', 'min_split_gain': '0.283', 'scale_pos_weight': '1.974', 'reg_alpha': '60.968', 'reg_lambda': '99.793', 'learning_rate': '0.049'}\n",
            "RMSE Loss 0.633 params {'n_estimators': 750, 'max_depth': 31, 'num_leaves': 30, 'min_child_samples': 260, 'colsample_bytree': '0.864', 'subsample': '0.361', 'min_split_gain': '0.421', 'scale_pos_weight': '7.904', 'reg_alpha': '16.679', 'reg_lambda': '16.654', 'learning_rate': '0.056'}\n",
            "RMSE Loss 0.635 params {'n_estimators': 1300, 'max_depth': 21, 'num_leaves': 30, 'min_child_samples': 190, 'colsample_bytree': '0.469', 'subsample': '0.921', 'min_split_gain': '0.024', 'scale_pos_weight': '7.307', 'reg_alpha': '81.516', 'reg_lambda': '40.192', 'learning_rate': '0.044'}\n",
            "RMSE Loss 0.636 params {'n_estimators': 1200, 'max_depth': 23, 'num_leaves': 30, 'min_child_samples': 70, 'colsample_bytree': '0.366', 'subsample': '0.438', 'min_split_gain': '0.376', 'scale_pos_weight': '3.567', 'reg_alpha': '76.005', 'reg_lambda': '66.663', 'learning_rate': '0.156'}\n",
            "RMSE Loss 0.636 params {'n_estimators': 350, 'max_depth': 52, 'num_leaves': 40, 'min_child_samples': 150, 'colsample_bytree': '0.997', 'subsample': '0.990', 'min_split_gain': '0.527', 'scale_pos_weight': '7.972', 'reg_alpha': '43.484', 'reg_lambda': '29.287', 'learning_rate': '0.491'}\n",
            "RMSE Loss 0.633 params {'n_estimators': 1450, 'max_depth': 21, 'num_leaves': 70, 'min_child_samples': 250, 'colsample_bytree': '0.717', 'subsample': '0.831', 'min_split_gain': '0.515', 'scale_pos_weight': '5.417', 'reg_alpha': '1.455', 'reg_lambda': '7.395', 'learning_rate': '0.058'}\n",
            "RMSE Loss 0.636 params {'n_estimators': 1450, 'max_depth': 78, 'num_leaves': 90, 'min_child_samples': 250, 'colsample_bytree': '0.634', 'subsample': '0.566', 'min_split_gain': '0.166', 'scale_pos_weight': '8.072', 'reg_alpha': '91.900', 'reg_lambda': '57.371', 'learning_rate': '0.212'}\n",
            "RMSE Loss 0.633 params {'n_estimators': 1250, 'max_depth': 85, 'num_leaves': 100, 'min_child_samples': 60, 'colsample_bytree': '0.715', 'subsample': '0.340', 'min_split_gain': '0.490', 'scale_pos_weight': '8.964', 'reg_alpha': '3.489', 'reg_lambda': '78.975', 'learning_rate': '0.022'}\n",
            "RMSE Loss 0.635 params {'n_estimators': 200, 'max_depth': 78, 'num_leaves': 70, 'min_child_samples': 30, 'colsample_bytree': '0.480', 'subsample': '0.405', 'min_split_gain': '0.138', 'scale_pos_weight': '7.084', 'reg_alpha': '65.581', 'reg_lambda': '46.938', 'learning_rate': '0.314'}\n",
            "RMSE Loss 0.634 params {'n_estimators': 1350, 'max_depth': 3, 'num_leaves': 60, 'min_child_samples': 290, 'colsample_bytree': '0.748', 'subsample': '0.586', 'min_split_gain': '0.674', 'scale_pos_weight': '9.260', 'reg_alpha': '1.355', 'reg_lambda': '1.297', 'learning_rate': '0.027'}\n",
            "RMSE Loss 0.633 params {'n_estimators': 1150, 'max_depth': 41, 'num_leaves': 70, 'min_child_samples': 10, 'colsample_bytree': '0.596', 'subsample': '0.546', 'min_split_gain': '0.452', 'scale_pos_weight': '2.800', 'reg_alpha': '13.464', 'reg_lambda': '10.192', 'learning_rate': '0.013'}\n",
            "RMSE Loss 0.634 params {'n_estimators': 900, 'max_depth': 40, 'num_leaves': 100, 'min_child_samples': 20, 'colsample_bytree': '0.582', 'subsample': '0.520', 'min_split_gain': '0.449', 'scale_pos_weight': '1.754', 'reg_alpha': '25.715', 'reg_lambda': '89.668', 'learning_rate': '0.010'}\n",
            "RMSE Loss 0.633 params {'n_estimators': 1150, 'max_depth': 98, 'num_leaves': 70, 'min_child_samples': 10, 'colsample_bytree': '0.783', 'subsample': '0.599', 'min_split_gain': '0.319', 'scale_pos_weight': '2.592', 'reg_alpha': '13.272', 'reg_lambda': '39.070', 'learning_rate': '0.011'}\n",
            "RMSE Loss 0.634 params {'n_estimators': 1350, 'max_depth': 99, 'num_leaves': 50, 'min_child_samples': 100, 'colsample_bytree': '0.908', 'subsample': '0.605', 'min_split_gain': '0.352', 'scale_pos_weight': '1.045', 'reg_alpha': '32.371', 'reg_lambda': '37.194', 'learning_rate': '0.011'}\n",
            "RMSE Loss 0.633 params {'n_estimators': 850, 'max_depth': 89, 'num_leaves': 100, 'min_child_samples': 30, 'colsample_bytree': '0.786', 'subsample': '0.499', 'min_split_gain': '0.302', 'scale_pos_weight': '8.858', 'reg_alpha': '9.362', 'reg_lambda': '59.505', 'learning_rate': '0.015'}\n",
            "RMSE Loss 0.633 params {'n_estimators': 850, 'max_depth': 88, 'num_leaves': 100, 'min_child_samples': 100, 'colsample_bytree': '0.930', 'subsample': '0.484', 'min_split_gain': '0.612', 'scale_pos_weight': '9.233', 'reg_alpha': '8.607', 'reg_lambda': '59.012', 'learning_rate': '0.015'}\n",
            "RMSE Loss 0.635 params {'n_estimators': 100, 'max_depth': 90, 'num_leaves': 100, 'min_child_samples': 30, 'colsample_bytree': '0.672', 'subsample': '0.325', 'min_split_gain': '0.299', 'scale_pos_weight': '8.678', 'reg_alpha': '28.223', 'reg_lambda': '46.898', 'learning_rate': '0.027'}\n",
            "RMSE Loss 0.634 params {'n_estimators': 600, 'max_depth': 66, 'num_leaves': 90, 'min_child_samples': 120, 'colsample_bytree': '0.773', 'subsample': '0.302', 'min_split_gain': '0.599', 'scale_pos_weight': '6.247', 'reg_alpha': '19.962', 'reg_lambda': '63.245', 'learning_rate': '0.022'}\n",
            "RMSE Loss 0.633 params {'n_estimators': 500, 'max_depth': 85, 'num_leaves': 100, 'min_child_samples': 40, 'colsample_bytree': '0.684', 'subsample': '0.383', 'min_split_gain': '0.488', 'scale_pos_weight': '9.960', 'reg_alpha': '9.099', 'reg_lambda': '81.709', 'learning_rate': '0.015'}\n",
            "RMSE Loss 0.634 params {'n_estimators': 650, 'max_depth': 61, 'num_leaves': 80, 'min_child_samples': 90, 'colsample_bytree': '0.858', 'subsample': '0.483', 'min_split_gain': '0.421', 'scale_pos_weight': '8.675', 'reg_alpha': '34.766', 'reg_lambda': '98.875', 'learning_rate': '0.033'}\n",
            "RMSE Loss 0.635 params {'n_estimators': 1000, 'max_depth': 83, 'num_leaves': 100, 'min_child_samples': 120, 'colsample_bytree': '0.997', 'subsample': '0.635', 'min_split_gain': '0.647', 'scale_pos_weight': '8.850', 'reg_alpha': '41.614', 'reg_lambda': '90.936', 'learning_rate': '0.120'}\n",
            "RMSE Loss 0.633 params {'n_estimators': 350, 'max_depth': 94, 'num_leaves': 80, 'min_child_samples': 80, 'colsample_bytree': '0.820', 'subsample': '0.401', 'min_split_gain': '0.345', 'scale_pos_weight': '6.202', 'reg_alpha': '5.020', 'reg_lambda': '50.105', 'learning_rate': '0.030'}\n",
            "RMSE Loss 0.634 params {'n_estimators': 800, 'max_depth': 68, 'num_leaves': 60, 'min_child_samples': 220, 'colsample_bytree': '0.887', 'subsample': '0.738', 'min_split_gain': '0.568', 'scale_pos_weight': '6.563', 'reg_alpha': '25.173', 'reg_lambda': '77.509', 'learning_rate': '0.039'}\n",
            "RMSE Loss 0.633 params {'n_estimators': 1050, 'max_depth': 70, 'num_leaves': 90, 'min_child_samples': 140, 'colsample_bytree': '0.756', 'subsample': '0.516', 'min_split_gain': '0.241', 'scale_pos_weight': '9.802', 'reg_alpha': '0.746', 'reg_lambda': '85.888', 'learning_rate': '0.022'}\n",
            "RMSE Loss 0.635 params {'n_estimators': 900, 'max_depth': 60, 'num_leaves': 80, 'min_child_samples': 70, 'colsample_bytree': '0.944', 'subsample': '0.305', 'min_split_gain': '0.189', 'scale_pos_weight': '8.277', 'reg_alpha': '57.095', 'reg_lambda': '52.446', 'learning_rate': '0.013'}\n",
            "RMSE Loss 0.633 params {'n_estimators': 350, 'max_depth': 81, 'num_leaves': 100, 'min_child_samples': 110, 'colsample_bytree': '0.590', 'subsample': '0.468', 'min_split_gain': '0.404', 'scale_pos_weight': '9.440', 'reg_alpha': '8.106', 'reg_lambda': '67.161', 'learning_rate': '0.076'}\n",
            "RMSE Loss 0.635 params {'n_estimators': 1500, 'max_depth': 93, 'num_leaves': 90, 'min_child_samples': 50, 'colsample_bytree': '0.665', 'subsample': '0.420', 'min_split_gain': '0.477', 'scale_pos_weight': '7.666', 'reg_alpha': '46.695', 'reg_lambda': '94.881', 'learning_rate': '0.107'}\n",
            "RMSE Loss 0.634 params {'n_estimators': 450, 'max_depth': 5, 'num_leaves': 50, 'min_child_samples': 20, 'colsample_bytree': '0.809', 'subsample': '0.371', 'min_split_gain': '0.556', 'scale_pos_weight': '6.606', 'reg_alpha': '32.595', 'reg_lambda': '31.817', 'learning_rate': '0.038'}\n",
            "RMSE Loss 0.634 params {'n_estimators': 1050, 'max_depth': 73, 'num_leaves': 80, 'min_child_samples': 60, 'colsample_bytree': '0.533', 'subsample': '0.642', 'min_split_gain': '0.693', 'scale_pos_weight': '3.694', 'reg_alpha': '18.547', 'reg_lambda': '74.709', 'learning_rate': '0.024'}\n",
            "RMSE Loss 0.633 params {'n_estimators': 750, 'max_depth': 41, 'num_leaves': 90, 'min_child_samples': 180, 'colsample_bytree': '0.728', 'subsample': '0.519', 'min_split_gain': '0.261', 'scale_pos_weight': '5.789', 'reg_alpha': '13.772', 'reg_lambda': '62.161', 'learning_rate': '0.016'}\n",
            "RMSE Loss 0.635 params {'n_estimators': 1250, 'max_depth': 47, 'num_leaves': 40, 'min_child_samples': 80, 'colsample_bytree': '0.621', 'subsample': '0.678', 'min_split_gain': '0.104', 'scale_pos_weight': '5.092', 'reg_alpha': '74.387', 'reg_lambda': '82.112', 'learning_rate': '0.018'}\n",
            "RMSE Loss 0.635 params {'n_estimators': 950, 'max_depth': 11, 'num_leaves': 100, 'min_child_samples': 140, 'colsample_bytree': '0.970', 'subsample': '0.747', 'min_split_gain': '0.641', 'scale_pos_weight': '8.374', 'reg_alpha': '38.404', 'reg_lambda': '54.883', 'learning_rate': '0.013'}\n",
            "RMSE Loss 0.634 params {'n_estimators': 1350, 'max_depth': 88, 'num_leaves': 20, 'min_child_samples': 30, 'colsample_bytree': '0.693', 'subsample': '0.342', 'min_split_gain': '0.335', 'scale_pos_weight': '7.571', 'reg_alpha': '22.667', 'reg_lambda': '43.407', 'learning_rate': '0.064'}\n",
            "RMSE Loss 0.634 params {'n_estimators': 1100, 'max_depth': 57, 'num_leaves': 70, 'min_child_samples': 220, 'colsample_bytree': '0.832', 'subsample': '0.918', 'min_split_gain': '0.384', 'scale_pos_weight': '4.225', 'reg_alpha': '29.402', 'reg_lambda': '20.925', 'learning_rate': '0.050'}\n",
            "RMSE Loss 0.635 params {'n_estimators': 700, 'max_depth': 93, 'num_leaves': 50, 'min_child_samples': 60, 'colsample_bytree': '0.884', 'subsample': '0.439', 'min_split_gain': '0.224', 'scale_pos_weight': '6.709', 'reg_alpha': '54.875', 'reg_lambda': '68.487', 'learning_rate': '0.077'}\n",
            "RMSE Loss 0.633 params {'n_estimators': 250, 'max_depth': 79, 'num_leaves': 90, 'min_child_samples': 220, 'colsample_bytree': '0.564', 'subsample': '0.499', 'min_split_gain': '0.289', 'scale_pos_weight': '9.080', 'reg_alpha': '4.418', 'reg_lambda': '73.333', 'learning_rate': '0.035'}\n",
            "RMSE Loss 0.633 params {'n_estimators': 550, 'max_depth': 70, 'num_leaves': 60, 'min_child_samples': 160, 'colsample_bytree': '0.788', 'subsample': '0.561', 'min_split_gain': '0.495', 'scale_pos_weight': '7.611', 'reg_alpha': '0.026', 'reg_lambda': '87.222', 'learning_rate': '0.019'}\n",
            "RMSE Loss 0.635 params {'n_estimators': 550, 'max_depth': 52, 'num_leaves': 40, 'min_child_samples': 160, 'colsample_bytree': '0.420', 'subsample': '0.877', 'min_split_gain': '0.549', 'scale_pos_weight': '5.723', 'reg_alpha': '47.125', 'reg_lambda': '95.551', 'learning_rate': '0.043'}\n",
            "RMSE Loss 0.636 params {'n_estimators': 450, 'max_depth': 71, 'num_leaves': 60, 'min_child_samples': 200, 'colsample_bytree': '0.504', 'subsample': '0.672', 'min_split_gain': '0.504', 'scale_pos_weight': '9.593', 'reg_alpha': '65.486', 'reg_lambda': '88.889', 'learning_rate': '0.145'}\n",
            "RMSE Loss 0.636 params {'n_estimators': 250, 'max_depth': 63, 'num_leaves': 30, 'min_child_samples': 280, 'colsample_bytree': '0.648', 'subsample': '0.791', 'min_split_gain': '0.442', 'scale_pos_weight': '6.808', 'reg_alpha': '88.513', 'reg_lambda': '99.356', 'learning_rate': '0.019'}\n",
            "RMSE Loss 0.634 params {'n_estimators': 650, 'max_depth': 32, 'num_leaves': 20, 'min_child_samples': 200, 'colsample_bytree': '0.731', 'subsample': '0.556', 'min_split_gain': '0.597', 'scale_pos_weight': '7.476', 'reg_alpha': '15.923', 'reg_lambda': '85.576', 'learning_rate': '0.030'}\n",
            "RMSE Loss 0.634 params {'n_estimators': 150, 'max_depth': 47, 'num_leaves': 50, 'min_child_samples': 170, 'colsample_bytree': '0.624', 'subsample': '0.715', 'min_split_gain': '0.471', 'scale_pos_weight': '8.300', 'reg_alpha': '0.205', 'reg_lambda': '78.787', 'learning_rate': '0.095'}\n",
            "RMSE Loss 0.633 params {'n_estimators': 400, 'max_depth': 75, 'num_leaves': 60, 'min_child_samples': 150, 'colsample_bytree': '0.802', 'subsample': '0.759', 'min_split_gain': '0.695', 'scale_pos_weight': '4.599', 'reg_alpha': '5.468', 'reg_lambda': '92.070', 'learning_rate': '0.025'}\n",
            "RMSE Loss 0.636 params {'n_estimators': 600, 'max_depth': 84, 'num_leaves': 40, 'min_child_samples': 270, 'colsample_bytree': '0.707', 'subsample': '0.622', 'min_split_gain': '0.530', 'scale_pos_weight': '7.874', 'reg_alpha': '70.902', 'reg_lambda': '69.987', 'learning_rate': '0.047'}\n",
            "RMSE Loss 0.636 params {'n_estimators': 1400, 'max_depth': 56, 'num_leaves': 70, 'min_child_samples': 230, 'colsample_bytree': '0.855', 'subsample': '0.834', 'min_split_gain': '0.628', 'scale_pos_weight': '5.114', 'reg_alpha': '35.931', 'reg_lambda': '64.437', 'learning_rate': '0.482'}\n",
            "RMSE Loss 0.634 params {'n_estimators': 1200, 'max_depth': 76, 'num_leaves': 30, 'min_child_samples': 130, 'colsample_bytree': '0.303', 'subsample': '0.576', 'min_split_gain': '0.416', 'scale_pos_weight': '9.982', 'reg_alpha': '22.033', 'reg_lambda': '75.625', 'learning_rate': '0.012'}\n",
            "RMSE Loss 0.636 params {'n_estimators': 550, 'max_depth': 65, 'num_leaves': 60, 'min_child_samples': 180, 'colsample_bytree': '0.749', 'subsample': '0.545', 'min_split_gain': '0.369', 'scale_pos_weight': '7.090', 'reg_alpha': '79.803', 'reg_lambda': '34.092', 'learning_rate': '0.055'}\n",
            "RMSE Loss 0.636 params {'n_estimators': 300, 'max_depth': 29, 'num_leaves': 70, 'min_child_samples': 110, 'colsample_bytree': '0.972', 'subsample': '0.696', 'min_split_gain': '0.660', 'scale_pos_weight': '5.996', 'reg_alpha': '59.166', 'reg_lambda': '97.066', 'learning_rate': '0.068'}\n",
            "RMSE Loss 0.634 params {'n_estimators': 700, 'max_depth': 96, 'num_leaves': 50, 'min_child_samples': 140, 'colsample_bytree': '0.921', 'subsample': '0.348', 'min_split_gain': '0.537', 'scale_pos_weight': '8.607', 'reg_alpha': '12.429', 'reg_lambda': '82.726', 'learning_rate': '0.233'}\n",
            "RMSE Loss 0.634 params {'n_estimators': 800, 'max_depth': 100, 'num_leaves': 80, 'min_child_samples': 200, 'colsample_bytree': '0.557', 'subsample': '0.811', 'min_split_gain': '0.581', 'scale_pos_weight': '3.954', 'reg_alpha': '29.174', 'reg_lambda': '85.963', 'learning_rate': '0.021'}\n",
            "RMSE Loss 0.637 params {'n_estimators': 500, 'max_depth': 35, 'num_leaves': 40, 'min_child_samples': 240, 'colsample_bytree': '0.483', 'subsample': '0.457', 'min_split_gain': '0.460', 'scale_pos_weight': '9.105', 'reg_alpha': '97.283', 'reg_lambda': '71.735', 'learning_rate': '0.017'}\n",
            "RMSE Loss 0.641 params {'n_estimators': 100, 'max_depth': 68, 'num_leaves': 20, 'min_child_samples': 90, 'colsample_bytree': '0.891', 'subsample': '0.943', 'min_split_gain': '0.400', 'scale_pos_weight': '7.309', 'reg_alpha': '17.107', 'reg_lambda': '88.410', 'learning_rate': '0.010'}\n",
            "RMSE Loss 0.634 params {'n_estimators': 1300, 'max_depth': 86, 'num_leaves': 30, 'min_child_samples': 130, 'colsample_bytree': '0.603', 'subsample': '0.862', 'min_split_gain': '0.512', 'scale_pos_weight': '7.884', 'reg_alpha': '2.589', 'reg_lambda': '54.281', 'learning_rate': '0.179'}\n",
            "RMSE Loss 0.635 params {'n_estimators': 950, 'max_depth': 81, 'num_leaves': 80, 'min_child_samples': 180, 'colsample_bytree': '0.769', 'subsample': '0.390', 'min_split_gain': '0.493', 'scale_pos_weight': '6.284', 'reg_alpha': '52.086', 'reg_lambda': '61.122', 'learning_rate': '0.027'}\n",
            "RMSE Loss 0.633 params {'n_estimators': 850, 'max_depth': 90, 'num_leaves': 90, 'min_child_samples': 10, 'colsample_bytree': '0.793', 'subsample': '0.418', 'min_split_gain': '0.318', 'scale_pos_weight': '8.820', 'reg_alpha': '10.071', 'reg_lambda': '77.960', 'learning_rate': '0.014'}\n",
            "RMSE Loss 0.633 params {'n_estimators': 750, 'max_depth': 90, 'num_leaves': 90, 'min_child_samples': 10, 'colsample_bytree': '0.653', 'subsample': '0.417', 'min_split_gain': '0.272', 'scale_pos_weight': '9.425', 'reg_alpha': '9.967', 'reg_lambda': '92.687', 'learning_rate': '0.017'}\n",
            "RMSE Loss 0.633 params {'n_estimators': 850, 'max_depth': 81, 'num_leaves': 100, 'min_child_samples': 50, 'colsample_bytree': '0.797', 'subsample': '0.302', 'min_split_gain': '0.437', 'scale_pos_weight': '8.896', 'reg_alpha': '6.093', 'reg_lambda': '78.541', 'learning_rate': '0.011'}\n",
            "RMSE Loss 0.633 params {'n_estimators': 650, 'max_depth': 95, 'num_leaves': 90, 'min_child_samples': 20, 'colsample_bytree': '0.836', 'subsample': '0.326', 'min_split_gain': '0.328', 'scale_pos_weight': '8.132', 'reg_alpha': '11.531', 'reg_lambda': '65.635', 'learning_rate': '0.014'}\n",
            "RMSE Loss 0.633 params {'n_estimators': 1000, 'max_depth': 72, 'num_leaves': 70, 'min_child_samples': 40, 'colsample_bytree': '0.693', 'subsample': '0.434', 'min_split_gain': '0.140', 'scale_pos_weight': '6.863', 'reg_alpha': '24.984', 'reg_lambda': '75.884', 'learning_rate': '0.032'}\n",
            "RMSE Loss 0.634 params {'n_estimators': 1150, 'max_depth': 77, 'num_leaves': 100, 'min_child_samples': 70, 'colsample_bytree': '0.734', 'subsample': '0.364', 'min_split_gain': '0.365', 'scale_pos_weight': '8.495', 'reg_alpha': '20.025', 'reg_lambda': '99.853', 'learning_rate': '0.021'}\n",
            "RMSE Loss 0.633 params {'n_estimators': 1500, 'max_depth': 68, 'num_leaves': 80, 'min_child_samples': 160, 'colsample_bytree': '0.868', 'subsample': '0.535', 'min_split_gain': '0.392', 'scale_pos_weight': '7.726', 'reg_alpha': '0.529', 'reg_lambda': '80.449', 'learning_rate': '0.014'}\n",
            "RMSE Loss 0.633 params {'n_estimators': 1450, 'max_depth': 59, 'num_leaves': 80, 'min_child_samples': 170, 'colsample_bytree': '0.910', 'subsample': '0.607', 'min_split_gain': '0.567', 'scale_pos_weight': '7.675', 'reg_alpha': '0.484', 'reg_lambda': '82.900', 'learning_rate': '0.012'}\n",
            "RMSE Loss 0.633 params {'n_estimators': 1450, 'max_depth': 53, 'num_leaves': 70, 'min_child_samples': 210, 'colsample_bytree': '0.956', 'subsample': '0.658', 'min_split_gain': '0.610', 'scale_pos_weight': '3.098', 'reg_alpha': '3.114', 'reg_lambda': '82.877', 'learning_rate': '0.011'}\n",
            "RMSE Loss 0.634 params {'n_estimators': 1300, 'max_depth': 59, 'num_leaves': 60, 'min_child_samples': 190, 'colsample_bytree': '0.982', 'subsample': '0.608', 'min_split_gain': '0.675', 'scale_pos_weight': '6.420', 'reg_alpha': '14.843', 'reg_lambda': '46.852', 'learning_rate': '0.039'}\n",
            "RMSE Loss 0.635 params {'n_estimators': 1400, 'max_depth': 45, 'num_leaves': 80, 'min_child_samples': 170, 'colsample_bytree': '0.925', 'subsample': '0.582', 'min_split_gain': '0.574', 'scale_pos_weight': '9.765', 'reg_alpha': '40.026', 'reg_lambda': '88.028', 'learning_rate': '0.024'}\n",
            "RMSE Loss 0.633 params {'n_estimators': 1250, 'max_depth': 37, 'num_leaves': 50, 'min_child_samples': 150, 'colsample_bytree': '0.912', 'subsample': '0.701', 'min_split_gain': '0.553', 'scale_pos_weight': '5.407', 'reg_alpha': '6.940', 'reg_lambda': '69.092', 'learning_rate': '0.010'}\n",
            "RMSE Loss 0.635 params {'n_estimators': 1400, 'max_depth': 63, 'num_leaves': 70, 'min_child_samples': 120, 'colsample_bytree': '0.822', 'subsample': '0.623', 'min_split_gain': '0.428', 'scale_pos_weight': '6.979', 'reg_alpha': '45.328', 'reg_lambda': '94.736', 'learning_rate': '0.016'}\n",
            "RMSE Loss 0.634 params {'n_estimators': 1100, 'max_depth': 49, 'num_leaves': 80, 'min_child_samples': 110, 'colsample_bytree': '0.773', 'subsample': '0.729', 'min_split_gain': '0.629', 'scale_pos_weight': '7.262', 'reg_alpha': '26.406', 'reg_lambda': '57.784', 'learning_rate': '0.030'}\n",
            "RMSE Loss 0.633 params {'n_estimators': 1200, 'max_depth': 74, 'num_leaves': 60, 'min_child_samples': 240, 'colsample_bytree': '0.847', 'subsample': '0.481', 'min_split_gain': '0.008', 'scale_pos_weight': '5.657', 'reg_alpha': '33.367', 'reg_lambda': '90.987', 'learning_rate': '0.012'}\n",
            "RMSE Loss 0.634 params {'n_estimators': 1350, 'max_depth': 43, 'num_leaves': 100, 'min_child_samples': 260, 'colsample_bytree': '0.948', 'subsample': '0.656', 'min_split_gain': '0.483', 'scale_pos_weight': '6.075', 'reg_alpha': '20.011', 'reg_lambda': '72.052', 'learning_rate': '0.020'}\n",
            "RMSE Loss 0.633 params {'n_estimators': 550, 'max_depth': 55, 'num_leaves': 90, 'min_child_samples': 130, 'colsample_bytree': '0.875', 'subsample': '0.503', 'min_split_gain': '0.520', 'scale_pos_weight': '9.427', 'reg_alpha': '3.290', 'reg_lambda': '97.286', 'learning_rate': '0.035'}\n",
            "RMSE Loss 0.633 params {'n_estimators': 900, 'max_depth': 50, 'num_leaves': 70, 'min_child_samples': 90, 'colsample_bytree': '0.706', 'subsample': '0.773', 'min_split_gain': '0.585', 'scale_pos_weight': '1.080', 'reg_alpha': '0.117', 'reg_lambda': '49.629', 'learning_rate': '0.044'}\n",
            "RMSE Loss 0.636 params {'n_estimators': 1500, 'max_depth': 17, 'num_leaves': 50, 'min_child_samples': 210, 'colsample_bytree': '0.904', 'subsample': '0.565', 'min_split_gain': '0.501', 'scale_pos_weight': '8.018', 'reg_alpha': '48.864', 'reg_lambda': '43.174', 'learning_rate': '0.400'}\n",
            "RMSE Loss 0.633 params {'n_estimators': 400, 'max_depth': 66, 'num_leaves': 80, 'min_child_samples': 150, 'colsample_bytree': '0.659', 'subsample': '0.598', 'min_split_gain': '0.467', 'scale_pos_weight': '8.136', 'reg_alpha': '17.833', 'reg_lambda': '14.621', 'learning_rate': '0.019'}\n",
            "RMSE Loss 0.634 params {'n_estimators': 500, 'max_depth': 62, 'num_leaves': 60, 'min_child_samples': 170, 'colsample_bytree': '0.682', 'subsample': '0.999', 'min_split_gain': '0.670', 'scale_pos_weight': '7.533', 'reg_alpha': '30.896', 'reg_lambda': '86.687', 'learning_rate': '0.024'}\n",
            "RMSE Loss 0.634 params {'n_estimators': 1050, 'max_depth': 59, 'num_leaves': 100, 'min_child_samples': 190, 'colsample_bytree': '0.608', 'subsample': '0.897', 'min_split_gain': '0.539', 'scale_pos_weight': '9.991', 'reg_alpha': '22.773', 'reg_lambda': '60.729', 'learning_rate': '0.052'}\n",
            "RMSE Loss 0.636 params {'n_estimators': 1450, 'max_depth': 86, 'num_leaves': 90, 'min_child_samples': 160, 'colsample_bytree': '0.754', 'subsample': '0.819', 'min_split_gain': '0.565', 'scale_pos_weight': '5.153', 'reg_alpha': '62.762', 'reg_lambda': '84.308', 'learning_rate': '0.088'}\n",
            "RMSE Loss 0.634 params {'n_estimators': 1150, 'max_depth': 70, 'num_leaves': 70, 'min_child_samples': 140, 'colsample_bytree': '0.999', 'subsample': '0.454', 'min_split_gain': '0.354', 'scale_pos_weight': '4.729', 'reg_alpha': '37.196', 'reg_lambda': '66.818', 'learning_rate': '0.079'}\n",
            "RMSE Loss 0.636 params {'n_estimators': 400, 'max_depth': 25, 'num_leaves': 80, 'min_child_samples': 100, 'colsample_bytree': '0.635', 'subsample': '0.541', 'min_split_gain': '0.649', 'scale_pos_weight': '6.442', 'reg_alpha': '86.780', 'reg_lambda': '24.010', 'learning_rate': '0.027'}\n",
            "RMSE Loss 0.637 params {'n_estimators': 1000, 'max_depth': 79, 'num_leaves': 40, 'min_child_samples': 80, 'colsample_bytree': '0.939', 'subsample': '0.629', 'min_split_gain': '0.604', 'scale_pos_weight': '8.425', 'reg_alpha': '94.115', 'reg_lambda': '74.415', 'learning_rate': '0.060'}\n",
            "RMSE Loss 0.634 params {'n_estimators': 1250, 'max_depth': 92, 'num_leaves': 60, 'min_child_samples': 120, 'colsample_bytree': '0.572', 'subsample': '0.682', 'min_split_gain': '0.413', 'scale_pos_weight': '9.121', 'reg_alpha': '11.666', 'reg_lambda': '63.664', 'learning_rate': '0.126'}\n",
            "RMSE Loss 0.633 params {'n_estimators': 1300, 'max_depth': 54, 'num_leaves': 70, 'min_child_samples': 290, 'colsample_bytree': '0.819', 'subsample': '0.721', 'min_split_gain': '0.624', 'scale_pos_weight': '4.272', 'reg_alpha': '7.106', 'reg_lambda': '80.681', 'learning_rate': '0.016'}\n",
            "RMSE Loss 0.634 params {'n_estimators': 600, 'max_depth': 38, 'num_leaves': 50, 'min_child_samples': 300, 'colsample_bytree': '0.431', 'subsample': '0.519', 'min_split_gain': '0.520', 'scale_pos_weight': '9.582', 'reg_alpha': '15.013', 'reg_lambda': '55.219', 'learning_rate': '0.013'}\n",
            "RMSE Loss 0.633 params {'n_estimators': 300, 'max_depth': 69, 'num_leaves': 80, 'min_child_samples': 210, 'colsample_bytree': '0.519', 'subsample': '0.972', 'min_split_gain': '0.453', 'scale_pos_weight': '7.769', 'reg_alpha': '4.696', 'reg_lambda': '6.813', 'learning_rate': '0.042'}\n",
            "RMSE Loss 0.636 params {'n_estimators': 1100, 'max_depth': 82, 'num_leaves': 90, 'min_child_samples': 60, 'colsample_bytree': '0.397', 'subsample': '0.596', 'min_split_gain': '0.434', 'scale_pos_weight': '8.617', 'reg_alpha': '70.396', 'reg_lambda': '92.299', 'learning_rate': '0.047'}\n",
            "RMSE Loss 0.634 params {'n_estimators': 650, 'max_depth': 58, 'num_leaves': 100, 'min_child_samples': 230, 'colsample_bytree': '0.720', 'subsample': '0.379', 'min_split_gain': '0.591', 'scale_pos_weight': '7.388', 'reg_alpha': '26.976', 'reg_lambda': '97.892', 'learning_rate': '0.020'}\n",
            "RMSE Loss 0.633 params {'n_estimators': 750, 'max_depth': 65, 'num_leaves': 60, 'min_child_samples': 170, 'colsample_bytree': '0.766', 'subsample': '0.852', 'min_split_gain': '0.686', 'scale_pos_weight': '8.950', 'reg_alpha': '8.500', 'reg_lambda': '70.655', 'learning_rate': '0.023'}\n",
            "RMSE Loss 0.634 params {'n_estimators': 950, 'max_depth': 97, 'num_leaves': 70, 'min_child_samples': 180, 'colsample_bytree': '0.741', 'subsample': '0.759', 'min_split_gain': '0.212', 'scale_pos_weight': '6.939', 'reg_alpha': '42.117', 'reg_lambda': '96.254', 'learning_rate': '0.018'}\n",
            "RMSE Loss 0.634 params {'n_estimators': 1450, 'max_depth': 51, 'num_leaves': 90, 'min_child_samples': 110, 'colsample_bytree': '0.853', 'subsample': '0.641', 'min_split_gain': '0.493', 'scale_pos_weight': '9.271', 'reg_alpha': '24.363', 'reg_lambda': '76.687', 'learning_rate': '0.012'}\n",
            "100%|██████████| 100/100 [30:44<00:00, 18.44s/it, best loss: 0.6325996147006622]\n"
          ]
        }
      ],
      "source": [
        "space = {\n",
        "    'n_estimators' : hp.quniform('n_estimators', 100, 1500, 50),\n",
        "    'max_depth': hp.quniform('max_depth', 3, 100, 1),\n",
        "    'num_leaves': hp.quniform('num_leaves', 20, 100, 10),\n",
        "    'min_child_samples': hp.quniform('min_child_samples', 10, 300, 10),\n",
        "    'colsample_bytree': hp.uniform('colsample_bytree', 0.3, 1.0),\n",
        "    'subsample': hp.uniform('subsample', 0.3, 1.0),\n",
        "    'min_split_gain': hp.uniform('min_split_gain', 0, 0.7),\n",
        "    'scale_pos_weight': hp.uniform('scale_pos_weight', 1, 10),\n",
        "    'reg_alpha': hp.uniform('reg_alpha', 0, 100),\n",
        "    'reg_lambda': hp.uniform('reg_lambda', 0, 100),\n",
        "    'learning_rate': hp.loguniform('learning_rate', np.log(0.01), np.log(0.5)),\n",
        "}\n",
        "\n",
        "# rstate = np.random.RandomState(42)\n",
        "best_y14 = fmin(fn = objective,\n",
        "            space = space,\n",
        "            algo = tpe.suggest,\n",
        "            max_evals = 100)"
      ],
      "id": "zCYDNo8n-0kc"
    },
    {
      "cell_type": "code",
      "source": [
        "a = 0.6304426511675747+0.852249093889939+0.8190750074839114+0.6330751007984236+0.6315881554183201+0.6325996147006622\n",
        "print(a)"
      ],
      "metadata": {
        "id": "UNjjHiykE1QP",
        "colab": {
          "base_uri": "https://localhost:8080/"
        },
        "outputId": "d7fe18d9-c959-40a1-a642-357d8744fa8b"
      },
      "id": "UNjjHiykE1QP",
      "execution_count": null,
      "outputs": [
        {
          "output_type": "stream",
          "name": "stdout",
          "text": [
            "4.199029623458831\n"
          ]
        }
      ]
    },
    {
      "cell_type": "markdown",
      "id": "4d988988",
      "metadata": {
        "id": "4d988988"
      },
      "source": [
        "### Save Prediction"
      ]
    },
    {
      "cell_type": "code",
      "execution_count": null,
      "id": "d206c03f",
      "metadata": {
        "id": "d206c03f"
      },
      "outputs": [],
      "source": [
        "submit = pd.read_csv('./sample_submission.csv')\n",
        "for idx, col in enumerate(submit.columns):\n",
        "    if col=='ID':\n",
        "        continue\n",
        "    submit[col] = preds[:,idx-1]\n",
        "submit.to_csv('./submission_4.csv', index = False)"
      ]
    },
    {
      "cell_type": "code",
      "execution_count": null,
      "id": "f735da26",
      "metadata": {
        "id": "f735da26"
      },
      "outputs": [],
      "source": []
    }
  ],
  "metadata": {
    "kernelspec": {
      "display_name": "Python 3 (ipykernel)",
      "language": "python",
      "name": "python3"
    },
    "language_info": {
      "codemirror_mode": {
        "name": "ipython",
        "version": 3
      },
      "file_extension": ".py",
      "mimetype": "text/x-python",
      "name": "python",
      "nbconvert_exporter": "python",
      "pygments_lexer": "ipython3",
      "version": "3.8.9"
    },
    "colab": {
      "provenance": []
    }
  },
  "nbformat": 4,
  "nbformat_minor": 5
}